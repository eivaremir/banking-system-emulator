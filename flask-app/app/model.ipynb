{
  "nbformat": 4,
  "nbformat_minor": 0,
  "metadata": {
    "colab": {
      "name": "Generator",
      "provenance": [],
      "collapsed_sections": [],
      "toc_visible": true
    },
    "kernelspec": {
      "name": "python_defaultSpec_1601915292743",
      "display_name": "Python 3.8.6 64-bit",
      "metadata": {
        "interpreter": {
          "hash": "68278c61d3e1aa8b0a68d6e1aec80b4b779add6e88511bd22117aeef98c6ed21"
        }
      }
    }
  },
  "cells": [
    {
      "cell_type": "code",
      "metadata": {
        "id": "E7SoPgArqXHy",
        "tags": []
      },
      "source": [
        "import random\n",
        "import string\n",
        "import abc\n",
        "import sys\n",
        "from datetime import datetime\n",
        "from models import *\n",
        "from functions import *\n"
      ],
      "execution_count": 1,
      "outputs": [
        {
          "output_type": "stream",
          "name": "stdout",
          "text": "d:\\AQUI\\banking-system-emulator\\flask-app\\app\n"
        }
      ]
    },
    {
      "cell_type": "code",
      "metadata": {
        "id": "c9Qh31Erqz1O",
        "outputId": "3a4ec0f2-f5a8-4d2f-c280-5d3e561f0e39",
        "colab": {
          "base_uri": "https://localhost:8080/",
          "height": 35
        }
      },
      "source": [
        "rand_str = lambda l : rand_str(l-1)+random.choice(string.ascii_lowercase) if l > 1 else random.choice(string.ascii_lowercase)\n",
        "rand_str(10)"
      ],
      "execution_count": 2,
      "outputs": [
        {
          "output_type": "execute_result",
          "data": {
            "text/plain": "&#39;rcbdtjqune&#39;"
          },
          "metadata": {},
          "execution_count": 2
        }
      ]
    },
    {
      "cell_type": "code",
      "metadata": {
        "id": "xAVLv6gQp9gV"
      },
      "source": [
        "import pandas as pd"
      ],
      "execution_count": 3,
      "outputs": []
    },
    {
      "cell_type": "code",
      "execution_count": 4,
      "metadata": {
        "tags": []
      },
      "outputs": [
        {
          "output_type": "stream",
          "name": "stdout",
          "text": "ERROR\n"
        }
      ],
      "source": [
        "Client.change_client(id = '7-589-631', client_name= 'Susana Castillo')"
      ]
    },
    {
      "source": [
        "PRODUCTS = (SavingAccount,FixedTermDeposit,Loan,CreditCard)"
      ],
      "cell_type": "code",
      "metadata": {},
      "execution_count": 5,
      "outputs": []
    },
    {
      "source": [
        "### FUNCIONES"
      ],
      "cell_type": "markdown",
      "metadata": {}
    },
    {
      "cell_type": "code",
      "metadata": {
        "id": "3ybVgLbH3joG"
      },
      "source": [
        "prueba = lambda s: s if (len(df_transactions[df_transactions['id']==s])) == 0 else prueba(random.choice(range(100000,999999)))"
      ],
      "execution_count": 6,
      "outputs": []
    },
    {
      "cell_type": "code",
      "metadata": {
        "id": "JrSzoYYOyuv9"
      },
      "source": [
        "\n",
        "def generate_product_ids():\n",
        "  id = ''\n",
        "  while (id in ids or id == ''):\n",
        "    id = str(random.choice(range(1000000,9999999)))\n",
        "  product_ids.append(id)\n",
        "  return id   \n"
      ],
      "execution_count": 7,
      "outputs": []
    },
    {
      "cell_type": "code",
      "metadata": {
        "id": "m6PQA-KqAgGy"
      },
      "source": [
        "\n",
        "def generate_credit_card_number():\n",
        "  id = ''\n",
        "  while (id in ids or id == ''):\n",
        "    id = str(random.choice(range(1000,9999)))+ str(random.choice(range(1000,9999)))+ str(random.choice(range(1000,9999)))+ str(random.choice(range(1000,9999)))\n",
        "  product_ids.append(id)\n",
        "  return id   \n"
      ],
      "execution_count": 8,
      "outputs": []
    },
    {
      "cell_type": "code",
      "metadata": {
        "id": "ZpZtyODFmN8Q"
      },
      "source": [
        "\n",
        "def generate_transaction_id():\n",
        "  id = ''\n",
        "  while (id in ids or id == ''):\n",
        "    id = str(random.choice(range(100000,9999999)))\n",
        "  transaction_ids.append(id)\n",
        "  return id   \n"
      ],
      "execution_count": 9,
      "outputs": []
    },
    {
      "cell_type": "code",
      "metadata": {
        "id": "G4a4dUnRsCuT"
      },
      "source": [
        "\n",
        "def generate_client_id():\n",
        "  id = ''\n",
        "  while (id in ids or id == ''):\n",
        "    id = str(random.choice(range(1,11)))+\"-\"+ str(random.choice(range(100,999)))+\"-\"+ str(random.choice(range(1,999)))\n",
        "  ids.append(id)\n",
        "  return id   \n"
      ],
      "execution_count": 10,
      "outputs": []
    },
    {
      "cell_type": "code",
      "metadata": {
        "id": "pG3mOxQOyVrG"
      },
      "source": [
        "def generate_saving_accounts(n):\n",
        "  accs = []\n",
        "  for i in range(n):\n",
        "    accs.append(SavingAccount(\n",
        "        id = generate_product_ids()\n",
        "    ))\n",
        "  return accs"
      ],
      "execution_count": 11,
      "outputs": []
    },
    {
      "cell_type": "code",
      "metadata": {
        "id": "oESk2bbyq2Ku"
      },
      "source": [
        "def generate_clients(n):\n",
        "  clients = []\n",
        "  for i in range(n):\n",
        "    clients.append(Client(\n",
        "        id = generate_client_id(),\n",
        "        name = rand_str(10) +\" \"+rand_str(15),\n",
        "        products = []\n",
        "    ))\n",
        "  return clients\n"
      ],
      "execution_count": 12,
      "outputs": []
    },
    {
      "cell_type": "code",
      "metadata": {
        "id": "cAFJt99cn7S_"
      },
      "source": [
        "def generate_balance():\n",
        "  n = random.choice(range(0,500000))\n",
        "  cash= (\"${:5.2f}\".format(n))\n",
        "  return cash"
      ],
      "execution_count": 13,
      "outputs": []
    },
    {
      "cell_type": "markdown",
      "metadata": {
        "id": "9vKXu4_M6VYS"
      },
      "source": [
        "## Generar Entidades"
      ]
    },
    {
      "cell_type": "code",
      "metadata": {
        "id": "whLN_1a8ulBU",
        "outputId": "96696bcd-10d6-4d43-9fe6-881a287e7ab0",
        "colab": {
          "base_uri": "https://localhost:8080/",
          "height": 108
        },
        "tags": []
      },
      "source": [
        "%%time\n",
        "ids = []\n",
        "product_ids = []\n",
        "clientes = generate_clients(1000)\n",
        "products = []\n",
        "\n",
        "# POR CADA PRODUCTO GENERADO...\n",
        "for cliente in clientes:\n",
        "  # SELECCIONO UNA CANTIDAD DE PRODUCTOS ALEATORIAMENTE\n",
        "  cantidad_productos = random.choice(range(1,5))\n",
        "  \n",
        "  # POR LA CANTIDAD DE PRODUCTOS SELECCIONADOS...\n",
        "  for p in range(0,cantidad_productos):    \n",
        "\n",
        "    # SELECCIONO ALEATORIAMENTE UN TIPO DE PRODUCTO\n",
        "    tipo_producto = PRODUCTS[random.choice(range(0,len(PRODUCTS)))]\n",
        "\n",
        "    month = random.choice(range(1,13))\n",
        "    # SI EL MES ES FEBRERO... ENTRE 1 Y 28\n",
        "    if month == 2: day = random.choice(range(1,29))\n",
        "    # SI EL MES ES PAR EN EL SEGUNDO SEMESTRE O ES IMPAR EN EL PRIMER SEMESTRE... ENTRE 1 Y 31\n",
        "    elif (month % 2 == 0 and month >= 8) or (month % 2 != 0 and month < 8): day = random.choice(range(1,32))\n",
        "    # DE CUALQUIER OTRA FORMA... ENTRE 1 Y 30\n",
        "    else: day = random.choice(range(1,30))\n",
        "\n",
        "    # INSTANCIO EL PRODUCTO\n",
        "    if tipo_producto is Loan:\n",
        "      producto = tipo_producto(\n",
        "          id=generate_product_ids(),\n",
        "          interest_rate=random.choice(range(3,17)),\n",
        "          owner = cliente.id,\n",
        "          base= random.choice([365,360]),\n",
        "          length = random.choice(range(1,120)),\n",
        "          From = datetime(random.choice(range(2018,2020+1)),month ,day))\n",
        "    elif tipo_producto is CreditCard:\n",
        "      producto = tipo_producto(\n",
        "          id=generate_credit_card_number(),\n",
        "          interest_rate=random.choice(range(1,3)),\n",
        "          owner = cliente.id\n",
        "          )\n",
        "    else:\n",
        "      producto = tipo_producto(\n",
        "          id=generate_product_ids(),\n",
        "          interest_rate=random.choice(range(1,3)),\n",
        "          balance = random.choice(range(1,500000)),\n",
        "          owner = cliente.id\n",
        "          )\n",
        " \n",
        "    # RELACIONO EL PRODUCTO CON EL CLIENTE ACTUAL\n",
        "    cliente.products.append(producto)\n",
        "    products.append(producto)\n",
        "print(type (tipo_producto.balance))\n",
        "\n",
        "print(\"Productos generados:\",len(products))\n",
        "print(\"Clientes generados:\",len(clientes))"
      ],
      "execution_count": 14,
      "outputs": [
        {
          "output_type": "stream",
          "name": "stdout",
          "text": "&lt;class &#39;property&#39;&gt;\nProductos generados: 2506\nClientes generados: 1000\nWall time: 530 ms\n"
        }
      ]
    },
    {
      "cell_type": "code",
      "execution_count": 15,
      "metadata": {},
      "outputs": [
        {
          "output_type": "execute_result",
          "data": {
            "text/plain": "&#39;10-698-225&#39;"
          },
          "metadata": {},
          "execution_count": 15
        }
      ],
      "source": [
        "products[0].owner"
      ]
    },
    {
      "cell_type": "markdown",
      "metadata": {
        "id": "hvKA2DbvRDzz"
      },
      "source": [
        "## Generar transacciones"
      ]
    },
    {
      "cell_type": "code",
      "metadata": {
        "id": "GmbA2deUuwWd",
        "outputId": "a3500a76-8e90-4492-da91-b3092d057177",
        "colab": {
          "base_uri": "https://localhost:8080/",
          "height": 90
        },
        "tags": []
      },
      "source": [
        "%%time\n",
        "MIN_TRX = 10\n",
        "MAX_TRX = 100\n",
        "transactions = []\n",
        "transaction_ids = []\n",
        "\n",
        "\n",
        "\n",
        "for cliente in clientes:\n",
        "  for producto in cliente.products:\n",
        "    \n",
        "    if type(producto) is SavingAccount or type(producto) is FixedTermDeposit :\n",
        "      # SELECCIONAR UN NUMERO ALEATORIO DE TRANSACCIONES PARA CADA PRODUCTO\n",
        "      n_Trx = random.choice(range(MIN_TRX,MAX_TRX))\n",
        "\n",
        "      for trx in range(n_Trx):\n",
        "        month = random.choice(range(1,13))\n",
        "        # SI EL MES ES FEBRERO... ENTRE 1 Y 28\n",
        "        if month == 2: day = random.choice(range(1,29))\n",
        "        # SI EL MES ES PAR EN EL SEGUNDO SEMESTRE O ES IMPAR EN EL PRIMER SEMESTRE... ENTRE 1 Y 31\n",
        "        elif (month % 2 == 0 and month >= 8) or (month % 2 != 0 and month < 8): day = random.choice(range(1,32))\n",
        "        # DE CUALQUIER OTRA FORMA... ENTRE 1 Y 30\n",
        "        else: day = random.choice(range(1,30))\n",
        "        amt = float(str(random.choice(range(1,999999999)))+\".\"+str(random.choice(range(1,99))))\n",
        "        nature = \"Dr\" if random.choice(range(10))==0 else \"Cr\"\n",
        "        mvt = amt*-1 if nature == 'Dr' else amt\n",
        "        transactions.append(Transaction(\n",
        "            id = generate_transaction_id(),\n",
        "            product = producto.id,\n",
        "            nature = nature,\n",
        "            date = datetime(random.choice(range(2010,2020+1)),month ,day),\n",
        "            amt = amt,\n",
        "            mvt = mvt\n",
        "        ))\n",
        "\n",
        "print(\"Transacciones generadas:\",len(transactions))\n",
        "print(\"Media de transacción por cliente:\",len(transactions)/len(products))"
      ],
      "execution_count": 16,
      "outputs": [
        {
          "output_type": "stream",
          "name": "stdout",
          "text": "Transacciones generadas: 69716\nMedia de transacción por cliente: 27.819632881085393\nWall time: 6.19 s\n"
        }
      ]
    },
    {
      "cell_type": "markdown",
      "metadata": {
        "id": "eNUo3sgGtz7D"
      },
      "source": [
        "## Generar tablas"
      ]
    },
    {
      "cell_type": "code",
      "metadata": {
        "id": "3zNQqeK1vovC"
      },
      "source": [
        "df_loans =[]\n",
        "df_deposits = []\n",
        "df_CreditCards = []\n",
        "for p in products:\n",
        "  if type(p) is Loan:\n",
        "    df_loans.append(p)\n",
        "  if type(p) is FixedTermDeposit or type(p) is SavingAccount:\n",
        "    df_deposits.append(p)\n",
        "  if type(p) is CreditCard:\n",
        "    df_CreditCards.append(p)\n",
        "\n"
      ],
      "execution_count": 17,
      "outputs": []
    },
    {
      "cell_type": "code",
      "execution_count": 18,
      "metadata": {
        "tags": []
      },
      "outputs": [
        {
          "output_type": "execute_result",
          "data": {
            "text/plain": "                 id  interest_rate  balance      owner        type\n0  2702746019761173              2      0.0  3-533-920  CreditCard\n1  8387774631355826              2      0.0  3-533-920  CreditCard\n2  2079414624097422              2      0.0  1-340-379  CreditCard",
            "text/html": "<div>\n<style scoped>\n    .dataframe tbody tr th:only-of-type {\n        vertical-align: middle;\n    }\n\n    .dataframe tbody tr th {\n        vertical-align: top;\n    }\n\n    .dataframe thead th {\n        text-align: right;\n    }\n</style>\n<table border=\"1\" class=\"dataframe\">\n  <thead>\n    <tr style=\"text-align: right;\">\n      <th></th>\n      <th>id</th>\n      <th>interest_rate</th>\n      <th>balance</th>\n      <th>owner</th>\n      <th>type</th>\n    </tr>\n  </thead>\n  <tbody>\n    <tr>\n      <th>0</th>\n      <td>2702746019761173</td>\n      <td>2</td>\n      <td>0.0</td>\n      <td>3-533-920</td>\n      <td>CreditCard</td>\n    </tr>\n    <tr>\n      <th>1</th>\n      <td>8387774631355826</td>\n      <td>2</td>\n      <td>0.0</td>\n      <td>3-533-920</td>\n      <td>CreditCard</td>\n    </tr>\n    <tr>\n      <th>2</th>\n      <td>2079414624097422</td>\n      <td>2</td>\n      <td>0.0</td>\n      <td>1-340-379</td>\n      <td>CreditCard</td>\n    </tr>\n  </tbody>\n</table>\n</div>"
          },
          "metadata": {},
          "execution_count": 18
        }
      ],
      "source": [
        "df_CreditCards = pd.DataFrame.from_records([j.to_dict() for j in df_CreditCards])\n",
        "df_CreditCards.head(3)"
      ]
    },
    {
      "cell_type": "code",
      "execution_count": 19,
      "metadata": {},
      "outputs": [
        {
          "output_type": "execute_result",
          "data": {
            "text/plain": "           id                 client_name\n0  10-698-225  msiufsquoj ytpiakrlqgwiwdw\n1   9-732-263  mesdqbjtgt oxjmljcajadmzbn\n2   6-550-372  jomxqhoqme phlfnjpohpihxwu",
            "text/html": "<div>\n<style scoped>\n    .dataframe tbody tr th:only-of-type {\n        vertical-align: middle;\n    }\n\n    .dataframe tbody tr th {\n        vertical-align: top;\n    }\n\n    .dataframe thead th {\n        text-align: right;\n    }\n</style>\n<table border=\"1\" class=\"dataframe\">\n  <thead>\n    <tr style=\"text-align: right;\">\n      <th></th>\n      <th>id</th>\n      <th>client_name</th>\n    </tr>\n  </thead>\n  <tbody>\n    <tr>\n      <th>0</th>\n      <td>10-698-225</td>\n      <td>msiufsquoj ytpiakrlqgwiwdw</td>\n    </tr>\n    <tr>\n      <th>1</th>\n      <td>9-732-263</td>\n      <td>mesdqbjtgt oxjmljcajadmzbn</td>\n    </tr>\n    <tr>\n      <th>2</th>\n      <td>6-550-372</td>\n      <td>jomxqhoqme phlfnjpohpihxwu</td>\n    </tr>\n  </tbody>\n</table>\n</div>"
          },
          "metadata": {},
          "execution_count": 19
        }
      ],
      "source": [
        "df_clients = pd.DataFrame.from_records([l.to_dict() for l in clientes])\n",
        "df_clients.head(3)"
      ]
    },
    {
      "cell_type": "code",
      "metadata": {
        "id": "Fx51ZtvcyIKP",
        "outputId": "3b94c538-6481-445c-cda9-c7306950c3f7",
        "colab": {
          "base_uri": "https://localhost:8080/",
          "height": 108
        }
      },
      "source": [
        "df_loans = pd.DataFrame.from_records([l.to_dict() for l in df_loans])\n",
        "df_loans.head(3)"
      ],
      "execution_count": 20,
      "outputs": [
        {
          "output_type": "execute_result",
          "data": {
            "text/plain": "        id  interest_rate  balance      owner  type  length  base       From\n0  2312897              6      0.0  9-732-263  Loan      85   360 2020-04-24\n1  9159444              3      0.0  9-732-263  Loan      12   360 2020-08-16\n2  3071723              6      0.0  9-732-263  Loan      19   360 2020-05-28",
            "text/html": "<div>\n<style scoped>\n    .dataframe tbody tr th:only-of-type {\n        vertical-align: middle;\n    }\n\n    .dataframe tbody tr th {\n        vertical-align: top;\n    }\n\n    .dataframe thead th {\n        text-align: right;\n    }\n</style>\n<table border=\"1\" class=\"dataframe\">\n  <thead>\n    <tr style=\"text-align: right;\">\n      <th></th>\n      <th>id</th>\n      <th>interest_rate</th>\n      <th>balance</th>\n      <th>owner</th>\n      <th>type</th>\n      <th>length</th>\n      <th>base</th>\n      <th>From</th>\n    </tr>\n  </thead>\n  <tbody>\n    <tr>\n      <th>0</th>\n      <td>2312897</td>\n      <td>6</td>\n      <td>0.0</td>\n      <td>9-732-263</td>\n      <td>Loan</td>\n      <td>85</td>\n      <td>360</td>\n      <td>2020-04-24</td>\n    </tr>\n    <tr>\n      <th>1</th>\n      <td>9159444</td>\n      <td>3</td>\n      <td>0.0</td>\n      <td>9-732-263</td>\n      <td>Loan</td>\n      <td>12</td>\n      <td>360</td>\n      <td>2020-08-16</td>\n    </tr>\n    <tr>\n      <th>2</th>\n      <td>3071723</td>\n      <td>6</td>\n      <td>0.0</td>\n      <td>9-732-263</td>\n      <td>Loan</td>\n      <td>19</td>\n      <td>360</td>\n      <td>2020-05-28</td>\n    </tr>\n  </tbody>\n</table>\n</div>"
          },
          "metadata": {},
          "execution_count": 20
        }
      ]
    },
    {
      "cell_type": "code",
      "metadata": {
        "id": "ok9-zGQDzGwL",
        "outputId": "0288c59e-a62a-469f-8755-541577972f2f",
        "colab": {
          "base_uri": "https://localhost:8080/",
          "height": 138
        }
      },
      "source": [
        "df_deposits = pd.DataFrame.from_records([d.to_dict() for d in df_deposits])\n",
        "df_deposits.head(3)"
      ],
      "execution_count": 21,
      "outputs": [
        {
          "output_type": "execute_result",
          "data": {
            "text/plain": "        id  interest_rate  balance       owner              type\n0  5528753              1    84016  10-698-225  FixedTermDeposit\n1  6361906              2   142851  10-698-225     SavingAccount\n2  5375770              1    36420   3-533-920     SavingAccount",
            "text/html": "<div>\n<style scoped>\n    .dataframe tbody tr th:only-of-type {\n        vertical-align: middle;\n    }\n\n    .dataframe tbody tr th {\n        vertical-align: top;\n    }\n\n    .dataframe thead th {\n        text-align: right;\n    }\n</style>\n<table border=\"1\" class=\"dataframe\">\n  <thead>\n    <tr style=\"text-align: right;\">\n      <th></th>\n      <th>id</th>\n      <th>interest_rate</th>\n      <th>balance</th>\n      <th>owner</th>\n      <th>type</th>\n    </tr>\n  </thead>\n  <tbody>\n    <tr>\n      <th>0</th>\n      <td>5528753</td>\n      <td>1</td>\n      <td>84016</td>\n      <td>10-698-225</td>\n      <td>FixedTermDeposit</td>\n    </tr>\n    <tr>\n      <th>1</th>\n      <td>6361906</td>\n      <td>2</td>\n      <td>142851</td>\n      <td>10-698-225</td>\n      <td>SavingAccount</td>\n    </tr>\n    <tr>\n      <th>2</th>\n      <td>5375770</td>\n      <td>1</td>\n      <td>36420</td>\n      <td>3-533-920</td>\n      <td>SavingAccount</td>\n    </tr>\n  </tbody>\n</table>\n</div>"
          },
          "metadata": {},
          "execution_count": 21
        }
      ]
    },
    {
      "cell_type": "code",
      "metadata": {
        "id": "whW8zJyWpISf",
        "outputId": "4ee3f123-9721-402c-ee88-f676eac40d45",
        "colab": {
          "base_uri": "https://localhost:8080/",
          "height": 407
        }
      },
      "source": [
        "df_transactions = pd.DataFrame.from_records([t.to_dict() for t in transactions])\n",
        "df_transactions.to_csv(\"db/transactions.csv\")\n",
        "df_transactions\n"
      ],
      "execution_count": 22,
      "outputs": [
        {
          "output_type": "execute_result",
          "data": {
            "text/plain": "            id nature accounting_date        amount  product           mvt\n0      1600851     Cr      2017-08-20  6.550893e+08  5528753  6.550893e+08\n1      6948156     Cr      2013-06-06  4.381337e+08  5528753  4.381337e+08\n2      2750959     Cr      2013-07-19  8.991629e+08  5528753  8.991629e+08\n3      1360235     Cr      2016-03-09  3.233632e+08  5528753  3.233632e+08\n4      8202029     Cr      2012-07-04  3.422425e+08  5528753  3.422425e+08\n...        ...    ...             ...           ...      ...           ...\n69711  9597046     Cr      2016-10-17  8.033364e+07  4123233  8.033364e+07\n69712  3326883     Cr      2012-05-01  2.167999e+08  4123233  2.167999e+08\n69713  8844456     Dr      2013-02-06  3.184563e+08  4123233 -3.184563e+08\n69714  8767296     Cr      2016-05-22  8.917860e+08  4123233  8.917860e+08\n69715  7945754     Dr      2015-03-02  4.690015e+08  4123233 -4.690015e+08\n\n[69716 rows x 6 columns]",
            "text/html": "<div>\n<style scoped>\n    .dataframe tbody tr th:only-of-type {\n        vertical-align: middle;\n    }\n\n    .dataframe tbody tr th {\n        vertical-align: top;\n    }\n\n    .dataframe thead th {\n        text-align: right;\n    }\n</style>\n<table border=\"1\" class=\"dataframe\">\n  <thead>\n    <tr style=\"text-align: right;\">\n      <th></th>\n      <th>id</th>\n      <th>nature</th>\n      <th>accounting_date</th>\n      <th>amount</th>\n      <th>product</th>\n      <th>mvt</th>\n    </tr>\n  </thead>\n  <tbody>\n    <tr>\n      <th>0</th>\n      <td>1600851</td>\n      <td>Cr</td>\n      <td>2017-08-20</td>\n      <td>6.550893e+08</td>\n      <td>5528753</td>\n      <td>6.550893e+08</td>\n    </tr>\n    <tr>\n      <th>1</th>\n      <td>6948156</td>\n      <td>Cr</td>\n      <td>2013-06-06</td>\n      <td>4.381337e+08</td>\n      <td>5528753</td>\n      <td>4.381337e+08</td>\n    </tr>\n    <tr>\n      <th>2</th>\n      <td>2750959</td>\n      <td>Cr</td>\n      <td>2013-07-19</td>\n      <td>8.991629e+08</td>\n      <td>5528753</td>\n      <td>8.991629e+08</td>\n    </tr>\n    <tr>\n      <th>3</th>\n      <td>1360235</td>\n      <td>Cr</td>\n      <td>2016-03-09</td>\n      <td>3.233632e+08</td>\n      <td>5528753</td>\n      <td>3.233632e+08</td>\n    </tr>\n    <tr>\n      <th>4</th>\n      <td>8202029</td>\n      <td>Cr</td>\n      <td>2012-07-04</td>\n      <td>3.422425e+08</td>\n      <td>5528753</td>\n      <td>3.422425e+08</td>\n    </tr>\n    <tr>\n      <th>...</th>\n      <td>...</td>\n      <td>...</td>\n      <td>...</td>\n      <td>...</td>\n      <td>...</td>\n      <td>...</td>\n    </tr>\n    <tr>\n      <th>69711</th>\n      <td>9597046</td>\n      <td>Cr</td>\n      <td>2016-10-17</td>\n      <td>8.033364e+07</td>\n      <td>4123233</td>\n      <td>8.033364e+07</td>\n    </tr>\n    <tr>\n      <th>69712</th>\n      <td>3326883</td>\n      <td>Cr</td>\n      <td>2012-05-01</td>\n      <td>2.167999e+08</td>\n      <td>4123233</td>\n      <td>2.167999e+08</td>\n    </tr>\n    <tr>\n      <th>69713</th>\n      <td>8844456</td>\n      <td>Dr</td>\n      <td>2013-02-06</td>\n      <td>3.184563e+08</td>\n      <td>4123233</td>\n      <td>-3.184563e+08</td>\n    </tr>\n    <tr>\n      <th>69714</th>\n      <td>8767296</td>\n      <td>Cr</td>\n      <td>2016-05-22</td>\n      <td>8.917860e+08</td>\n      <td>4123233</td>\n      <td>8.917860e+08</td>\n    </tr>\n    <tr>\n      <th>69715</th>\n      <td>7945754</td>\n      <td>Dr</td>\n      <td>2015-03-02</td>\n      <td>4.690015e+08</td>\n      <td>4123233</td>\n      <td>-4.690015e+08</td>\n    </tr>\n  </tbody>\n</table>\n<p>69716 rows × 6 columns</p>\n</div>"
          },
          "metadata": {},
          "execution_count": 22
        }
      ]
    },
    {
      "cell_type": "code",
      "metadata": {
        "id": "KiGRB6r6vJP0",
        "outputId": "4589b545-8f35-4023-bc75-ea45a2907d73",
        "colab": {
          "base_uri": "https://localhost:8080/",
          "height": 438
        }
      },
      "source": [
        "#df_transactions[df_transactions['product']=='1022920']\n",
        "summarize = df_transactions.groupby(['product'])['mvt']\n",
        "summarize = summarize.sum()\n",
        "summarize = summarize.reset_index()\n",
        "#print(summarize['1022920'==summarize['product']])\n",
        "for i in range(len(summarize)):\n",
        "  product_id = summarize['product'].iloc[i]\n",
        "  \n",
        "  df_deposits.loc[df_deposits['id']==product_id,'balance'] = summarize['mvt']\n",
        "\n",
        "df_deposits[df_deposits['id'].isin(summarize['product'])]\n",
        "#print(df_deposits[summarize['product']==df_deposits['id']])"
      ],
      "execution_count": 23,
      "outputs": [
        {
          "output_type": "execute_result",
          "data": {
            "text/plain": "           id  interest_rate       balance       owner              type\n0     5528753              1  3.375104e+10  10-698-225  FixedTermDeposit\n1     6361906              2  2.751108e+10  10-698-225     SavingAccount\n2     5375770              1  2.179727e+10   3-533-920     SavingAccount\n3     9771484              1  6.642426e+09   1-555-944  FixedTermDeposit\n4     8812662              2  1.819915e+10   1-555-944  FixedTermDeposit\n...       ...            ...           ...         ...               ...\n1283  7824242              2  2.414620e+10   2-652-304  FixedTermDeposit\n1284  3513274              1  1.106209e+10   9-295-266     SavingAccount\n1285  2942167              1  1.210289e+10   3-552-757  FixedTermDeposit\n1286  4767839              2  1.927292e+10   6-814-570     SavingAccount\n1287  4123233              2  1.566261e+10   6-575-480     SavingAccount\n\n[1288 rows x 5 columns]",
            "text/html": "<div>\n<style scoped>\n    .dataframe tbody tr th:only-of-type {\n        vertical-align: middle;\n    }\n\n    .dataframe tbody tr th {\n        vertical-align: top;\n    }\n\n    .dataframe thead th {\n        text-align: right;\n    }\n</style>\n<table border=\"1\" class=\"dataframe\">\n  <thead>\n    <tr style=\"text-align: right;\">\n      <th></th>\n      <th>id</th>\n      <th>interest_rate</th>\n      <th>balance</th>\n      <th>owner</th>\n      <th>type</th>\n    </tr>\n  </thead>\n  <tbody>\n    <tr>\n      <th>0</th>\n      <td>5528753</td>\n      <td>1</td>\n      <td>3.375104e+10</td>\n      <td>10-698-225</td>\n      <td>FixedTermDeposit</td>\n    </tr>\n    <tr>\n      <th>1</th>\n      <td>6361906</td>\n      <td>2</td>\n      <td>2.751108e+10</td>\n      <td>10-698-225</td>\n      <td>SavingAccount</td>\n    </tr>\n    <tr>\n      <th>2</th>\n      <td>5375770</td>\n      <td>1</td>\n      <td>2.179727e+10</td>\n      <td>3-533-920</td>\n      <td>SavingAccount</td>\n    </tr>\n    <tr>\n      <th>3</th>\n      <td>9771484</td>\n      <td>1</td>\n      <td>6.642426e+09</td>\n      <td>1-555-944</td>\n      <td>FixedTermDeposit</td>\n    </tr>\n    <tr>\n      <th>4</th>\n      <td>8812662</td>\n      <td>2</td>\n      <td>1.819915e+10</td>\n      <td>1-555-944</td>\n      <td>FixedTermDeposit</td>\n    </tr>\n    <tr>\n      <th>...</th>\n      <td>...</td>\n      <td>...</td>\n      <td>...</td>\n      <td>...</td>\n      <td>...</td>\n    </tr>\n    <tr>\n      <th>1283</th>\n      <td>7824242</td>\n      <td>2</td>\n      <td>2.414620e+10</td>\n      <td>2-652-304</td>\n      <td>FixedTermDeposit</td>\n    </tr>\n    <tr>\n      <th>1284</th>\n      <td>3513274</td>\n      <td>1</td>\n      <td>1.106209e+10</td>\n      <td>9-295-266</td>\n      <td>SavingAccount</td>\n    </tr>\n    <tr>\n      <th>1285</th>\n      <td>2942167</td>\n      <td>1</td>\n      <td>1.210289e+10</td>\n      <td>3-552-757</td>\n      <td>FixedTermDeposit</td>\n    </tr>\n    <tr>\n      <th>1286</th>\n      <td>4767839</td>\n      <td>2</td>\n      <td>1.927292e+10</td>\n      <td>6-814-570</td>\n      <td>SavingAccount</td>\n    </tr>\n    <tr>\n      <th>1287</th>\n      <td>4123233</td>\n      <td>2</td>\n      <td>1.566261e+10</td>\n      <td>6-575-480</td>\n      <td>SavingAccount</td>\n    </tr>\n  </tbody>\n</table>\n<p>1288 rows × 5 columns</p>\n</div>"
          },
          "metadata": {},
          "execution_count": 23
        }
      ]
    },
    {
      "cell_type": "markdown",
      "metadata": {
        "id": "aBL5Z_3MzXcA"
      },
      "source": [
        "## Requerimientos"
      ]
    },
    {
      "cell_type": "markdown",
      "metadata": {
        "id": "hXa6FY2fiBes"
      },
      "source": [
        "\n",
        "***vas a definir la funcion de ejecutar transferencia***\n",
        "\n",
        "\n",
        "\n",
        "***tienes que buscar la informacion de las cuentas afectadas en la tabla de productos***\n",
        "\n",
        "\n",
        "***vas a ver si la cuenta a acreditar tiene saldo***\n",
        "\n",
        "\n",
        "vas a generar la transaccion en la tabla de transacciones\n",
        "\n",
        "\n",
        "vas a modificar el balance de las cuentas afectadas en la tabla de productos\n",
        "\n"
      ]
    },
    {
      "cell_type": "markdown",
      "metadata": {
        "id": "SAxFDHYXzc05"
      },
      "source": [
        "### Generar estado de cuenta"
      ]
    },
    {
      "cell_type": "code",
      "metadata": {
        "id": "9PQb0ZiuzLPj"
      },
      "source": [
        "def getAccountStatement(**kwargs):\n",
        "  \n",
        "  try: kwargs['product']\n",
        "  except: print(\"A product id is required\")\n",
        "\n",
        "  \n",
        "  print(\"Getting account statement for product\",kwargs['product'])\n",
        "  df = df_transactions[df_transactions['product'] == kwargs['product']]\n",
        "  \n",
        "  try: start = kwargs['start'] \n",
        "  except: start = df['accounting_date'].min()\n",
        "  try: end = kwargs['end']\n",
        "  except: end = df['accounting_date'].max()\n",
        "  \n",
        "  df = df[(df.accounting_date >= start) & (df.accounting_date <= end) ]\n",
        "\n",
        "  print(\"Found\",len(df),\"transactions from\",start,\"to\",end)\n",
        "  df = df.sort_values(by=['accounting_date'])\n",
        "  df = df.reset_index()\n",
        "  df = df.drop(['index'],axis=1)\n",
        "  return df"
      ],
      "execution_count": 24,
      "outputs": []
    },
    {
      "cell_type": "code",
      "metadata": {
        "id": "THoVTGig0krM",
        "outputId": "39953d37-3773-4f51-ab49-cf3f510a37c3",
        "colab": {
          "base_uri": "https://localhost:8080/",
          "height": 345
        },
        "tags": []
      },
      "source": [
        "%%time\n",
        "account_stmnt = getAccountStatement(product=df_transactions.iloc[0]['product'])\n",
        "print(account_stmnt)\n"
      ],
      "execution_count": 25,
      "outputs": [
        {
          "output_type": "stream",
          "name": "stdout",
          "text": "Getting account statement for product 5528753\nFound 87 transactions from 2010-04-24 00:00:00 to 2020-12-23 00:00:00\n         id nature accounting_date        amount  product           mvt\n0   6628471     Cr      2010-04-24  4.544238e+08  5528753  4.544238e+08\n1   8205251     Cr      2010-06-02  1.467450e+08  5528753  1.467450e+08\n2   6481724     Cr      2010-08-13  7.915020e+08  5528753  7.915020e+08\n3   8807089     Cr      2010-09-07  3.936001e+07  5528753  3.936001e+07\n4   9505573     Cr      2010-12-04  3.369653e+08  5528753  3.369653e+08\n..      ...    ...             ...           ...      ...           ...\n82  9515754     Cr      2020-06-21  5.975533e+08  5528753  5.975533e+08\n83  8110161     Dr      2020-08-16  3.398751e+08  5528753 -3.398751e+08\n84  8134430     Cr      2020-08-24  2.936960e+08  5528753  2.936960e+08\n85  9367845     Cr      2020-09-07  2.830342e+08  5528753  2.830342e+08\n86  4083573     Cr      2020-12-23  9.291926e+08  5528753  9.291926e+08\n\n[87 rows x 6 columns]\nWall time: 40.7 ms\n"
        }
      ]
    },
    {
      "cell_type": "markdown",
      "metadata": {
        "id": "EvfNt4VI8Vfh"
      },
      "source": [
        "#### Mostrar un gráfico con el movimiento de su producto"
      ]
    },
    {
      "cell_type": "code",
      "metadata": {
        "id": "9gURU9iE01pt"
      },
      "source": [
        "import matplotlib.pyplot as plt"
      ],
      "execution_count": 26,
      "outputs": []
    },
    {
      "cell_type": "code",
      "metadata": {
        "id": "-c4X5fTX6f9p",
        "outputId": "f54df991-468a-414a-bbcd-d65d2db25de1",
        "colab": {
          "base_uri": "https://localhost:8080/",
          "height": 126
        }
      },
      "source": [
        "# generar el campo valor\n",
        "account_stmnt['mvt'] = 0.00\n",
        "account_stmnt.loc[account_stmnt['nature']==\"Dr\",'mvt'] = account_stmnt['amount']\n",
        "account_stmnt.loc[account_stmnt['nature']==\"Cr\",'mvt'] = account_stmnt['amount']*-1\n",
        "account_stmnt.sum()"
      ],
      "execution_count": 27,
      "outputs": [
        {
          "output_type": "execute_result",
          "data": {
            "text/plain": "id         6628471820525164817248807089950557392295603982...\nnature     CrCrCrCrCrCrCrCrDrCrCrDrCrCrCrCrCrCrCrCrCrDrCr...\namount                                           4.30685e+10\nproduct    5528753552875355287535528753552875355287535528...\nmvt                                              -3.7132e+10\ndtype: object"
          },
          "metadata": {},
          "execution_count": 27
        }
      ]
    },
    {
      "cell_type": "code",
      "metadata": {
        "id": "BxEtUBGa7p5U",
        "outputId": "0ef3419f-1b52-4872-c261-013e93c49062",
        "colab": {
          "base_uri": "https://localhost:8080/",
          "height": 276
        }
      },
      "source": [
        "plt.plot(account_stmnt.amount)\n",
        "plt.show()"
      ],
      "execution_count": 28,
      "outputs": [
        {
          "output_type": "display_data",
          "data": {
            "text/plain": "&lt;Figure size 432x288 with 1 Axes&gt;",
            "image/svg+xml": "<?xml version=\"1.0\" encoding=\"utf-8\" standalone=\"no\"?>\r\n<!DOCTYPE svg PUBLIC \"-//W3C//DTD SVG 1.1//EN\"\r\n  \"http://www.w3.org/Graphics/SVG/1.1/DTD/svg11.dtd\">\r\n<!-- Created with matplotlib (https://matplotlib.org/) -->\r\n<svg height=\"259.116562pt\" version=\"1.1\" viewBox=\"0 0 372.103125 259.116562\" width=\"372.103125pt\" xmlns=\"http://www.w3.org/2000/svg\" xmlns:xlink=\"http://www.w3.org/1999/xlink\">\r\n <metadata>\r\n  <rdf:RDF xmlns:cc=\"http://creativecommons.org/ns#\" xmlns:dc=\"http://purl.org/dc/elements/1.1/\" xmlns:rdf=\"http://www.w3.org/1999/02/22-rdf-syntax-ns#\">\r\n   <cc:Work>\r\n    <dc:type rdf:resource=\"http://purl.org/dc/dcmitype/StillImage\"/>\r\n    <dc:date>2020-10-02T15:53:09.747702</dc:date>\r\n    <dc:format>image/svg+xml</dc:format>\r\n    <dc:creator>\r\n     <cc:Agent>\r\n      <dc:title>Matplotlib v3.3.2, https://matplotlib.org/</dc:title>\r\n     </cc:Agent>\r\n    </dc:creator>\r\n   </cc:Work>\r\n  </rdf:RDF>\r\n </metadata>\r\n <defs>\r\n  <style type=\"text/css\">*{stroke-linecap:butt;stroke-linejoin:round;}</style>\r\n </defs>\r\n <g id=\"figure_1\">\r\n  <g id=\"patch_1\">\r\n   <path d=\"M 0 259.116562 \r\nL 372.103125 259.116562 \r\nL 372.103125 0 \r\nL 0 0 \r\nz\r\n\" style=\"fill:none;\"/>\r\n  </g>\r\n  <g id=\"axes_1\">\r\n   <g id=\"patch_2\">\r\n    <path d=\"M 30.103125 235.238437 \r\nL 364.903125 235.238437 \r\nL 364.903125 17.798437 \r\nL 30.103125 17.798437 \r\nz\r\n\" style=\"fill:#ffffff;\"/>\r\n   </g>\r\n   <g id=\"matplotlib.axis_1\">\r\n    <g id=\"xtick_1\">\r\n     <g id=\"line2d_1\">\r\n      <defs>\r\n       <path d=\"M 0 0 \r\nL 0 3.5 \r\n\" id=\"mc7644d5c1d\" style=\"stroke:#000000;stroke-width:0.8;\"/>\r\n      </defs>\r\n      <g>\r\n       <use style=\"stroke:#000000;stroke-width:0.8;\" x=\"45.321307\" xlink:href=\"#mc7644d5c1d\" y=\"235.238437\"/>\r\n      </g>\r\n     </g>\r\n     <g id=\"text_1\">\r\n      <!-- 0 -->\r\n      <g transform=\"translate(42.140057 249.836875)scale(0.1 -0.1)\">\r\n       <defs>\r\n        <path d=\"M 31.78125 66.40625 \r\nQ 24.171875 66.40625 20.328125 58.90625 \r\nQ 16.5 51.421875 16.5 36.375 \r\nQ 16.5 21.390625 20.328125 13.890625 \r\nQ 24.171875 6.390625 31.78125 6.390625 \r\nQ 39.453125 6.390625 43.28125 13.890625 \r\nQ 47.125 21.390625 47.125 36.375 \r\nQ 47.125 51.421875 43.28125 58.90625 \r\nQ 39.453125 66.40625 31.78125 66.40625 \r\nz\r\nM 31.78125 74.21875 \r\nQ 44.046875 74.21875 50.515625 64.515625 \r\nQ 56.984375 54.828125 56.984375 36.375 \r\nQ 56.984375 17.96875 50.515625 8.265625 \r\nQ 44.046875 -1.421875 31.78125 -1.421875 \r\nQ 19.53125 -1.421875 13.0625 8.265625 \r\nQ 6.59375 17.96875 6.59375 36.375 \r\nQ 6.59375 54.828125 13.0625 64.515625 \r\nQ 19.53125 74.21875 31.78125 74.21875 \r\nz\r\n\" id=\"DejaVuSans-48\"/>\r\n       </defs>\r\n       <use xlink:href=\"#DejaVuSans-48\"/>\r\n      </g>\r\n     </g>\r\n    </g>\r\n    <g id=\"xtick_2\">\r\n     <g id=\"line2d_2\">\r\n      <g>\r\n       <use style=\"stroke:#000000;stroke-width:0.8;\" x=\"116.103548\" xlink:href=\"#mc7644d5c1d\" y=\"235.238437\"/>\r\n      </g>\r\n     </g>\r\n     <g id=\"text_2\">\r\n      <!-- 20 -->\r\n      <g transform=\"translate(109.741048 249.836875)scale(0.1 -0.1)\">\r\n       <defs>\r\n        <path d=\"M 19.1875 8.296875 \r\nL 53.609375 8.296875 \r\nL 53.609375 0 \r\nL 7.328125 0 \r\nL 7.328125 8.296875 \r\nQ 12.9375 14.109375 22.625 23.890625 \r\nQ 32.328125 33.6875 34.8125 36.53125 \r\nQ 39.546875 41.84375 41.421875 45.53125 \r\nQ 43.3125 49.21875 43.3125 52.78125 \r\nQ 43.3125 58.59375 39.234375 62.25 \r\nQ 35.15625 65.921875 28.609375 65.921875 \r\nQ 23.96875 65.921875 18.8125 64.3125 \r\nQ 13.671875 62.703125 7.8125 59.421875 \r\nL 7.8125 69.390625 \r\nQ 13.765625 71.78125 18.9375 73 \r\nQ 24.125 74.21875 28.421875 74.21875 \r\nQ 39.75 74.21875 46.484375 68.546875 \r\nQ 53.21875 62.890625 53.21875 53.421875 \r\nQ 53.21875 48.921875 51.53125 44.890625 \r\nQ 49.859375 40.875 45.40625 35.40625 \r\nQ 44.1875 33.984375 37.640625 27.21875 \r\nQ 31.109375 20.453125 19.1875 8.296875 \r\nz\r\n\" id=\"DejaVuSans-50\"/>\r\n       </defs>\r\n       <use xlink:href=\"#DejaVuSans-50\"/>\r\n       <use x=\"63.623047\" xlink:href=\"#DejaVuSans-48\"/>\r\n      </g>\r\n     </g>\r\n    </g>\r\n    <g id=\"xtick_3\">\r\n     <g id=\"line2d_3\">\r\n      <g>\r\n       <use style=\"stroke:#000000;stroke-width:0.8;\" x=\"186.885789\" xlink:href=\"#mc7644d5c1d\" y=\"235.238437\"/>\r\n      </g>\r\n     </g>\r\n     <g id=\"text_3\">\r\n      <!-- 40 -->\r\n      <g transform=\"translate(180.523289 249.836875)scale(0.1 -0.1)\">\r\n       <defs>\r\n        <path d=\"M 37.796875 64.3125 \r\nL 12.890625 25.390625 \r\nL 37.796875 25.390625 \r\nz\r\nM 35.203125 72.90625 \r\nL 47.609375 72.90625 \r\nL 47.609375 25.390625 \r\nL 58.015625 25.390625 \r\nL 58.015625 17.1875 \r\nL 47.609375 17.1875 \r\nL 47.609375 0 \r\nL 37.796875 0 \r\nL 37.796875 17.1875 \r\nL 4.890625 17.1875 \r\nL 4.890625 26.703125 \r\nz\r\n\" id=\"DejaVuSans-52\"/>\r\n       </defs>\r\n       <use xlink:href=\"#DejaVuSans-52\"/>\r\n       <use x=\"63.623047\" xlink:href=\"#DejaVuSans-48\"/>\r\n      </g>\r\n     </g>\r\n    </g>\r\n    <g id=\"xtick_4\">\r\n     <g id=\"line2d_4\">\r\n      <g>\r\n       <use style=\"stroke:#000000;stroke-width:0.8;\" x=\"257.66803\" xlink:href=\"#mc7644d5c1d\" y=\"235.238437\"/>\r\n      </g>\r\n     </g>\r\n     <g id=\"text_4\">\r\n      <!-- 60 -->\r\n      <g transform=\"translate(251.30553 249.836875)scale(0.1 -0.1)\">\r\n       <defs>\r\n        <path d=\"M 33.015625 40.375 \r\nQ 26.375 40.375 22.484375 35.828125 \r\nQ 18.609375 31.296875 18.609375 23.390625 \r\nQ 18.609375 15.53125 22.484375 10.953125 \r\nQ 26.375 6.390625 33.015625 6.390625 \r\nQ 39.65625 6.390625 43.53125 10.953125 \r\nQ 47.40625 15.53125 47.40625 23.390625 \r\nQ 47.40625 31.296875 43.53125 35.828125 \r\nQ 39.65625 40.375 33.015625 40.375 \r\nz\r\nM 52.59375 71.296875 \r\nL 52.59375 62.3125 \r\nQ 48.875 64.0625 45.09375 64.984375 \r\nQ 41.3125 65.921875 37.59375 65.921875 \r\nQ 27.828125 65.921875 22.671875 59.328125 \r\nQ 17.53125 52.734375 16.796875 39.40625 \r\nQ 19.671875 43.65625 24.015625 45.921875 \r\nQ 28.375 48.1875 33.59375 48.1875 \r\nQ 44.578125 48.1875 50.953125 41.515625 \r\nQ 57.328125 34.859375 57.328125 23.390625 \r\nQ 57.328125 12.15625 50.6875 5.359375 \r\nQ 44.046875 -1.421875 33.015625 -1.421875 \r\nQ 20.359375 -1.421875 13.671875 8.265625 \r\nQ 6.984375 17.96875 6.984375 36.375 \r\nQ 6.984375 53.65625 15.1875 63.9375 \r\nQ 23.390625 74.21875 37.203125 74.21875 \r\nQ 40.921875 74.21875 44.703125 73.484375 \r\nQ 48.484375 72.75 52.59375 71.296875 \r\nz\r\n\" id=\"DejaVuSans-54\"/>\r\n       </defs>\r\n       <use xlink:href=\"#DejaVuSans-54\"/>\r\n       <use x=\"63.623047\" xlink:href=\"#DejaVuSans-48\"/>\r\n      </g>\r\n     </g>\r\n    </g>\r\n    <g id=\"xtick_5\">\r\n     <g id=\"line2d_5\">\r\n      <g>\r\n       <use style=\"stroke:#000000;stroke-width:0.8;\" x=\"328.450271\" xlink:href=\"#mc7644d5c1d\" y=\"235.238437\"/>\r\n      </g>\r\n     </g>\r\n     <g id=\"text_5\">\r\n      <!-- 80 -->\r\n      <g transform=\"translate(322.087771 249.836875)scale(0.1 -0.1)\">\r\n       <defs>\r\n        <path d=\"M 31.78125 34.625 \r\nQ 24.75 34.625 20.71875 30.859375 \r\nQ 16.703125 27.09375 16.703125 20.515625 \r\nQ 16.703125 13.921875 20.71875 10.15625 \r\nQ 24.75 6.390625 31.78125 6.390625 \r\nQ 38.8125 6.390625 42.859375 10.171875 \r\nQ 46.921875 13.96875 46.921875 20.515625 \r\nQ 46.921875 27.09375 42.890625 30.859375 \r\nQ 38.875 34.625 31.78125 34.625 \r\nz\r\nM 21.921875 38.8125 \r\nQ 15.578125 40.375 12.03125 44.71875 \r\nQ 8.5 49.078125 8.5 55.328125 \r\nQ 8.5 64.0625 14.71875 69.140625 \r\nQ 20.953125 74.21875 31.78125 74.21875 \r\nQ 42.671875 74.21875 48.875 69.140625 \r\nQ 55.078125 64.0625 55.078125 55.328125 \r\nQ 55.078125 49.078125 51.53125 44.71875 \r\nQ 48 40.375 41.703125 38.8125 \r\nQ 48.828125 37.15625 52.796875 32.3125 \r\nQ 56.78125 27.484375 56.78125 20.515625 \r\nQ 56.78125 9.90625 50.3125 4.234375 \r\nQ 43.84375 -1.421875 31.78125 -1.421875 \r\nQ 19.734375 -1.421875 13.25 4.234375 \r\nQ 6.78125 9.90625 6.78125 20.515625 \r\nQ 6.78125 27.484375 10.78125 32.3125 \r\nQ 14.796875 37.15625 21.921875 38.8125 \r\nz\r\nM 18.3125 54.390625 \r\nQ 18.3125 48.734375 21.84375 45.5625 \r\nQ 25.390625 42.390625 31.78125 42.390625 \r\nQ 38.140625 42.390625 41.71875 45.5625 \r\nQ 45.3125 48.734375 45.3125 54.390625 \r\nQ 45.3125 60.0625 41.71875 63.234375 \r\nQ 38.140625 66.40625 31.78125 66.40625 \r\nQ 25.390625 66.40625 21.84375 63.234375 \r\nQ 18.3125 60.0625 18.3125 54.390625 \r\nz\r\n\" id=\"DejaVuSans-56\"/>\r\n       </defs>\r\n       <use xlink:href=\"#DejaVuSans-56\"/>\r\n       <use x=\"63.623047\" xlink:href=\"#DejaVuSans-48\"/>\r\n      </g>\r\n     </g>\r\n    </g>\r\n   </g>\r\n   <g id=\"matplotlib.axis_2\">\r\n    <g id=\"ytick_1\">\r\n     <g id=\"line2d_6\">\r\n      <defs>\r\n       <path d=\"M 0 0 \r\nL -3.5 0 \r\n\" id=\"m17a57f08d2\" style=\"stroke:#000000;stroke-width:0.8;\"/>\r\n      </defs>\r\n      <g>\r\n       <use style=\"stroke:#000000;stroke-width:0.8;\" x=\"30.103125\" xlink:href=\"#m17a57f08d2\" y=\"231.254091\"/>\r\n      </g>\r\n     </g>\r\n     <g id=\"text_6\">\r\n      <!-- 0.0 -->\r\n      <g transform=\"translate(7.2 235.05331)scale(0.1 -0.1)\">\r\n       <defs>\r\n        <path d=\"M 10.6875 12.40625 \r\nL 21 12.40625 \r\nL 21 0 \r\nL 10.6875 0 \r\nz\r\n\" id=\"DejaVuSans-46\"/>\r\n       </defs>\r\n       <use xlink:href=\"#DejaVuSans-48\"/>\r\n       <use x=\"63.623047\" xlink:href=\"#DejaVuSans-46\"/>\r\n       <use x=\"95.410156\" xlink:href=\"#DejaVuSans-48\"/>\r\n      </g>\r\n     </g>\r\n    </g>\r\n    <g id=\"ytick_2\">\r\n     <g id=\"line2d_7\">\r\n      <g>\r\n       <use style=\"stroke:#000000;stroke-width:0.8;\" x=\"30.103125\" xlink:href=\"#m17a57f08d2\" y=\"189.603318\"/>\r\n      </g>\r\n     </g>\r\n     <g id=\"text_7\">\r\n      <!-- 0.2 -->\r\n      <g transform=\"translate(7.2 193.402536)scale(0.1 -0.1)\">\r\n       <use xlink:href=\"#DejaVuSans-48\"/>\r\n       <use x=\"63.623047\" xlink:href=\"#DejaVuSans-46\"/>\r\n       <use x=\"95.410156\" xlink:href=\"#DejaVuSans-50\"/>\r\n      </g>\r\n     </g>\r\n    </g>\r\n    <g id=\"ytick_3\">\r\n     <g id=\"line2d_8\">\r\n      <g>\r\n       <use style=\"stroke:#000000;stroke-width:0.8;\" x=\"30.103125\" xlink:href=\"#m17a57f08d2\" y=\"147.952544\"/>\r\n      </g>\r\n     </g>\r\n     <g id=\"text_8\">\r\n      <!-- 0.4 -->\r\n      <g transform=\"translate(7.2 151.751763)scale(0.1 -0.1)\">\r\n       <use xlink:href=\"#DejaVuSans-48\"/>\r\n       <use x=\"63.623047\" xlink:href=\"#DejaVuSans-46\"/>\r\n       <use x=\"95.410156\" xlink:href=\"#DejaVuSans-52\"/>\r\n      </g>\r\n     </g>\r\n    </g>\r\n    <g id=\"ytick_4\">\r\n     <g id=\"line2d_9\">\r\n      <g>\r\n       <use style=\"stroke:#000000;stroke-width:0.8;\" x=\"30.103125\" xlink:href=\"#m17a57f08d2\" y=\"106.301771\"/>\r\n      </g>\r\n     </g>\r\n     <g id=\"text_9\">\r\n      <!-- 0.6 -->\r\n      <g transform=\"translate(7.2 110.10099)scale(0.1 -0.1)\">\r\n       <use xlink:href=\"#DejaVuSans-48\"/>\r\n       <use x=\"63.623047\" xlink:href=\"#DejaVuSans-46\"/>\r\n       <use x=\"95.410156\" xlink:href=\"#DejaVuSans-54\"/>\r\n      </g>\r\n     </g>\r\n    </g>\r\n    <g id=\"ytick_5\">\r\n     <g id=\"line2d_10\">\r\n      <g>\r\n       <use style=\"stroke:#000000;stroke-width:0.8;\" x=\"30.103125\" xlink:href=\"#m17a57f08d2\" y=\"64.650997\"/>\r\n      </g>\r\n     </g>\r\n     <g id=\"text_10\">\r\n      <!-- 0.8 -->\r\n      <g transform=\"translate(7.2 68.450216)scale(0.1 -0.1)\">\r\n       <use xlink:href=\"#DejaVuSans-48\"/>\r\n       <use x=\"63.623047\" xlink:href=\"#DejaVuSans-46\"/>\r\n       <use x=\"95.410156\" xlink:href=\"#DejaVuSans-56\"/>\r\n      </g>\r\n     </g>\r\n    </g>\r\n    <g id=\"ytick_6\">\r\n     <g id=\"line2d_11\">\r\n      <g>\r\n       <use style=\"stroke:#000000;stroke-width:0.8;\" x=\"30.103125\" xlink:href=\"#m17a57f08d2\" y=\"23.000224\"/>\r\n      </g>\r\n     </g>\r\n     <g id=\"text_11\">\r\n      <!-- 1.0 -->\r\n      <g transform=\"translate(7.2 26.799443)scale(0.1 -0.1)\">\r\n       <defs>\r\n        <path d=\"M 12.40625 8.296875 \r\nL 28.515625 8.296875 \r\nL 28.515625 63.921875 \r\nL 10.984375 60.40625 \r\nL 10.984375 69.390625 \r\nL 28.421875 72.90625 \r\nL 38.28125 72.90625 \r\nL 38.28125 8.296875 \r\nL 54.390625 8.296875 \r\nL 54.390625 0 \r\nL 12.40625 0 \r\nz\r\n\" id=\"DejaVuSans-49\"/>\r\n       </defs>\r\n       <use xlink:href=\"#DejaVuSans-49\"/>\r\n       <use x=\"63.623047\" xlink:href=\"#DejaVuSans-46\"/>\r\n       <use x=\"95.410156\" xlink:href=\"#DejaVuSans-48\"/>\r\n      </g>\r\n     </g>\r\n    </g>\r\n    <g id=\"text_12\">\r\n     <!-- 1e9 -->\r\n     <g transform=\"translate(30.103125 14.798437)scale(0.1 -0.1)\">\r\n      <defs>\r\n       <path d=\"M 56.203125 29.59375 \r\nL 56.203125 25.203125 \r\nL 14.890625 25.203125 \r\nQ 15.484375 15.921875 20.484375 11.0625 \r\nQ 25.484375 6.203125 34.421875 6.203125 \r\nQ 39.59375 6.203125 44.453125 7.46875 \r\nQ 49.3125 8.734375 54.109375 11.28125 \r\nL 54.109375 2.78125 \r\nQ 49.265625 0.734375 44.1875 -0.34375 \r\nQ 39.109375 -1.421875 33.890625 -1.421875 \r\nQ 20.796875 -1.421875 13.15625 6.1875 \r\nQ 5.515625 13.8125 5.515625 26.8125 \r\nQ 5.515625 40.234375 12.765625 48.109375 \r\nQ 20.015625 56 32.328125 56 \r\nQ 43.359375 56 49.78125 48.890625 \r\nQ 56.203125 41.796875 56.203125 29.59375 \r\nz\r\nM 47.21875 32.234375 \r\nQ 47.125 39.59375 43.09375 43.984375 \r\nQ 39.0625 48.390625 32.421875 48.390625 \r\nQ 24.90625 48.390625 20.390625 44.140625 \r\nQ 15.875 39.890625 15.1875 32.171875 \r\nz\r\n\" id=\"DejaVuSans-101\"/>\r\n       <path d=\"M 10.984375 1.515625 \r\nL 10.984375 10.5 \r\nQ 14.703125 8.734375 18.5 7.8125 \r\nQ 22.3125 6.890625 25.984375 6.890625 \r\nQ 35.75 6.890625 40.890625 13.453125 \r\nQ 46.046875 20.015625 46.78125 33.40625 \r\nQ 43.953125 29.203125 39.59375 26.953125 \r\nQ 35.25 24.703125 29.984375 24.703125 \r\nQ 19.046875 24.703125 12.671875 31.3125 \r\nQ 6.296875 37.9375 6.296875 49.421875 \r\nQ 6.296875 60.640625 12.9375 67.421875 \r\nQ 19.578125 74.21875 30.609375 74.21875 \r\nQ 43.265625 74.21875 49.921875 64.515625 \r\nQ 56.59375 54.828125 56.59375 36.375 \r\nQ 56.59375 19.140625 48.40625 8.859375 \r\nQ 40.234375 -1.421875 26.421875 -1.421875 \r\nQ 22.703125 -1.421875 18.890625 -0.6875 \r\nQ 15.09375 0.046875 10.984375 1.515625 \r\nz\r\nM 30.609375 32.421875 \r\nQ 37.25 32.421875 41.125 36.953125 \r\nQ 45.015625 41.5 45.015625 49.421875 \r\nQ 45.015625 57.28125 41.125 61.84375 \r\nQ 37.25 66.40625 30.609375 66.40625 \r\nQ 23.96875 66.40625 20.09375 61.84375 \r\nQ 16.21875 57.28125 16.21875 49.421875 \r\nQ 16.21875 41.5 20.09375 36.953125 \r\nQ 23.96875 32.421875 30.609375 32.421875 \r\nz\r\n\" id=\"DejaVuSans-57\"/>\r\n      </defs>\r\n      <use xlink:href=\"#DejaVuSans-49\"/>\r\n      <use x=\"63.623047\" xlink:href=\"#DejaVuSans-101\"/>\r\n      <use x=\"125.146484\" xlink:href=\"#DejaVuSans-57\"/>\r\n     </g>\r\n    </g>\r\n   </g>\r\n   <g id=\"line2d_12\">\r\n    <path clip-path=\"url(#p45873ae168)\" d=\"M 45.321307 136.618582 \r\nL 48.860419 200.693877 \r\nL 52.399531 66.420734 \r\nL 55.938643 223.057217 \r\nL 59.477755 161.079768 \r\nL 63.016867 154.016249 \r\nL 66.555979 45.546707 \r\nL 70.095091 86.1803 \r\nL 73.634203 203.996244 \r\nL 77.173315 127.613298 \r\nL 80.712427 176.765606 \r\nL 84.251539 164.660487 \r\nL 87.790651 97.272072 \r\nL 91.329763 50.351566 \r\nL 94.868876 75.736053 \r\nL 98.407988 157.15707 \r\nL 101.9471 196.807105 \r\nL 105.486212 62.471285 \r\nL 109.025324 211.236336 \r\nL 112.564436 159.980768 \r\nL 116.103548 159.24727 \r\nL 119.64266 97.518399 \r\nL 123.181772 69.267253 \r\nL 126.720884 171.011477 \r\nL 130.259996 130.961719 \r\nL 133.799108 35.235243 \r\nL 137.33822 164.193679 \r\nL 140.877332 87.584681 \r\nL 144.416444 117.922067 \r\nL 147.955556 119.537828 \r\nL 151.494668 140.011062 \r\nL 155.03378 141.735626 \r\nL 158.572892 88.724651 \r\nL 162.112004 43.999939 \r\nL 165.651117 174.300262 \r\nL 169.190229 225.354801 \r\nL 172.729341 46.760225 \r\nL 176.268453 82.069552 \r\nL 179.807565 35.761745 \r\nL 183.346677 219.802014 \r\nL 186.885789 158.0853 \r\nL 190.424901 128.308464 \r\nL 193.964013 191.219074 \r\nL 197.503125 163.912448 \r\nL 201.042237 194.591334 \r\nL 204.581349 201.656869 \r\nL 208.120461 222.713542 \r\nL 211.659573 143.002389 \r\nL 215.198685 42.11286 \r\nL 218.737797 117.682054 \r\nL 222.276909 102.648806 \r\nL 225.816021 111.706883 \r\nL 229.355133 175.176072 \r\nL 232.894246 163.912702 \r\nL 236.433358 47.552241 \r\nL 239.97247 33.414731 \r\nL 243.511582 94.829202 \r\nL 247.050694 27.682074 \r\nL 250.589806 105.022441 \r\nL 254.128918 102.054799 \r\nL 257.66803 101.931135 \r\nL 261.207142 55.163821 \r\nL 264.746254 133.771304 \r\nL 268.285366 220.988876 \r\nL 271.824478 158.074972 \r\nL 275.36359 105.924026 \r\nL 278.902702 89.607167 \r\nL 282.441814 122.01063 \r\nL 285.980926 171.842209 \r\nL 289.520038 190.992247 \r\nL 293.05915 208.16532 \r\nL 296.598262 46.92078 \r\nL 300.137374 117.880124 \r\nL 303.676487 136.913728 \r\nL 307.215599 129.397425 \r\nL 310.754711 164.860662 \r\nL 314.293823 176.241319 \r\nL 317.832935 32.977672 \r\nL 321.372047 120.906165 \r\nL 324.911159 157.922216 \r\nL 328.450271 158.596506 \r\nL 331.989383 65.453803 \r\nL 335.528495 106.811301 \r\nL 339.067607 160.473797 \r\nL 342.606719 170.090771 \r\nL 346.145831 172.311122 \r\nL 349.684943 37.746149 \r\n\" style=\"fill:none;stroke:#1f77b4;stroke-linecap:square;stroke-width:1.5;\"/>\r\n   </g>\r\n   <g id=\"patch_3\">\r\n    <path d=\"M 30.103125 235.238437 \r\nL 30.103125 17.798437 \r\n\" style=\"fill:none;stroke:#000000;stroke-linecap:square;stroke-linejoin:miter;stroke-width:0.8;\"/>\r\n   </g>\r\n   <g id=\"patch_4\">\r\n    <path d=\"M 364.903125 235.238437 \r\nL 364.903125 17.798437 \r\n\" style=\"fill:none;stroke:#000000;stroke-linecap:square;stroke-linejoin:miter;stroke-width:0.8;\"/>\r\n   </g>\r\n   <g id=\"patch_5\">\r\n    <path d=\"M 30.103125 235.238437 \r\nL 364.903125 235.238437 \r\n\" style=\"fill:none;stroke:#000000;stroke-linecap:square;stroke-linejoin:miter;stroke-width:0.8;\"/>\r\n   </g>\r\n   <g id=\"patch_6\">\r\n    <path d=\"M 30.103125 17.798437 \r\nL 364.903125 17.798437 \r\n\" style=\"fill:none;stroke:#000000;stroke-linecap:square;stroke-linejoin:miter;stroke-width:0.8;\"/>\r\n   </g>\r\n  </g>\r\n </g>\r\n <defs>\r\n  <clipPath id=\"p45873ae168\">\r\n   <rect height=\"217.44\" width=\"334.8\" x=\"30.103125\" y=\"17.798437\"/>\r\n  </clipPath>\r\n </defs>\r\n</svg>\r\n",
            "image/png": "[encoded data removed]"
          },
          "metadata": {
            "needs_background": "light"
          }
        }
      ]
    },
    {
      "cell_type": "code",
      "metadata": {
        "id": "1KDHC8Zl76g3"
      },
      "source": [
        ""
      ],
      "execution_count": null,
      "outputs": []
    },
    {
      "cell_type": "markdown",
      "metadata": {
        "id": "JAUj8ESCFuib"
      },
      "source": [
        "### Ejecutar Transferencia"
      ]
    },
    {
      "cell_type": "code",
      "metadata": {
        "id": "xK1q-CnRCF7t",
        "outputId": "36fb6cd8-7663-4148-ba72-16913099f984",
        "colab": {
          "base_uri": "https://localhost:8080/",
          "height": 444
        },
        "tags": []
      },
      "source": [
        "account_stmnt = getAccountStatement(product=df_transactions.iloc[0]['product'])\n",
        "account_stmnt"
      ],
      "execution_count": 29,
      "outputs": [
        {
          "output_type": "stream",
          "name": "stdout",
          "text": "Getting account statement for product 5528753\nFound 87 transactions from 2010-04-24 00:00:00 to 2020-12-23 00:00:00\n"
        },
        {
          "output_type": "execute_result",
          "data": {
            "text/plain": "         id nature accounting_date        amount  product           mvt\n0   6628471     Cr      2010-04-24  4.544238e+08  5528753  4.544238e+08\n1   8205251     Cr      2010-06-02  1.467450e+08  5528753  1.467450e+08\n2   6481724     Cr      2010-08-13  7.915020e+08  5528753  7.915020e+08\n3   8807089     Cr      2010-09-07  3.936001e+07  5528753  3.936001e+07\n4   9505573     Cr      2010-12-04  3.369653e+08  5528753  3.369653e+08\n..      ...    ...             ...           ...      ...           ...\n82  9515754     Cr      2020-06-21  5.975533e+08  5528753  5.975533e+08\n83  8110161     Dr      2020-08-16  3.398751e+08  5528753 -3.398751e+08\n84  8134430     Cr      2020-08-24  2.936960e+08  5528753  2.936960e+08\n85  9367845     Cr      2020-09-07  2.830342e+08  5528753  2.830342e+08\n86  4083573     Cr      2020-12-23  9.291926e+08  5528753  9.291926e+08\n\n[87 rows x 6 columns]",
            "text/html": "<div>\n<style scoped>\n    .dataframe tbody tr th:only-of-type {\n        vertical-align: middle;\n    }\n\n    .dataframe tbody tr th {\n        vertical-align: top;\n    }\n\n    .dataframe thead th {\n        text-align: right;\n    }\n</style>\n<table border=\"1\" class=\"dataframe\">\n  <thead>\n    <tr style=\"text-align: right;\">\n      <th></th>\n      <th>id</th>\n      <th>nature</th>\n      <th>accounting_date</th>\n      <th>amount</th>\n      <th>product</th>\n      <th>mvt</th>\n    </tr>\n  </thead>\n  <tbody>\n    <tr>\n      <th>0</th>\n      <td>6628471</td>\n      <td>Cr</td>\n      <td>2010-04-24</td>\n      <td>4.544238e+08</td>\n      <td>5528753</td>\n      <td>4.544238e+08</td>\n    </tr>\n    <tr>\n      <th>1</th>\n      <td>8205251</td>\n      <td>Cr</td>\n      <td>2010-06-02</td>\n      <td>1.467450e+08</td>\n      <td>5528753</td>\n      <td>1.467450e+08</td>\n    </tr>\n    <tr>\n      <th>2</th>\n      <td>6481724</td>\n      <td>Cr</td>\n      <td>2010-08-13</td>\n      <td>7.915020e+08</td>\n      <td>5528753</td>\n      <td>7.915020e+08</td>\n    </tr>\n    <tr>\n      <th>3</th>\n      <td>8807089</td>\n      <td>Cr</td>\n      <td>2010-09-07</td>\n      <td>3.936001e+07</td>\n      <td>5528753</td>\n      <td>3.936001e+07</td>\n    </tr>\n    <tr>\n      <th>4</th>\n      <td>9505573</td>\n      <td>Cr</td>\n      <td>2010-12-04</td>\n      <td>3.369653e+08</td>\n      <td>5528753</td>\n      <td>3.369653e+08</td>\n    </tr>\n    <tr>\n      <th>...</th>\n      <td>...</td>\n      <td>...</td>\n      <td>...</td>\n      <td>...</td>\n      <td>...</td>\n      <td>...</td>\n    </tr>\n    <tr>\n      <th>82</th>\n      <td>9515754</td>\n      <td>Cr</td>\n      <td>2020-06-21</td>\n      <td>5.975533e+08</td>\n      <td>5528753</td>\n      <td>5.975533e+08</td>\n    </tr>\n    <tr>\n      <th>83</th>\n      <td>8110161</td>\n      <td>Dr</td>\n      <td>2020-08-16</td>\n      <td>3.398751e+08</td>\n      <td>5528753</td>\n      <td>-3.398751e+08</td>\n    </tr>\n    <tr>\n      <th>84</th>\n      <td>8134430</td>\n      <td>Cr</td>\n      <td>2020-08-24</td>\n      <td>2.936960e+08</td>\n      <td>5528753</td>\n      <td>2.936960e+08</td>\n    </tr>\n    <tr>\n      <th>85</th>\n      <td>9367845</td>\n      <td>Cr</td>\n      <td>2020-09-07</td>\n      <td>2.830342e+08</td>\n      <td>5528753</td>\n      <td>2.830342e+08</td>\n    </tr>\n    <tr>\n      <th>86</th>\n      <td>4083573</td>\n      <td>Cr</td>\n      <td>2020-12-23</td>\n      <td>9.291926e+08</td>\n      <td>5528753</td>\n      <td>9.291926e+08</td>\n    </tr>\n  </tbody>\n</table>\n<p>87 rows × 6 columns</p>\n</div>"
          },
          "metadata": {},
          "execution_count": 29
        }
      ]
    },
    {
      "cell_type": "markdown",
      "metadata": {},
      "source": [
        "### Generar tablas"
      ]
    },
    {
      "cell_type": "code",
      "execution_count": 30,
      "metadata": {},
      "outputs": [
        {
          "output_type": "execute_result",
          "data": {
            "text/plain": "&#39;df_deposits.to_csv(&quot;db/deposits.csv&quot;)\\ndf_loans.to_csv(&quot;db/loans.csv&quot;)\\ndf_transactions.to_csv(&quot;db/transactions.csv&quot;)\\ndf_clients.to_csv(&quot;db/clients.csv&quot;)\\ndf_CreditCards.to_csv(&quot;db/CreditCards.csv&quot;)\\n&#39;"
          },
          "metadata": {},
          "execution_count": 30
        }
      ],
      "source": [
        "'''df_deposits.to_csv(\"db/deposits.csv\")\n",
        "df_loans.to_csv(\"db/loans.csv\")\n",
        "df_transactions.to_csv(\"db/transactions.csv\")\n",
        "df_clients.to_csv(\"db/clients.csv\")\n",
        "df_CreditCards.to_csv(\"db/CreditCards.csv\")\n",
        "'''"
      ]
    },
    {
      "cell_type": "markdown",
      "metadata": {},
      "source": [
        "## Pruebas"
      ]
    },
    {
      "cell_type": "code",
      "execution_count": 31,
      "metadata": {
        "tags": []
      },
      "outputs": [
        {
          "output_type": "stream",
          "name": "stdout",
          "text": "Empty DataFrame\nColumns: [Unnamed: 0, id, interest_rate, balance, owner, type]\nIndex: []\n"
        }
      ],
      "source": [
        "deposits = pd.read_csv(\"db/deposits.csv\")\n",
        "loans = pd.read_csv(\"db/loans.csv\")\n",
        "\n",
        "dep2 = deposits[deposits.owner == '6-832-434']\n",
        "loans2 = loans[loans.owner == '6-832-434']\n",
        "print(dep2)\n",
        "client_products = []\n",
        "for i in range(len(dep2)):\n",
        "    #print(dep2.iloc[i].type)\n",
        "    if eval(dep2.iloc[i].type) == SavingAccount:\n",
        "        client_products.append(SavingAccount(\n",
        "            id = str(dep2.iloc[i].id),\n",
        "            interest_rate = dep2.iloc[i].interest_rate,\n",
        "            balance = float(dep2.iloc[i].balance),\n",
        "            owner = dep2.iloc[i].owner\n",
        "        ))\n",
        "    if eval(dep2.iloc[i].type) == FixedTermDeposit:\n",
        "        client_products.append(FixedTermDeposit(\n",
        "            id = str(dep2.iloc[i].id),\n",
        "            interest_rate = dep2.iloc[i].interest_rate,\n",
        "            balance = float(dep2.iloc[i].balance),\n",
        "            owner = dep2.iloc[i].owner\n",
        "        ))\n",
        "for i in range(len(loans2)):\n",
        "\n",
        "    client_products.append(Loan(\n",
        "            id = str(loans2.iloc[i].id),\n",
        "            interest_rate = loans2.iloc[i].interest_rate,\n",
        "            balance = float(loans2.iloc[i].balance),\n",
        "            owner = loans2.iloc[i].owner,\n",
        "            length = loans2.iloc[i].length,\n",
        "            base = loans2.iloc[i].base\n",
        "        ))\n"
      ]
    },
    {
      "cell_type": "code",
      "execution_count": 32,
      "metadata": {
        "tags": []
      },
      "outputs": [
        {
          "output_type": "execute_result",
          "data": {
            "text/plain": "[]"
          },
          "metadata": {},
          "execution_count": 32
        }
      ],
      "source": [
        "p = Client.getClientProducts(client='4-523-333')\n",
        "p"
      ]
    },
    {
      "cell_type": "code",
      "metadata": {
        "id": "tyEnZBhPC_M2",
        "outputId": "5ffd2331-0b3d-4e80-db32-271c804d7ff8",
        "colab": {
          "base_uri": "https://localhost:8080/",
          "height": 308
        },
        "tags": []
      },
      "source": [
        "import pandas as pd\n",
        "from models import Product\n",
        "pd.options.display.float_format = '${:,.2f}'.format\n",
        "print(os.getcwd())\n",
        "deposits = pd.read_csv(\"db/deposits.csv\")"
      ],
      "execution_count": 33,
      "outputs": [
        {
          "output_type": "stream",
          "name": "stdout",
          "text": "d:\\AQUI\\banking-system-emulator\\flask-app\\app\n"
        }
      ]
    },
    {
      "cell_type": "code",
      "metadata": {
        "id": "dSZiJj94DAx8"
      },
      "source": [
        "Client.getClientProducts(client='8-481-903')"
      ],
      "execution_count": 34,
      "outputs": [
        {
          "output_type": "execute_result",
          "data": {
            "text/plain": "[]"
          },
          "metadata": {},
          "execution_count": 34
        }
      ]
    },
    {
      "cell_type": "code",
      "execution_count": 35,
      "metadata": {},
      "outputs": [],
      "source": [
        "#Product.getProductBalance(id=7721659)"
      ]
    },
    {
      "cell_type": "code",
      "execution_count": 36,
      "metadata": {},
      "outputs": [
        {
          "output_type": "execute_result",
          "data": {
            "text/plain": "&#39;14669322166.46&#39;"
          },
          "metadata": {},
          "execution_count": 36
        }
      ],
      "source": [
        "'{:.2f}'.format(14669322166.459997)"
      ]
    },
    {
      "cell_type": "code",
      "execution_count": 37,
      "metadata": {},
      "outputs": [
        {
          "output_type": "error",
          "ename": "KeyError",
          "evalue": "&#39;From&#39;",
          "traceback": [
            "\u001b[1;31m---------------------------------------------------------------------------\u001b[0m",
            "\u001b[1;31mKeyError\u001b[0m                                  Traceback (most recent call last)",
            "\u001b[1;32m&lt;ipython-input-37-b13d893ba8e5&gt;\u001b[0m in \u001b[0;36m&lt;module&gt;\u001b[1;34m\u001b[0m\n\u001b[1;32m----&gt; 1\u001b[1;33m \u001b[0ml\u001b[0m \u001b[1;33m=\u001b[0m \u001b[0mLoan\u001b[0m\u001b[1;33m(\u001b[0m\u001b[0mlength\u001b[0m \u001b[1;33m=\u001b[0m \u001b[1;36m12\u001b[0m\u001b[1;33m,\u001b[0m\u001b[0mbase\u001b[0m\u001b[1;33m=\u001b[0m\u001b[1;36m365\u001b[0m\u001b[1;33m,\u001b[0m\u001b[0mbalance\u001b[0m\u001b[1;33m=\u001b[0m\u001b[1;36m500\u001b[0m\u001b[1;33m,\u001b[0m\u001b[0mid\u001b[0m\u001b[1;33m=\u001b[0m\u001b[1;34m&#39;12123&#39;\u001b[0m\u001b[1;33m,\u001b[0m\u001b[0minterest_rate\u001b[0m\u001b[1;33m=\u001b[0m\u001b[1;36m3\u001b[0m\u001b[1;33m,\u001b[0m\u001b[0mowner\u001b[0m\u001b[1;33m=\u001b[0m\u001b[1;34m&quot;&quot;\u001b[0m\u001b[1;33m)\u001b[0m\u001b[1;33m\u001b[0m\u001b[1;33m\u001b[0m\u001b[0m\n\u001b[0m\u001b[0;32m      2\u001b[0m \u001b[0ml\u001b[0m\u001b[1;33m.\u001b[0m\u001b[0mgenerate_amortization_table\u001b[0m\u001b[1;33m(\u001b[0m\u001b[1;33m)\u001b[0m\u001b[1;33m\u001b[0m\u001b[1;33m\u001b[0m\u001b[0m\n",
            "\u001b[1;32md:\\AQUI\\banking-system-emulator\\flask-app\\app\\models.py\u001b[0m in \u001b[0;36m__init__\u001b[1;34m(self, **kwargs)\u001b[0m\n\u001b[0;32m     92\u001b[0m     \u001b[1;31m# duracion del prestamo en meses\u001b[0m\u001b[1;33m\u001b[0m\u001b[1;33m\u001b[0m\u001b[1;33m\u001b[0m\u001b[0m\n\u001b[0;32m     93\u001b[0m     \u001b[0mself\u001b[0m\u001b[1;33m.\u001b[0m\u001b[0mlength\u001b[0m \u001b[1;33m=\u001b[0m \u001b[0mkwargs\u001b[0m\u001b[1;33m[\u001b[0m\u001b[1;34m&#39;length&#39;\u001b[0m\u001b[1;33m]\u001b[0m\u001b[1;33m\u001b[0m\u001b[1;33m\u001b[0m\u001b[0m\n\u001b[1;32m---&gt; 94\u001b[1;33m     \u001b[0mself\u001b[0m\u001b[1;33m.\u001b[0m\u001b[0mFrom\u001b[0m \u001b[1;33m=\u001b[0m \u001b[0mkwargs\u001b[0m\u001b[1;33m[\u001b[0m\u001b[1;34m&#39;From&#39;\u001b[0m\u001b[1;33m]\u001b[0m\u001b[1;33m\u001b[0m\u001b[1;33m\u001b[0m\u001b[0m\n\u001b[0m\u001b[0;32m     95\u001b[0m     \u001b[0mself\u001b[0m\u001b[1;33m.\u001b[0m\u001b[0mtype\u001b[0m \u001b[1;33m=\u001b[0m \u001b[0mself\u001b[0m\u001b[1;33m.\u001b[0m\u001b[0m__class__\u001b[0m\u001b[1;33m.\u001b[0m\u001b[0m__name__\u001b[0m\u001b[1;33m\u001b[0m\u001b[1;33m\u001b[0m\u001b[0m\n\u001b[0;32m     96\u001b[0m     \u001b[1;31m# base del calculo\u001b[0m\u001b[1;33m\u001b[0m\u001b[1;33m\u001b[0m\u001b[1;33m\u001b[0m\u001b[0m\n",
            "\u001b[1;31mKeyError\u001b[0m: &#39;From&#39;"
          ]
        }
      ],
      "source": [
        "l = Loan(length = 12,base=365,balance=500,id='12123',interest_rate=3,owner=\"\")\n",
        "l.generate_amortization_table()"
      ]
    },
    {
      "cell_type": "code",
      "metadata": {
        "id": "4UUFbhsvNrjs",
        "outputId": "250328f9-5a30-4211-8f5d-18957ad9740a",
        "colab": {
          "base_uri": "https://localhost:8080/",
          "height": 54
        },
        "tags": []
      },
      "source": [
        "\n",
        "Transfer.Execute(to=5492655385368401, From= 2158026, amount= 500)\n",
        "\n"
      ],
      "execution_count": 38,
      "outputs": [
        {
          "output_type": "stream",
          "name": "stdout",
          "text": "Executing Bank Transfer\nsoy tarjeta\n            id nature            accounting_date          amount  \\\n0      8109076     Cr 2012-05-16 00:00:00.000000 $398,446,946.48   \n1      4086066     Cr 2014-09-19 00:00:00.000000 $231,650,758.77   \n2      9605322     Cr 2020-07-04 00:00:00.000000 $519,124,832.87   \n3      9431797     Cr 2014-03-21 00:00:00.000000 $340,282,511.45   \n4      8019823     Cr 2012-01-23 00:00:00.000000  $83,078,849.41   \n...        ...    ...                        ...             ...   \n67552   664543     Dr 2020-10-02 15:51:49.834116     $397,351.00   \n67553   690125     Cr 2020-10-02 15:52:03.088326         $500.00   \n67554   851801     Dr 2020-10-02 15:52:03.089316     $396,851.00   \n67555   185845     Cr 2020-10-02 15:53:33.006466         $500.00   \n67556   673834     Dr 2020-10-02 15:53:33.008565     $396,351.00   \n\n                product             mvt  \n0               1917751 $398,446,946.48  \n1               1917751 $231,650,758.77  \n2               1917751 $519,124,832.87  \n3               1917751 $340,282,511.45  \n4               1917751  $83,078,849.41  \n...                 ...             ...  \n67552           2158026        $-500.00  \n67553  5492655385368401         $500.00  \n67554           2158026        $-500.00  \n67555  5492655385368401         $500.00  \n67556           2158026        $-500.00  \n\n[67557 rows x 6 columns]\n"
        }
      ]
    },
    {
      "cell_type": "code",
      "execution_count": null,
      "metadata": {},
      "outputs": [],
      "source": []
    }
  ]
}