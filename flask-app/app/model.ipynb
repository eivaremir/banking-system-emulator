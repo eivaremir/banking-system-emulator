{
  "nbformat": 4,
  "nbformat_minor": 0,
  "metadata": {
    "colab": {
      "name": "Generator",
      "provenance": [],
      "collapsed_sections": [],
      "toc_visible": true
    },
    "kernelspec": {
      "name": "python_defaultSpec_1601246502618",
      "display_name": "Python 3.6.4 64-bit"
    }
  },
  "cells": [
    {
      "cell_type": "code",
      "metadata": {
        "id": "E7SoPgArqXHy"
      },
      "source": [
        "import random\n",
        "import string\n",
        "import abc\n",
        "from datetime import datetime\n"
      ],
      "execution_count": 1,
      "outputs": []
    },
    {
      "cell_type": "code",
      "metadata": {
        "id": "c9Qh31Erqz1O",
        "outputId": "3a4ec0f2-f5a8-4d2f-c280-5d3e561f0e39",
        "colab": {
          "base_uri": "https://localhost:8080/",
          "height": 35
        }
      },
      "source": [
        "rand_str = lambda l : rand_str(l-1)+random.choice(string.ascii_lowercase) if l > 1 else random.choice(string.ascii_lowercase)\n",
        "rand_str(10)"
      ],
      "execution_count": 2,
      "outputs": [
        {
          "output_type": "execute_result",
          "data": {
            "text/plain": "'ahcvzwuqda'"
          },
          "metadata": {},
          "execution_count": 2
        }
      ]
    },
    {
      "cell_type": "code",
      "metadata": {
        "id": "xAVLv6gQp9gV"
      },
      "source": [
        "import pandas as pd"
      ],
      "execution_count": 3,
      "outputs": []
    },
    {
      "cell_type": "markdown",
      "metadata": {
        "id": "2kT7BzEh7gUv"
      },
      "source": [
        "## Clases"
      ]
    },
    {
      "cell_type": "markdown",
      "metadata": {
        "id": "m1ilydtx7iw3"
      },
      "source": [
        "### Productos"
      ]
    },
    {
      "cell_type": "code",
      "metadata": {
        "id": "Jsy5cc44vWxC"
      },
      "source": [
        "class Product(abc.ABC):\n",
        "  @abc.abstractmethod\n",
        "  def __init__(self,**kwargs):\n",
        "    self._id = kwargs['id']\n",
        "    self._interest_rate = kwargs['interest_rate']\n",
        "    self._balance = 0.00\n",
        "  @property\n",
        "  def interest_rate(self):\n",
        "    return self._interest_rate\n",
        "  @property\n",
        "  def id(self):\n",
        "    return self._id\n",
        "  @property\n",
        "  def balance(self):\n",
        "    return self._balance\n",
        "\n",
        "  def to_dict(self):\n",
        "    return {\n",
        "      'id': self._id,\n",
        "      'interest_rate': self._interest_rate,\n",
        "      'balance': self.balance\n",
        "    }\n",
        "  @classmethod\n",
        "  def getProductBalance(**kwargs):\n",
        "    id = kwargs['id']\n",
        "\n",
        "\n",
        "  def __repr__(self):\n",
        "    return self.__class__.__name__+\"(\"+self._id+\", interest_rate=\"+str(self._interest_rate)+\", Balance =\"+str(self._balance)+\")\""
      ],
      "execution_count": 4,
      "outputs": []
    },
    {
      "cell_type": "code",
      "metadata": {
        "id": "dhTIB2CRwyLw"
      },
      "source": [
        "class SavingAccount(Product):\n",
        "  def __init__(self,**kwargs): \n",
        "    super().__init__(**kwargs)\n",
        "  "
      ],
      "execution_count": 5,
      "outputs": []
    },
    {
      "cell_type": "code",
      "metadata": {
        "id": "K19yKwK50ZGP"
      },
      "source": [
        "class FixedTermDeposit(Product):\n",
        "  def __init__(self,**kwargs): \n",
        "    super().__init__(**kwargs)\n"
      ],
      "execution_count": 6,
      "outputs": []
    },
    {
      "cell_type": "code",
      "metadata": {
        "id": "pWgXwvse6pfB"
      },
      "source": [
        "class Loan(Product):\n",
        "  def __init__(self,**kwargs): \n",
        "    super().__init__(**kwargs)\n",
        "    # duracion del prestamo en meses\n",
        "    self.length = kwargs['length']\n",
        "\n",
        "    # base del calculo\n",
        "    self.base = kwargs['base']\n",
        "  def to_dict(self):\n",
        "    d1 = super().to_dict()\n",
        "    d2 = {\n",
        "        \"length\":self.length,\n",
        "        \"base\":self.base\n",
        "    }\n",
        "    return {**d1,**d2}"
      ],
      "execution_count": 7,
      "outputs": []
    },
    {
      "cell_type": "code",
      "metadata": {
        "id": "47sGpL6Y6sy8"
      },
      "source": [
        "class CreditCard(Product):\n",
        "  def __init__(self,**kwargs): \n",
        "    super().__init__(**kwargs)"
      ],
      "execution_count": 8,
      "outputs": []
    },
    {
      "cell_type": "code",
      "metadata": {
        "id": "vink4oJO0TT8"
      },
      "source": [
        "PRODUCTS = (SavingAccount,FixedTermDeposit,Loan,CreditCard)"
      ],
      "execution_count": 9,
      "outputs": []
    },
    {
      "cell_type": "markdown",
      "metadata": {
        "id": "F5jXKr-S7ks2"
      },
      "source": [
        "### Cliente"
      ]
    },
    {
      "cell_type": "code",
      "metadata": {
        "id": "ZvlVddalrWd-"
      },
      "source": [
        "class Client():\n",
        "  def __init__(self, **kwargs):\n",
        "    self.id = kwargs['id']\n",
        "    self.name = kwargs['name']\n",
        "    self.products = kwargs['products']\n",
        "  def __repr__(self):\n",
        "    return \"Client(\"+self.id+\", \"+self.name+\", products=\"+str(len(self.products))+\")\""
      ],
      "execution_count": 10,
      "outputs": []
    },
    {
      "cell_type": "markdown",
      "metadata": {
        "id": "tGzfXwanDwIR"
      },
      "source": [
        "### Transacciones\n"
      ]
    },
    {
      "cell_type": "markdown",
      "metadata": {
        "id": "N72WHkXjiLJW"
      },
      "source": [
        "Las transacciones debitan o acreditan un producto, tienen un identificador, ocurrieron un día especifico y un monto."
      ]
    },
    {
      "cell_type": "code",
      "metadata": {
        "id": "fCXAcPdhjBgG"
      },
      "source": [
        "class Transaction():\n",
        "  def __init__(self,**kwargs):\n",
        "    self._id = kwargs['id']\n",
        "    #Dr/Cr\n",
        "    self.nature = kwargs['nature']\n",
        "    self.accounting_date = kwargs['date']\n",
        "    self.amount = kwargs['amt']\n",
        "    self.product = kwargs['product']\n",
        "    self.mvt = kwargs['mvt']\n",
        "    \n",
        "  def __repr__(self):\n",
        "    return self.__class__.__name__+\"(\"+str(self._id)+\",\"+self.accounting_date.strftime(\"%A, %B %d %Y\")+\", \"+self.nature+\", \"+str(self.amount) +\")\"\n",
        "  def to_dict(self):\n",
        "    return {\n",
        "      'id': self._id,\n",
        "      'nature': self.nature,\n",
        "      'accounting_date':self.accounting_date,\n",
        "      'amount':self.amount,\n",
        "      'product':self.product,\n",
        "      'mvt': self.mvt\n",
        "    }"
      ],
      "execution_count": 11,
      "outputs": []
    },
    {
      "cell_type": "markdown",
      "metadata": {
        "id": "B2Hqc5dmNnkg"
      },
      "source": [
        "### Transferencia"
      ]
    },
    {
      "cell_type": "code",
      "metadata": {
        "id": "zX6zb9l07Ftn"
      },
      "source": [
        "class Transfer():\n",
        "  def __init__(self, **kwargs):\n",
        "    self.to = kwargs['to']\n",
        "    self.From = kwargs['from']\n",
        "    self.amount = kwargs['amount']\n",
        "    self._id = kwargs['id']\n",
        "\n",
        "  def __repr__(self):\n",
        "    return self.__class__.__name__+\"(\"+self.to+\",\"+self.From+\", \"+self._id+\", \"+self.amount +\")\"  \n",
        "    \n",
        "  def to_dict(sefl):\n",
        "    return {\n",
        "        'to': self.to,\n",
        "        'From': self.From,\n",
        "        'amount': self.amount,\n",
        "        'id': self._id,\n",
        "        'date': self.accounting_date\n",
        "    }\n",
        "  \n",
        "  @classmethod\n",
        "  def Execute(self, **kwargs):\n",
        "    print(\"Executing Bank Transfer\")\n",
        "    b1 = df_deposits[df_deposits['id']==kwargs['to']]\n",
        "\n",
        "    b2 = df_deposits[df_deposits['id']==kwargs['From']]\n",
        "    if len(b1) == 0 or len(b2) == 0:\n",
        "      print('ERROR')\n",
        "    else: \n",
        "      b1 = b1.reset_index()\n",
        "      b1 = b1.iloc[0]['balance']\n",
        "      b2 = b2.reset_index()\n",
        "      b2 = b2.iloc[0]['balance']\n",
        "      print(\"Saldo disponible:\",b2)\n",
        "      if b2 >= kwargs['amount']:\n",
        "        totalb1= b1 + kwargs['amount']\n",
        "        totalb2= b2 - kwargs['amount']\n",
        "        trans1= Transaction(\n",
        "          id = prueba(random.choice(range(100000,999999))),\n",
        "          product = kwargs['to'],\n",
        "          nature = \"Cr\",\n",
        "          date = datetime.now(),\n",
        "          amt = kwargs['amount'],\n",
        "          mvt = kwargs['amount'])\n",
        "        trans2= Transaction(\n",
        "          id = prueba(random.choice(range(100000,999999))),\n",
        "          product = kwargs['From'],\n",
        "          nature = \"Dr\",\n",
        "          date = datetime.now(),\n",
        "          amt = kwargs['amount'],\n",
        "          mvt= kwargs['amount']*-1)\n",
        "        global df_transactions\n",
        "        df_transactions = df_transactions.append(trans1.to_dict(),ignore_index=True )\n",
        "        df_transactions = df_transactions.append(trans2.to_dict(),ignore_index=True )\n",
        "       \n",
        "      else:\n",
        "        print(\"No tienes saldo\")\n",
        "\n",
        "\n",
        "    \n",
        "      \n",
        "\n"
      ],
      "execution_count": 12,
      "outputs": []
    },
    {
      "cell_type": "markdown",
      "metadata": {
        "id": "io0DGpSuh86w"
      },
      "source": [
        "## Funciones"
      ]
    },
    {
      "cell_type": "code",
      "metadata": {
        "id": "3ybVgLbH3joG"
      },
      "source": [
        "prueba = lambda s: s if (len(df_transactions[df_transactions['id']==s])) == 0 else prueba(random.choice(range(100000,999999)))"
      ],
      "execution_count": 13,
      "outputs": []
    },
    {
      "cell_type": "code",
      "metadata": {
        "id": "JrSzoYYOyuv9"
      },
      "source": [
        "\n",
        "def generate_product_ids():\n",
        "  id = ''\n",
        "  while (id in ids or id == ''):\n",
        "    id = str(random.choice(range(1000000,9999999)))\n",
        "  product_ids.append(id)\n",
        "  return id   \n"
      ],
      "execution_count": 14,
      "outputs": []
    },
    {
      "cell_type": "code",
      "metadata": {
        "id": "m6PQA-KqAgGy"
      },
      "source": [
        "\n",
        "def generate_credit_card_number():\n",
        "  id = ''\n",
        "  while (id in ids or id == ''):\n",
        "    id = str(random.choice(range(1000000000000000,9999999999999999)))\n",
        "  product_ids.append(id)\n",
        "  return id   \n"
      ],
      "execution_count": 15,
      "outputs": []
    },
    {
      "cell_type": "code",
      "metadata": {
        "id": "ZpZtyODFmN8Q"
      },
      "source": [
        "\n",
        "def generate_transaction_id():\n",
        "  id = ''\n",
        "  while (id in ids or id == ''):\n",
        "    id = str(random.choice(range(100000,9999999)))\n",
        "  transaction_ids.append(id)\n",
        "  return id   \n"
      ],
      "execution_count": 16,
      "outputs": []
    },
    {
      "cell_type": "code",
      "metadata": {
        "id": "G4a4dUnRsCuT"
      },
      "source": [
        "\n",
        "def generate_client_id():\n",
        "  id = ''\n",
        "  while (id in ids or id == ''):\n",
        "    id = str(random.choice(range(1,11)))+\"-\"+ str(random.choice(range(100,999)))+\"-\"+ str(random.choice(range(1,999)))\n",
        "  ids.append(id)\n",
        "  return id   \n"
      ],
      "execution_count": 17,
      "outputs": []
    },
    {
      "cell_type": "code",
      "metadata": {
        "id": "pG3mOxQOyVrG"
      },
      "source": [
        "def generate_saving_accounts(n):\n",
        "  accs = []\n",
        "  for i in range(n):\n",
        "    accs.append(SavingAccount(\n",
        "        id = generate_product_ids()\n",
        "    ))\n",
        "  return accs"
      ],
      "execution_count": 18,
      "outputs": []
    },
    {
      "cell_type": "code",
      "metadata": {
        "id": "oESk2bbyq2Ku"
      },
      "source": [
        "def generate_clients(n):\n",
        "  clients = []\n",
        "  for i in range(n):\n",
        "    clients.append(Client(\n",
        "        id = generate_client_id(),\n",
        "        name = rand_str(10) +\" \"+rand_str(15),\n",
        "        products = []\n",
        "    ))\n",
        "  return clients\n"
      ],
      "execution_count": 19,
      "outputs": []
    },
    {
      "cell_type": "code",
      "metadata": {
        "id": "cAFJt99cn7S_"
      },
      "source": [
        "def generate_balance():\n",
        "  n = random.choice(range(0,500000))\n",
        "  cash= (\"${:5.2f}\".format(n))\n",
        "  return cash"
      ],
      "execution_count": 20,
      "outputs": []
    },
    {
      "cell_type": "markdown",
      "metadata": {
        "id": "9vKXu4_M6VYS"
      },
      "source": [
        "## Generar Entidades"
      ]
    },
    {
      "cell_type": "code",
      "metadata": {
        "id": "whLN_1a8ulBU",
        "outputId": "96696bcd-10d6-4d43-9fe6-881a287e7ab0",
        "colab": {
          "base_uri": "https://localhost:8080/",
          "height": 108
        },
        "tags": []
      },
      "source": [
        "%%time\n",
        "ids = []\n",
        "product_ids = []\n",
        "clientes = generate_clients(7)\n",
        "products = []\n",
        "# POR CADA PRODUCTO GENERADO...\n",
        "for cliente in clientes:\n",
        "  # SELECCIONO UNA CANTIDAD DE PRODUCTOS ALEATORIAMENTE\n",
        "  cantidad_productos = random.choice(range(1,5))\n",
        "  \n",
        "  # POR LA CANTIDAD DE PRODUCTOS SELECCIONADOS...\n",
        "  for p in range(0,cantidad_productos):    \n",
        "\n",
        "    # SELECCIONO ALEATORIAMENTE UN TIPO DE PRODUCTO\n",
        "    tipo_producto = PRODUCTS[random.choice(range(0,len(PRODUCTS)))]\n",
        "\n",
        "    # INSTANCIO EL PRODUCTO\n",
        "    if tipo_producto is Loan:\n",
        "      producto = tipo_producto(\n",
        "          id=generate_product_ids(),\n",
        "          interest_rate=random.choice(range(3,17)),\n",
        "          \n",
        "          base= random.choice([365,360]),\n",
        "          length = random.choice(range(1,120)))\n",
        "    elif tipo_producto is CreditCard:\n",
        "      producto = tipo_producto(\n",
        "          id=generate_credit_card_number(),\n",
        "          interest_rate=random.choice(range(1,3)),\n",
        "          )\n",
        "    else:\n",
        "      producto = tipo_producto(\n",
        "          id=generate_product_ids(),\n",
        "          interest_rate=random.choice(range(1,3)))\n",
        " \n",
        "    # RELACIONO EL PRODUCTO CON EL CLIENTE ACTUAL\n",
        "    cliente.products.append(producto)\n",
        "    products.append(producto)\n",
        "print(type (tipo_producto.balance))\n",
        "\n",
        "print(\"Productos generados:\",len(products))\n",
        "print(\"Clientes generados:\",len(clientes))"
      ],
      "execution_count": 21,
      "outputs": [
        {
          "output_type": "stream",
          "name": "stdout",
          "text": "<class 'property'>\nProductos generados: 23\nClientes generados: 7\nWall time: 4 ms\n"
        }
      ]
    },
    {
      "cell_type": "markdown",
      "metadata": {
        "id": "hvKA2DbvRDzz"
      },
      "source": [
        "## Generar transacciones"
      ]
    },
    {
      "cell_type": "code",
      "metadata": {
        "id": "GmbA2deUuwWd",
        "outputId": "a3500a76-8e90-4492-da91-b3092d057177",
        "colab": {
          "base_uri": "https://localhost:8080/",
          "height": 90
        },
        "tags": []
      },
      "source": [
        "%%time\n",
        "MIN_TRX = 10\n",
        "MAX_TRX = 100\n",
        "transactions = []\n",
        "transaction_ids = []\n",
        "\n",
        "for cliente in clientes:\n",
        "  for producto in cliente.products:\n",
        "    \n",
        "    if type(producto) is SavingAccount or type(producto) is FixedTermDeposit :\n",
        "      # SELECCIONAR UN NUMERO ALEATORIO DE TRANSACCIONES PARA CADA PRODUCTO\n",
        "      n_Trx = random.choice(range(MIN_TRX,MAX_TRX))\n",
        "\n",
        "      for trx in range(n_Trx):\n",
        "        month = random.choice(range(1,13))\n",
        "        # SI EL MES ES FEBRERO... ENTRE 1 Y 28\n",
        "        if month == 2: day = random.choice(range(1,29))\n",
        "        # SI EL MES ES PAR EN EL SEGUNDO SEMESTRE O ES IMPAR EN EL PRIMER SEMESTRE... ENTRE 1 Y 31\n",
        "        elif (month % 2 == 0 and month >= 8) or (month % 2 != 0 and month < 8): day = random.choice(range(1,32))\n",
        "        # DE CUALQUIER OTRA FORMA... ENTRE 1 Y 30\n",
        "        else: day = random.choice(range(1,30))\n",
        "        amt = float(str(random.choice(range(1,999999999)))+\".\"+str(random.choice(range(1,99))))\n",
        "        nature = \"Dr\" if random.choice(range(10))==0 else \"Cr\"\n",
        "        mvt = amt*-1 if nature == 'Dr' else amt\n",
        "        transactions.append(Transaction(\n",
        "            id = generate_transaction_id(),\n",
        "            product = producto.id,\n",
        "            nature = nature,\n",
        "            date = datetime(random.choice(range(2010,2020+1)),month ,day),\n",
        "            amt = amt,\n",
        "            mvt = mvt\n",
        "        ))\n",
        "\n",
        "print(\"Transacciones generadas:\",len(transactions))\n",
        "print(\"Media de transacción por cliente:\",len(transactions)/len(products))"
      ],
      "execution_count": 22,
      "outputs": [
        {
          "output_type": "stream",
          "name": "stdout",
          "text": "Transacciones generadas: 358\nMedia de transacción por cliente: 15.565217391304348\nWall time: 10 ms\n"
        }
      ]
    },
    {
      "cell_type": "markdown",
      "metadata": {
        "id": "eNUo3sgGtz7D"
      },
      "source": [
        "## Generar tablas"
      ]
    },
    {
      "cell_type": "code",
      "metadata": {
        "id": "3zNQqeK1vovC"
      },
      "source": [
        "df_loans =[]\n",
        "df_deposits = []\n",
        "for p in products:\n",
        "  if type(p) is Loan:\n",
        "    df_loans.append(p)\n",
        "  if type(p) is FixedTermDeposit or type(p) is SavingAccount:\n",
        "    df_deposits.append(p)\n"
      ],
      "execution_count": 23,
      "outputs": []
    },
    {
      "cell_type": "code",
      "metadata": {
        "id": "Fx51ZtvcyIKP",
        "outputId": "3b94c538-6481-445c-cda9-c7306950c3f7",
        "colab": {
          "base_uri": "https://localhost:8080/",
          "height": 108
        }
      },
      "source": [
        "df_loans = pd.DataFrame.from_records([l.to_dict() for l in df_loans])\n",
        "df_loans.head(3)"
      ],
      "execution_count": 24,
      "outputs": [
        {
          "output_type": "execute_result",
          "data": {
            "text/plain": "        id  interest_rate  balance  length  base\n0  2630854              3      0.0     115   360\n1  4872565             13      0.0      90   365\n2  2403805              6      0.0      42   360",
            "text/html": "<div>\n<style scoped>\n    .dataframe tbody tr th:only-of-type {\n        vertical-align: middle;\n    }\n\n    .dataframe tbody tr th {\n        vertical-align: top;\n    }\n\n    .dataframe thead th {\n        text-align: right;\n    }\n</style>\n<table border=\"1\" class=\"dataframe\">\n  <thead>\n    <tr style=\"text-align: right;\">\n      <th></th>\n      <th>id</th>\n      <th>interest_rate</th>\n      <th>balance</th>\n      <th>length</th>\n      <th>base</th>\n    </tr>\n  </thead>\n  <tbody>\n    <tr>\n      <th>0</th>\n      <td>2630854</td>\n      <td>3</td>\n      <td>0.0</td>\n      <td>115</td>\n      <td>360</td>\n    </tr>\n    <tr>\n      <th>1</th>\n      <td>4872565</td>\n      <td>13</td>\n      <td>0.0</td>\n      <td>90</td>\n      <td>365</td>\n    </tr>\n    <tr>\n      <th>2</th>\n      <td>2403805</td>\n      <td>6</td>\n      <td>0.0</td>\n      <td>42</td>\n      <td>360</td>\n    </tr>\n  </tbody>\n</table>\n</div>"
          },
          "metadata": {},
          "execution_count": 24
        }
      ]
    },
    {
      "cell_type": "code",
      "metadata": {
        "id": "ok9-zGQDzGwL",
        "outputId": "0288c59e-a62a-469f-8755-541577972f2f",
        "colab": {
          "base_uri": "https://localhost:8080/",
          "height": 138
        }
      },
      "source": [
        "df_deposits = pd.DataFrame.from_records([d.to_dict() for d in df_deposits])\n",
        "df_deposits.head(3)"
      ],
      "execution_count": 25,
      "outputs": [
        {
          "output_type": "execute_result",
          "data": {
            "text/plain": "        id  interest_rate  balance\n0  3024112              2      0.0\n1  1990848              1      0.0\n2  2732165              1      0.0",
            "text/html": "<div>\n<style scoped>\n    .dataframe tbody tr th:only-of-type {\n        vertical-align: middle;\n    }\n\n    .dataframe tbody tr th {\n        vertical-align: top;\n    }\n\n    .dataframe thead th {\n        text-align: right;\n    }\n</style>\n<table border=\"1\" class=\"dataframe\">\n  <thead>\n    <tr style=\"text-align: right;\">\n      <th></th>\n      <th>id</th>\n      <th>interest_rate</th>\n      <th>balance</th>\n    </tr>\n  </thead>\n  <tbody>\n    <tr>\n      <th>0</th>\n      <td>3024112</td>\n      <td>2</td>\n      <td>0.0</td>\n    </tr>\n    <tr>\n      <th>1</th>\n      <td>1990848</td>\n      <td>1</td>\n      <td>0.0</td>\n    </tr>\n    <tr>\n      <th>2</th>\n      <td>2732165</td>\n      <td>1</td>\n      <td>0.0</td>\n    </tr>\n  </tbody>\n</table>\n</div>"
          },
          "metadata": {},
          "execution_count": 25
        }
      ]
    },
    {
      "cell_type": "code",
      "metadata": {
        "id": "whW8zJyWpISf",
        "outputId": "4ee3f123-9721-402c-ee88-f676eac40d45",
        "colab": {
          "base_uri": "https://localhost:8080/",
          "height": 407
        }
      },
      "source": [
        "df_transactions = pd.DataFrame.from_records([t.to_dict() for t in transactions])\n",
        "df_transactions"
      ],
      "execution_count": 26,
      "outputs": [
        {
          "output_type": "execute_result",
          "data": {
            "text/plain": "          id nature accounting_date        amount  product           mvt\n0    2429836     Cr      2015-12-04  4.945562e+08  3024112  4.945562e+08\n1    5934593     Cr      2016-06-21  2.242419e+08  3024112  2.242419e+08\n2    1093328     Cr      2018-07-24  1.272104e+08  3024112  1.272104e+08\n3    4330708     Cr      2010-03-06  5.523592e+08  3024112  5.523592e+08\n4    4125325     Cr      2015-07-28  2.382987e+08  3024112  2.382987e+08\n..       ...    ...             ...           ...      ...           ...\n353  3222485     Cr      2014-08-30  9.821058e+08  1117236  9.821058e+08\n354  5261973     Cr      2019-06-11  6.237104e+08  1117236  6.237104e+08\n355  6030721     Cr      2014-02-22  5.318027e+08  1117236  5.318027e+08\n356  9353374     Cr      2014-10-23  3.091215e+08  1117236  3.091215e+08\n357  7226714     Cr      2014-07-11  4.886620e+08  1117236  4.886620e+08\n\n[358 rows x 6 columns]",
            "text/html": "<div>\n<style scoped>\n    .dataframe tbody tr th:only-of-type {\n        vertical-align: middle;\n    }\n\n    .dataframe tbody tr th {\n        vertical-align: top;\n    }\n\n    .dataframe thead th {\n        text-align: right;\n    }\n</style>\n<table border=\"1\" class=\"dataframe\">\n  <thead>\n    <tr style=\"text-align: right;\">\n      <th></th>\n      <th>id</th>\n      <th>nature</th>\n      <th>accounting_date</th>\n      <th>amount</th>\n      <th>product</th>\n      <th>mvt</th>\n    </tr>\n  </thead>\n  <tbody>\n    <tr>\n      <th>0</th>\n      <td>2429836</td>\n      <td>Cr</td>\n      <td>2015-12-04</td>\n      <td>4.945562e+08</td>\n      <td>3024112</td>\n      <td>4.945562e+08</td>\n    </tr>\n    <tr>\n      <th>1</th>\n      <td>5934593</td>\n      <td>Cr</td>\n      <td>2016-06-21</td>\n      <td>2.242419e+08</td>\n      <td>3024112</td>\n      <td>2.242419e+08</td>\n    </tr>\n    <tr>\n      <th>2</th>\n      <td>1093328</td>\n      <td>Cr</td>\n      <td>2018-07-24</td>\n      <td>1.272104e+08</td>\n      <td>3024112</td>\n      <td>1.272104e+08</td>\n    </tr>\n    <tr>\n      <th>3</th>\n      <td>4330708</td>\n      <td>Cr</td>\n      <td>2010-03-06</td>\n      <td>5.523592e+08</td>\n      <td>3024112</td>\n      <td>5.523592e+08</td>\n    </tr>\n    <tr>\n      <th>4</th>\n      <td>4125325</td>\n      <td>Cr</td>\n      <td>2015-07-28</td>\n      <td>2.382987e+08</td>\n      <td>3024112</td>\n      <td>2.382987e+08</td>\n    </tr>\n    <tr>\n      <th>...</th>\n      <td>...</td>\n      <td>...</td>\n      <td>...</td>\n      <td>...</td>\n      <td>...</td>\n      <td>...</td>\n    </tr>\n    <tr>\n      <th>353</th>\n      <td>3222485</td>\n      <td>Cr</td>\n      <td>2014-08-30</td>\n      <td>9.821058e+08</td>\n      <td>1117236</td>\n      <td>9.821058e+08</td>\n    </tr>\n    <tr>\n      <th>354</th>\n      <td>5261973</td>\n      <td>Cr</td>\n      <td>2019-06-11</td>\n      <td>6.237104e+08</td>\n      <td>1117236</td>\n      <td>6.237104e+08</td>\n    </tr>\n    <tr>\n      <th>355</th>\n      <td>6030721</td>\n      <td>Cr</td>\n      <td>2014-02-22</td>\n      <td>5.318027e+08</td>\n      <td>1117236</td>\n      <td>5.318027e+08</td>\n    </tr>\n    <tr>\n      <th>356</th>\n      <td>9353374</td>\n      <td>Cr</td>\n      <td>2014-10-23</td>\n      <td>3.091215e+08</td>\n      <td>1117236</td>\n      <td>3.091215e+08</td>\n    </tr>\n    <tr>\n      <th>357</th>\n      <td>7226714</td>\n      <td>Cr</td>\n      <td>2014-07-11</td>\n      <td>4.886620e+08</td>\n      <td>1117236</td>\n      <td>4.886620e+08</td>\n    </tr>\n  </tbody>\n</table>\n<p>358 rows × 6 columns</p>\n</div>"
          },
          "metadata": {},
          "execution_count": 26
        }
      ]
    },
    {
      "cell_type": "code",
      "metadata": {
        "id": "KiGRB6r6vJP0",
        "outputId": "4589b545-8f35-4023-bc75-ea45a2907d73",
        "colab": {
          "base_uri": "https://localhost:8080/",
          "height": 438
        }
      },
      "source": [
        "#df_transactions[df_transactions['product']=='1022920']\n",
        "summarize = df_transactions.groupby(['product'])['mvt']\n",
        "summarize = summarize.sum()\n",
        "summarize = summarize.reset_index()\n",
        "#print(summarize['1022920'==summarize['product']])\n",
        "for i in range(len(summarize)):\n",
        "  product_id = summarize['product'].iloc[i]\n",
        "  \n",
        "  df_deposits.loc[df_deposits['id']==product_id,'balance'] = summarize['mvt']\n",
        "\n",
        "df_deposits[df_deposits['id'].isin(summarize['product'])]\n",
        "#print(df_deposits[summarize['product']==df_deposits['id']])"
      ],
      "execution_count": 27,
      "outputs": [
        {
          "output_type": "execute_result",
          "data": {
            "text/plain": "        id  interest_rate       balance\n0  3024112              2  2.791291e+10\n1  1990848              1  2.934463e+09\n2  2732165              1  6.785750e+09\n3  3763098              2  9.634030e+09\n4  3649241              1  3.517294e+09\n5  5942280              2  1.330598e+09\n6  1171192              1  2.304797e+10\n7  8891783              1  5.332215e+09\n8  4232398              2  1.436608e+10\n9  1117236              2  3.791723e+10",
            "text/html": "<div>\n<style scoped>\n    .dataframe tbody tr th:only-of-type {\n        vertical-align: middle;\n    }\n\n    .dataframe tbody tr th {\n        vertical-align: top;\n    }\n\n    .dataframe thead th {\n        text-align: right;\n    }\n</style>\n<table border=\"1\" class=\"dataframe\">\n  <thead>\n    <tr style=\"text-align: right;\">\n      <th></th>\n      <th>id</th>\n      <th>interest_rate</th>\n      <th>balance</th>\n    </tr>\n  </thead>\n  <tbody>\n    <tr>\n      <th>0</th>\n      <td>3024112</td>\n      <td>2</td>\n      <td>2.791291e+10</td>\n    </tr>\n    <tr>\n      <th>1</th>\n      <td>1990848</td>\n      <td>1</td>\n      <td>2.934463e+09</td>\n    </tr>\n    <tr>\n      <th>2</th>\n      <td>2732165</td>\n      <td>1</td>\n      <td>6.785750e+09</td>\n    </tr>\n    <tr>\n      <th>3</th>\n      <td>3763098</td>\n      <td>2</td>\n      <td>9.634030e+09</td>\n    </tr>\n    <tr>\n      <th>4</th>\n      <td>3649241</td>\n      <td>1</td>\n      <td>3.517294e+09</td>\n    </tr>\n    <tr>\n      <th>5</th>\n      <td>5942280</td>\n      <td>2</td>\n      <td>1.330598e+09</td>\n    </tr>\n    <tr>\n      <th>6</th>\n      <td>1171192</td>\n      <td>1</td>\n      <td>2.304797e+10</td>\n    </tr>\n    <tr>\n      <th>7</th>\n      <td>8891783</td>\n      <td>1</td>\n      <td>5.332215e+09</td>\n    </tr>\n    <tr>\n      <th>8</th>\n      <td>4232398</td>\n      <td>2</td>\n      <td>1.436608e+10</td>\n    </tr>\n    <tr>\n      <th>9</th>\n      <td>1117236</td>\n      <td>2</td>\n      <td>3.791723e+10</td>\n    </tr>\n  </tbody>\n</table>\n</div>"
          },
          "metadata": {},
          "execution_count": 27
        }
      ]
    },
    {
      "cell_type": "markdown",
      "metadata": {
        "id": "aBL5Z_3MzXcA"
      },
      "source": [
        "## Requerimientos"
      ]
    },
    {
      "cell_type": "markdown",
      "metadata": {
        "id": "hXa6FY2fiBes"
      },
      "source": [
        "\n",
        "***vas a definir la funcion de ejecutar transferencia***\n",
        "\n",
        "\n",
        "\n",
        "***tienes que buscar la informacion de las cuentas afectadas en la tabla de productos***\n",
        "\n",
        "\n",
        "***vas a ver si la cuenta a acreditar tiene saldo***\n",
        "\n",
        "\n",
        "vas a generar la transaccion en la tabla de transacciones\n",
        "\n",
        "\n",
        "vas a modificar el balance de las cuentas afectadas en la tabla de productos\n",
        "\n"
      ]
    },
    {
      "cell_type": "markdown",
      "metadata": {
        "id": "SAxFDHYXzc05"
      },
      "source": [
        "### Generar estado de cuenta"
      ]
    },
    {
      "cell_type": "code",
      "metadata": {
        "id": "9PQb0ZiuzLPj"
      },
      "source": [
        "def getAccountStatement(**kwargs):\n",
        "  \n",
        "  try: kwargs['product']\n",
        "  except: print(\"A product id is required\")\n",
        "\n",
        "  \n",
        "  print(\"Getting account statement for product\",kwargs['product'])\n",
        "  df = df_transactions[df_transactions['product'] == kwargs['product']]\n",
        "  \n",
        "  try: start = kwargs['start'] \n",
        "  except: start = df['accounting_date'].min()\n",
        "  try: end = kwargs['end']\n",
        "  except: end = df['accounting_date'].max()\n",
        "  \n",
        "  df = df[(df.accounting_date >= start) & (df.accounting_date <= end) ]\n",
        "\n",
        "  print(\"Found\",len(df),\"transactions from\",start,\"to\",end)\n",
        "  df = df.sort_values(by=['accounting_date'])\n",
        "  df = df.reset_index()\n",
        "  df = df.drop(['index'],axis=1)\n",
        "  return df"
      ],
      "execution_count": 28,
      "outputs": []
    },
    {
      "cell_type": "code",
      "metadata": {
        "id": "THoVTGig0krM",
        "outputId": "39953d37-3773-4f51-ab49-cf3f510a37c3",
        "colab": {
          "base_uri": "https://localhost:8080/",
          "height": 345
        },
        "tags": []
      },
      "source": [
        "%%time\n",
        "account_stmnt = getAccountStatement(product=df_transactions.iloc[0]['product'])\n",
        "print(account_stmnt)\n"
      ],
      "execution_count": 29,
      "outputs": [
        {
          "output_type": "stream",
          "name": "stdout",
          "text": "Getting account statement for product 3024112\nFound 10 transactions from 2010-03-06 00:00:00 to 2018-07-24 00:00:00\n        id nature accounting_date        amount  product           mvt\n0  4330708     Cr      2010-03-06  5.523592e+08  3024112  5.523592e+08\n1  3907494     Cr      2010-07-05  3.657597e+08  3024112  3.657597e+08\n2  8905469     Cr      2015-02-09  2.839477e+07  3024112  2.839477e+07\n3  4125325     Cr      2015-07-28  2.382987e+08  3024112  2.382987e+08\n4  2429836     Cr      2015-12-04  4.945562e+08  3024112  4.945562e+08\n5  4606832     Cr      2016-03-24  4.018733e+07  3024112  4.018733e+07\n6  5934593     Cr      2016-06-21  2.242419e+08  3024112  2.242419e+08\n7  6006032     Cr      2017-04-21  6.459741e+08  3024112  6.459741e+08\n8  7950668     Cr      2017-12-26  8.003112e+08  3024112  8.003112e+08\n9  1093328     Cr      2018-07-24  1.272104e+08  3024112  1.272104e+08\nWall time: 86.9 ms\n"
        }
      ]
    },
    {
      "cell_type": "code",
      "metadata": {
        "id": "mM9YAEZl8UcI"
      },
      "source": [
        ""
      ],
      "execution_count": null,
      "outputs": []
    },
    {
      "cell_type": "code",
      "metadata": {
        "id": "jmzO5M2rOP8z",
        "outputId": "9be054ac-76e1-4103-933b-3be7277b8166",
        "colab": {
          "base_uri": "https://localhost:8080/",
          "height": 35
        }
      },
      "source": [
        "producto"
      ],
      "execution_count": 30,
      "outputs": [
        {
          "output_type": "execute_result",
          "data": {
            "text/plain": "SavingAccount(1117236, interest_rate=2, Balance =0.0)"
          },
          "metadata": {},
          "execution_count": 30
        }
      ]
    },
    {
      "cell_type": "markdown",
      "metadata": {
        "id": "EvfNt4VI8Vfh"
      },
      "source": [
        "#### Mostrar un gráfico con el movimiento de su producto"
      ]
    },
    {
      "cell_type": "code",
      "metadata": {
        "id": "9gURU9iE01pt"
      },
      "source": [
        "import matplotlib.pyplot as plt"
      ],
      "execution_count": 31,
      "outputs": []
    },
    {
      "cell_type": "code",
      "metadata": {
        "id": "-c4X5fTX6f9p",
        "outputId": "f54df991-468a-414a-bbcd-d65d2db25de1",
        "colab": {
          "base_uri": "https://localhost:8080/",
          "height": 126
        }
      },
      "source": [
        "# generar el campo valor\n",
        "account_stmnt['mvt'] = 0.00\n",
        "account_stmnt.loc[account_stmnt['nature']==\"Dr\",'mvt'] = account_stmnt['amount']\n",
        "account_stmnt.loc[account_stmnt['nature']==\"Cr\",'mvt'] = account_stmnt['amount']*-1\n",
        "account_stmnt.sum()"
      ],
      "execution_count": 32,
      "outputs": [
        {
          "output_type": "execute_result",
          "data": {
            "text/plain": "id         4330708390749489054694125325242983646068325934...\nnature                                  CrCrCrCrCrCrCrCrCrCr\namount                                           3.51729e+09\nproduct    3024112302411230241123024112302411230241123024...\nmvt                                             -3.51729e+09\ndtype: object"
          },
          "metadata": {},
          "execution_count": 32
        }
      ]
    },
    {
      "cell_type": "code",
      "metadata": {
        "id": "BxEtUBGa7p5U",
        "outputId": "0ef3419f-1b52-4872-c261-013e93c49062",
        "colab": {
          "base_uri": "https://localhost:8080/",
          "height": 276
        }
      },
      "source": [
        "plt.plot(account_stmnt.amount)\n",
        "plt.show()"
      ],
      "execution_count": 33,
      "outputs": [
        {
          "output_type": "display_data",
          "data": {
            "text/plain": "<Figure size 432x288 with 1 Axes>",
            "image/svg+xml": "<?xml version=\"1.0\" encoding=\"utf-8\" standalone=\"no\"?>\r\n<!DOCTYPE svg PUBLIC \"-//W3C//DTD SVG 1.1//EN\"\r\n  \"http://www.w3.org/Graphics/SVG/1.1/DTD/svg11.dtd\">\r\n<!-- Created with matplotlib (https://matplotlib.org/) -->\r\n<svg height=\"259.116562pt\" version=\"1.1\" viewBox=\"0 0 362.5625 259.116562\" width=\"362.5625pt\" xmlns=\"http://www.w3.org/2000/svg\" xmlns:xlink=\"http://www.w3.org/1999/xlink\">\r\n <defs>\r\n  <style type=\"text/css\">\r\n*{stroke-linecap:butt;stroke-linejoin:round;}\r\n  </style>\r\n </defs>\r\n <g id=\"figure_1\">\r\n  <g id=\"patch_1\">\r\n   <path d=\"M 0 259.116562 \r\nL 362.5625 259.116562 \r\nL 362.5625 0 \r\nL 0 0 \r\nz\r\n\" style=\"fill:none;\"/>\r\n  </g>\r\n  <g id=\"axes_1\">\r\n   <g id=\"patch_2\">\r\n    <path d=\"M 20.5625 235.238437 \r\nL 355.3625 235.238437 \r\nL 355.3625 17.798437 \r\nL 20.5625 17.798437 \r\nz\r\n\" style=\"fill:#ffffff;\"/>\r\n   </g>\r\n   <g id=\"matplotlib.axis_1\">\r\n    <g id=\"xtick_1\">\r\n     <g id=\"line2d_1\">\r\n      <defs>\r\n       <path d=\"M 0 0 \r\nL 0 3.5 \r\n\" id=\"m197275957f\" style=\"stroke:#000000;stroke-width:0.8;\"/>\r\n      </defs>\r\n      <g>\r\n       <use style=\"stroke:#000000;stroke-width:0.8;\" x=\"35.780682\" xlink:href=\"#m197275957f\" y=\"235.238437\"/>\r\n      </g>\r\n     </g>\r\n     <g id=\"text_1\">\r\n      <!-- 0 -->\r\n      <defs>\r\n       <path d=\"M 31.78125 66.40625 \r\nQ 24.171875 66.40625 20.328125 58.90625 \r\nQ 16.5 51.421875 16.5 36.375 \r\nQ 16.5 21.390625 20.328125 13.890625 \r\nQ 24.171875 6.390625 31.78125 6.390625 \r\nQ 39.453125 6.390625 43.28125 13.890625 \r\nQ 47.125 21.390625 47.125 36.375 \r\nQ 47.125 51.421875 43.28125 58.90625 \r\nQ 39.453125 66.40625 31.78125 66.40625 \r\nz\r\nM 31.78125 74.21875 \r\nQ 44.046875 74.21875 50.515625 64.515625 \r\nQ 56.984375 54.828125 56.984375 36.375 \r\nQ 56.984375 17.96875 50.515625 8.265625 \r\nQ 44.046875 -1.421875 31.78125 -1.421875 \r\nQ 19.53125 -1.421875 13.0625 8.265625 \r\nQ 6.59375 17.96875 6.59375 36.375 \r\nQ 6.59375 54.828125 13.0625 64.515625 \r\nQ 19.53125 74.21875 31.78125 74.21875 \r\nz\r\n\" id=\"DejaVuSans-48\"/>\r\n      </defs>\r\n      <g transform=\"translate(32.599432 249.836875)scale(0.1 -0.1)\">\r\n       <use xlink:href=\"#DejaVuSans-48\"/>\r\n      </g>\r\n     </g>\r\n    </g>\r\n    <g id=\"xtick_2\">\r\n     <g id=\"line2d_2\">\r\n      <g>\r\n       <use style=\"stroke:#000000;stroke-width:0.8;\" x=\"103.417045\" xlink:href=\"#m197275957f\" y=\"235.238437\"/>\r\n      </g>\r\n     </g>\r\n     <g id=\"text_2\">\r\n      <!-- 2 -->\r\n      <defs>\r\n       <path d=\"M 19.1875 8.296875 \r\nL 53.609375 8.296875 \r\nL 53.609375 0 \r\nL 7.328125 0 \r\nL 7.328125 8.296875 \r\nQ 12.9375 14.109375 22.625 23.890625 \r\nQ 32.328125 33.6875 34.8125 36.53125 \r\nQ 39.546875 41.84375 41.421875 45.53125 \r\nQ 43.3125 49.21875 43.3125 52.78125 \r\nQ 43.3125 58.59375 39.234375 62.25 \r\nQ 35.15625 65.921875 28.609375 65.921875 \r\nQ 23.96875 65.921875 18.8125 64.3125 \r\nQ 13.671875 62.703125 7.8125 59.421875 \r\nL 7.8125 69.390625 \r\nQ 13.765625 71.78125 18.9375 73 \r\nQ 24.125 74.21875 28.421875 74.21875 \r\nQ 39.75 74.21875 46.484375 68.546875 \r\nQ 53.21875 62.890625 53.21875 53.421875 \r\nQ 53.21875 48.921875 51.53125 44.890625 \r\nQ 49.859375 40.875 45.40625 35.40625 \r\nQ 44.1875 33.984375 37.640625 27.21875 \r\nQ 31.109375 20.453125 19.1875 8.296875 \r\nz\r\n\" id=\"DejaVuSans-50\"/>\r\n      </defs>\r\n      <g transform=\"translate(100.235795 249.836875)scale(0.1 -0.1)\">\r\n       <use xlink:href=\"#DejaVuSans-50\"/>\r\n      </g>\r\n     </g>\r\n    </g>\r\n    <g id=\"xtick_3\">\r\n     <g id=\"line2d_3\">\r\n      <g>\r\n       <use style=\"stroke:#000000;stroke-width:0.8;\" x=\"171.053409\" xlink:href=\"#m197275957f\" y=\"235.238437\"/>\r\n      </g>\r\n     </g>\r\n     <g id=\"text_3\">\r\n      <!-- 4 -->\r\n      <defs>\r\n       <path d=\"M 37.796875 64.3125 \r\nL 12.890625 25.390625 \r\nL 37.796875 25.390625 \r\nz\r\nM 35.203125 72.90625 \r\nL 47.609375 72.90625 \r\nL 47.609375 25.390625 \r\nL 58.015625 25.390625 \r\nL 58.015625 17.1875 \r\nL 47.609375 17.1875 \r\nL 47.609375 0 \r\nL 37.796875 0 \r\nL 37.796875 17.1875 \r\nL 4.890625 17.1875 \r\nL 4.890625 26.703125 \r\nz\r\n\" id=\"DejaVuSans-52\"/>\r\n      </defs>\r\n      <g transform=\"translate(167.872159 249.836875)scale(0.1 -0.1)\">\r\n       <use xlink:href=\"#DejaVuSans-52\"/>\r\n      </g>\r\n     </g>\r\n    </g>\r\n    <g id=\"xtick_4\">\r\n     <g id=\"line2d_4\">\r\n      <g>\r\n       <use style=\"stroke:#000000;stroke-width:0.8;\" x=\"238.689773\" xlink:href=\"#m197275957f\" y=\"235.238437\"/>\r\n      </g>\r\n     </g>\r\n     <g id=\"text_4\">\r\n      <!-- 6 -->\r\n      <defs>\r\n       <path d=\"M 33.015625 40.375 \r\nQ 26.375 40.375 22.484375 35.828125 \r\nQ 18.609375 31.296875 18.609375 23.390625 \r\nQ 18.609375 15.53125 22.484375 10.953125 \r\nQ 26.375 6.390625 33.015625 6.390625 \r\nQ 39.65625 6.390625 43.53125 10.953125 \r\nQ 47.40625 15.53125 47.40625 23.390625 \r\nQ 47.40625 31.296875 43.53125 35.828125 \r\nQ 39.65625 40.375 33.015625 40.375 \r\nz\r\nM 52.59375 71.296875 \r\nL 52.59375 62.3125 \r\nQ 48.875 64.0625 45.09375 64.984375 \r\nQ 41.3125 65.921875 37.59375 65.921875 \r\nQ 27.828125 65.921875 22.671875 59.328125 \r\nQ 17.53125 52.734375 16.796875 39.40625 \r\nQ 19.671875 43.65625 24.015625 45.921875 \r\nQ 28.375 48.1875 33.59375 48.1875 \r\nQ 44.578125 48.1875 50.953125 41.515625 \r\nQ 57.328125 34.859375 57.328125 23.390625 \r\nQ 57.328125 12.15625 50.6875 5.359375 \r\nQ 44.046875 -1.421875 33.015625 -1.421875 \r\nQ 20.359375 -1.421875 13.671875 8.265625 \r\nQ 6.984375 17.96875 6.984375 36.375 \r\nQ 6.984375 53.65625 15.1875 63.9375 \r\nQ 23.390625 74.21875 37.203125 74.21875 \r\nQ 40.921875 74.21875 44.703125 73.484375 \r\nQ 48.484375 72.75 52.59375 71.296875 \r\nz\r\n\" id=\"DejaVuSans-54\"/>\r\n      </defs>\r\n      <g transform=\"translate(235.508523 249.836875)scale(0.1 -0.1)\">\r\n       <use xlink:href=\"#DejaVuSans-54\"/>\r\n      </g>\r\n     </g>\r\n    </g>\r\n    <g id=\"xtick_5\">\r\n     <g id=\"line2d_5\">\r\n      <g>\r\n       <use style=\"stroke:#000000;stroke-width:0.8;\" x=\"306.326136\" xlink:href=\"#m197275957f\" y=\"235.238437\"/>\r\n      </g>\r\n     </g>\r\n     <g id=\"text_5\">\r\n      <!-- 8 -->\r\n      <defs>\r\n       <path d=\"M 31.78125 34.625 \r\nQ 24.75 34.625 20.71875 30.859375 \r\nQ 16.703125 27.09375 16.703125 20.515625 \r\nQ 16.703125 13.921875 20.71875 10.15625 \r\nQ 24.75 6.390625 31.78125 6.390625 \r\nQ 38.8125 6.390625 42.859375 10.171875 \r\nQ 46.921875 13.96875 46.921875 20.515625 \r\nQ 46.921875 27.09375 42.890625 30.859375 \r\nQ 38.875 34.625 31.78125 34.625 \r\nz\r\nM 21.921875 38.8125 \r\nQ 15.578125 40.375 12.03125 44.71875 \r\nQ 8.5 49.078125 8.5 55.328125 \r\nQ 8.5 64.0625 14.71875 69.140625 \r\nQ 20.953125 74.21875 31.78125 74.21875 \r\nQ 42.671875 74.21875 48.875 69.140625 \r\nQ 55.078125 64.0625 55.078125 55.328125 \r\nQ 55.078125 49.078125 51.53125 44.71875 \r\nQ 48 40.375 41.703125 38.8125 \r\nQ 48.828125 37.15625 52.796875 32.3125 \r\nQ 56.78125 27.484375 56.78125 20.515625 \r\nQ 56.78125 9.90625 50.3125 4.234375 \r\nQ 43.84375 -1.421875 31.78125 -1.421875 \r\nQ 19.734375 -1.421875 13.25 4.234375 \r\nQ 6.78125 9.90625 6.78125 20.515625 \r\nQ 6.78125 27.484375 10.78125 32.3125 \r\nQ 14.796875 37.15625 21.921875 38.8125 \r\nz\r\nM 18.3125 54.390625 \r\nQ 18.3125 48.734375 21.84375 45.5625 \r\nQ 25.390625 42.390625 31.78125 42.390625 \r\nQ 38.140625 42.390625 41.71875 45.5625 \r\nQ 45.3125 48.734375 45.3125 54.390625 \r\nQ 45.3125 60.0625 41.71875 63.234375 \r\nQ 38.140625 66.40625 31.78125 66.40625 \r\nQ 25.390625 66.40625 21.84375 63.234375 \r\nQ 18.3125 60.0625 18.3125 54.390625 \r\nz\r\n\" id=\"DejaVuSans-56\"/>\r\n      </defs>\r\n      <g transform=\"translate(303.144886 249.836875)scale(0.1 -0.1)\">\r\n       <use xlink:href=\"#DejaVuSans-56\"/>\r\n      </g>\r\n     </g>\r\n    </g>\r\n   </g>\r\n   <g id=\"matplotlib.axis_2\">\r\n    <g id=\"ytick_1\">\r\n     <g id=\"line2d_6\">\r\n      <defs>\r\n       <path d=\"M 0 0 \r\nL -3.5 0 \r\n\" id=\"m49d79812dd\" style=\"stroke:#000000;stroke-width:0.8;\"/>\r\n      </defs>\r\n      <g>\r\n       <use style=\"stroke:#000000;stroke-width:0.8;\" x=\"20.5625\" xlink:href=\"#m49d79812dd\" y=\"232.626147\"/>\r\n      </g>\r\n     </g>\r\n     <g id=\"text_6\">\r\n      <!-- 0 -->\r\n      <g transform=\"translate(7.2 236.425365)scale(0.1 -0.1)\">\r\n       <use xlink:href=\"#DejaVuSans-48\"/>\r\n      </g>\r\n     </g>\r\n    </g>\r\n    <g id=\"ytick_2\">\r\n     <g id=\"line2d_7\">\r\n      <g>\r\n       <use style=\"stroke:#000000;stroke-width:0.8;\" x=\"20.5625\" xlink:href=\"#m49d79812dd\" y=\"207.018101\"/>\r\n      </g>\r\n     </g>\r\n     <g id=\"text_7\">\r\n      <!-- 1 -->\r\n      <defs>\r\n       <path d=\"M 12.40625 8.296875 \r\nL 28.515625 8.296875 \r\nL 28.515625 63.921875 \r\nL 10.984375 60.40625 \r\nL 10.984375 69.390625 \r\nL 28.421875 72.90625 \r\nL 38.28125 72.90625 \r\nL 38.28125 8.296875 \r\nL 54.390625 8.296875 \r\nL 54.390625 0 \r\nL 12.40625 0 \r\nz\r\n\" id=\"DejaVuSans-49\"/>\r\n      </defs>\r\n      <g transform=\"translate(7.2 210.817319)scale(0.1 -0.1)\">\r\n       <use xlink:href=\"#DejaVuSans-49\"/>\r\n      </g>\r\n     </g>\r\n    </g>\r\n    <g id=\"ytick_3\">\r\n     <g id=\"line2d_8\">\r\n      <g>\r\n       <use style=\"stroke:#000000;stroke-width:0.8;\" x=\"20.5625\" xlink:href=\"#m49d79812dd\" y=\"181.410055\"/>\r\n      </g>\r\n     </g>\r\n     <g id=\"text_8\">\r\n      <!-- 2 -->\r\n      <g transform=\"translate(7.2 185.209273)scale(0.1 -0.1)\">\r\n       <use xlink:href=\"#DejaVuSans-50\"/>\r\n      </g>\r\n     </g>\r\n    </g>\r\n    <g id=\"ytick_4\">\r\n     <g id=\"line2d_9\">\r\n      <g>\r\n       <use style=\"stroke:#000000;stroke-width:0.8;\" x=\"20.5625\" xlink:href=\"#m49d79812dd\" y=\"155.802008\"/>\r\n      </g>\r\n     </g>\r\n     <g id=\"text_9\">\r\n      <!-- 3 -->\r\n      <defs>\r\n       <path d=\"M 40.578125 39.3125 \r\nQ 47.65625 37.796875 51.625 33 \r\nQ 55.609375 28.21875 55.609375 21.1875 \r\nQ 55.609375 10.40625 48.1875 4.484375 \r\nQ 40.765625 -1.421875 27.09375 -1.421875 \r\nQ 22.515625 -1.421875 17.65625 -0.515625 \r\nQ 12.796875 0.390625 7.625 2.203125 \r\nL 7.625 11.71875 \r\nQ 11.71875 9.328125 16.59375 8.109375 \r\nQ 21.484375 6.890625 26.8125 6.890625 \r\nQ 36.078125 6.890625 40.9375 10.546875 \r\nQ 45.796875 14.203125 45.796875 21.1875 \r\nQ 45.796875 27.640625 41.28125 31.265625 \r\nQ 36.765625 34.90625 28.71875 34.90625 \r\nL 20.21875 34.90625 \r\nL 20.21875 43.015625 \r\nL 29.109375 43.015625 \r\nQ 36.375 43.015625 40.234375 45.921875 \r\nQ 44.09375 48.828125 44.09375 54.296875 \r\nQ 44.09375 59.90625 40.109375 62.90625 \r\nQ 36.140625 65.921875 28.71875 65.921875 \r\nQ 24.65625 65.921875 20.015625 65.03125 \r\nQ 15.375 64.15625 9.8125 62.3125 \r\nL 9.8125 71.09375 \r\nQ 15.4375 72.65625 20.34375 73.4375 \r\nQ 25.25 74.21875 29.59375 74.21875 \r\nQ 40.828125 74.21875 47.359375 69.109375 \r\nQ 53.90625 64.015625 53.90625 55.328125 \r\nQ 53.90625 49.265625 50.4375 45.09375 \r\nQ 46.96875 40.921875 40.578125 39.3125 \r\nz\r\n\" id=\"DejaVuSans-51\"/>\r\n      </defs>\r\n      <g transform=\"translate(7.2 159.601227)scale(0.1 -0.1)\">\r\n       <use xlink:href=\"#DejaVuSans-51\"/>\r\n      </g>\r\n     </g>\r\n    </g>\r\n    <g id=\"ytick_5\">\r\n     <g id=\"line2d_10\">\r\n      <g>\r\n       <use style=\"stroke:#000000;stroke-width:0.8;\" x=\"20.5625\" xlink:href=\"#m49d79812dd\" y=\"130.193962\"/>\r\n      </g>\r\n     </g>\r\n     <g id=\"text_10\">\r\n      <!-- 4 -->\r\n      <g transform=\"translate(7.2 133.993181)scale(0.1 -0.1)\">\r\n       <use xlink:href=\"#DejaVuSans-52\"/>\r\n      </g>\r\n     </g>\r\n    </g>\r\n    <g id=\"ytick_6\">\r\n     <g id=\"line2d_11\">\r\n      <g>\r\n       <use style=\"stroke:#000000;stroke-width:0.8;\" x=\"20.5625\" xlink:href=\"#m49d79812dd\" y=\"104.585916\"/>\r\n      </g>\r\n     </g>\r\n     <g id=\"text_11\">\r\n      <!-- 5 -->\r\n      <defs>\r\n       <path d=\"M 10.796875 72.90625 \r\nL 49.515625 72.90625 \r\nL 49.515625 64.59375 \r\nL 19.828125 64.59375 \r\nL 19.828125 46.734375 \r\nQ 21.96875 47.46875 24.109375 47.828125 \r\nQ 26.265625 48.1875 28.421875 48.1875 \r\nQ 40.625 48.1875 47.75 41.5 \r\nQ 54.890625 34.8125 54.890625 23.390625 \r\nQ 54.890625 11.625 47.5625 5.09375 \r\nQ 40.234375 -1.421875 26.90625 -1.421875 \r\nQ 22.3125 -1.421875 17.546875 -0.640625 \r\nQ 12.796875 0.140625 7.71875 1.703125 \r\nL 7.71875 11.625 \r\nQ 12.109375 9.234375 16.796875 8.0625 \r\nQ 21.484375 6.890625 26.703125 6.890625 \r\nQ 35.15625 6.890625 40.078125 11.328125 \r\nQ 45.015625 15.765625 45.015625 23.390625 \r\nQ 45.015625 31 40.078125 35.4375 \r\nQ 35.15625 39.890625 26.703125 39.890625 \r\nQ 22.75 39.890625 18.8125 39.015625 \r\nQ 14.890625 38.140625 10.796875 36.28125 \r\nz\r\n\" id=\"DejaVuSans-53\"/>\r\n      </defs>\r\n      <g transform=\"translate(7.2 108.385135)scale(0.1 -0.1)\">\r\n       <use xlink:href=\"#DejaVuSans-53\"/>\r\n      </g>\r\n     </g>\r\n    </g>\r\n    <g id=\"ytick_7\">\r\n     <g id=\"line2d_12\">\r\n      <g>\r\n       <use style=\"stroke:#000000;stroke-width:0.8;\" x=\"20.5625\" xlink:href=\"#m49d79812dd\" y=\"78.97787\"/>\r\n      </g>\r\n     </g>\r\n     <g id=\"text_12\">\r\n      <!-- 6 -->\r\n      <g transform=\"translate(7.2 82.777089)scale(0.1 -0.1)\">\r\n       <use xlink:href=\"#DejaVuSans-54\"/>\r\n      </g>\r\n     </g>\r\n    </g>\r\n    <g id=\"ytick_8\">\r\n     <g id=\"line2d_13\">\r\n      <g>\r\n       <use style=\"stroke:#000000;stroke-width:0.8;\" x=\"20.5625\" xlink:href=\"#m49d79812dd\" y=\"53.369824\"/>\r\n      </g>\r\n     </g>\r\n     <g id=\"text_13\">\r\n      <!-- 7 -->\r\n      <defs>\r\n       <path d=\"M 8.203125 72.90625 \r\nL 55.078125 72.90625 \r\nL 55.078125 68.703125 \r\nL 28.609375 0 \r\nL 18.3125 0 \r\nL 43.21875 64.59375 \r\nL 8.203125 64.59375 \r\nz\r\n\" id=\"DejaVuSans-55\"/>\r\n      </defs>\r\n      <g transform=\"translate(7.2 57.169043)scale(0.1 -0.1)\">\r\n       <use xlink:href=\"#DejaVuSans-55\"/>\r\n      </g>\r\n     </g>\r\n    </g>\r\n    <g id=\"ytick_9\">\r\n     <g id=\"line2d_14\">\r\n      <g>\r\n       <use style=\"stroke:#000000;stroke-width:0.8;\" x=\"20.5625\" xlink:href=\"#m49d79812dd\" y=\"27.761778\"/>\r\n      </g>\r\n     </g>\r\n     <g id=\"text_14\">\r\n      <!-- 8 -->\r\n      <g transform=\"translate(7.2 31.560997)scale(0.1 -0.1)\">\r\n       <use xlink:href=\"#DejaVuSans-56\"/>\r\n      </g>\r\n     </g>\r\n    </g>\r\n    <g id=\"text_15\">\r\n     <!-- 1e8 -->\r\n     <defs>\r\n      <path d=\"M 56.203125 29.59375 \r\nL 56.203125 25.203125 \r\nL 14.890625 25.203125 \r\nQ 15.484375 15.921875 20.484375 11.0625 \r\nQ 25.484375 6.203125 34.421875 6.203125 \r\nQ 39.59375 6.203125 44.453125 7.46875 \r\nQ 49.3125 8.734375 54.109375 11.28125 \r\nL 54.109375 2.78125 \r\nQ 49.265625 0.734375 44.1875 -0.34375 \r\nQ 39.109375 -1.421875 33.890625 -1.421875 \r\nQ 20.796875 -1.421875 13.15625 6.1875 \r\nQ 5.515625 13.8125 5.515625 26.8125 \r\nQ 5.515625 40.234375 12.765625 48.109375 \r\nQ 20.015625 56 32.328125 56 \r\nQ 43.359375 56 49.78125 48.890625 \r\nQ 56.203125 41.796875 56.203125 29.59375 \r\nz\r\nM 47.21875 32.234375 \r\nQ 47.125 39.59375 43.09375 43.984375 \r\nQ 39.0625 48.390625 32.421875 48.390625 \r\nQ 24.90625 48.390625 20.390625 44.140625 \r\nQ 15.875 39.890625 15.1875 32.171875 \r\nz\r\n\" id=\"DejaVuSans-101\"/>\r\n     </defs>\r\n     <g transform=\"translate(20.5625 14.798437)scale(0.1 -0.1)\">\r\n      <use xlink:href=\"#DejaVuSans-49\"/>\r\n      <use x=\"63.623047\" xlink:href=\"#DejaVuSans-101\"/>\r\n      <use x=\"125.146484\" xlink:href=\"#DejaVuSans-56\"/>\r\n     </g>\r\n    </g>\r\n   </g>\r\n   <g id=\"line2d_15\">\r\n    <path clip-path=\"url(#pa6dcdb6e1f)\" d=\"M 35.780682 91.177745 \r\nL 69.598864 138.962233 \r\nL 103.417045 225.354801 \r\nL 137.235227 171.602502 \r\nL 171.053409 105.979963 \r\nL 204.871591 222.334957 \r\nL 238.689773 175.202172 \r\nL 272.507955 67.204806 \r\nL 306.326136 27.682074 \r\nL 340.144318 200.050044 \r\n\" style=\"fill:none;stroke:#1f77b4;stroke-linecap:square;stroke-width:1.5;\"/>\r\n   </g>\r\n   <g id=\"patch_3\">\r\n    <path d=\"M 20.5625 235.238438 \r\nL 20.5625 17.798437 \r\n\" style=\"fill:none;stroke:#000000;stroke-linecap:square;stroke-linejoin:miter;stroke-width:0.8;\"/>\r\n   </g>\r\n   <g id=\"patch_4\">\r\n    <path d=\"M 355.3625 235.238438 \r\nL 355.3625 17.798437 \r\n\" style=\"fill:none;stroke:#000000;stroke-linecap:square;stroke-linejoin:miter;stroke-width:0.8;\"/>\r\n   </g>\r\n   <g id=\"patch_5\">\r\n    <path d=\"M 20.5625 235.238437 \r\nL 355.3625 235.238437 \r\n\" style=\"fill:none;stroke:#000000;stroke-linecap:square;stroke-linejoin:miter;stroke-width:0.8;\"/>\r\n   </g>\r\n   <g id=\"patch_6\">\r\n    <path d=\"M 20.5625 17.798437 \r\nL 355.3625 17.798437 \r\n\" style=\"fill:none;stroke:#000000;stroke-linecap:square;stroke-linejoin:miter;stroke-width:0.8;\"/>\r\n   </g>\r\n  </g>\r\n </g>\r\n <defs>\r\n  <clipPath id=\"pa6dcdb6e1f\">\r\n   <rect height=\"217.44\" width=\"334.8\" x=\"20.5625\" y=\"17.798437\"/>\r\n  </clipPath>\r\n </defs>\r\n</svg>\r\n",
            "image/png": "[encoded data removed]"
          },
          "metadata": {
            "needs_background": "light"
          }
        }
      ]
    },
    {
      "cell_type": "code",
      "metadata": {
        "id": "1KDHC8Zl76g3"
      },
      "source": [
        ""
      ],
      "execution_count": null,
      "outputs": []
    },
    {
      "cell_type": "markdown",
      "metadata": {
        "id": "JAUj8ESCFuib"
      },
      "source": [
        "### Ejecutar Transferencia"
      ]
    },
    {
      "cell_type": "code",
      "metadata": {
        "id": "4UUFbhsvNrjs",
        "outputId": "250328f9-5a30-4211-8f5d-18957ad9740a",
        "colab": {
          "base_uri": "https://localhost:8080/",
          "height": 54
        },
        "tags": []
      },
      "source": [
        "Transfer.Execute(to=df_transactions.iloc[0]['product'], From=df_transactions.iloc[-1]['product'], amount= 4)\n",
        "\n"
      ],
      "execution_count": 34,
      "outputs": [
        {
          "output_type": "stream",
          "name": "stdout",
          "text": "Executing Bank Transfer\nSaldo disponible: 37917231958.84\n"
        }
      ]
    },
    {
      "cell_type": "code",
      "metadata": {
        "id": "SCiP6C3nD10_",
        "outputId": "a0fd6188-f3fa-4bc2-c0b5-0a82c406ff57",
        "colab": {
          "base_uri": "https://localhost:8080/",
          "height": 108
        }
      },
      "source": [
        "df_transactions.tail(2)"
      ],
      "execution_count": 35,
      "outputs": [
        {
          "output_type": "execute_result",
          "data": {
            "text/plain": "         id nature            accounting_date  amount  product  mvt\n358  838674     Cr 2020-09-27 17:41:59.888707     4.0  3024112  4.0\n359  876250     Dr 2020-09-27 17:41:59.889706     4.0  1117236 -4.0",
            "text/html": "<div>\n<style scoped>\n    .dataframe tbody tr th:only-of-type {\n        vertical-align: middle;\n    }\n\n    .dataframe tbody tr th {\n        vertical-align: top;\n    }\n\n    .dataframe thead th {\n        text-align: right;\n    }\n</style>\n<table border=\"1\" class=\"dataframe\">\n  <thead>\n    <tr style=\"text-align: right;\">\n      <th></th>\n      <th>id</th>\n      <th>nature</th>\n      <th>accounting_date</th>\n      <th>amount</th>\n      <th>product</th>\n      <th>mvt</th>\n    </tr>\n  </thead>\n  <tbody>\n    <tr>\n      <th>358</th>\n      <td>838674</td>\n      <td>Cr</td>\n      <td>2020-09-27 17:41:59.888707</td>\n      <td>4.0</td>\n      <td>3024112</td>\n      <td>4.0</td>\n    </tr>\n    <tr>\n      <th>359</th>\n      <td>876250</td>\n      <td>Dr</td>\n      <td>2020-09-27 17:41:59.889706</td>\n      <td>4.0</td>\n      <td>1117236</td>\n      <td>-4.0</td>\n    </tr>\n  </tbody>\n</table>\n</div>"
          },
          "metadata": {},
          "execution_count": 35
        }
      ]
    },
    {
      "cell_type": "code",
      "metadata": {
        "id": "xK1q-CnRCF7t",
        "outputId": "36fb6cd8-7663-4148-ba72-16913099f984",
        "colab": {
          "base_uri": "https://localhost:8080/",
          "height": 444
        },
        "tags": []
      },
      "source": [
        "account_stmnt = getAccountStatement(product=df_transactions.iloc[0]['product'])\n",
        "account_stmnt"
      ],
      "execution_count": 36,
      "outputs": [
        {
          "output_type": "stream",
          "name": "stdout",
          "text": "Getting account statement for product 3024112\nFound 11 transactions from 2010-03-06 00:00:00 to 2020-09-27 17:41:59.888707\n"
        },
        {
          "output_type": "execute_result",
          "data": {
            "text/plain": "         id nature            accounting_date        amount  product  \\\n0   4330708     Cr 2010-03-06 00:00:00.000000  5.523592e+08  3024112   \n1   3907494     Cr 2010-07-05 00:00:00.000000  3.657597e+08  3024112   \n2   8905469     Cr 2015-02-09 00:00:00.000000  2.839477e+07  3024112   \n3   4125325     Cr 2015-07-28 00:00:00.000000  2.382987e+08  3024112   \n4   2429836     Cr 2015-12-04 00:00:00.000000  4.945562e+08  3024112   \n5   4606832     Cr 2016-03-24 00:00:00.000000  4.018733e+07  3024112   \n6   5934593     Cr 2016-06-21 00:00:00.000000  2.242419e+08  3024112   \n7   6006032     Cr 2017-04-21 00:00:00.000000  6.459741e+08  3024112   \n8   7950668     Cr 2017-12-26 00:00:00.000000  8.003112e+08  3024112   \n9   1093328     Cr 2018-07-24 00:00:00.000000  1.272104e+08  3024112   \n10   838674     Cr 2020-09-27 17:41:59.888707  4.000000e+00  3024112   \n\n             mvt  \n0   5.523592e+08  \n1   3.657597e+08  \n2   2.839477e+07  \n3   2.382987e+08  \n4   4.945562e+08  \n5   4.018733e+07  \n6   2.242419e+08  \n7   6.459741e+08  \n8   8.003112e+08  \n9   1.272104e+08  \n10  4.000000e+00  ",
            "text/html": "<div>\n<style scoped>\n    .dataframe tbody tr th:only-of-type {\n        vertical-align: middle;\n    }\n\n    .dataframe tbody tr th {\n        vertical-align: top;\n    }\n\n    .dataframe thead th {\n        text-align: right;\n    }\n</style>\n<table border=\"1\" class=\"dataframe\">\n  <thead>\n    <tr style=\"text-align: right;\">\n      <th></th>\n      <th>id</th>\n      <th>nature</th>\n      <th>accounting_date</th>\n      <th>amount</th>\n      <th>product</th>\n      <th>mvt</th>\n    </tr>\n  </thead>\n  <tbody>\n    <tr>\n      <th>0</th>\n      <td>4330708</td>\n      <td>Cr</td>\n      <td>2010-03-06 00:00:00.000000</td>\n      <td>5.523592e+08</td>\n      <td>3024112</td>\n      <td>5.523592e+08</td>\n    </tr>\n    <tr>\n      <th>1</th>\n      <td>3907494</td>\n      <td>Cr</td>\n      <td>2010-07-05 00:00:00.000000</td>\n      <td>3.657597e+08</td>\n      <td>3024112</td>\n      <td>3.657597e+08</td>\n    </tr>\n    <tr>\n      <th>2</th>\n      <td>8905469</td>\n      <td>Cr</td>\n      <td>2015-02-09 00:00:00.000000</td>\n      <td>2.839477e+07</td>\n      <td>3024112</td>\n      <td>2.839477e+07</td>\n    </tr>\n    <tr>\n      <th>3</th>\n      <td>4125325</td>\n      <td>Cr</td>\n      <td>2015-07-28 00:00:00.000000</td>\n      <td>2.382987e+08</td>\n      <td>3024112</td>\n      <td>2.382987e+08</td>\n    </tr>\n    <tr>\n      <th>4</th>\n      <td>2429836</td>\n      <td>Cr</td>\n      <td>2015-12-04 00:00:00.000000</td>\n      <td>4.945562e+08</td>\n      <td>3024112</td>\n      <td>4.945562e+08</td>\n    </tr>\n    <tr>\n      <th>5</th>\n      <td>4606832</td>\n      <td>Cr</td>\n      <td>2016-03-24 00:00:00.000000</td>\n      <td>4.018733e+07</td>\n      <td>3024112</td>\n      <td>4.018733e+07</td>\n    </tr>\n    <tr>\n      <th>6</th>\n      <td>5934593</td>\n      <td>Cr</td>\n      <td>2016-06-21 00:00:00.000000</td>\n      <td>2.242419e+08</td>\n      <td>3024112</td>\n      <td>2.242419e+08</td>\n    </tr>\n    <tr>\n      <th>7</th>\n      <td>6006032</td>\n      <td>Cr</td>\n      <td>2017-04-21 00:00:00.000000</td>\n      <td>6.459741e+08</td>\n      <td>3024112</td>\n      <td>6.459741e+08</td>\n    </tr>\n    <tr>\n      <th>8</th>\n      <td>7950668</td>\n      <td>Cr</td>\n      <td>2017-12-26 00:00:00.000000</td>\n      <td>8.003112e+08</td>\n      <td>3024112</td>\n      <td>8.003112e+08</td>\n    </tr>\n    <tr>\n      <th>9</th>\n      <td>1093328</td>\n      <td>Cr</td>\n      <td>2018-07-24 00:00:00.000000</td>\n      <td>1.272104e+08</td>\n      <td>3024112</td>\n      <td>1.272104e+08</td>\n    </tr>\n    <tr>\n      <th>10</th>\n      <td>838674</td>\n      <td>Cr</td>\n      <td>2020-09-27 17:41:59.888707</td>\n      <td>4.000000e+00</td>\n      <td>3024112</td>\n      <td>4.000000e+00</td>\n    </tr>\n  </tbody>\n</table>\n</div>"
          },
          "metadata": {},
          "execution_count": 36
        }
      ]
    },
    {
      "cell_type": "code",
      "metadata": {
        "id": "tyEnZBhPC_M2",
        "outputId": "5ffd2331-0b3d-4e80-db32-271c804d7ff8",
        "colab": {
          "base_uri": "https://localhost:8080/",
          "height": 308
        },
        "tags": []
      },
      "source": [
        "for p in products:\n",
        "  print(p.id)"
      ],
      "execution_count": 37,
      "outputs": [
        {
          "output_type": "stream",
          "name": "stdout",
          "text": "6214914381680062\n2630854\n3024112\n1979979402916575\n4872565\n1500896714238098\n1990848\n4643079551786549\n7391830727473462\n2732165\n3763098\n3649241\n2403805\n2744747\n6516789\n6611953\n5942280\n1171192\n8891783\n4232398\n9661173\n3933292582587682\n1117236\n"
        }
      ]
    },
    {
      "cell_type": "code",
      "metadata": {
        "id": "dSZiJj94DAx8"
      },
      "source": [
        ""
      ],
      "execution_count": null,
      "outputs": []
    }
  ]
}