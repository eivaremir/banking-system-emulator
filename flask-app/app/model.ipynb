{
  "nbformat": 4,
  "nbformat_minor": 0,
  "metadata": {
    "colab": {
      "name": "Generator",
      "provenance": [],
      "collapsed_sections": [],
      "toc_visible": true
    },
    "kernelspec": {
      "name": "Python 3.8.5 32-bit",
      "display_name": "Python 3.8.5 32-bit",
      "metadata": {
        "interpreter": {
          "hash": "68278c61d3e1aa8b0a68d6e1aec80b4b779add6e88511bd22117aeef98c6ed21"
        }
      }
    }
  },
  "cells": [
    {
      "cell_type": "code",
      "metadata": {
        "id": "E7SoPgArqXHy",
        "tags": []
      },
      "source": [
        "import random\n",
        "import string\n",
        "import abc\n",
        "import sys\n",
        "from datetime import datetime\n",
        "from models import *\n",
        "from functions import *\n"
      ],
      "execution_count": 1,
      "outputs": [
        {
          "output_type": "stream",
          "name": "stdout",
          "text": "d:\\AQUI\\banking-system-emulator\\flask-app\\app\n"
        }
      ]
    },
    {
      "cell_type": "code",
      "metadata": {
        "id": "c9Qh31Erqz1O",
        "outputId": "3a4ec0f2-f5a8-4d2f-c280-5d3e561f0e39",
        "colab": {
          "base_uri": "https://localhost:8080/",
          "height": 35
        }
      },
      "source": [
        "rand_str = lambda l : rand_str(l-1)+random.choice(string.ascii_lowercase) if l > 1 else random.choice(string.ascii_lowercase)\n",
        "rand_str(10)"
      ],
      "execution_count": 2,
      "outputs": [
        {
          "output_type": "execute_result",
          "data": {
            "text/plain": "&#39;vwhsdkqfvq&#39;"
          },
          "metadata": {},
          "execution_count": 2
        }
      ]
    },
    {
      "cell_type": "code",
      "metadata": {
        "id": "xAVLv6gQp9gV"
      },
      "source": [
        "import pandas as pd"
      ],
      "execution_count": 3,
      "outputs": []
    },
    {
      "cell_type": "code",
      "execution_count": 4,
      "metadata": {
        "tags": []
      },
      "outputs": [
        {
          "output_type": "stream",
          "name": "stdout",
          "text": "ERROR\n"
        }
      ],
      "source": [
        "Client.change_client(id = '7-589-631', client_name= 'Susana Castillo')"
      ]
    },
    {
      "source": [
        "PRODUCTS = (SavingAccount,FixedTermDeposit,Loan,CreditCard)"
      ],
      "cell_type": "code",
      "metadata": {},
      "execution_count": 5,
      "outputs": []
    },
    {
      "source": [
        "### FUNCIONES"
      ],
      "cell_type": "markdown",
      "metadata": {}
    },
    {
      "cell_type": "code",
      "metadata": {
        "id": "3ybVgLbH3joG"
      },
      "source": [
        "prueba = lambda s: s if (len(df_transactions[df_transactions['id']==s])) == 0 else prueba(random.choice(range(100000,999999)))"
      ],
      "execution_count": 6,
      "outputs": []
    },
    {
      "cell_type": "code",
      "metadata": {
        "id": "JrSzoYYOyuv9"
      },
      "source": [
        "\n",
        "def generate_product_ids():\n",
        "  id = ''\n",
        "  while (id in ids or id == ''):\n",
        "    id = str(random.choice(range(1000000,9999999)))\n",
        "  product_ids.append(id)\n",
        "  return id   \n"
      ],
      "execution_count": 7,
      "outputs": []
    },
    {
      "cell_type": "code",
      "metadata": {
        "id": "m6PQA-KqAgGy"
      },
      "source": [
        "\n",
        "def generate_credit_card_number():\n",
        "  id = ''\n",
        "  while (id in ids or id == ''):\n",
        "    id = str(random.choice(range(1000,9999)))+ str(random.choice(range(1000,9999)))+ str(random.choice(range(1000,9999)))+ str(random.choice(range(1000,9999)))\n",
        "  product_ids.append(id)\n",
        "  return id   \n"
      ],
      "execution_count": 8,
      "outputs": []
    },
    {
      "cell_type": "code",
      "metadata": {
        "id": "ZpZtyODFmN8Q"
      },
      "source": [
        "\n",
        "def generate_transaction_id():\n",
        "  id = ''\n",
        "  while (id in ids or id == ''):\n",
        "    id = str(random.choice(range(100000,9999999)))\n",
        "  transaction_ids.append(id)\n",
        "  return id   \n"
      ],
      "execution_count": 9,
      "outputs": []
    },
    {
      "cell_type": "code",
      "metadata": {
        "id": "G4a4dUnRsCuT"
      },
      "source": [
        "\n",
        "def generate_client_id():\n",
        "  id = ''\n",
        "  while (id in ids or id == ''):\n",
        "    id = str(random.choice(range(1,11)))+\"-\"+ str(random.choice(range(100,999)))+\"-\"+ str(random.choice(range(1,999)))\n",
        "  ids.append(id)\n",
        "  return id   \n"
      ],
      "execution_count": 10,
      "outputs": []
    },
    {
      "cell_type": "code",
      "metadata": {
        "id": "pG3mOxQOyVrG"
      },
      "source": [
        "def generate_saving_accounts(n):\n",
        "  accs = []\n",
        "  for i in range(n):\n",
        "    accs.append(SavingAccount(\n",
        "        id = generate_product_ids()\n",
        "    ))\n",
        "  return accs"
      ],
      "execution_count": 11,
      "outputs": []
    },
    {
      "cell_type": "code",
      "metadata": {
        "id": "oESk2bbyq2Ku"
      },
      "source": [
        "def generate_clients(n):\n",
        "  clients = []\n",
        "  for i in range(n):\n",
        "    clients.append(Client(\n",
        "        id = generate_client_id(),\n",
        "        name = rand_str(10) +\" \"+rand_str(15),\n",
        "        products = []\n",
        "    ))\n",
        "  return clients\n"
      ],
      "execution_count": 12,
      "outputs": []
    },
    {
      "cell_type": "code",
      "metadata": {
        "id": "cAFJt99cn7S_"
      },
      "source": [
        "def generate_balance():\n",
        "  n = random.choice(range(0,500000))\n",
        "  cash= (\"${:5.2f}\".format(n))\n",
        "  return cash"
      ],
      "execution_count": 13,
      "outputs": []
    },
    {
      "cell_type": "markdown",
      "metadata": {
        "id": "9vKXu4_M6VYS"
      },
      "source": [
        "## Generar Entidades"
      ]
    },
    {
      "cell_type": "code",
      "metadata": {
        "id": "whLN_1a8ulBU",
        "outputId": "96696bcd-10d6-4d43-9fe6-881a287e7ab0",
        "colab": {
          "base_uri": "https://localhost:8080/",
          "height": 108
        },
        "tags": []
      },
      "source": [
        "%%time\n",
        "ids = []\n",
        "product_ids = []\n",
        "clientes = generate_clients(1000)\n",
        "products = []\n",
        "\n",
        "# POR CADA PRODUCTO GENERADO...\n",
        "for cliente in clientes:\n",
        "  # SELECCIONO UNA CANTIDAD DE PRODUCTOS ALEATORIAMENTE\n",
        "  cantidad_productos = random.choice(range(1,5))\n",
        "  \n",
        "  # POR LA CANTIDAD DE PRODUCTOS SELECCIONADOS...\n",
        "  for p in range(0,cantidad_productos):    \n",
        "\n",
        "    # SELECCIONO ALEATORIAMENTE UN TIPO DE PRODUCTO\n",
        "    tipo_producto = PRODUCTS[random.choice(range(0,len(PRODUCTS)))]\n",
        "\n",
        "    month = random.choice(range(1,13))\n",
        "    # SI EL MES ES FEBRERO... ENTRE 1 Y 28\n",
        "    if month == 2: day = random.choice(range(1,29))\n",
        "    # SI EL MES ES PAR EN EL SEGUNDO SEMESTRE O ES IMPAR EN EL PRIMER SEMESTRE... ENTRE 1 Y 31\n",
        "    elif (month % 2 == 0 and month >= 8) or (month % 2 != 0 and month < 8): day = random.choice(range(1,32))\n",
        "    # DE CUALQUIER OTRA FORMA... ENTRE 1 Y 30\n",
        "    else: day = random.choice(range(1,30))\n",
        "\n",
        "    # INSTANCIO EL PRODUCTO\n",
        "    if tipo_producto is Loan:\n",
        "      producto = tipo_producto(\n",
        "          id=generate_product_ids(),\n",
        "          interest_rate=random.choice(range(3,17)),\n",
        "          owner = cliente.id,\n",
        "          base= random.choice([365,360]),\n",
        "          length = random.choice(range(1,120)),\n",
        "          From = datetime(random.choice(range(2018,2020+1)),month ,day))\n",
        "    elif tipo_producto is CreditCard:\n",
        "      producto = tipo_producto(\n",
        "          id=generate_credit_card_number(),\n",
        "          interest_rate=random.choice(range(1,3)),\n",
        "          owner = cliente.id\n",
        "          )\n",
        "    else:\n",
        "      producto = tipo_producto(\n",
        "          id=generate_product_ids(),\n",
        "          interest_rate=random.choice(range(1,3)),\n",
        "          balance = random.choice(range(1,500000)),\n",
        "          owner = cliente.id\n",
        "          )\n",
        " \n",
        "    # RELACIONO EL PRODUCTO CON EL CLIENTE ACTUAL\n",
        "    cliente.products.append(producto)\n",
        "    products.append(producto)\n",
        "print(type (tipo_producto.balance))\n",
        "\n",
        "print(\"Productos generados:\",len(products))\n",
        "print(\"Clientes generados:\",len(clientes))"
      ],
      "execution_count": 32,
      "outputs": [
        {
          "output_type": "error",
          "ename": "AttributeError",
          "evalue": "module &#39;random&#39; has no attribute &#39;choiche&#39;",
          "traceback": [
            "\u001b[1;31m---------------------------------------------------------------------------\u001b[0m",
            "\u001b[1;31mAttributeError\u001b[0m                            Traceback (most recent call last)",
            "\u001b[1;32m&lt;timed exec&gt;\u001b[0m in \u001b[0;36m&lt;module&gt;\u001b[1;34m\u001b[0m\n",
            "\u001b[1;31mAttributeError\u001b[0m: module &#39;random&#39; has no attribute &#39;choiche&#39;"
          ]
        }
      ]
    },
    {
      "cell_type": "code",
      "execution_count": 15,
      "metadata": {},
      "outputs": [
        {
          "output_type": "execute_result",
          "data": {
            "text/plain": "&#39;5-444-359&#39;"
          },
          "metadata": {},
          "execution_count": 15
        }
      ],
      "source": [
        "products[0].owner"
      ]
    },
    {
      "cell_type": "markdown",
      "metadata": {
        "id": "hvKA2DbvRDzz"
      },
      "source": [
        "## Generar transacciones"
      ]
    },
    {
      "cell_type": "code",
      "metadata": {
        "id": "GmbA2deUuwWd",
        "outputId": "a3500a76-8e90-4492-da91-b3092d057177",
        "colab": {
          "base_uri": "https://localhost:8080/",
          "height": 90
        },
        "tags": []
      },
      "source": [
        "%%time\n",
        "MIN_TRX = 10\n",
        "MAX_TRX = 100\n",
        "transactions = []\n",
        "transaction_ids = []\n",
        "\n",
        "\n",
        "\n",
        "for cliente in clientes:\n",
        "  for producto in cliente.products:\n",
        "    \n",
        "    if type(producto) is SavingAccount or type(producto) is FixedTermDeposit :\n",
        "      # SELECCIONAR UN NUMERO ALEATORIO DE TRANSACCIONES PARA CADA PRODUCTO\n",
        "      n_Trx = random.choice(range(MIN_TRX,MAX_TRX))\n",
        "\n",
        "      for trx in range(n_Trx):\n",
        "        month = random.choice(range(1,13))\n",
        "        # SI EL MES ES FEBRERO... ENTRE 1 Y 28\n",
        "        if month == 2: day = random.choice(range(1,29))\n",
        "        # SI EL MES ES PAR EN EL SEGUNDO SEMESTRE O ES IMPAR EN EL PRIMER SEMESTRE... ENTRE 1 Y 31\n",
        "        elif (month % 2 == 0 and month >= 8) or (month % 2 != 0 and month < 8): day = random.choice(range(1,32))\n",
        "        # DE CUALQUIER OTRA FORMA... ENTRE 1 Y 30\n",
        "        else: day = random.choice(range(1,30))\n",
        "        amt = float(str(random.choice(range(1,999999999)))+\".\"+str(random.choice(range(1,99))))\n",
        "        nature = \"Dr\" if random.choice(range(10))==0 else \"Cr\"\n",
        "        mvt = amt*-1 if nature == 'Dr' else amt\n",
        "        transactions.append(Transaction(\n",
        "            id = generate_transaction_id(),\n",
        "            product = producto.id,\n",
        "            nature = nature,\n",
        "            date = datetime(random.choice(range(2010,2020+1)),month ,day),\n",
        "            amt = amt,\n",
        "            mvt = mvt\n",
        "        ))\n",
        "\n",
        "print(\"Transacciones generadas:\",len(transactions))\n",
        "print(\"Media de transacción por cliente:\",len(transactions)/len(products))"
      ],
      "execution_count": 16,
      "outputs": [
        {
          "output_type": "stream",
          "name": "stdout",
          "text": "Transacciones generadas: 65762\nMedia de transacción por cliente: 27.343866943866942\nWall time: 4.24 s\n"
        }
      ]
    },
    {
      "cell_type": "markdown",
      "metadata": {
        "id": "eNUo3sgGtz7D"
      },
      "source": [
        "## Generar tablas"
      ]
    },
    {
      "cell_type": "code",
      "metadata": {
        "id": "3zNQqeK1vovC"
      },
      "source": [
        "df_loans =[]\n",
        "df_deposits = []\n",
        "df_CreditCards = []\n",
        "for p in products:\n",
        "  if type(p) is Loan:\n",
        "    df_loans.append(p)\n",
        "  if type(p) is FixedTermDeposit or type(p) is SavingAccount:\n",
        "    df_deposits.append(p)\n",
        "  if type(p) is CreditCard:\n",
        "    df_CreditCards.append(p)\n",
        "\n"
      ],
      "execution_count": 29,
      "outputs": []
    },
    {
      "cell_type": "code",
      "execution_count": 19,
      "metadata": {
        "tags": []
      },
      "outputs": [
        {
          "output_type": "execute_result",
          "data": {
            "text/plain": "                 id  interest_rate  balance       owner        type\n0  7026312014203859              1      0.0   5-444-359  CreditCard\n1  3891512475179497              1      0.0   5-293-852  CreditCard\n2  2242230536271602              1      0.0  10-860-560  CreditCard",
            "text/html": "<div>\n<style scoped>\n    .dataframe tbody tr th:only-of-type {\n        vertical-align: middle;\n    }\n\n    .dataframe tbody tr th {\n        vertical-align: top;\n    }\n\n    .dataframe thead th {\n        text-align: right;\n    }\n</style>\n<table border=\"1\" class=\"dataframe\">\n  <thead>\n    <tr style=\"text-align: right;\">\n      <th></th>\n      <th>id</th>\n      <th>interest_rate</th>\n      <th>balance</th>\n      <th>owner</th>\n      <th>type</th>\n    </tr>\n  </thead>\n  <tbody>\n    <tr>\n      <th>0</th>\n      <td>7026312014203859</td>\n      <td>1</td>\n      <td>0.0</td>\n      <td>5-444-359</td>\n      <td>CreditCard</td>\n    </tr>\n    <tr>\n      <th>1</th>\n      <td>3891512475179497</td>\n      <td>1</td>\n      <td>0.0</td>\n      <td>5-293-852</td>\n      <td>CreditCard</td>\n    </tr>\n    <tr>\n      <th>2</th>\n      <td>2242230536271602</td>\n      <td>1</td>\n      <td>0.0</td>\n      <td>10-860-560</td>\n      <td>CreditCard</td>\n    </tr>\n  </tbody>\n</table>\n</div>"
          },
          "metadata": {},
          "execution_count": 19
        }
      ],
      "source": [
        "df_CreditCards = pd.DataFrame.from_records([j.to_dict() for j in df_CreditCards])\n",
        "df_CreditCards.head(3)"
      ]
    },
    {
      "cell_type": "code",
      "execution_count": 20,
      "metadata": {},
      "outputs": [
        {
          "output_type": "execute_result",
          "data": {
            "text/plain": "          id                 client_name\n0  5-444-359  axrfqcevrs fxbxaphruwjixuu\n1  6-155-413  hfvnljulkw mqlhzbqxsietuvr\n2  5-293-852  webylmwevz fkpgxjsanggatgr",
            "text/html": "<div>\n<style scoped>\n    .dataframe tbody tr th:only-of-type {\n        vertical-align: middle;\n    }\n\n    .dataframe tbody tr th {\n        vertical-align: top;\n    }\n\n    .dataframe thead th {\n        text-align: right;\n    }\n</style>\n<table border=\"1\" class=\"dataframe\">\n  <thead>\n    <tr style=\"text-align: right;\">\n      <th></th>\n      <th>id</th>\n      <th>client_name</th>\n    </tr>\n  </thead>\n  <tbody>\n    <tr>\n      <th>0</th>\n      <td>5-444-359</td>\n      <td>axrfqcevrs fxbxaphruwjixuu</td>\n    </tr>\n    <tr>\n      <th>1</th>\n      <td>6-155-413</td>\n      <td>hfvnljulkw mqlhzbqxsietuvr</td>\n    </tr>\n    <tr>\n      <th>2</th>\n      <td>5-293-852</td>\n      <td>webylmwevz fkpgxjsanggatgr</td>\n    </tr>\n  </tbody>\n</table>\n</div>"
          },
          "metadata": {},
          "execution_count": 20
        }
      ],
      "source": [
        "df_clients = pd.DataFrame.from_records([l.to_dict() for l in clientes])\n",
        "df_clients.head(3)"
      ]
    },
    {
      "cell_type": "code",
      "metadata": {
        "id": "Fx51ZtvcyIKP",
        "outputId": "3b94c538-6481-445c-cda9-c7306950c3f7",
        "colab": {
          "base_uri": "https://localhost:8080/",
          "height": 108
        }
      },
      "source": [
        "df_loans = pd.DataFrame.from_records([l.to_dict() for l in df_loans])\n",
        "df_loans.head(3)"
      ],
      "execution_count": 21,
      "outputs": [
        {
          "output_type": "execute_result",
          "data": {
            "text/plain": "        id  interest_rate  balance      owner  type  length  base       From\n0  4054520              7      0.0  5-444-359  Loan      66   360 2019-11-21\n1  7019408              7      0.0  8-957-172  Loan      96   365 2018-04-24\n2  4466187             12      0.0  8-957-172  Loan      39   365 2018-07-17",
            "text/html": "<div>\n<style scoped>\n    .dataframe tbody tr th:only-of-type {\n        vertical-align: middle;\n    }\n\n    .dataframe tbody tr th {\n        vertical-align: top;\n    }\n\n    .dataframe thead th {\n        text-align: right;\n    }\n</style>\n<table border=\"1\" class=\"dataframe\">\n  <thead>\n    <tr style=\"text-align: right;\">\n      <th></th>\n      <th>id</th>\n      <th>interest_rate</th>\n      <th>balance</th>\n      <th>owner</th>\n      <th>type</th>\n      <th>length</th>\n      <th>base</th>\n      <th>From</th>\n    </tr>\n  </thead>\n  <tbody>\n    <tr>\n      <th>0</th>\n      <td>4054520</td>\n      <td>7</td>\n      <td>0.0</td>\n      <td>5-444-359</td>\n      <td>Loan</td>\n      <td>66</td>\n      <td>360</td>\n      <td>2019-11-21</td>\n    </tr>\n    <tr>\n      <th>1</th>\n      <td>7019408</td>\n      <td>7</td>\n      <td>0.0</td>\n      <td>8-957-172</td>\n      <td>Loan</td>\n      <td>96</td>\n      <td>365</td>\n      <td>2018-04-24</td>\n    </tr>\n    <tr>\n      <th>2</th>\n      <td>4466187</td>\n      <td>12</td>\n      <td>0.0</td>\n      <td>8-957-172</td>\n      <td>Loan</td>\n      <td>39</td>\n      <td>365</td>\n      <td>2018-07-17</td>\n    </tr>\n  </tbody>\n</table>\n</div>"
          },
          "metadata": {},
          "execution_count": 21
        }
      ]
    },
    {
      "cell_type": "code",
      "metadata": {
        "id": "ok9-zGQDzGwL",
        "outputId": "0288c59e-a62a-469f-8755-541577972f2f",
        "colab": {
          "base_uri": "https://localhost:8080/",
          "height": 138
        }
      },
      "source": [
        "df_deposits = pd.DataFrame.from_records([d.to_dict() for d in df_deposits])\n",
        "df_deposits.head(3)"
      ],
      "execution_count": 30,
      "outputs": [
        {
          "output_type": "execute_result",
          "data": {
            "text/plain": "        id  interest_rate  balance      owner              type\n0  6901005              1      0.0  5-444-359  FixedTermDeposit\n1  2361806              2      0.0  5-444-359  FixedTermDeposit\n2  6420078              1      0.0  6-155-413     SavingAccount",
            "text/html": "<div>\n<style scoped>\n    .dataframe tbody tr th:only-of-type {\n        vertical-align: middle;\n    }\n\n    .dataframe tbody tr th {\n        vertical-align: top;\n    }\n\n    .dataframe thead th {\n        text-align: right;\n    }\n</style>\n<table border=\"1\" class=\"dataframe\">\n  <thead>\n    <tr style=\"text-align: right;\">\n      <th></th>\n      <th>id</th>\n      <th>interest_rate</th>\n      <th>balance</th>\n      <th>owner</th>\n      <th>type</th>\n    </tr>\n  </thead>\n  <tbody>\n    <tr>\n      <th>0</th>\n      <td>6901005</td>\n      <td>1</td>\n      <td>0.0</td>\n      <td>5-444-359</td>\n      <td>FixedTermDeposit</td>\n    </tr>\n    <tr>\n      <th>1</th>\n      <td>2361806</td>\n      <td>2</td>\n      <td>0.0</td>\n      <td>5-444-359</td>\n      <td>FixedTermDeposit</td>\n    </tr>\n    <tr>\n      <th>2</th>\n      <td>6420078</td>\n      <td>1</td>\n      <td>0.0</td>\n      <td>6-155-413</td>\n      <td>SavingAccount</td>\n    </tr>\n  </tbody>\n</table>\n</div>"
          },
          "metadata": {},
          "execution_count": 30
        }
      ]
    },
    {
      "cell_type": "code",
      "metadata": {
        "id": "whW8zJyWpISf",
        "outputId": "4ee3f123-9721-402c-ee88-f676eac40d45",
        "colab": {
          "base_uri": "https://localhost:8080/",
          "height": 407
        }
      },
      "source": [
        "df_transactions = pd.DataFrame.from_records([t.to_dict() for t in transactions])\n",
        "df_transactions.to_csv(\"db/transactions.csv\")\n",
        "df_transactions\n"
      ],
      "execution_count": 25,
      "outputs": [
        {
          "output_type": "execute_result",
          "data": {
            "text/plain": "            id nature accounting_date        amount  product           mvt\n0      7965550     Cr      2016-06-07  5.568899e+08  5252856  5.568899e+08\n1      1957913     Cr      2015-02-03  8.793814e+08  5252856  8.793814e+08\n2      2676035     Dr      2020-12-17  5.854990e+08  5252856 -5.854990e+08\n3      6362909     Cr      2012-06-25  7.134613e+08  5252856  7.134613e+08\n4      3567704     Cr      2018-08-11  5.632074e+08  5252856  5.632074e+08\n...        ...    ...             ...           ...      ...           ...\n70151   451455     Cr      2020-12-03  3.221607e+08  9782966  3.221607e+08\n70152  7368042     Cr      2017-03-04  8.308256e+08  9782966  8.308256e+08\n70153  8313226     Cr      2013-12-08  4.096165e+07  9782966  4.096165e+07\n70154  6976648     Cr      2017-08-19  9.745976e+08  9782966  9.745976e+08\n70155  2262754     Cr      2019-09-08  3.172797e+08  9782966  3.172797e+08\n\n[70156 rows x 6 columns]",
            "text/html": "<div>\n<style scoped>\n    .dataframe tbody tr th:only-of-type {\n        vertical-align: middle;\n    }\n\n    .dataframe tbody tr th {\n        vertical-align: top;\n    }\n\n    .dataframe thead th {\n        text-align: right;\n    }\n</style>\n<table border=\"1\" class=\"dataframe\">\n  <thead>\n    <tr style=\"text-align: right;\">\n      <th></th>\n      <th>id</th>\n      <th>nature</th>\n      <th>accounting_date</th>\n      <th>amount</th>\n      <th>product</th>\n      <th>mvt</th>\n    </tr>\n  </thead>\n  <tbody>\n    <tr>\n      <th>0</th>\n      <td>7965550</td>\n      <td>Cr</td>\n      <td>2016-06-07</td>\n      <td>5.568899e+08</td>\n      <td>5252856</td>\n      <td>5.568899e+08</td>\n    </tr>\n    <tr>\n      <th>1</th>\n      <td>1957913</td>\n      <td>Cr</td>\n      <td>2015-02-03</td>\n      <td>8.793814e+08</td>\n      <td>5252856</td>\n      <td>8.793814e+08</td>\n    </tr>\n    <tr>\n      <th>2</th>\n      <td>2676035</td>\n      <td>Dr</td>\n      <td>2020-12-17</td>\n      <td>5.854990e+08</td>\n      <td>5252856</td>\n      <td>-5.854990e+08</td>\n    </tr>\n    <tr>\n      <th>3</th>\n      <td>6362909</td>\n      <td>Cr</td>\n      <td>2012-06-25</td>\n      <td>7.134613e+08</td>\n      <td>5252856</td>\n      <td>7.134613e+08</td>\n    </tr>\n    <tr>\n      <th>4</th>\n      <td>3567704</td>\n      <td>Cr</td>\n      <td>2018-08-11</td>\n      <td>5.632074e+08</td>\n      <td>5252856</td>\n      <td>5.632074e+08</td>\n    </tr>\n    <tr>\n      <th>...</th>\n      <td>...</td>\n      <td>...</td>\n      <td>...</td>\n      <td>...</td>\n      <td>...</td>\n      <td>...</td>\n    </tr>\n    <tr>\n      <th>70151</th>\n      <td>451455</td>\n      <td>Cr</td>\n      <td>2020-12-03</td>\n      <td>3.221607e+08</td>\n      <td>9782966</td>\n      <td>3.221607e+08</td>\n    </tr>\n    <tr>\n      <th>70152</th>\n      <td>7368042</td>\n      <td>Cr</td>\n      <td>2017-03-04</td>\n      <td>8.308256e+08</td>\n      <td>9782966</td>\n      <td>8.308256e+08</td>\n    </tr>\n    <tr>\n      <th>70153</th>\n      <td>8313226</td>\n      <td>Cr</td>\n      <td>2013-12-08</td>\n      <td>4.096165e+07</td>\n      <td>9782966</td>\n      <td>4.096165e+07</td>\n    </tr>\n    <tr>\n      <th>70154</th>\n      <td>6976648</td>\n      <td>Cr</td>\n      <td>2017-08-19</td>\n      <td>9.745976e+08</td>\n      <td>9782966</td>\n      <td>9.745976e+08</td>\n    </tr>\n    <tr>\n      <th>70155</th>\n      <td>2262754</td>\n      <td>Cr</td>\n      <td>2019-09-08</td>\n      <td>3.172797e+08</td>\n      <td>9782966</td>\n      <td>3.172797e+08</td>\n    </tr>\n  </tbody>\n</table>\n<p>70156 rows × 6 columns</p>\n</div>"
          },
          "metadata": {},
          "execution_count": 25
        }
      ]
    },
    {
      "cell_type": "code",
      "metadata": {
        "id": "KiGRB6r6vJP0",
        "outputId": "4589b545-8f35-4023-bc75-ea45a2907d73",
        "colab": {
          "base_uri": "https://localhost:8080/",
          "height": 438
        }
      },
      "source": [
        "df_transactions[df_transactions['product']=='1022920']\n",
        "summarize = df_transactions.groupby(['product'])['mvt']\n",
        "summarize = summarize.sum()\n",
        "summarize = summarize.reset_index()\n",
        "#print(summarize['1022920'==summarize['product']])\n",
        "for i in range(len(summarize)):\n",
        "  product_id = summarize['product'].iloc[i]\n",
        "  \n",
        "  df_deposits.loc[df_deposits['id']==product_id,'balance'] = summarize['mvt']\n",
        "\n",
        "df_deposits[df_deposits['id'].isin(summarize['product'])]\n",
        "#print(df_deposits[summarize['product']==df_deposits['id']])"
      ],
      "execution_count": 28,
      "outputs": [
        {
          "output_type": "error",
          "ename": "ValueError",
          "evalue": "Must have equal len keys and value when setting with an iterable",
          "traceback": [
            "\u001b[1;31m---------------------------------------------------------------------------\u001b[0m",
            "\u001b[1;31mValueError\u001b[0m                                Traceback (most recent call last)",
            "\u001b[1;32m&lt;ipython-input-28-d39dd3e57641&gt;\u001b[0m in \u001b[0;36m&lt;module&gt;\u001b[1;34m\u001b[0m\n\u001b[0;32m      7\u001b[0m   \u001b[0mproduct_id\u001b[0m \u001b[1;33m=\u001b[0m \u001b[0msummarize\u001b[0m\u001b[1;33m[\u001b[0m\u001b[1;34m&#39;product&#39;\u001b[0m\u001b[1;33m]\u001b[0m\u001b[1;33m.\u001b[0m\u001b[0miloc\u001b[0m\u001b[1;33m[\u001b[0m\u001b[0mi\u001b[0m\u001b[1;33m]\u001b[0m\u001b[1;33m\u001b[0m\u001b[1;33m\u001b[0m\u001b[0m\n\u001b[0;32m      8\u001b[0m \u001b[1;33m\u001b[0m\u001b[0m\n\u001b[1;32m----&gt; 9\u001b[1;33m   \u001b[0mdf_deposits\u001b[0m\u001b[1;33m.\u001b[0m\u001b[0mloc\u001b[0m\u001b[1;33m[\u001b[0m\u001b[0mdf_deposits\u001b[0m\u001b[1;33m[\u001b[0m\u001b[1;34m&#39;id&#39;\u001b[0m\u001b[1;33m]\u001b[0m\u001b[1;33m==\u001b[0m\u001b[0mproduct_id\u001b[0m\u001b[1;33m,\u001b[0m\u001b[1;34m&#39;balance&#39;\u001b[0m\u001b[1;33m]\u001b[0m \u001b[1;33m=\u001b[0m \u001b[0msummarize\u001b[0m\u001b[1;33m[\u001b[0m\u001b[1;34m&#39;mvt&#39;\u001b[0m\u001b[1;33m]\u001b[0m\u001b[1;33m\u001b[0m\u001b[1;33m\u001b[0m\u001b[0m\n\u001b[0m\u001b[0;32m     10\u001b[0m \u001b[1;33m\u001b[0m\u001b[0m\n\u001b[0;32m     11\u001b[0m \u001b[0mdf_deposits\u001b[0m\u001b[1;33m[\u001b[0m\u001b[0mdf_deposits\u001b[0m\u001b[1;33m[\u001b[0m\u001b[1;34m&#39;id&#39;\u001b[0m\u001b[1;33m]\u001b[0m\u001b[1;33m.\u001b[0m\u001b[0misin\u001b[0m\u001b[1;33m(\u001b[0m\u001b[0msummarize\u001b[0m\u001b[1;33m[\u001b[0m\u001b[1;34m&#39;product&#39;\u001b[0m\u001b[1;33m]\u001b[0m\u001b[1;33m)\u001b[0m\u001b[1;33m]\u001b[0m\u001b[1;33m\u001b[0m\u001b[1;33m\u001b[0m\u001b[0m\n",
            "\u001b[1;32m~\\AppData\\Local\\Programs\\Python\\Python38-32\\lib\\site-packages\\pandas\\core\\indexing.py\u001b[0m in \u001b[0;36m__setitem__\u001b[1;34m(self, key, value)\u001b[0m\n\u001b[0;32m    668\u001b[0m \u001b[1;33m\u001b[0m\u001b[0m\n\u001b[0;32m    669\u001b[0m         \u001b[0miloc\u001b[0m \u001b[1;33m=\u001b[0m \u001b[0mself\u001b[0m \u001b[1;32mif\u001b[0m \u001b[0mself\u001b[0m\u001b[1;33m.\u001b[0m\u001b[0mname\u001b[0m \u001b[1;33m==\u001b[0m \u001b[1;34m&quot;iloc&quot;\u001b[0m \u001b[1;32melse\u001b[0m \u001b[0mself\u001b[0m\u001b[1;33m.\u001b[0m\u001b[0mobj\u001b[0m\u001b[1;33m.\u001b[0m\u001b[0miloc\u001b[0m\u001b[1;33m\u001b[0m\u001b[1;33m\u001b[0m\u001b[0m\n\u001b[1;32m--&gt; 670\u001b[1;33m         \u001b[0miloc\u001b[0m\u001b[1;33m.\u001b[0m\u001b[0m_setitem_with_indexer\u001b[0m\u001b[1;33m(\u001b[0m\u001b[0mindexer\u001b[0m\u001b[1;33m,\u001b[0m \u001b[0mvalue\u001b[0m\u001b[1;33m)\u001b[0m\u001b[1;33m\u001b[0m\u001b[1;33m\u001b[0m\u001b[0m\n\u001b[0m\u001b[0;32m    671\u001b[0m \u001b[1;33m\u001b[0m\u001b[0m\n\u001b[0;32m    672\u001b[0m     \u001b[1;32mdef\u001b[0m \u001b[0m_validate_key\u001b[0m\u001b[1;33m(\u001b[0m\u001b[0mself\u001b[0m\u001b[1;33m,\u001b[0m \u001b[0mkey\u001b[0m\u001b[1;33m,\u001b[0m \u001b[0maxis\u001b[0m\u001b[1;33m:\u001b[0m \u001b[0mint\u001b[0m\u001b[1;33m)\u001b[0m\u001b[1;33m:\u001b[0m\u001b[1;33m\u001b[0m\u001b[1;33m\u001b[0m\u001b[0m\n",
            "\u001b[1;32m~\\AppData\\Local\\Programs\\Python\\Python38-32\\lib\\site-packages\\pandas\\core\\indexing.py\u001b[0m in \u001b[0;36m_setitem_with_indexer\u001b[1;34m(self, indexer, value)\u001b[0m\n\u001b[0;32m   1752\u001b[0m                     \u001b[1;31m# per-label values\u001b[0m\u001b[1;33m\u001b[0m\u001b[1;33m\u001b[0m\u001b[1;33m\u001b[0m\u001b[0m\n\u001b[0;32m   1753\u001b[0m                     \u001b[1;32mif\u001b[0m \u001b[0mlen\u001b[0m\u001b[1;33m(\u001b[0m\u001b[0milocs\u001b[0m\u001b[1;33m)\u001b[0m \u001b[1;33m!=\u001b[0m \u001b[0mlen\u001b[0m\u001b[1;33m(\u001b[0m\u001b[0mvalue\u001b[0m\u001b[1;33m)\u001b[0m\u001b[1;33m:\u001b[0m\u001b[1;33m\u001b[0m\u001b[1;33m\u001b[0m\u001b[0m\n\u001b[1;32m-&gt; 1754\u001b[1;33m                         raise ValueError(\n\u001b[0m\u001b[0;32m   1755\u001b[0m                             \u001b[1;34m&quot;Must have equal len keys and value &quot;\u001b[0m\u001b[1;33m\u001b[0m\u001b[1;33m\u001b[0m\u001b[0m\n\u001b[0;32m   1756\u001b[0m                             \u001b[1;34m&quot;when setting with an iterable&quot;\u001b[0m\u001b[1;33m\u001b[0m\u001b[1;33m\u001b[0m\u001b[0m\n",
            "\u001b[1;31mValueError\u001b[0m: Must have equal len keys and value when setting with an iterable"
          ]
        }
      ]
    },
    {
      "cell_type": "markdown",
      "metadata": {
        "id": "aBL5Z_3MzXcA"
      },
      "source": [
        "## Requerimientos"
      ]
    },
    {
      "cell_type": "markdown",
      "metadata": {
        "id": "hXa6FY2fiBes"
      },
      "source": [
        "\n",
        "***vas a definir la funcion de ejecutar transferencia***\n",
        "\n",
        "\n",
        "\n",
        "***tienes que buscar la informacion de las cuentas afectadas en la tabla de productos***\n",
        "\n",
        "\n",
        "***vas a ver si la cuenta a acreditar tiene saldo***\n",
        "\n",
        "\n",
        "vas a generar la transaccion en la tabla de transacciones\n",
        "\n",
        "\n",
        "vas a modificar el balance de las cuentas afectadas en la tabla de productos\n",
        "\n"
      ]
    },
    {
      "cell_type": "markdown",
      "metadata": {
        "id": "SAxFDHYXzc05"
      },
      "source": [
        "### Generar estado de cuenta"
      ]
    },
    {
      "cell_type": "code",
      "metadata": {
        "id": "9PQb0ZiuzLPj"
      },
      "source": [
        "def getAccountStatement(**kwargs):\n",
        "  \n",
        "  try: kwargs['product']\n",
        "  except: print(\"A product id is required\")\n",
        "\n",
        "  \n",
        "  print(\"Getting account statement for product\",kwargs['product'])\n",
        "  df = df_transactions[df_transactions['product'] == kwargs['product']]\n",
        "  \n",
        "  try: start = kwargs['start'] \n",
        "  except: start = df['accounting_date'].min()\n",
        "  try: end = kwargs['end']\n",
        "  except: end = df['accounting_date'].max()\n",
        "  \n",
        "  df = df[(df.accounting_date >= start) & (df.accounting_date <= end) ]\n",
        "\n",
        "  print(\"Found\",len(df),\"transactions from\",start,\"to\",end)\n",
        "  df = df.sort_values(by=['accounting_date'])\n",
        "  df = df.reset_index()\n",
        "  df = df.drop(['index'],axis=1)\n",
        "  return df"
      ],
      "execution_count": 26,
      "outputs": []
    },
    {
      "cell_type": "code",
      "metadata": {
        "id": "THoVTGig0krM",
        "outputId": "39953d37-3773-4f51-ab49-cf3f510a37c3",
        "colab": {
          "base_uri": "https://localhost:8080/",
          "height": 345
        },
        "tags": []
      },
      "source": [
        "%%time\n",
        "account_stmnt = getAccountStatement(product=df_transactions.iloc[0]['product'])\n",
        "print(account_stmnt)\n"
      ],
      "execution_count": 27,
      "outputs": [
        {
          "output_type": "stream",
          "name": "stdout",
          "text": "Getting account statement for product 1530414\nFound 59 transactions from 2010-01-13 00:00:00 to 2020-11-23 00:00:00\n         id nature accounting_date        amount  product           mvt\n0   1803886     Dr      2010-01-13  8.706350e+08  1530414 -8.706350e+08\n1   2572823     Cr      2010-02-15  3.964395e+08  1530414  3.964395e+08\n2   4827171     Cr      2010-04-11  1.173243e+08  1530414  1.173243e+08\n3   1068506     Cr      2010-07-06  8.750503e+08  1530414  8.750503e+08\n4   7103953     Cr      2010-08-09  7.358630e+08  1530414  7.358630e+08\n5   1628209     Cr      2010-11-07  4.748835e+08  1530414  4.748835e+08\n6   8604327     Cr      2010-11-25  7.231608e+07  1530414  7.231608e+07\n7   6632952     Cr      2010-12-05  9.626099e+08  1530414  9.626099e+08\n8   2149501     Cr      2011-02-06  1.774742e+08  1530414  1.774742e+08\n9   2548092     Cr      2011-02-28  5.122257e+08  1530414  5.122257e+08\n10  5718117     Cr      2011-03-07  4.963063e+08  1530414  4.963063e+08\n11  5838132     Cr      2011-03-09  1.102411e+08  1530414  1.102411e+08\n12  6447541     Cr      2011-09-20  4.431689e+08  1530414  4.431689e+08\n13  5474032     Cr      2011-11-15  6.082546e+08  1530414  6.082546e+08\n14  4479056     Cr      2011-11-19  3.047649e+08  1530414  3.047649e+08\n15  4782822     Cr      2012-02-01  6.581984e+08  1530414  6.581984e+08\n16   177543     Cr      2012-02-03  3.127696e+08  1530414  3.127696e+08\n17  6587075     Cr      2012-03-31  3.281037e+06  1530414  3.281037e+06\n18  3717522     Cr      2012-06-13  6.122321e+08  1530414  6.122321e+08\n19  6171928     Cr      2012-06-19  8.644784e+08  1530414  8.644784e+08\n20  2210281     Cr      2012-07-19  2.729800e+08  1530414  2.729800e+08\n21  7059356     Cr      2013-02-18  3.158982e+08  1530414  3.158982e+08\n22  8244615     Dr      2013-02-19  5.404657e+08  1530414 -5.404657e+08\n23  1912035     Cr      2013-04-28  8.083839e+08  1530414  8.083839e+08\n24  6974546     Cr      2013-05-20  9.710478e+08  1530414  9.710478e+08\n25  4292513     Cr      2013-05-21  4.972183e+08  1530414  4.972183e+08\n26  1069647     Cr      2013-08-15  6.739706e+08  1530414  6.739706e+08\n27  5320143     Cr      2013-09-02  7.875511e+08  1530414  7.875511e+08\n28  4620484     Cr      2013-11-09  3.914991e+08  1530414  3.914991e+08\n29   294312     Cr      2014-05-07  6.447012e+08  1530414  6.447012e+08\n30  5278039     Dr      2015-02-22  6.655330e+08  1530414 -6.655330e+08\n31   793707     Cr      2015-03-15  3.763248e+08  1530414  3.763248e+08\n32   420758     Cr      2015-03-30  9.883475e+08  1530414  9.883475e+08\n33  6165990     Cr      2015-07-26  6.584776e+08  1530414  6.584776e+08\n34  1858694     Cr      2015-08-12  2.308234e+08  1530414  2.308234e+08\n35  5725423     Cr      2015-11-07  9.593964e+08  1530414  9.593964e+08\n36   189487     Cr      2015-12-13  9.292777e+08  1530414  9.292777e+08\n37  7985172     Cr      2015-12-15  3.554462e+08  1530414  3.554462e+08\n38  3346158     Cr      2016-01-04  6.163746e+07  1530414  6.163746e+07\n39  7525881     Cr      2016-01-17  1.506960e+08  1530414  1.506960e+08\n40  6132701     Cr      2016-01-18  2.504846e+08  1530414  2.504846e+08\n41  8239826     Cr      2016-05-10  5.315703e+08  1530414  5.315703e+08\n42  6513826     Cr      2016-07-24  1.988842e+08  1530414  1.988842e+08\n43  8908090     Cr      2016-08-20  7.785682e+08  1530414  7.785682e+08\n44  2477640     Cr      2016-11-11  5.530397e+08  1530414  5.530397e+08\n45  4811712     Dr      2017-01-27  1.514362e+08  1530414 -1.514362e+08\n46  8230147     Cr      2017-02-03  8.268685e+08  1530414  8.268685e+08\n47  3233679     Cr      2017-02-06  9.607663e+07  1530414  9.607663e+07\n48  1354877     Cr      2017-03-09  5.266876e+08  1530414  5.266876e+08\n49  4585094     Cr      2017-07-03  3.665736e+08  1530414  3.665736e+08\n50  7140334     Cr      2018-05-21  7.111558e+08  1530414  7.111558e+08\n51  7068902     Cr      2018-07-02  9.101498e+08  1530414  9.101498e+08\n52  7965502     Cr      2018-07-06  2.604785e+08  1530414  2.604785e+08\n53  9226613     Dr      2019-05-21  5.417601e+08  1530414 -5.417601e+08\n54  5013643     Cr      2019-08-09  6.097276e+08  1530414  6.097276e+08\n55  3811006     Cr      2019-10-01  1.294250e+08  1530414  1.294250e+08\n56  7183025     Cr      2019-10-02  7.332500e+08  1530414  7.332500e+08\n57  4233189     Dr      2020-06-02  8.337469e+08  1530414 -8.337469e+08\n58  7730156     Cr      2020-11-23  4.509569e+08  1530414  4.509569e+08\nWall time: 31 ms\n"
        }
      ]
    },
    {
      "cell_type": "markdown",
      "metadata": {
        "id": "EvfNt4VI8Vfh"
      },
      "source": [
        "#### Mostrar un gráfico con el movimiento de su producto"
      ]
    },
    {
      "cell_type": "code",
      "metadata": {
        "id": "9gURU9iE01pt"
      },
      "source": [
        "import matplotlib.pyplot as plt"
      ],
      "execution_count": 28,
      "outputs": []
    },
    {
      "cell_type": "code",
      "metadata": {
        "id": "-c4X5fTX6f9p",
        "outputId": "f54df991-468a-414a-bbcd-d65d2db25de1",
        "colab": {
          "base_uri": "https://localhost:8080/",
          "height": 126
        }
      },
      "source": [
        "# generar el campo valor\n",
        "account_stmnt['mvt'] = 0.00\n",
        "account_stmnt.loc[account_stmnt['nature']==\"Dr\",'mvt'] = account_stmnt['amount']\n",
        "account_stmnt.loc[account_stmnt['nature']==\"Cr\",'mvt'] = account_stmnt['amount']*-1\n",
        "account_stmnt.sum()"
      ],
      "execution_count": 29,
      "outputs": [
        {
          "output_type": "execute_result",
          "data": {
            "text/plain": "id         1803886257282348271711068506710395316282098604...\nnature     DrCrCrCrCrCrCrCrCrCrCrCrCrCrCrCrCrCrCrCrCrCrDr...\namount                                            3.0349e+10\nproduct    1530414153041415304141530414153041415304141530...\nmvt                                             -2.31419e+10\ndtype: object"
          },
          "metadata": {},
          "execution_count": 29
        }
      ]
    },
    {
      "cell_type": "code",
      "metadata": {
        "id": "BxEtUBGa7p5U",
        "outputId": "0ef3419f-1b52-4872-c261-013e93c49062",
        "colab": {
          "base_uri": "https://localhost:8080/",
          "height": 276
        }
      },
      "source": [
        "plt.plot(account_stmnt.amount)\n",
        "plt.show()"
      ],
      "execution_count": 30,
      "outputs": [
        {
          "output_type": "display_data",
          "data": {
            "text/plain": "&lt;Figure size 432x288 with 1 Axes&gt;",
            "image/svg+xml": "<?xml version=\"1.0\" encoding=\"utf-8\" standalone=\"no\"?>\r\n<!DOCTYPE svg PUBLIC \"-//W3C//DTD SVG 1.1//EN\"\r\n  \"http://www.w3.org/Graphics/SVG/1.1/DTD/svg11.dtd\">\r\n<!-- Created with matplotlib (https://matplotlib.org/) -->\r\n<svg height=\"259.116562pt\" version=\"1.1\" viewBox=\"0 0 373.742741 259.116562\" width=\"373.742741pt\" xmlns=\"http://www.w3.org/2000/svg\" xmlns:xlink=\"http://www.w3.org/1999/xlink\">\r\n <metadata>\r\n  <rdf:RDF xmlns:cc=\"http://creativecommons.org/ns#\" xmlns:dc=\"http://purl.org/dc/elements/1.1/\" xmlns:rdf=\"http://www.w3.org/1999/02/22-rdf-syntax-ns#\">\r\n   <cc:Work>\r\n    <dc:type rdf:resource=\"http://purl.org/dc/dcmitype/StillImage\"/>\r\n    <dc:date>2020-10-02T00:36:43.828939</dc:date>\r\n    <dc:format>image/svg+xml</dc:format>\r\n    <dc:creator>\r\n     <cc:Agent>\r\n      <dc:title>Matplotlib v3.3.2, https://matplotlib.org/</dc:title>\r\n     </cc:Agent>\r\n    </dc:creator>\r\n   </cc:Work>\r\n  </rdf:RDF>\r\n </metadata>\r\n <defs>\r\n  <style type=\"text/css\">*{stroke-linecap:butt;stroke-linejoin:round;}</style>\r\n </defs>\r\n <g id=\"figure_1\">\r\n  <g id=\"patch_1\">\r\n   <path d=\"M 0 259.116562 \r\nL 373.742741 259.116562 \r\nL 373.742741 0 \r\nL 0 0 \r\nz\r\n\" style=\"fill:none;\"/>\r\n  </g>\r\n  <g id=\"axes_1\">\r\n   <g id=\"patch_2\">\r\n    <path d=\"M 30.103125 235.238437 \r\nL 364.903125 235.238437 \r\nL 364.903125 17.798437 \r\nL 30.103125 17.798437 \r\nz\r\n\" style=\"fill:#ffffff;\"/>\r\n   </g>\r\n   <g id=\"matplotlib.axis_1\">\r\n    <g id=\"xtick_1\">\r\n     <g id=\"line2d_1\">\r\n      <defs>\r\n       <path d=\"M 0 0 \r\nL 0 3.5 \r\n\" id=\"m88ff454ad8\" style=\"stroke:#000000;stroke-width:0.8;\"/>\r\n      </defs>\r\n      <g>\r\n       <use style=\"stroke:#000000;stroke-width:0.8;\" x=\"45.321307\" xlink:href=\"#m88ff454ad8\" y=\"235.238437\"/>\r\n      </g>\r\n     </g>\r\n     <g id=\"text_1\">\r\n      <!-- 0 -->\r\n      <g transform=\"translate(42.140057 249.836875)scale(0.1 -0.1)\">\r\n       <defs>\r\n        <path d=\"M 31.78125 66.40625 \r\nQ 24.171875 66.40625 20.328125 58.90625 \r\nQ 16.5 51.421875 16.5 36.375 \r\nQ 16.5 21.390625 20.328125 13.890625 \r\nQ 24.171875 6.390625 31.78125 6.390625 \r\nQ 39.453125 6.390625 43.28125 13.890625 \r\nQ 47.125 21.390625 47.125 36.375 \r\nQ 47.125 51.421875 43.28125 58.90625 \r\nQ 39.453125 66.40625 31.78125 66.40625 \r\nz\r\nM 31.78125 74.21875 \r\nQ 44.046875 74.21875 50.515625 64.515625 \r\nQ 56.984375 54.828125 56.984375 36.375 \r\nQ 56.984375 17.96875 50.515625 8.265625 \r\nQ 44.046875 -1.421875 31.78125 -1.421875 \r\nQ 19.53125 -1.421875 13.0625 8.265625 \r\nQ 6.59375 17.96875 6.59375 36.375 \r\nQ 6.59375 54.828125 13.0625 64.515625 \r\nQ 19.53125 74.21875 31.78125 74.21875 \r\nz\r\n\" id=\"DejaVuSans-48\"/>\r\n       </defs>\r\n       <use xlink:href=\"#DejaVuSans-48\"/>\r\n      </g>\r\n     </g>\r\n    </g>\r\n    <g id=\"xtick_2\">\r\n     <g id=\"line2d_2\">\r\n      <g>\r\n       <use style=\"stroke:#000000;stroke-width:0.8;\" x=\"97.797796\" xlink:href=\"#m88ff454ad8\" y=\"235.238437\"/>\r\n      </g>\r\n     </g>\r\n     <g id=\"text_2\">\r\n      <!-- 10 -->\r\n      <g transform=\"translate(91.435296 249.836875)scale(0.1 -0.1)\">\r\n       <defs>\r\n        <path d=\"M 12.40625 8.296875 \r\nL 28.515625 8.296875 \r\nL 28.515625 63.921875 \r\nL 10.984375 60.40625 \r\nL 10.984375 69.390625 \r\nL 28.421875 72.90625 \r\nL 38.28125 72.90625 \r\nL 38.28125 8.296875 \r\nL 54.390625 8.296875 \r\nL 54.390625 0 \r\nL 12.40625 0 \r\nz\r\n\" id=\"DejaVuSans-49\"/>\r\n       </defs>\r\n       <use xlink:href=\"#DejaVuSans-49\"/>\r\n       <use x=\"63.623047\" xlink:href=\"#DejaVuSans-48\"/>\r\n      </g>\r\n     </g>\r\n    </g>\r\n    <g id=\"xtick_3\">\r\n     <g id=\"line2d_3\">\r\n      <g>\r\n       <use style=\"stroke:#000000;stroke-width:0.8;\" x=\"150.274285\" xlink:href=\"#m88ff454ad8\" y=\"235.238437\"/>\r\n      </g>\r\n     </g>\r\n     <g id=\"text_3\">\r\n      <!-- 20 -->\r\n      <g transform=\"translate(143.911785 249.836875)scale(0.1 -0.1)\">\r\n       <defs>\r\n        <path d=\"M 19.1875 8.296875 \r\nL 53.609375 8.296875 \r\nL 53.609375 0 \r\nL 7.328125 0 \r\nL 7.328125 8.296875 \r\nQ 12.9375 14.109375 22.625 23.890625 \r\nQ 32.328125 33.6875 34.8125 36.53125 \r\nQ 39.546875 41.84375 41.421875 45.53125 \r\nQ 43.3125 49.21875 43.3125 52.78125 \r\nQ 43.3125 58.59375 39.234375 62.25 \r\nQ 35.15625 65.921875 28.609375 65.921875 \r\nQ 23.96875 65.921875 18.8125 64.3125 \r\nQ 13.671875 62.703125 7.8125 59.421875 \r\nL 7.8125 69.390625 \r\nQ 13.765625 71.78125 18.9375 73 \r\nQ 24.125 74.21875 28.421875 74.21875 \r\nQ 39.75 74.21875 46.484375 68.546875 \r\nQ 53.21875 62.890625 53.21875 53.421875 \r\nQ 53.21875 48.921875 51.53125 44.890625 \r\nQ 49.859375 40.875 45.40625 35.40625 \r\nQ 44.1875 33.984375 37.640625 27.21875 \r\nQ 31.109375 20.453125 19.1875 8.296875 \r\nz\r\n\" id=\"DejaVuSans-50\"/>\r\n       </defs>\r\n       <use xlink:href=\"#DejaVuSans-50\"/>\r\n       <use x=\"63.623047\" xlink:href=\"#DejaVuSans-48\"/>\r\n      </g>\r\n     </g>\r\n    </g>\r\n    <g id=\"xtick_4\">\r\n     <g id=\"line2d_4\">\r\n      <g>\r\n       <use style=\"stroke:#000000;stroke-width:0.8;\" x=\"202.750774\" xlink:href=\"#m88ff454ad8\" y=\"235.238437\"/>\r\n      </g>\r\n     </g>\r\n     <g id=\"text_4\">\r\n      <!-- 30 -->\r\n      <g transform=\"translate(196.388274 249.836875)scale(0.1 -0.1)\">\r\n       <defs>\r\n        <path d=\"M 40.578125 39.3125 \r\nQ 47.65625 37.796875 51.625 33 \r\nQ 55.609375 28.21875 55.609375 21.1875 \r\nQ 55.609375 10.40625 48.1875 4.484375 \r\nQ 40.765625 -1.421875 27.09375 -1.421875 \r\nQ 22.515625 -1.421875 17.65625 -0.515625 \r\nQ 12.796875 0.390625 7.625 2.203125 \r\nL 7.625 11.71875 \r\nQ 11.71875 9.328125 16.59375 8.109375 \r\nQ 21.484375 6.890625 26.8125 6.890625 \r\nQ 36.078125 6.890625 40.9375 10.546875 \r\nQ 45.796875 14.203125 45.796875 21.1875 \r\nQ 45.796875 27.640625 41.28125 31.265625 \r\nQ 36.765625 34.90625 28.71875 34.90625 \r\nL 20.21875 34.90625 \r\nL 20.21875 43.015625 \r\nL 29.109375 43.015625 \r\nQ 36.375 43.015625 40.234375 45.921875 \r\nQ 44.09375 48.828125 44.09375 54.296875 \r\nQ 44.09375 59.90625 40.109375 62.90625 \r\nQ 36.140625 65.921875 28.71875 65.921875 \r\nQ 24.65625 65.921875 20.015625 65.03125 \r\nQ 15.375 64.15625 9.8125 62.3125 \r\nL 9.8125 71.09375 \r\nQ 15.4375 72.65625 20.34375 73.4375 \r\nQ 25.25 74.21875 29.59375 74.21875 \r\nQ 40.828125 74.21875 47.359375 69.109375 \r\nQ 53.90625 64.015625 53.90625 55.328125 \r\nQ 53.90625 49.265625 50.4375 45.09375 \r\nQ 46.96875 40.921875 40.578125 39.3125 \r\nz\r\n\" id=\"DejaVuSans-51\"/>\r\n       </defs>\r\n       <use xlink:href=\"#DejaVuSans-51\"/>\r\n       <use x=\"63.623047\" xlink:href=\"#DejaVuSans-48\"/>\r\n      </g>\r\n     </g>\r\n    </g>\r\n    <g id=\"xtick_5\">\r\n     <g id=\"line2d_5\">\r\n      <g>\r\n       <use style=\"stroke:#000000;stroke-width:0.8;\" x=\"255.227263\" xlink:href=\"#m88ff454ad8\" y=\"235.238437\"/>\r\n      </g>\r\n     </g>\r\n     <g id=\"text_5\">\r\n      <!-- 40 -->\r\n      <g transform=\"translate(248.864763 249.836875)scale(0.1 -0.1)\">\r\n       <defs>\r\n        <path d=\"M 37.796875 64.3125 \r\nL 12.890625 25.390625 \r\nL 37.796875 25.390625 \r\nz\r\nM 35.203125 72.90625 \r\nL 47.609375 72.90625 \r\nL 47.609375 25.390625 \r\nL 58.015625 25.390625 \r\nL 58.015625 17.1875 \r\nL 47.609375 17.1875 \r\nL 47.609375 0 \r\nL 37.796875 0 \r\nL 37.796875 17.1875 \r\nL 4.890625 17.1875 \r\nL 4.890625 26.703125 \r\nz\r\n\" id=\"DejaVuSans-52\"/>\r\n       </defs>\r\n       <use xlink:href=\"#DejaVuSans-52\"/>\r\n       <use x=\"63.623047\" xlink:href=\"#DejaVuSans-48\"/>\r\n      </g>\r\n     </g>\r\n    </g>\r\n    <g id=\"xtick_6\">\r\n     <g id=\"line2d_6\">\r\n      <g>\r\n       <use style=\"stroke:#000000;stroke-width:0.8;\" x=\"307.703752\" xlink:href=\"#m88ff454ad8\" y=\"235.238437\"/>\r\n      </g>\r\n     </g>\r\n     <g id=\"text_6\">\r\n      <!-- 50 -->\r\n      <g transform=\"translate(301.341252 249.836875)scale(0.1 -0.1)\">\r\n       <defs>\r\n        <path d=\"M 10.796875 72.90625 \r\nL 49.515625 72.90625 \r\nL 49.515625 64.59375 \r\nL 19.828125 64.59375 \r\nL 19.828125 46.734375 \r\nQ 21.96875 47.46875 24.109375 47.828125 \r\nQ 26.265625 48.1875 28.421875 48.1875 \r\nQ 40.625 48.1875 47.75 41.5 \r\nQ 54.890625 34.8125 54.890625 23.390625 \r\nQ 54.890625 11.625 47.5625 5.09375 \r\nQ 40.234375 -1.421875 26.90625 -1.421875 \r\nQ 22.3125 -1.421875 17.546875 -0.640625 \r\nQ 12.796875 0.140625 7.71875 1.703125 \r\nL 7.71875 11.625 \r\nQ 12.109375 9.234375 16.796875 8.0625 \r\nQ 21.484375 6.890625 26.703125 6.890625 \r\nQ 35.15625 6.890625 40.078125 11.328125 \r\nQ 45.015625 15.765625 45.015625 23.390625 \r\nQ 45.015625 31 40.078125 35.4375 \r\nQ 35.15625 39.890625 26.703125 39.890625 \r\nQ 22.75 39.890625 18.8125 39.015625 \r\nQ 14.890625 38.140625 10.796875 36.28125 \r\nz\r\n\" id=\"DejaVuSans-53\"/>\r\n       </defs>\r\n       <use xlink:href=\"#DejaVuSans-53\"/>\r\n       <use x=\"63.623047\" xlink:href=\"#DejaVuSans-48\"/>\r\n      </g>\r\n     </g>\r\n    </g>\r\n    <g id=\"xtick_7\">\r\n     <g id=\"line2d_7\">\r\n      <g>\r\n       <use style=\"stroke:#000000;stroke-width:0.8;\" x=\"360.180241\" xlink:href=\"#m88ff454ad8\" y=\"235.238437\"/>\r\n      </g>\r\n     </g>\r\n     <g id=\"text_7\">\r\n      <!-- 60 -->\r\n      <g transform=\"translate(353.817741 249.836875)scale(0.1 -0.1)\">\r\n       <defs>\r\n        <path d=\"M 33.015625 40.375 \r\nQ 26.375 40.375 22.484375 35.828125 \r\nQ 18.609375 31.296875 18.609375 23.390625 \r\nQ 18.609375 15.53125 22.484375 10.953125 \r\nQ 26.375 6.390625 33.015625 6.390625 \r\nQ 39.65625 6.390625 43.53125 10.953125 \r\nQ 47.40625 15.53125 47.40625 23.390625 \r\nQ 47.40625 31.296875 43.53125 35.828125 \r\nQ 39.65625 40.375 33.015625 40.375 \r\nz\r\nM 52.59375 71.296875 \r\nL 52.59375 62.3125 \r\nQ 48.875 64.0625 45.09375 64.984375 \r\nQ 41.3125 65.921875 37.59375 65.921875 \r\nQ 27.828125 65.921875 22.671875 59.328125 \r\nQ 17.53125 52.734375 16.796875 39.40625 \r\nQ 19.671875 43.65625 24.015625 45.921875 \r\nQ 28.375 48.1875 33.59375 48.1875 \r\nQ 44.578125 48.1875 50.953125 41.515625 \r\nQ 57.328125 34.859375 57.328125 23.390625 \r\nQ 57.328125 12.15625 50.6875 5.359375 \r\nQ 44.046875 -1.421875 33.015625 -1.421875 \r\nQ 20.359375 -1.421875 13.671875 8.265625 \r\nQ 6.984375 17.96875 6.984375 36.375 \r\nQ 6.984375 53.65625 15.1875 63.9375 \r\nQ 23.390625 74.21875 37.203125 74.21875 \r\nQ 40.921875 74.21875 44.703125 73.484375 \r\nQ 48.484375 72.75 52.59375 71.296875 \r\nz\r\n\" id=\"DejaVuSans-54\"/>\r\n       </defs>\r\n       <use xlink:href=\"#DejaVuSans-54\"/>\r\n       <use x=\"63.623047\" xlink:href=\"#DejaVuSans-48\"/>\r\n      </g>\r\n     </g>\r\n    </g>\r\n   </g>\r\n   <g id=\"matplotlib.axis_2\">\r\n    <g id=\"ytick_1\">\r\n     <g id=\"line2d_8\">\r\n      <defs>\r\n       <path d=\"M 0 0 \r\nL -3.5 0 \r\n\" id=\"medda8304a0\" style=\"stroke:#000000;stroke-width:0.8;\"/>\r\n      </defs>\r\n      <g>\r\n       <use style=\"stroke:#000000;stroke-width:0.8;\" x=\"30.103125\" xlink:href=\"#medda8304a0\" y=\"226.013205\"/>\r\n      </g>\r\n     </g>\r\n     <g id=\"text_8\">\r\n      <!-- 0.0 -->\r\n      <g transform=\"translate(7.2 229.812424)scale(0.1 -0.1)\">\r\n       <defs>\r\n        <path d=\"M 10.6875 12.40625 \r\nL 21 12.40625 \r\nL 21 0 \r\nL 10.6875 0 \r\nz\r\n\" id=\"DejaVuSans-46\"/>\r\n       </defs>\r\n       <use xlink:href=\"#DejaVuSans-48\"/>\r\n       <use x=\"63.623047\" xlink:href=\"#DejaVuSans-46\"/>\r\n       <use x=\"95.410156\" xlink:href=\"#DejaVuSans-48\"/>\r\n      </g>\r\n     </g>\r\n    </g>\r\n    <g id=\"ytick_2\">\r\n     <g id=\"line2d_9\">\r\n      <g>\r\n       <use style=\"stroke:#000000;stroke-width:0.8;\" x=\"30.103125\" xlink:href=\"#medda8304a0\" y=\"185.879319\"/>\r\n      </g>\r\n     </g>\r\n     <g id=\"text_9\">\r\n      <!-- 0.2 -->\r\n      <g transform=\"translate(7.2 189.678538)scale(0.1 -0.1)\">\r\n       <use xlink:href=\"#DejaVuSans-48\"/>\r\n       <use x=\"63.623047\" xlink:href=\"#DejaVuSans-46\"/>\r\n       <use x=\"95.410156\" xlink:href=\"#DejaVuSans-50\"/>\r\n      </g>\r\n     </g>\r\n    </g>\r\n    <g id=\"ytick_3\">\r\n     <g id=\"line2d_10\">\r\n      <g>\r\n       <use style=\"stroke:#000000;stroke-width:0.8;\" x=\"30.103125\" xlink:href=\"#medda8304a0\" y=\"145.745434\"/>\r\n      </g>\r\n     </g>\r\n     <g id=\"text_10\">\r\n      <!-- 0.4 -->\r\n      <g transform=\"translate(7.2 149.544652)scale(0.1 -0.1)\">\r\n       <use xlink:href=\"#DejaVuSans-48\"/>\r\n       <use x=\"63.623047\" xlink:href=\"#DejaVuSans-46\"/>\r\n       <use x=\"95.410156\" xlink:href=\"#DejaVuSans-52\"/>\r\n      </g>\r\n     </g>\r\n    </g>\r\n    <g id=\"ytick_4\">\r\n     <g id=\"line2d_11\">\r\n      <g>\r\n       <use style=\"stroke:#000000;stroke-width:0.8;\" x=\"30.103125\" xlink:href=\"#medda8304a0\" y=\"105.611548\"/>\r\n      </g>\r\n     </g>\r\n     <g id=\"text_11\">\r\n      <!-- 0.6 -->\r\n      <g transform=\"translate(7.2 109.410767)scale(0.1 -0.1)\">\r\n       <use xlink:href=\"#DejaVuSans-48\"/>\r\n       <use x=\"63.623047\" xlink:href=\"#DejaVuSans-46\"/>\r\n       <use x=\"95.410156\" xlink:href=\"#DejaVuSans-54\"/>\r\n      </g>\r\n     </g>\r\n    </g>\r\n    <g id=\"ytick_5\">\r\n     <g id=\"line2d_12\">\r\n      <g>\r\n       <use style=\"stroke:#000000;stroke-width:0.8;\" x=\"30.103125\" xlink:href=\"#medda8304a0\" y=\"65.477662\"/>\r\n      </g>\r\n     </g>\r\n     <g id=\"text_12\">\r\n      <!-- 0.8 -->\r\n      <g transform=\"translate(7.2 69.276881)scale(0.1 -0.1)\">\r\n       <defs>\r\n        <path d=\"M 31.78125 34.625 \r\nQ 24.75 34.625 20.71875 30.859375 \r\nQ 16.703125 27.09375 16.703125 20.515625 \r\nQ 16.703125 13.921875 20.71875 10.15625 \r\nQ 24.75 6.390625 31.78125 6.390625 \r\nQ 38.8125 6.390625 42.859375 10.171875 \r\nQ 46.921875 13.96875 46.921875 20.515625 \r\nQ 46.921875 27.09375 42.890625 30.859375 \r\nQ 38.875 34.625 31.78125 34.625 \r\nz\r\nM 21.921875 38.8125 \r\nQ 15.578125 40.375 12.03125 44.71875 \r\nQ 8.5 49.078125 8.5 55.328125 \r\nQ 8.5 64.0625 14.71875 69.140625 \r\nQ 20.953125 74.21875 31.78125 74.21875 \r\nQ 42.671875 74.21875 48.875 69.140625 \r\nQ 55.078125 64.0625 55.078125 55.328125 \r\nQ 55.078125 49.078125 51.53125 44.71875 \r\nQ 48 40.375 41.703125 38.8125 \r\nQ 48.828125 37.15625 52.796875 32.3125 \r\nQ 56.78125 27.484375 56.78125 20.515625 \r\nQ 56.78125 9.90625 50.3125 4.234375 \r\nQ 43.84375 -1.421875 31.78125 -1.421875 \r\nQ 19.734375 -1.421875 13.25 4.234375 \r\nQ 6.78125 9.90625 6.78125 20.515625 \r\nQ 6.78125 27.484375 10.78125 32.3125 \r\nQ 14.796875 37.15625 21.921875 38.8125 \r\nz\r\nM 18.3125 54.390625 \r\nQ 18.3125 48.734375 21.84375 45.5625 \r\nQ 25.390625 42.390625 31.78125 42.390625 \r\nQ 38.140625 42.390625 41.71875 45.5625 \r\nQ 45.3125 48.734375 45.3125 54.390625 \r\nQ 45.3125 60.0625 41.71875 63.234375 \r\nQ 38.140625 66.40625 31.78125 66.40625 \r\nQ 25.390625 66.40625 21.84375 63.234375 \r\nQ 18.3125 60.0625 18.3125 54.390625 \r\nz\r\n\" id=\"DejaVuSans-56\"/>\r\n       </defs>\r\n       <use xlink:href=\"#DejaVuSans-48\"/>\r\n       <use x=\"63.623047\" xlink:href=\"#DejaVuSans-46\"/>\r\n       <use x=\"95.410156\" xlink:href=\"#DejaVuSans-56\"/>\r\n      </g>\r\n     </g>\r\n    </g>\r\n    <g id=\"ytick_6\">\r\n     <g id=\"line2d_13\">\r\n      <g>\r\n       <use style=\"stroke:#000000;stroke-width:0.8;\" x=\"30.103125\" xlink:href=\"#medda8304a0\" y=\"25.343777\"/>\r\n      </g>\r\n     </g>\r\n     <g id=\"text_13\">\r\n      <!-- 1.0 -->\r\n      <g transform=\"translate(7.2 29.142995)scale(0.1 -0.1)\">\r\n       <use xlink:href=\"#DejaVuSans-49\"/>\r\n       <use x=\"63.623047\" xlink:href=\"#DejaVuSans-46\"/>\r\n       <use x=\"95.410156\" xlink:href=\"#DejaVuSans-48\"/>\r\n      </g>\r\n     </g>\r\n    </g>\r\n    <g id=\"text_14\">\r\n     <!-- 1e9 -->\r\n     <g transform=\"translate(30.103125 14.798437)scale(0.1 -0.1)\">\r\n      <defs>\r\n       <path d=\"M 56.203125 29.59375 \r\nL 56.203125 25.203125 \r\nL 14.890625 25.203125 \r\nQ 15.484375 15.921875 20.484375 11.0625 \r\nQ 25.484375 6.203125 34.421875 6.203125 \r\nQ 39.59375 6.203125 44.453125 7.46875 \r\nQ 49.3125 8.734375 54.109375 11.28125 \r\nL 54.109375 2.78125 \r\nQ 49.265625 0.734375 44.1875 -0.34375 \r\nQ 39.109375 -1.421875 33.890625 -1.421875 \r\nQ 20.796875 -1.421875 13.15625 6.1875 \r\nQ 5.515625 13.8125 5.515625 26.8125 \r\nQ 5.515625 40.234375 12.765625 48.109375 \r\nQ 20.015625 56 32.328125 56 \r\nQ 43.359375 56 49.78125 48.890625 \r\nQ 56.203125 41.796875 56.203125 29.59375 \r\nz\r\nM 47.21875 32.234375 \r\nQ 47.125 39.59375 43.09375 43.984375 \r\nQ 39.0625 48.390625 32.421875 48.390625 \r\nQ 24.90625 48.390625 20.390625 44.140625 \r\nQ 15.875 39.890625 15.1875 32.171875 \r\nz\r\n\" id=\"DejaVuSans-101\"/>\r\n       <path d=\"M 10.984375 1.515625 \r\nL 10.984375 10.5 \r\nQ 14.703125 8.734375 18.5 7.8125 \r\nQ 22.3125 6.890625 25.984375 6.890625 \r\nQ 35.75 6.890625 40.890625 13.453125 \r\nQ 46.046875 20.015625 46.78125 33.40625 \r\nQ 43.953125 29.203125 39.59375 26.953125 \r\nQ 35.25 24.703125 29.984375 24.703125 \r\nQ 19.046875 24.703125 12.671875 31.3125 \r\nQ 6.296875 37.9375 6.296875 49.421875 \r\nQ 6.296875 60.640625 12.9375 67.421875 \r\nQ 19.578125 74.21875 30.609375 74.21875 \r\nQ 43.265625 74.21875 49.921875 64.515625 \r\nQ 56.59375 54.828125 56.59375 36.375 \r\nQ 56.59375 19.140625 48.40625 8.859375 \r\nQ 40.234375 -1.421875 26.421875 -1.421875 \r\nQ 22.703125 -1.421875 18.890625 -0.6875 \r\nQ 15.09375 0.046875 10.984375 1.515625 \r\nz\r\nM 30.609375 32.421875 \r\nQ 37.25 32.421875 41.125 36.953125 \r\nQ 45.015625 41.5 45.015625 49.421875 \r\nQ 45.015625 57.28125 41.125 61.84375 \r\nQ 37.25 66.40625 30.609375 66.40625 \r\nQ 23.96875 66.40625 20.09375 61.84375 \r\nQ 16.21875 57.28125 16.21875 49.421875 \r\nQ 16.21875 41.5 20.09375 36.953125 \r\nQ 23.96875 32.421875 30.609375 32.421875 \r\nz\r\n\" id=\"DejaVuSans-57\"/>\r\n      </defs>\r\n      <use xlink:href=\"#DejaVuSans-49\"/>\r\n      <use x=\"63.623047\" xlink:href=\"#DejaVuSans-101\"/>\r\n      <use x=\"125.146484\" xlink:href=\"#DejaVuSans-57\"/>\r\n     </g>\r\n    </g>\r\n   </g>\r\n   <g id=\"line2d_14\">\r\n    <path clip-path=\"url(#p1e353b346a)\" d=\"M 45.321307 51.303382 \r\nL 50.568956 146.459925 \r\nL 55.816605 202.469814 \r\nL 61.064254 50.417358 \r\nL 66.311902 78.347988 \r\nL 71.559551 130.718596 \r\nL 76.8072 211.501578 \r\nL 82.054849 32.84682 \r\nL 87.302498 190.399567 \r\nL 92.550147 123.225168 \r\nL 97.797796 126.419704 \r\nL 103.045445 203.891193 \r\nL 108.293094 137.082764 \r\nL 113.540743 103.955108 \r\nL 118.788391 164.8562 \r\nL 124.03604 93.932912 \r\nL 129.283689 163.249908 \r\nL 134.531338 225.354801 \r\nL 139.778987 103.156939 \r\nL 145.026636 52.538812 \r\nL 150.274285 171.23446 \r\nL 155.521934 162.622094 \r\nL 160.769583 117.558263 \r\nL 166.017232 63.795276 \r\nL 171.26488 31.153589 \r\nL 176.512529 126.236694 \r\nL 181.760178 90.767911 \r\nL 187.007827 67.975772 \r\nL 192.255476 147.451309 \r\nL 197.503125 96.641378 \r\nL 202.750774 92.461076 \r\nL 207.998423 150.496319 \r\nL 213.246072 27.682074 \r\nL 218.493721 93.876879 \r\nL 223.74137 179.694001 \r\nL 228.989018 33.491671 \r\nL 234.236667 39.535586 \r\nL 239.484316 154.68601 \r\nL 244.731965 213.644451 \r\nL 249.979614 195.773125 \r\nL 255.227263 175.748605 \r\nL 260.474912 119.343297 \r\nL 265.722561 186.10322 \r\nL 270.97021 69.778368 \r\nL 276.217859 115.035053 \r\nL 281.465507 195.624585 \r\nL 286.713156 60.085978 \r\nL 291.960805 206.733562 \r\nL 297.208454 120.3231 \r\nL 302.456103 152.453098 \r\nL 307.703752 83.305975 \r\nL 312.951401 43.373974 \r\nL 318.19905 173.743137 \r\nL 323.446699 117.298521 \r\nL 328.694348 103.659524 \r\nL 333.941996 200.041566 \r\nL 339.189645 78.872347 \r\nL 344.437294 58.7057 \r\nL 349.684943 135.519936 \r\n\" style=\"fill:none;stroke:#1f77b4;stroke-linecap:square;stroke-width:1.5;\"/>\r\n   </g>\r\n   <g id=\"patch_3\">\r\n    <path d=\"M 30.103125 235.238437 \r\nL 30.103125 17.798438 \r\n\" style=\"fill:none;stroke:#000000;stroke-linecap:square;stroke-linejoin:miter;stroke-width:0.8;\"/>\r\n   </g>\r\n   <g id=\"patch_4\">\r\n    <path d=\"M 364.903125 235.238437 \r\nL 364.903125 17.798438 \r\n\" style=\"fill:none;stroke:#000000;stroke-linecap:square;stroke-linejoin:miter;stroke-width:0.8;\"/>\r\n   </g>\r\n   <g id=\"patch_5\">\r\n    <path d=\"M 30.103125 235.238437 \r\nL 364.903125 235.238437 \r\n\" style=\"fill:none;stroke:#000000;stroke-linecap:square;stroke-linejoin:miter;stroke-width:0.8;\"/>\r\n   </g>\r\n   <g id=\"patch_6\">\r\n    <path d=\"M 30.103125 17.798437 \r\nL 364.903125 17.798437 \r\n\" style=\"fill:none;stroke:#000000;stroke-linecap:square;stroke-linejoin:miter;stroke-width:0.8;\"/>\r\n   </g>\r\n  </g>\r\n </g>\r\n <defs>\r\n  <clipPath id=\"p1e353b346a\">\r\n   <rect height=\"217.44\" width=\"334.8\" x=\"30.103125\" y=\"17.798437\"/>\r\n  </clipPath>\r\n </defs>\r\n</svg>\r\n",
            "image/png": "[encoded data removed]"
          },
          "metadata": {
            "needs_background": "light"
          }
        }
      ]
    },
    {
      "cell_type": "code",
      "metadata": {
        "id": "1KDHC8Zl76g3"
      },
      "source": [
        ""
      ],
      "execution_count": null,
      "outputs": []
    },
    {
      "cell_type": "markdown",
      "metadata": {
        "id": "JAUj8ESCFuib"
      },
      "source": [
        "### Ejecutar Transferencia"
      ]
    },
    {
      "cell_type": "code",
      "metadata": {
        "id": "xK1q-CnRCF7t",
        "outputId": "36fb6cd8-7663-4148-ba72-16913099f984",
        "colab": {
          "base_uri": "https://localhost:8080/",
          "height": 444
        },
        "tags": []
      },
      "source": [
        "account_stmnt = getAccountStatement(product=df_transactions.iloc[0]['product'])\n",
        "account_stmnt"
      ],
      "execution_count": 31,
      "outputs": [
        {
          "output_type": "stream",
          "name": "stdout",
          "text": "Getting account statement for product 1530414\nFound 59 transactions from 2010-01-13 00:00:00 to 2020-11-23 00:00:00\n"
        },
        {
          "output_type": "execute_result",
          "data": {
            "text/plain": "         id nature accounting_date        amount  product           mvt\n0   1803886     Dr      2010-01-13  8.706350e+08  1530414 -8.706350e+08\n1   2572823     Cr      2010-02-15  3.964395e+08  1530414  3.964395e+08\n2   4827171     Cr      2010-04-11  1.173243e+08  1530414  1.173243e+08\n3   1068506     Cr      2010-07-06  8.750503e+08  1530414  8.750503e+08\n4   7103953     Cr      2010-08-09  7.358630e+08  1530414  7.358630e+08\n5   1628209     Cr      2010-11-07  4.748835e+08  1530414  4.748835e+08\n6   8604327     Cr      2010-11-25  7.231608e+07  1530414  7.231608e+07\n7   6632952     Cr      2010-12-05  9.626099e+08  1530414  9.626099e+08\n8   2149501     Cr      2011-02-06  1.774742e+08  1530414  1.774742e+08\n9   2548092     Cr      2011-02-28  5.122257e+08  1530414  5.122257e+08\n10  5718117     Cr      2011-03-07  4.963063e+08  1530414  4.963063e+08\n11  5838132     Cr      2011-03-09  1.102411e+08  1530414  1.102411e+08\n12  6447541     Cr      2011-09-20  4.431689e+08  1530414  4.431689e+08\n13  5474032     Cr      2011-11-15  6.082546e+08  1530414  6.082546e+08\n14  4479056     Cr      2011-11-19  3.047649e+08  1530414  3.047649e+08\n15  4782822     Cr      2012-02-01  6.581984e+08  1530414  6.581984e+08\n16   177543     Cr      2012-02-03  3.127696e+08  1530414  3.127696e+08\n17  6587075     Cr      2012-03-31  3.281037e+06  1530414  3.281037e+06\n18  3717522     Cr      2012-06-13  6.122321e+08  1530414  6.122321e+08\n19  6171928     Cr      2012-06-19  8.644784e+08  1530414  8.644784e+08\n20  2210281     Cr      2012-07-19  2.729800e+08  1530414  2.729800e+08\n21  7059356     Cr      2013-02-18  3.158982e+08  1530414  3.158982e+08\n22  8244615     Dr      2013-02-19  5.404657e+08  1530414 -5.404657e+08\n23  1912035     Cr      2013-04-28  8.083839e+08  1530414  8.083839e+08\n24  6974546     Cr      2013-05-20  9.710478e+08  1530414  9.710478e+08\n25  4292513     Cr      2013-05-21  4.972183e+08  1530414  4.972183e+08\n26  1069647     Cr      2013-08-15  6.739706e+08  1530414  6.739706e+08\n27  5320143     Cr      2013-09-02  7.875511e+08  1530414  7.875511e+08\n28  4620484     Cr      2013-11-09  3.914991e+08  1530414  3.914991e+08\n29   294312     Cr      2014-05-07  6.447012e+08  1530414  6.447012e+08\n30  5278039     Dr      2015-02-22  6.655330e+08  1530414 -6.655330e+08\n31   793707     Cr      2015-03-15  3.763248e+08  1530414  3.763248e+08\n32   420758     Cr      2015-03-30  9.883475e+08  1530414  9.883475e+08\n33  6165990     Cr      2015-07-26  6.584776e+08  1530414  6.584776e+08\n34  1858694     Cr      2015-08-12  2.308234e+08  1530414  2.308234e+08\n35  5725423     Cr      2015-11-07  9.593964e+08  1530414  9.593964e+08\n36   189487     Cr      2015-12-13  9.292777e+08  1530414  9.292777e+08\n37  7985172     Cr      2015-12-15  3.554462e+08  1530414  3.554462e+08\n38  3346158     Cr      2016-01-04  6.163746e+07  1530414  6.163746e+07\n39  7525881     Cr      2016-01-17  1.506960e+08  1530414  1.506960e+08\n40  6132701     Cr      2016-01-18  2.504846e+08  1530414  2.504846e+08\n41  8239826     Cr      2016-05-10  5.315703e+08  1530414  5.315703e+08\n42  6513826     Cr      2016-07-24  1.988842e+08  1530414  1.988842e+08\n43  8908090     Cr      2016-08-20  7.785682e+08  1530414  7.785682e+08\n44  2477640     Cr      2016-11-11  5.530397e+08  1530414  5.530397e+08\n45  4811712     Dr      2017-01-27  1.514362e+08  1530414 -1.514362e+08\n46  8230147     Cr      2017-02-03  8.268685e+08  1530414  8.268685e+08\n47  3233679     Cr      2017-02-06  9.607663e+07  1530414  9.607663e+07\n48  1354877     Cr      2017-03-09  5.266876e+08  1530414  5.266876e+08\n49  4585094     Cr      2017-07-03  3.665736e+08  1530414  3.665736e+08\n50  7140334     Cr      2018-05-21  7.111558e+08  1530414  7.111558e+08\n51  7068902     Cr      2018-07-02  9.101498e+08  1530414  9.101498e+08\n52  7965502     Cr      2018-07-06  2.604785e+08  1530414  2.604785e+08\n53  9226613     Dr      2019-05-21  5.417601e+08  1530414 -5.417601e+08\n54  5013643     Cr      2019-08-09  6.097276e+08  1530414  6.097276e+08\n55  3811006     Cr      2019-10-01  1.294250e+08  1530414  1.294250e+08\n56  7183025     Cr      2019-10-02  7.332500e+08  1530414  7.332500e+08\n57  4233189     Dr      2020-06-02  8.337469e+08  1530414 -8.337469e+08\n58  7730156     Cr      2020-11-23  4.509569e+08  1530414  4.509569e+08",
            "text/html": "<div>\n<style scoped>\n    .dataframe tbody tr th:only-of-type {\n        vertical-align: middle;\n    }\n\n    .dataframe tbody tr th {\n        vertical-align: top;\n    }\n\n    .dataframe thead th {\n        text-align: right;\n    }\n</style>\n<table border=\"1\" class=\"dataframe\">\n  <thead>\n    <tr style=\"text-align: right;\">\n      <th></th>\n      <th>id</th>\n      <th>nature</th>\n      <th>accounting_date</th>\n      <th>amount</th>\n      <th>product</th>\n      <th>mvt</th>\n    </tr>\n  </thead>\n  <tbody>\n    <tr>\n      <th>0</th>\n      <td>1803886</td>\n      <td>Dr</td>\n      <td>2010-01-13</td>\n      <td>8.706350e+08</td>\n      <td>1530414</td>\n      <td>-8.706350e+08</td>\n    </tr>\n    <tr>\n      <th>1</th>\n      <td>2572823</td>\n      <td>Cr</td>\n      <td>2010-02-15</td>\n      <td>3.964395e+08</td>\n      <td>1530414</td>\n      <td>3.964395e+08</td>\n    </tr>\n    <tr>\n      <th>2</th>\n      <td>4827171</td>\n      <td>Cr</td>\n      <td>2010-04-11</td>\n      <td>1.173243e+08</td>\n      <td>1530414</td>\n      <td>1.173243e+08</td>\n    </tr>\n    <tr>\n      <th>3</th>\n      <td>1068506</td>\n      <td>Cr</td>\n      <td>2010-07-06</td>\n      <td>8.750503e+08</td>\n      <td>1530414</td>\n      <td>8.750503e+08</td>\n    </tr>\n    <tr>\n      <th>4</th>\n      <td>7103953</td>\n      <td>Cr</td>\n      <td>2010-08-09</td>\n      <td>7.358630e+08</td>\n      <td>1530414</td>\n      <td>7.358630e+08</td>\n    </tr>\n    <tr>\n      <th>5</th>\n      <td>1628209</td>\n      <td>Cr</td>\n      <td>2010-11-07</td>\n      <td>4.748835e+08</td>\n      <td>1530414</td>\n      <td>4.748835e+08</td>\n    </tr>\n    <tr>\n      <th>6</th>\n      <td>8604327</td>\n      <td>Cr</td>\n      <td>2010-11-25</td>\n      <td>7.231608e+07</td>\n      <td>1530414</td>\n      <td>7.231608e+07</td>\n    </tr>\n    <tr>\n      <th>7</th>\n      <td>6632952</td>\n      <td>Cr</td>\n      <td>2010-12-05</td>\n      <td>9.626099e+08</td>\n      <td>1530414</td>\n      <td>9.626099e+08</td>\n    </tr>\n    <tr>\n      <th>8</th>\n      <td>2149501</td>\n      <td>Cr</td>\n      <td>2011-02-06</td>\n      <td>1.774742e+08</td>\n      <td>1530414</td>\n      <td>1.774742e+08</td>\n    </tr>\n    <tr>\n      <th>9</th>\n      <td>2548092</td>\n      <td>Cr</td>\n      <td>2011-02-28</td>\n      <td>5.122257e+08</td>\n      <td>1530414</td>\n      <td>5.122257e+08</td>\n    </tr>\n    <tr>\n      <th>10</th>\n      <td>5718117</td>\n      <td>Cr</td>\n      <td>2011-03-07</td>\n      <td>4.963063e+08</td>\n      <td>1530414</td>\n      <td>4.963063e+08</td>\n    </tr>\n    <tr>\n      <th>11</th>\n      <td>5838132</td>\n      <td>Cr</td>\n      <td>2011-03-09</td>\n      <td>1.102411e+08</td>\n      <td>1530414</td>\n      <td>1.102411e+08</td>\n    </tr>\n    <tr>\n      <th>12</th>\n      <td>6447541</td>\n      <td>Cr</td>\n      <td>2011-09-20</td>\n      <td>4.431689e+08</td>\n      <td>1530414</td>\n      <td>4.431689e+08</td>\n    </tr>\n    <tr>\n      <th>13</th>\n      <td>5474032</td>\n      <td>Cr</td>\n      <td>2011-11-15</td>\n      <td>6.082546e+08</td>\n      <td>1530414</td>\n      <td>6.082546e+08</td>\n    </tr>\n    <tr>\n      <th>14</th>\n      <td>4479056</td>\n      <td>Cr</td>\n      <td>2011-11-19</td>\n      <td>3.047649e+08</td>\n      <td>1530414</td>\n      <td>3.047649e+08</td>\n    </tr>\n    <tr>\n      <th>15</th>\n      <td>4782822</td>\n      <td>Cr</td>\n      <td>2012-02-01</td>\n      <td>6.581984e+08</td>\n      <td>1530414</td>\n      <td>6.581984e+08</td>\n    </tr>\n    <tr>\n      <th>16</th>\n      <td>177543</td>\n      <td>Cr</td>\n      <td>2012-02-03</td>\n      <td>3.127696e+08</td>\n      <td>1530414</td>\n      <td>3.127696e+08</td>\n    </tr>\n    <tr>\n      <th>17</th>\n      <td>6587075</td>\n      <td>Cr</td>\n      <td>2012-03-31</td>\n      <td>3.281037e+06</td>\n      <td>1530414</td>\n      <td>3.281037e+06</td>\n    </tr>\n    <tr>\n      <th>18</th>\n      <td>3717522</td>\n      <td>Cr</td>\n      <td>2012-06-13</td>\n      <td>6.122321e+08</td>\n      <td>1530414</td>\n      <td>6.122321e+08</td>\n    </tr>\n    <tr>\n      <th>19</th>\n      <td>6171928</td>\n      <td>Cr</td>\n      <td>2012-06-19</td>\n      <td>8.644784e+08</td>\n      <td>1530414</td>\n      <td>8.644784e+08</td>\n    </tr>\n    <tr>\n      <th>20</th>\n      <td>2210281</td>\n      <td>Cr</td>\n      <td>2012-07-19</td>\n      <td>2.729800e+08</td>\n      <td>1530414</td>\n      <td>2.729800e+08</td>\n    </tr>\n    <tr>\n      <th>21</th>\n      <td>7059356</td>\n      <td>Cr</td>\n      <td>2013-02-18</td>\n      <td>3.158982e+08</td>\n      <td>1530414</td>\n      <td>3.158982e+08</td>\n    </tr>\n    <tr>\n      <th>22</th>\n      <td>8244615</td>\n      <td>Dr</td>\n      <td>2013-02-19</td>\n      <td>5.404657e+08</td>\n      <td>1530414</td>\n      <td>-5.404657e+08</td>\n    </tr>\n    <tr>\n      <th>23</th>\n      <td>1912035</td>\n      <td>Cr</td>\n      <td>2013-04-28</td>\n      <td>8.083839e+08</td>\n      <td>1530414</td>\n      <td>8.083839e+08</td>\n    </tr>\n    <tr>\n      <th>24</th>\n      <td>6974546</td>\n      <td>Cr</td>\n      <td>2013-05-20</td>\n      <td>9.710478e+08</td>\n      <td>1530414</td>\n      <td>9.710478e+08</td>\n    </tr>\n    <tr>\n      <th>25</th>\n      <td>4292513</td>\n      <td>Cr</td>\n      <td>2013-05-21</td>\n      <td>4.972183e+08</td>\n      <td>1530414</td>\n      <td>4.972183e+08</td>\n    </tr>\n    <tr>\n      <th>26</th>\n      <td>1069647</td>\n      <td>Cr</td>\n      <td>2013-08-15</td>\n      <td>6.739706e+08</td>\n      <td>1530414</td>\n      <td>6.739706e+08</td>\n    </tr>\n    <tr>\n      <th>27</th>\n      <td>5320143</td>\n      <td>Cr</td>\n      <td>2013-09-02</td>\n      <td>7.875511e+08</td>\n      <td>1530414</td>\n      <td>7.875511e+08</td>\n    </tr>\n    <tr>\n      <th>28</th>\n      <td>4620484</td>\n      <td>Cr</td>\n      <td>2013-11-09</td>\n      <td>3.914991e+08</td>\n      <td>1530414</td>\n      <td>3.914991e+08</td>\n    </tr>\n    <tr>\n      <th>29</th>\n      <td>294312</td>\n      <td>Cr</td>\n      <td>2014-05-07</td>\n      <td>6.447012e+08</td>\n      <td>1530414</td>\n      <td>6.447012e+08</td>\n    </tr>\n    <tr>\n      <th>30</th>\n      <td>5278039</td>\n      <td>Dr</td>\n      <td>2015-02-22</td>\n      <td>6.655330e+08</td>\n      <td>1530414</td>\n      <td>-6.655330e+08</td>\n    </tr>\n    <tr>\n      <th>31</th>\n      <td>793707</td>\n      <td>Cr</td>\n      <td>2015-03-15</td>\n      <td>3.763248e+08</td>\n      <td>1530414</td>\n      <td>3.763248e+08</td>\n    </tr>\n    <tr>\n      <th>32</th>\n      <td>420758</td>\n      <td>Cr</td>\n      <td>2015-03-30</td>\n      <td>9.883475e+08</td>\n      <td>1530414</td>\n      <td>9.883475e+08</td>\n    </tr>\n    <tr>\n      <th>33</th>\n      <td>6165990</td>\n      <td>Cr</td>\n      <td>2015-07-26</td>\n      <td>6.584776e+08</td>\n      <td>1530414</td>\n      <td>6.584776e+08</td>\n    </tr>\n    <tr>\n      <th>34</th>\n      <td>1858694</td>\n      <td>Cr</td>\n      <td>2015-08-12</td>\n      <td>2.308234e+08</td>\n      <td>1530414</td>\n      <td>2.308234e+08</td>\n    </tr>\n    <tr>\n      <th>35</th>\n      <td>5725423</td>\n      <td>Cr</td>\n      <td>2015-11-07</td>\n      <td>9.593964e+08</td>\n      <td>1530414</td>\n      <td>9.593964e+08</td>\n    </tr>\n    <tr>\n      <th>36</th>\n      <td>189487</td>\n      <td>Cr</td>\n      <td>2015-12-13</td>\n      <td>9.292777e+08</td>\n      <td>1530414</td>\n      <td>9.292777e+08</td>\n    </tr>\n    <tr>\n      <th>37</th>\n      <td>7985172</td>\n      <td>Cr</td>\n      <td>2015-12-15</td>\n      <td>3.554462e+08</td>\n      <td>1530414</td>\n      <td>3.554462e+08</td>\n    </tr>\n    <tr>\n      <th>38</th>\n      <td>3346158</td>\n      <td>Cr</td>\n      <td>2016-01-04</td>\n      <td>6.163746e+07</td>\n      <td>1530414</td>\n      <td>6.163746e+07</td>\n    </tr>\n    <tr>\n      <th>39</th>\n      <td>7525881</td>\n      <td>Cr</td>\n      <td>2016-01-17</td>\n      <td>1.506960e+08</td>\n      <td>1530414</td>\n      <td>1.506960e+08</td>\n    </tr>\n    <tr>\n      <th>40</th>\n      <td>6132701</td>\n      <td>Cr</td>\n      <td>2016-01-18</td>\n      <td>2.504846e+08</td>\n      <td>1530414</td>\n      <td>2.504846e+08</td>\n    </tr>\n    <tr>\n      <th>41</th>\n      <td>8239826</td>\n      <td>Cr</td>\n      <td>2016-05-10</td>\n      <td>5.315703e+08</td>\n      <td>1530414</td>\n      <td>5.315703e+08</td>\n    </tr>\n    <tr>\n      <th>42</th>\n      <td>6513826</td>\n      <td>Cr</td>\n      <td>2016-07-24</td>\n      <td>1.988842e+08</td>\n      <td>1530414</td>\n      <td>1.988842e+08</td>\n    </tr>\n    <tr>\n      <th>43</th>\n      <td>8908090</td>\n      <td>Cr</td>\n      <td>2016-08-20</td>\n      <td>7.785682e+08</td>\n      <td>1530414</td>\n      <td>7.785682e+08</td>\n    </tr>\n    <tr>\n      <th>44</th>\n      <td>2477640</td>\n      <td>Cr</td>\n      <td>2016-11-11</td>\n      <td>5.530397e+08</td>\n      <td>1530414</td>\n      <td>5.530397e+08</td>\n    </tr>\n    <tr>\n      <th>45</th>\n      <td>4811712</td>\n      <td>Dr</td>\n      <td>2017-01-27</td>\n      <td>1.514362e+08</td>\n      <td>1530414</td>\n      <td>-1.514362e+08</td>\n    </tr>\n    <tr>\n      <th>46</th>\n      <td>8230147</td>\n      <td>Cr</td>\n      <td>2017-02-03</td>\n      <td>8.268685e+08</td>\n      <td>1530414</td>\n      <td>8.268685e+08</td>\n    </tr>\n    <tr>\n      <th>47</th>\n      <td>3233679</td>\n      <td>Cr</td>\n      <td>2017-02-06</td>\n      <td>9.607663e+07</td>\n      <td>1530414</td>\n      <td>9.607663e+07</td>\n    </tr>\n    <tr>\n      <th>48</th>\n      <td>1354877</td>\n      <td>Cr</td>\n      <td>2017-03-09</td>\n      <td>5.266876e+08</td>\n      <td>1530414</td>\n      <td>5.266876e+08</td>\n    </tr>\n    <tr>\n      <th>49</th>\n      <td>4585094</td>\n      <td>Cr</td>\n      <td>2017-07-03</td>\n      <td>3.665736e+08</td>\n      <td>1530414</td>\n      <td>3.665736e+08</td>\n    </tr>\n    <tr>\n      <th>50</th>\n      <td>7140334</td>\n      <td>Cr</td>\n      <td>2018-05-21</td>\n      <td>7.111558e+08</td>\n      <td>1530414</td>\n      <td>7.111558e+08</td>\n    </tr>\n    <tr>\n      <th>51</th>\n      <td>7068902</td>\n      <td>Cr</td>\n      <td>2018-07-02</td>\n      <td>9.101498e+08</td>\n      <td>1530414</td>\n      <td>9.101498e+08</td>\n    </tr>\n    <tr>\n      <th>52</th>\n      <td>7965502</td>\n      <td>Cr</td>\n      <td>2018-07-06</td>\n      <td>2.604785e+08</td>\n      <td>1530414</td>\n      <td>2.604785e+08</td>\n    </tr>\n    <tr>\n      <th>53</th>\n      <td>9226613</td>\n      <td>Dr</td>\n      <td>2019-05-21</td>\n      <td>5.417601e+08</td>\n      <td>1530414</td>\n      <td>-5.417601e+08</td>\n    </tr>\n    <tr>\n      <th>54</th>\n      <td>5013643</td>\n      <td>Cr</td>\n      <td>2019-08-09</td>\n      <td>6.097276e+08</td>\n      <td>1530414</td>\n      <td>6.097276e+08</td>\n    </tr>\n    <tr>\n      <th>55</th>\n      <td>3811006</td>\n      <td>Cr</td>\n      <td>2019-10-01</td>\n      <td>1.294250e+08</td>\n      <td>1530414</td>\n      <td>1.294250e+08</td>\n    </tr>\n    <tr>\n      <th>56</th>\n      <td>7183025</td>\n      <td>Cr</td>\n      <td>2019-10-02</td>\n      <td>7.332500e+08</td>\n      <td>1530414</td>\n      <td>7.332500e+08</td>\n    </tr>\n    <tr>\n      <th>57</th>\n      <td>4233189</td>\n      <td>Dr</td>\n      <td>2020-06-02</td>\n      <td>8.337469e+08</td>\n      <td>1530414</td>\n      <td>-8.337469e+08</td>\n    </tr>\n    <tr>\n      <th>58</th>\n      <td>7730156</td>\n      <td>Cr</td>\n      <td>2020-11-23</td>\n      <td>4.509569e+08</td>\n      <td>1530414</td>\n      <td>4.509569e+08</td>\n    </tr>\n  </tbody>\n</table>\n</div>"
          },
          "metadata": {},
          "execution_count": 31
        }
      ]
    },
    {
      "cell_type": "markdown",
      "metadata": {},
      "source": [
        "### Generar tablas"
      ]
    },
    {
      "cell_type": "code",
      "execution_count": 27,
      "metadata": {},
      "outputs": [],
      "source": [
        "df_deposits.to_csv(\"db/deposits.csv\")\n",
        "df_loans.to_csv(\"db/loans.csv\")\n",
        "df_transactions.to_csv(\"db/transactions.csv\")\n",
        "df_clients.to_csv(\"db/clients.csv\")\n",
        "df_CreditCards.to_csv(\"db/CreditCards.csv\")\n"
      ]
    },
    {
      "cell_type": "markdown",
      "metadata": {},
      "source": [
        "## Pruebas"
      ]
    },
    {
      "cell_type": "code",
      "execution_count": 33,
      "metadata": {
        "tags": []
      },
      "outputs": [
        {
          "output_type": "stream",
          "name": "stdout",
          "text": "Empty DataFrame\nColumns: [Unnamed: 0, id, interest_rate, balance, owner, type]\nIndex: []\n"
        }
      ],
      "source": [
        "deposits = pd.read_csv(\"db/deposits.csv\")\n",
        "loans = pd.read_csv(\"db/loans.csv\")\n",
        "\n",
        "dep2 = deposits[deposits.owner == '6-832-434']\n",
        "loans2 = loans[loans.owner == '6-832-434']\n",
        "print(dep2)\n",
        "client_products = []\n",
        "for i in range(len(dep2)):\n",
        "    #print(dep2.iloc[i].type)\n",
        "    if eval(dep2.iloc[i].type) == SavingAccount:\n",
        "        client_products.append(SavingAccount(\n",
        "            id = str(dep2.iloc[i].id),\n",
        "            interest_rate = dep2.iloc[i].interest_rate,\n",
        "            balance = float(dep2.iloc[i].balance),\n",
        "            owner = dep2.iloc[i].owner\n",
        "        ))\n",
        "    if eval(dep2.iloc[i].type) == FixedTermDeposit:\n",
        "        client_products.append(FixedTermDeposit(\n",
        "            id = str(dep2.iloc[i].id),\n",
        "            interest_rate = dep2.iloc[i].interest_rate,\n",
        "            balance = float(dep2.iloc[i].balance),\n",
        "            owner = dep2.iloc[i].owner\n",
        "        ))\n",
        "for i in range(len(loans2)):\n",
        "\n",
        "    client_products.append(Loan(\n",
        "            id = str(loans2.iloc[i].id),\n",
        "            interest_rate = loans2.iloc[i].interest_rate,\n",
        "            balance = float(loans2.iloc[i].balance),\n",
        "            owner = loans2.iloc[i].owner,\n",
        "            length = loans2.iloc[i].length,\n",
        "            base = loans2.iloc[i].base\n",
        "        ))\n"
      ]
    },
    {
      "cell_type": "code",
      "execution_count": 34,
      "metadata": {
        "tags": []
      },
      "outputs": [
        {
          "output_type": "execute_result",
          "data": {
            "text/plain": "[]"
          },
          "metadata": {},
          "execution_count": 34
        }
      ],
      "source": [
        "p = Client.getClientProducts(client='4-523-333')\n",
        "p"
      ]
    },
    {
      "cell_type": "code",
      "metadata": {
        "id": "tyEnZBhPC_M2",
        "outputId": "5ffd2331-0b3d-4e80-db32-271c804d7ff8",
        "colab": {
          "base_uri": "https://localhost:8080/",
          "height": 308
        },
        "tags": []
      },
      "source": [
        "import pandas as pd\n",
        "from models import Product\n",
        "pd.options.display.float_format = '${:,.2f}'.format\n",
        "print(os.getcwd())\n",
        "deposits = pd.read_csv(\"db/deposits.csv\")"
      ],
      "execution_count": 35,
      "outputs": [
        {
          "output_type": "stream",
          "name": "stdout",
          "text": "d:\\AQUI\\banking-system-emulator\\flask-app\\app\n"
        }
      ]
    },
    {
      "cell_type": "code",
      "metadata": {
        "id": "dSZiJj94DAx8"
      },
      "source": [
        "Client.getClientProducts(client='8-481-903')"
      ],
      "execution_count": 36,
      "outputs": [
        {
          "output_type": "execute_result",
          "data": {
            "text/plain": "[]"
          },
          "metadata": {},
          "execution_count": 36
        }
      ]
    },
    {
      "cell_type": "code",
      "execution_count": 37,
      "metadata": {},
      "outputs": [],
      "source": [
        "#Product.getProductBalance(id=7721659)"
      ]
    },
    {
      "cell_type": "code",
      "execution_count": 38,
      "metadata": {},
      "outputs": [
        {
          "output_type": "execute_result",
          "data": {
            "text/plain": "&#39;14669322166.46&#39;"
          },
          "metadata": {},
          "execution_count": 38
        }
      ],
      "source": [
        "'{:.2f}'.format(14669322166.459997)"
      ]
    },
    {
      "cell_type": "code",
      "execution_count": 39,
      "metadata": {},
      "outputs": [
        {
          "output_type": "error",
          "ename": "KeyError",
          "evalue": "&#39;From&#39;",
          "traceback": [
            "\u001b[1;31m---------------------------------------------------------------------------\u001b[0m",
            "\u001b[1;31mKeyError\u001b[0m                                  Traceback (most recent call last)",
            "\u001b[1;32m&lt;ipython-input-39-b13d893ba8e5&gt;\u001b[0m in \u001b[0;36m&lt;module&gt;\u001b[1;34m\u001b[0m\n\u001b[1;32m----&gt; 1\u001b[1;33m \u001b[0ml\u001b[0m \u001b[1;33m=\u001b[0m \u001b[0mLoan\u001b[0m\u001b[1;33m(\u001b[0m\u001b[0mlength\u001b[0m \u001b[1;33m=\u001b[0m \u001b[1;36m12\u001b[0m\u001b[1;33m,\u001b[0m\u001b[0mbase\u001b[0m\u001b[1;33m=\u001b[0m\u001b[1;36m365\u001b[0m\u001b[1;33m,\u001b[0m\u001b[0mbalance\u001b[0m\u001b[1;33m=\u001b[0m\u001b[1;36m500\u001b[0m\u001b[1;33m,\u001b[0m\u001b[0mid\u001b[0m\u001b[1;33m=\u001b[0m\u001b[1;34m&#39;12123&#39;\u001b[0m\u001b[1;33m,\u001b[0m\u001b[0minterest_rate\u001b[0m\u001b[1;33m=\u001b[0m\u001b[1;36m3\u001b[0m\u001b[1;33m,\u001b[0m\u001b[0mowner\u001b[0m\u001b[1;33m=\u001b[0m\u001b[1;34m&quot;&quot;\u001b[0m\u001b[1;33m)\u001b[0m\u001b[1;33m\u001b[0m\u001b[1;33m\u001b[0m\u001b[0m\n\u001b[0m\u001b[0;32m      2\u001b[0m \u001b[0ml\u001b[0m\u001b[1;33m.\u001b[0m\u001b[0mgenerate_amortization_table\u001b[0m\u001b[1;33m(\u001b[0m\u001b[1;33m)\u001b[0m\u001b[1;33m\u001b[0m\u001b[1;33m\u001b[0m\u001b[0m\n",
            "\u001b[1;32md:\\AQUI\\banking-system-emulator\\flask-app\\app\\models.py\u001b[0m in \u001b[0;36m__init__\u001b[1;34m(self, **kwargs)\u001b[0m\n\u001b[0;32m     91\u001b[0m     \u001b[1;31m# duracion del prestamo en meses\u001b[0m\u001b[1;33m\u001b[0m\u001b[1;33m\u001b[0m\u001b[1;33m\u001b[0m\u001b[0m\n\u001b[0;32m     92\u001b[0m     \u001b[0mself\u001b[0m\u001b[1;33m.\u001b[0m\u001b[0mlength\u001b[0m \u001b[1;33m=\u001b[0m \u001b[0mkwargs\u001b[0m\u001b[1;33m[\u001b[0m\u001b[1;34m&#39;length&#39;\u001b[0m\u001b[1;33m]\u001b[0m\u001b[1;33m\u001b[0m\u001b[1;33m\u001b[0m\u001b[0m\n\u001b[1;32m---&gt; 93\u001b[1;33m     \u001b[0mself\u001b[0m\u001b[1;33m.\u001b[0m\u001b[0mFrom\u001b[0m \u001b[1;33m=\u001b[0m \u001b[0mkwargs\u001b[0m\u001b[1;33m[\u001b[0m\u001b[1;34m&#39;From&#39;\u001b[0m\u001b[1;33m]\u001b[0m\u001b[1;33m\u001b[0m\u001b[1;33m\u001b[0m\u001b[0m\n\u001b[0m\u001b[0;32m     94\u001b[0m     \u001b[0mself\u001b[0m\u001b[1;33m.\u001b[0m\u001b[0mtype\u001b[0m \u001b[1;33m=\u001b[0m \u001b[0mself\u001b[0m\u001b[1;33m.\u001b[0m\u001b[0m__class__\u001b[0m\u001b[1;33m.\u001b[0m\u001b[0m__name__\u001b[0m\u001b[1;33m\u001b[0m\u001b[1;33m\u001b[0m\u001b[0m\n\u001b[0;32m     95\u001b[0m     \u001b[1;31m# base del calculo\u001b[0m\u001b[1;33m\u001b[0m\u001b[1;33m\u001b[0m\u001b[1;33m\u001b[0m\u001b[0m\n",
            "\u001b[1;31mKeyError\u001b[0m: &#39;From&#39;"
          ]
        }
      ],
      "source": [
        "l = Loan(length = 12,base=365,balance=500,id='12123',interest_rate=3,owner=\"\")\n",
        "l.generate_amortization_table()"
      ]
    },
    {
      "cell_type": "code",
      "metadata": {
        "id": "4UUFbhsvNrjs",
        "outputId": "250328f9-5a30-4211-8f5d-18957ad9740a",
        "colab": {
          "base_uri": "https://localhost:8080/",
          "height": 54
        },
        "tags": []
      },
      "source": [
        "\n",
        "Transfer.Execute(to=5252856, From= 1409186, amount= 85)\n",
        "\n"
      ],
      "execution_count": 26,
      "outputs": [
        {
          "output_type": "stream",
          "name": "stdout",
          "text": "Executing Bank Transfer\nNo tienes saldo\n"
        }
      ]
    },
    {
      "cell_type": "code",
      "execution_count": null,
      "metadata": {},
      "outputs": [],
      "source": []
    }
  ]
}