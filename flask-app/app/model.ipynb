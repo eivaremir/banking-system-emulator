{
  "nbformat": 4,
  "nbformat_minor": 0,
  "metadata": {
    "colab": {
      "name": "Generator",
      "provenance": [],
      "collapsed_sections": [],
      "toc_visible": true
    },
    "kernelspec": {
      "name": "python_defaultSpec_1601321598731",
      "display_name": "Python 3.6.4 64-bit",
      "metadata": {
        "interpreter": {
          "hash": "68278c61d3e1aa8b0a68d6e1aec80b4b779add6e88511bd22117aeef98c6ed21"
        }
      }
    }
  },
  "cells": [
    {
      "cell_type": "code",
      "metadata": {
        "id": "E7SoPgArqXHy",
        "tags": []
      },
      "source": [
        "import random\n",
        "import string\n",
        "import abc\n",
        "from datetime import datetime\n",
        "from models import *\n",
        "from functions import *\n"
      ],
      "execution_count": 1,
      "outputs": [
        {
          "output_type": "stream",
          "name": "stdout",
          "text": "f:\\Python Projects\\Parcial 2 ADA\\flask-app\\app\n"
        }
      ]
    },
    {
      "cell_type": "code",
      "metadata": {
        "id": "c9Qh31Erqz1O",
        "outputId": "3a4ec0f2-f5a8-4d2f-c280-5d3e561f0e39",
        "colab": {
          "base_uri": "https://localhost:8080/",
          "height": 35
        }
      },
      "source": [
        "rand_str = lambda l : rand_str(l-1)+random.choice(string.ascii_lowercase) if l > 1 else random.choice(string.ascii_lowercase)\n",
        "rand_str(10)"
      ],
      "execution_count": 2,
      "outputs": [
        {
          "output_type": "execute_result",
          "data": {
            "text/plain": "'nxfswclzsn'"
          },
          "metadata": {},
          "execution_count": 2
        }
      ]
    },
    {
      "cell_type": "code",
      "metadata": {
        "id": "xAVLv6gQp9gV"
      },
      "source": [
        "import pandas as pd"
      ],
      "execution_count": 3,
      "outputs": []
    },
    {
      "source": [
        "PRODUCTS = (SavingAccount,FixedTermDeposit,Loan,CreditCard)"
      ],
      "cell_type": "code",
      "metadata": {},
      "execution_count": 4,
      "outputs": []
    },
    {
      "source": [
        "### FUNCIONES"
      ],
      "cell_type": "markdown",
      "metadata": {}
    },
    {
      "cell_type": "code",
      "metadata": {
        "id": "3ybVgLbH3joG"
      },
      "source": [
        "prueba = lambda s: s if (len(df_transactions[df_transactions['id']==s])) == 0 else prueba(random.choice(range(100000,999999)))"
      ],
      "execution_count": 5,
      "outputs": []
    },
    {
      "cell_type": "code",
      "metadata": {
        "id": "JrSzoYYOyuv9"
      },
      "source": [
        "\n",
        "def generate_product_ids():\n",
        "  id = ''\n",
        "  while (id in ids or id == ''):\n",
        "    id = str(random.choice(range(1000000,9999999)))\n",
        "  product_ids.append(id)\n",
        "  return id   \n"
      ],
      "execution_count": 6,
      "outputs": []
    },
    {
      "cell_type": "code",
      "metadata": {
        "id": "m6PQA-KqAgGy"
      },
      "source": [
        "\n",
        "def generate_credit_card_number():\n",
        "  id = ''\n",
        "  while (id in ids or id == ''):\n",
        "    id = str(random.choice(range(1000000000000000,9999999999999999)))\n",
        "  product_ids.append(id)\n",
        "  return id   \n"
      ],
      "execution_count": 7,
      "outputs": []
    },
    {
      "cell_type": "code",
      "metadata": {
        "id": "ZpZtyODFmN8Q"
      },
      "source": [
        "\n",
        "def generate_transaction_id():\n",
        "  id = ''\n",
        "  while (id in ids or id == ''):\n",
        "    id = str(random.choice(range(100000,9999999)))\n",
        "  transaction_ids.append(id)\n",
        "  return id   \n"
      ],
      "execution_count": 8,
      "outputs": []
    },
    {
      "cell_type": "code",
      "metadata": {
        "id": "G4a4dUnRsCuT"
      },
      "source": [
        "\n",
        "def generate_client_id():\n",
        "  id = ''\n",
        "  while (id in ids or id == ''):\n",
        "    id = str(random.choice(range(1,11)))+\"-\"+ str(random.choice(range(100,999)))+\"-\"+ str(random.choice(range(1,999)))\n",
        "  ids.append(id)\n",
        "  return id   \n"
      ],
      "execution_count": 9,
      "outputs": []
    },
    {
      "cell_type": "code",
      "metadata": {
        "id": "pG3mOxQOyVrG"
      },
      "source": [
        "def generate_saving_accounts(n):\n",
        "  accs = []\n",
        "  for i in range(n):\n",
        "    accs.append(SavingAccount(\n",
        "        id = generate_product_ids()\n",
        "    ))\n",
        "  return accs"
      ],
      "execution_count": 10,
      "outputs": []
    },
    {
      "cell_type": "code",
      "metadata": {
        "id": "oESk2bbyq2Ku"
      },
      "source": [
        "def generate_clients(n):\n",
        "  clients = []\n",
        "  for i in range(n):\n",
        "    clients.append(Client(\n",
        "        id = generate_client_id(),\n",
        "        name = rand_str(10) +\" \"+rand_str(15),\n",
        "        products = []\n",
        "    ))\n",
        "  return clients\n"
      ],
      "execution_count": 11,
      "outputs": []
    },
    {
      "cell_type": "code",
      "metadata": {
        "id": "cAFJt99cn7S_"
      },
      "source": [
        "def generate_balance():\n",
        "  n = random.choice(range(0,500000))\n",
        "  cash= (\"${:5.2f}\".format(n))\n",
        "  return cash"
      ],
      "execution_count": 12,
      "outputs": []
    },
    {
      "cell_type": "markdown",
      "metadata": {
        "id": "9vKXu4_M6VYS"
      },
      "source": [
        "## Generar Entidades"
      ]
    },
    {
      "cell_type": "code",
      "metadata": {
        "id": "whLN_1a8ulBU",
        "outputId": "96696bcd-10d6-4d43-9fe6-881a287e7ab0",
        "colab": {
          "base_uri": "https://localhost:8080/",
          "height": 108
        },
        "tags": []
      },
      "source": [
        "%%time\n",
        "ids = []\n",
        "product_ids = []\n",
        "clientes = generate_clients(30)\n",
        "products = []\n",
        "# POR CADA PRODUCTO GENERADO...\n",
        "for cliente in clientes:\n",
        "  # SELECCIONO UNA CANTIDAD DE PRODUCTOS ALEATORIAMENTE\n",
        "  cantidad_productos = random.choice(range(1,5))\n",
        "  \n",
        "  # POR LA CANTIDAD DE PRODUCTOS SELECCIONADOS...\n",
        "  for p in range(0,cantidad_productos):    \n",
        "\n",
        "    # SELECCIONO ALEATORIAMENTE UN TIPO DE PRODUCTO\n",
        "    tipo_producto = PRODUCTS[random.choice(range(0,len(PRODUCTS)))]\n",
        "\n",
        "    # INSTANCIO EL PRODUCTO\n",
        "    if tipo_producto is Loan:\n",
        "      producto = tipo_producto(\n",
        "          id=generate_product_ids(),\n",
        "          interest_rate=random.choice(range(3,17)),\n",
        "          owner = cliente.id,\n",
        "          base= random.choice([365,360]),\n",
        "          length = random.choice(range(1,120)))\n",
        "    elif tipo_producto is CreditCard:\n",
        "      producto = tipo_producto(\n",
        "          id=generate_credit_card_number(),\n",
        "          interest_rate=random.choice(range(1,3)),\n",
        "          owner = cliente.id\n",
        "          )\n",
        "    else:\n",
        "      producto = tipo_producto(\n",
        "          id=generate_product_ids(),\n",
        "          interest_rate=random.choice(range(1,3)),\n",
        "          owner = cliente.id\n",
        "          )\n",
        " \n",
        "    # RELACIONO EL PRODUCTO CON EL CLIENTE ACTUAL\n",
        "    cliente.products.append(producto)\n",
        "    products.append(producto)\n",
        "print(type (tipo_producto.balance))\n",
        "\n",
        "print(\"Productos generados:\",len(products))\n",
        "print(\"Clientes generados:\",len(clientes))"
      ],
      "execution_count": 13,
      "outputs": [
        {
          "output_type": "stream",
          "name": "stdout",
          "text": "<class 'property'>\nProductos generados: 72\nClientes generados: 30\nWall time: 4 ms\n"
        }
      ]
    },
    {
      "cell_type": "code",
      "execution_count": 14,
      "metadata": {},
      "outputs": [
        {
          "output_type": "execute_result",
          "data": {
            "text/plain": "'5-628-340'"
          },
          "metadata": {},
          "execution_count": 14
        }
      ],
      "source": [
        "products[0].owner"
      ]
    },
    {
      "cell_type": "markdown",
      "metadata": {
        "id": "hvKA2DbvRDzz"
      },
      "source": [
        "## Generar transacciones"
      ]
    },
    {
      "cell_type": "code",
      "metadata": {
        "id": "GmbA2deUuwWd",
        "outputId": "a3500a76-8e90-4492-da91-b3092d057177",
        "colab": {
          "base_uri": "https://localhost:8080/",
          "height": 90
        },
        "tags": []
      },
      "source": [
        "%%time\n",
        "MIN_TRX = 10\n",
        "MAX_TRX = 100\n",
        "transactions = []\n",
        "transaction_ids = []\n",
        "\n",
        "for cliente in clientes:\n",
        "  for producto in cliente.products:\n",
        "    \n",
        "    if type(producto) is SavingAccount or type(producto) is FixedTermDeposit :\n",
        "      # SELECCIONAR UN NUMERO ALEATORIO DE TRANSACCIONES PARA CADA PRODUCTO\n",
        "      n_Trx = random.choice(range(MIN_TRX,MAX_TRX))\n",
        "\n",
        "      for trx in range(n_Trx):\n",
        "        month = random.choice(range(1,13))\n",
        "        # SI EL MES ES FEBRERO... ENTRE 1 Y 28\n",
        "        if month == 2: day = random.choice(range(1,29))\n",
        "        # SI EL MES ES PAR EN EL SEGUNDO SEMESTRE O ES IMPAR EN EL PRIMER SEMESTRE... ENTRE 1 Y 31\n",
        "        elif (month % 2 == 0 and month >= 8) or (month % 2 != 0 and month < 8): day = random.choice(range(1,32))\n",
        "        # DE CUALQUIER OTRA FORMA... ENTRE 1 Y 30\n",
        "        else: day = random.choice(range(1,30))\n",
        "        amt = float(str(random.choice(range(1,999999999)))+\".\"+str(random.choice(range(1,99))))\n",
        "        nature = \"Dr\" if random.choice(range(10))==0 else \"Cr\"\n",
        "        mvt = amt*-1 if nature == 'Dr' else amt\n",
        "        transactions.append(Transaction(\n",
        "            id = generate_transaction_id(),\n",
        "            product = producto.id,\n",
        "            nature = nature,\n",
        "            date = datetime(random.choice(range(2010,2020+1)),month ,day),\n",
        "            amt = amt,\n",
        "            mvt = mvt\n",
        "        ))\n",
        "\n",
        "print(\"Transacciones generadas:\",len(transactions))\n",
        "print(\"Media de transacción por cliente:\",len(transactions)/len(products))"
      ],
      "execution_count": 15,
      "outputs": [
        {
          "output_type": "stream",
          "name": "stdout",
          "text": "Transacciones generadas: 2036\nMedia de transacción por cliente: 28.27777777777778\nWall time: 85.9 ms\n"
        }
      ]
    },
    {
      "cell_type": "markdown",
      "metadata": {
        "id": "eNUo3sgGtz7D"
      },
      "source": [
        "## Generar tablas"
      ]
    },
    {
      "cell_type": "code",
      "metadata": {
        "id": "3zNQqeK1vovC"
      },
      "source": [
        "df_loans =[]\n",
        "df_deposits = []\n",
        "for p in products:\n",
        "  if type(p) is Loan:\n",
        "    df_loans.append(p)\n",
        "  if type(p) is FixedTermDeposit or type(p) is SavingAccount:\n",
        "    df_deposits.append(p)\n"
      ],
      "execution_count": 16,
      "outputs": []
    },
    {
      "cell_type": "code",
      "execution_count": 17,
      "metadata": {},
      "outputs": [
        {
          "output_type": "execute_result",
          "data": {
            "text/plain": "          id                 client_name\n0  5-628-340  ckyeexbqzg hmqgooabyvodtxw\n1  7-736-777  jskgkneuaz sufgnygwyuexgoc\n2   7-196-92  bykzhketti xcdeloieuzrsvkz",
            "text/html": "<div>\n<style scoped>\n    .dataframe tbody tr th:only-of-type {\n        vertical-align: middle;\n    }\n\n    .dataframe tbody tr th {\n        vertical-align: top;\n    }\n\n    .dataframe thead th {\n        text-align: right;\n    }\n</style>\n<table border=\"1\" class=\"dataframe\">\n  <thead>\n    <tr style=\"text-align: right;\">\n      <th></th>\n      <th>id</th>\n      <th>client_name</th>\n    </tr>\n  </thead>\n  <tbody>\n    <tr>\n      <th>0</th>\n      <td>5-628-340</td>\n      <td>ckyeexbqzg hmqgooabyvodtxw</td>\n    </tr>\n    <tr>\n      <th>1</th>\n      <td>7-736-777</td>\n      <td>jskgkneuaz sufgnygwyuexgoc</td>\n    </tr>\n    <tr>\n      <th>2</th>\n      <td>7-196-92</td>\n      <td>bykzhketti xcdeloieuzrsvkz</td>\n    </tr>\n  </tbody>\n</table>\n</div>"
          },
          "metadata": {},
          "execution_count": 17
        }
      ],
      "source": [
        "df_clients = pd.DataFrame.from_records([l.to_dict() for l in clientes])\n",
        "df_clients.head(3)"
      ]
    },
    {
      "cell_type": "code",
      "metadata": {
        "id": "Fx51ZtvcyIKP",
        "outputId": "3b94c538-6481-445c-cda9-c7306950c3f7",
        "colab": {
          "base_uri": "https://localhost:8080/",
          "height": 108
        }
      },
      "source": [
        "df_loans = pd.DataFrame.from_records([l.to_dict() for l in df_loans])\n",
        "df_loans.head(3)"
      ],
      "execution_count": 18,
      "outputs": [
        {
          "output_type": "execute_result",
          "data": {
            "text/plain": "        id  interest_rate  balance      owner  type  length  base\n0  3192208             11      0.0  5-628-340  Loan      33   360\n1  8287873             11      0.0   7-196-92  Loan       9   365\n2  5119058             14      0.0   7-196-92  Loan     112   360",
            "text/html": "<div>\n<style scoped>\n    .dataframe tbody tr th:only-of-type {\n        vertical-align: middle;\n    }\n\n    .dataframe tbody tr th {\n        vertical-align: top;\n    }\n\n    .dataframe thead th {\n        text-align: right;\n    }\n</style>\n<table border=\"1\" class=\"dataframe\">\n  <thead>\n    <tr style=\"text-align: right;\">\n      <th></th>\n      <th>id</th>\n      <th>interest_rate</th>\n      <th>balance</th>\n      <th>owner</th>\n      <th>type</th>\n      <th>length</th>\n      <th>base</th>\n    </tr>\n  </thead>\n  <tbody>\n    <tr>\n      <th>0</th>\n      <td>3192208</td>\n      <td>11</td>\n      <td>0.0</td>\n      <td>5-628-340</td>\n      <td>Loan</td>\n      <td>33</td>\n      <td>360</td>\n    </tr>\n    <tr>\n      <th>1</th>\n      <td>8287873</td>\n      <td>11</td>\n      <td>0.0</td>\n      <td>7-196-92</td>\n      <td>Loan</td>\n      <td>9</td>\n      <td>365</td>\n    </tr>\n    <tr>\n      <th>2</th>\n      <td>5119058</td>\n      <td>14</td>\n      <td>0.0</td>\n      <td>7-196-92</td>\n      <td>Loan</td>\n      <td>112</td>\n      <td>360</td>\n    </tr>\n  </tbody>\n</table>\n</div>"
          },
          "metadata": {},
          "execution_count": 18
        }
      ]
    },
    {
      "cell_type": "code",
      "metadata": {
        "id": "ok9-zGQDzGwL",
        "outputId": "0288c59e-a62a-469f-8755-541577972f2f",
        "colab": {
          "base_uri": "https://localhost:8080/",
          "height": 138
        }
      },
      "source": [
        "df_deposits = pd.DataFrame.from_records([d.to_dict() for d in df_deposits])\n",
        "df_deposits.head(3)"
      ],
      "execution_count": 19,
      "outputs": [
        {
          "output_type": "execute_result",
          "data": {
            "text/plain": "        id  interest_rate  balance      owner              type\n0  8690083              1      0.0  5-628-340     SavingAccount\n1  8159004              2      0.0  5-628-340  FixedTermDeposit\n2  5186587              1      0.0  5-628-340  FixedTermDeposit",
            "text/html": "<div>\n<style scoped>\n    .dataframe tbody tr th:only-of-type {\n        vertical-align: middle;\n    }\n\n    .dataframe tbody tr th {\n        vertical-align: top;\n    }\n\n    .dataframe thead th {\n        text-align: right;\n    }\n</style>\n<table border=\"1\" class=\"dataframe\">\n  <thead>\n    <tr style=\"text-align: right;\">\n      <th></th>\n      <th>id</th>\n      <th>interest_rate</th>\n      <th>balance</th>\n      <th>owner</th>\n      <th>type</th>\n    </tr>\n  </thead>\n  <tbody>\n    <tr>\n      <th>0</th>\n      <td>8690083</td>\n      <td>1</td>\n      <td>0.0</td>\n      <td>5-628-340</td>\n      <td>SavingAccount</td>\n    </tr>\n    <tr>\n      <th>1</th>\n      <td>8159004</td>\n      <td>2</td>\n      <td>0.0</td>\n      <td>5-628-340</td>\n      <td>FixedTermDeposit</td>\n    </tr>\n    <tr>\n      <th>2</th>\n      <td>5186587</td>\n      <td>1</td>\n      <td>0.0</td>\n      <td>5-628-340</td>\n      <td>FixedTermDeposit</td>\n    </tr>\n  </tbody>\n</table>\n</div>"
          },
          "metadata": {},
          "execution_count": 19
        }
      ]
    },
    {
      "cell_type": "code",
      "metadata": {
        "id": "whW8zJyWpISf",
        "outputId": "4ee3f123-9721-402c-ee88-f676eac40d45",
        "colab": {
          "base_uri": "https://localhost:8080/",
          "height": 407
        }
      },
      "source": [
        "df_transactions = pd.DataFrame.from_records([t.to_dict() for t in transactions])\n",
        "df_transactions"
      ],
      "execution_count": 20,
      "outputs": [
        {
          "output_type": "execute_result",
          "data": {
            "text/plain": "           id nature accounting_date        amount  product           mvt\n0     3851574     Cr      2010-09-14  8.079146e+08  8690083  8.079146e+08\n1     4976437     Cr      2012-12-20  5.794695e+08  8690083  5.794695e+08\n2     9913947     Cr      2012-01-18  1.964570e+08  8690083  1.964570e+08\n3     2938703     Cr      2011-10-18  4.590003e+08  8690083  4.590003e+08\n4     8671870     Dr      2011-08-15  5.852826e+07  8690083 -5.852826e+07\n...       ...    ...             ...           ...      ...           ...\n2031  3979404     Cr      2019-05-30  6.922998e+08  8963729  6.922998e+08\n2032  6131464     Cr      2013-12-04  2.803535e+07  8963729  2.803535e+07\n2033  1507351     Cr      2013-07-08  6.635731e+08  8963729  6.635731e+08\n2034   934467     Cr      2012-05-08  2.352965e+08  8963729  2.352965e+08\n2035  4992045     Dr      2020-01-24  8.142106e+08  8963729 -8.142106e+08\n\n[2036 rows x 6 columns]",
            "text/html": "<div>\n<style scoped>\n    .dataframe tbody tr th:only-of-type {\n        vertical-align: middle;\n    }\n\n    .dataframe tbody tr th {\n        vertical-align: top;\n    }\n\n    .dataframe thead th {\n        text-align: right;\n    }\n</style>\n<table border=\"1\" class=\"dataframe\">\n  <thead>\n    <tr style=\"text-align: right;\">\n      <th></th>\n      <th>id</th>\n      <th>nature</th>\n      <th>accounting_date</th>\n      <th>amount</th>\n      <th>product</th>\n      <th>mvt</th>\n    </tr>\n  </thead>\n  <tbody>\n    <tr>\n      <th>0</th>\n      <td>3851574</td>\n      <td>Cr</td>\n      <td>2010-09-14</td>\n      <td>8.079146e+08</td>\n      <td>8690083</td>\n      <td>8.079146e+08</td>\n    </tr>\n    <tr>\n      <th>1</th>\n      <td>4976437</td>\n      <td>Cr</td>\n      <td>2012-12-20</td>\n      <td>5.794695e+08</td>\n      <td>8690083</td>\n      <td>5.794695e+08</td>\n    </tr>\n    <tr>\n      <th>2</th>\n      <td>9913947</td>\n      <td>Cr</td>\n      <td>2012-01-18</td>\n      <td>1.964570e+08</td>\n      <td>8690083</td>\n      <td>1.964570e+08</td>\n    </tr>\n    <tr>\n      <th>3</th>\n      <td>2938703</td>\n      <td>Cr</td>\n      <td>2011-10-18</td>\n      <td>4.590003e+08</td>\n      <td>8690083</td>\n      <td>4.590003e+08</td>\n    </tr>\n    <tr>\n      <th>4</th>\n      <td>8671870</td>\n      <td>Dr</td>\n      <td>2011-08-15</td>\n      <td>5.852826e+07</td>\n      <td>8690083</td>\n      <td>-5.852826e+07</td>\n    </tr>\n    <tr>\n      <th>...</th>\n      <td>...</td>\n      <td>...</td>\n      <td>...</td>\n      <td>...</td>\n      <td>...</td>\n      <td>...</td>\n    </tr>\n    <tr>\n      <th>2031</th>\n      <td>3979404</td>\n      <td>Cr</td>\n      <td>2019-05-30</td>\n      <td>6.922998e+08</td>\n      <td>8963729</td>\n      <td>6.922998e+08</td>\n    </tr>\n    <tr>\n      <th>2032</th>\n      <td>6131464</td>\n      <td>Cr</td>\n      <td>2013-12-04</td>\n      <td>2.803535e+07</td>\n      <td>8963729</td>\n      <td>2.803535e+07</td>\n    </tr>\n    <tr>\n      <th>2033</th>\n      <td>1507351</td>\n      <td>Cr</td>\n      <td>2013-07-08</td>\n      <td>6.635731e+08</td>\n      <td>8963729</td>\n      <td>6.635731e+08</td>\n    </tr>\n    <tr>\n      <th>2034</th>\n      <td>934467</td>\n      <td>Cr</td>\n      <td>2012-05-08</td>\n      <td>2.352965e+08</td>\n      <td>8963729</td>\n      <td>2.352965e+08</td>\n    </tr>\n    <tr>\n      <th>2035</th>\n      <td>4992045</td>\n      <td>Dr</td>\n      <td>2020-01-24</td>\n      <td>8.142106e+08</td>\n      <td>8963729</td>\n      <td>-8.142106e+08</td>\n    </tr>\n  </tbody>\n</table>\n<p>2036 rows × 6 columns</p>\n</div>"
          },
          "metadata": {},
          "execution_count": 20
        }
      ]
    },
    {
      "cell_type": "code",
      "metadata": {
        "id": "KiGRB6r6vJP0",
        "outputId": "4589b545-8f35-4023-bc75-ea45a2907d73",
        "colab": {
          "base_uri": "https://localhost:8080/",
          "height": 438
        }
      },
      "source": [
        "#df_transactions[df_transactions['product']=='1022920']\n",
        "summarize = df_transactions.groupby(['product'])['mvt']\n",
        "summarize = summarize.sum()\n",
        "summarize = summarize.reset_index()\n",
        "#print(summarize['1022920'==summarize['product']])\n",
        "for i in range(len(summarize)):\n",
        "  product_id = summarize['product'].iloc[i]\n",
        "  \n",
        "  df_deposits.loc[df_deposits['id']==product_id,'balance'] = summarize['mvt']\n",
        "\n",
        "df_deposits[df_deposits['id'].isin(summarize['product'])]\n",
        "#print(df_deposits[summarize['product']==df_deposits['id']])"
      ],
      "execution_count": 21,
      "outputs": [
        {
          "output_type": "execute_result",
          "data": {
            "text/plain": "         id  interest_rate       balance       owner              type\n0   8690083              1  3.726632e+10   5-628-340     SavingAccount\n1   8159004              2  1.826228e+10   5-628-340  FixedTermDeposit\n2   5186587              1  3.433223e+10   5-628-340  FixedTermDeposit\n3   1905485              2  3.441971e+10   7-736-777     SavingAccount\n4   5808928              2  1.180899e+10   7-736-777  FixedTermDeposit\n5   5232436              1  2.717849e+10    7-196-92     SavingAccount\n6   3507374              2  3.079746e+10  10-185-216     SavingAccount\n7   9383126              1  3.277887e+10   2-316-204     SavingAccount\n8   9601476              2  2.805159e+09   1-559-449     SavingAccount\n9   5339781              1  2.708561e+10   1-559-449  FixedTermDeposit\n10  2607892              2  3.071693e+10   2-481-192  FixedTermDeposit\n11  1683852              1  6.706214e+09   2-481-192  FixedTermDeposit\n12  3909548              2  2.337588e+10  10-686-609  FixedTermDeposit\n13  1478375              2  2.654449e+10  10-686-609     SavingAccount\n14  9436597              1  1.430338e+10   2-700-872  FixedTermDeposit\n15  9954796              1  3.594339e+10   6-822-364     SavingAccount\n16  1996837              2  2.105703e+10   6-822-364     SavingAccount\n17  9769693              2  2.963048e+10   3-351-384     SavingAccount\n18  5935222              2  4.563969e+08   3-850-238     SavingAccount\n19  9531177              1  8.234439e+09   8-668-218  FixedTermDeposit\n20  9141034              2  2.381009e+10   8-668-218     SavingAccount\n21  7359130              1  2.792834e+10   8-668-218     SavingAccount\n22  2182232              2  2.114991e+10   7-396-307  FixedTermDeposit\n23  1287508              2  3.675665e+10   8-657-617     SavingAccount\n24  3060268              1  1.836704e+10   8-591-237  FixedTermDeposit\n25  5704864              2  2.259037e+10   8-591-237     SavingAccount\n26  5618369              2  2.669972e+10   5-478-606     SavingAccount\n27  5178124              2  1.048847e+10   9-128-516     SavingAccount\n28  3583141              2  2.832926e+10   9-128-516     SavingAccount\n29  3361720              2  1.682135e+10   7-743-887  FixedTermDeposit\n30  9413849              2  2.304682e+10   7-743-887     SavingAccount\n31  4783106              2  2.715101e+10   5-732-906  FixedTermDeposit\n32  9255465              2  2.696840e+10   1-583-642     SavingAccount\n33  4616362              2  2.563642e+10   1-583-642  FixedTermDeposit\n34  8963729              2  2.907043e+10   1-583-642     SavingAccount",
            "text/html": "<div>\n<style scoped>\n    .dataframe tbody tr th:only-of-type {\n        vertical-align: middle;\n    }\n\n    .dataframe tbody tr th {\n        vertical-align: top;\n    }\n\n    .dataframe thead th {\n        text-align: right;\n    }\n</style>\n<table border=\"1\" class=\"dataframe\">\n  <thead>\n    <tr style=\"text-align: right;\">\n      <th></th>\n      <th>id</th>\n      <th>interest_rate</th>\n      <th>balance</th>\n      <th>owner</th>\n      <th>type</th>\n    </tr>\n  </thead>\n  <tbody>\n    <tr>\n      <th>0</th>\n      <td>8690083</td>\n      <td>1</td>\n      <td>3.726632e+10</td>\n      <td>5-628-340</td>\n      <td>SavingAccount</td>\n    </tr>\n    <tr>\n      <th>1</th>\n      <td>8159004</td>\n      <td>2</td>\n      <td>1.826228e+10</td>\n      <td>5-628-340</td>\n      <td>FixedTermDeposit</td>\n    </tr>\n    <tr>\n      <th>2</th>\n      <td>5186587</td>\n      <td>1</td>\n      <td>3.433223e+10</td>\n      <td>5-628-340</td>\n      <td>FixedTermDeposit</td>\n    </tr>\n    <tr>\n      <th>3</th>\n      <td>1905485</td>\n      <td>2</td>\n      <td>3.441971e+10</td>\n      <td>7-736-777</td>\n      <td>SavingAccount</td>\n    </tr>\n    <tr>\n      <th>4</th>\n      <td>5808928</td>\n      <td>2</td>\n      <td>1.180899e+10</td>\n      <td>7-736-777</td>\n      <td>FixedTermDeposit</td>\n    </tr>\n    <tr>\n      <th>5</th>\n      <td>5232436</td>\n      <td>1</td>\n      <td>2.717849e+10</td>\n      <td>7-196-92</td>\n      <td>SavingAccount</td>\n    </tr>\n    <tr>\n      <th>6</th>\n      <td>3507374</td>\n      <td>2</td>\n      <td>3.079746e+10</td>\n      <td>10-185-216</td>\n      <td>SavingAccount</td>\n    </tr>\n    <tr>\n      <th>7</th>\n      <td>9383126</td>\n      <td>1</td>\n      <td>3.277887e+10</td>\n      <td>2-316-204</td>\n      <td>SavingAccount</td>\n    </tr>\n    <tr>\n      <th>8</th>\n      <td>9601476</td>\n      <td>2</td>\n      <td>2.805159e+09</td>\n      <td>1-559-449</td>\n      <td>SavingAccount</td>\n    </tr>\n    <tr>\n      <th>9</th>\n      <td>5339781</td>\n      <td>1</td>\n      <td>2.708561e+10</td>\n      <td>1-559-449</td>\n      <td>FixedTermDeposit</td>\n    </tr>\n    <tr>\n      <th>10</th>\n      <td>2607892</td>\n      <td>2</td>\n      <td>3.071693e+10</td>\n      <td>2-481-192</td>\n      <td>FixedTermDeposit</td>\n    </tr>\n    <tr>\n      <th>11</th>\n      <td>1683852</td>\n      <td>1</td>\n      <td>6.706214e+09</td>\n      <td>2-481-192</td>\n      <td>FixedTermDeposit</td>\n    </tr>\n    <tr>\n      <th>12</th>\n      <td>3909548</td>\n      <td>2</td>\n      <td>2.337588e+10</td>\n      <td>10-686-609</td>\n      <td>FixedTermDeposit</td>\n    </tr>\n    <tr>\n      <th>13</th>\n      <td>1478375</td>\n      <td>2</td>\n      <td>2.654449e+10</td>\n      <td>10-686-609</td>\n      <td>SavingAccount</td>\n    </tr>\n    <tr>\n      <th>14</th>\n      <td>9436597</td>\n      <td>1</td>\n      <td>1.430338e+10</td>\n      <td>2-700-872</td>\n      <td>FixedTermDeposit</td>\n    </tr>\n    <tr>\n      <th>15</th>\n      <td>9954796</td>\n      <td>1</td>\n      <td>3.594339e+10</td>\n      <td>6-822-364</td>\n      <td>SavingAccount</td>\n    </tr>\n    <tr>\n      <th>16</th>\n      <td>1996837</td>\n      <td>2</td>\n      <td>2.105703e+10</td>\n      <td>6-822-364</td>\n      <td>SavingAccount</td>\n    </tr>\n    <tr>\n      <th>17</th>\n      <td>9769693</td>\n      <td>2</td>\n      <td>2.963048e+10</td>\n      <td>3-351-384</td>\n      <td>SavingAccount</td>\n    </tr>\n    <tr>\n      <th>18</th>\n      <td>5935222</td>\n      <td>2</td>\n      <td>4.563969e+08</td>\n      <td>3-850-238</td>\n      <td>SavingAccount</td>\n    </tr>\n    <tr>\n      <th>19</th>\n      <td>9531177</td>\n      <td>1</td>\n      <td>8.234439e+09</td>\n      <td>8-668-218</td>\n      <td>FixedTermDeposit</td>\n    </tr>\n    <tr>\n      <th>20</th>\n      <td>9141034</td>\n      <td>2</td>\n      <td>2.381009e+10</td>\n      <td>8-668-218</td>\n      <td>SavingAccount</td>\n    </tr>\n    <tr>\n      <th>21</th>\n      <td>7359130</td>\n      <td>1</td>\n      <td>2.792834e+10</td>\n      <td>8-668-218</td>\n      <td>SavingAccount</td>\n    </tr>\n    <tr>\n      <th>22</th>\n      <td>2182232</td>\n      <td>2</td>\n      <td>2.114991e+10</td>\n      <td>7-396-307</td>\n      <td>FixedTermDeposit</td>\n    </tr>\n    <tr>\n      <th>23</th>\n      <td>1287508</td>\n      <td>2</td>\n      <td>3.675665e+10</td>\n      <td>8-657-617</td>\n      <td>SavingAccount</td>\n    </tr>\n    <tr>\n      <th>24</th>\n      <td>3060268</td>\n      <td>1</td>\n      <td>1.836704e+10</td>\n      <td>8-591-237</td>\n      <td>FixedTermDeposit</td>\n    </tr>\n    <tr>\n      <th>25</th>\n      <td>5704864</td>\n      <td>2</td>\n      <td>2.259037e+10</td>\n      <td>8-591-237</td>\n      <td>SavingAccount</td>\n    </tr>\n    <tr>\n      <th>26</th>\n      <td>5618369</td>\n      <td>2</td>\n      <td>2.669972e+10</td>\n      <td>5-478-606</td>\n      <td>SavingAccount</td>\n    </tr>\n    <tr>\n      <th>27</th>\n      <td>5178124</td>\n      <td>2</td>\n      <td>1.048847e+10</td>\n      <td>9-128-516</td>\n      <td>SavingAccount</td>\n    </tr>\n    <tr>\n      <th>28</th>\n      <td>3583141</td>\n      <td>2</td>\n      <td>2.832926e+10</td>\n      <td>9-128-516</td>\n      <td>SavingAccount</td>\n    </tr>\n    <tr>\n      <th>29</th>\n      <td>3361720</td>\n      <td>2</td>\n      <td>1.682135e+10</td>\n      <td>7-743-887</td>\n      <td>FixedTermDeposit</td>\n    </tr>\n    <tr>\n      <th>30</th>\n      <td>9413849</td>\n      <td>2</td>\n      <td>2.304682e+10</td>\n      <td>7-743-887</td>\n      <td>SavingAccount</td>\n    </tr>\n    <tr>\n      <th>31</th>\n      <td>4783106</td>\n      <td>2</td>\n      <td>2.715101e+10</td>\n      <td>5-732-906</td>\n      <td>FixedTermDeposit</td>\n    </tr>\n    <tr>\n      <th>32</th>\n      <td>9255465</td>\n      <td>2</td>\n      <td>2.696840e+10</td>\n      <td>1-583-642</td>\n      <td>SavingAccount</td>\n    </tr>\n    <tr>\n      <th>33</th>\n      <td>4616362</td>\n      <td>2</td>\n      <td>2.563642e+10</td>\n      <td>1-583-642</td>\n      <td>FixedTermDeposit</td>\n    </tr>\n    <tr>\n      <th>34</th>\n      <td>8963729</td>\n      <td>2</td>\n      <td>2.907043e+10</td>\n      <td>1-583-642</td>\n      <td>SavingAccount</td>\n    </tr>\n  </tbody>\n</table>\n</div>"
          },
          "metadata": {},
          "execution_count": 21
        }
      ]
    },
    {
      "cell_type": "markdown",
      "metadata": {
        "id": "aBL5Z_3MzXcA"
      },
      "source": [
        "## Requerimientos"
      ]
    },
    {
      "cell_type": "markdown",
      "metadata": {
        "id": "hXa6FY2fiBes"
      },
      "source": [
        "\n",
        "***vas a definir la funcion de ejecutar transferencia***\n",
        "\n",
        "\n",
        "\n",
        "***tienes que buscar la informacion de las cuentas afectadas en la tabla de productos***\n",
        "\n",
        "\n",
        "***vas a ver si la cuenta a acreditar tiene saldo***\n",
        "\n",
        "\n",
        "vas a generar la transaccion en la tabla de transacciones\n",
        "\n",
        "\n",
        "vas a modificar el balance de las cuentas afectadas en la tabla de productos\n",
        "\n"
      ]
    },
    {
      "cell_type": "markdown",
      "metadata": {
        "id": "SAxFDHYXzc05"
      },
      "source": [
        "### Generar estado de cuenta"
      ]
    },
    {
      "cell_type": "code",
      "metadata": {
        "id": "9PQb0ZiuzLPj"
      },
      "source": [
        "def getAccountStatement(**kwargs):\n",
        "  \n",
        "  try: kwargs['product']\n",
        "  except: print(\"A product id is required\")\n",
        "\n",
        "  \n",
        "  print(\"Getting account statement for product\",kwargs['product'])\n",
        "  df = df_transactions[df_transactions['product'] == kwargs['product']]\n",
        "  \n",
        "  try: start = kwargs['start'] \n",
        "  except: start = df['accounting_date'].min()\n",
        "  try: end = kwargs['end']\n",
        "  except: end = df['accounting_date'].max()\n",
        "  \n",
        "  df = df[(df.accounting_date >= start) & (df.accounting_date <= end) ]\n",
        "\n",
        "  print(\"Found\",len(df),\"transactions from\",start,\"to\",end)\n",
        "  df = df.sort_values(by=['accounting_date'])\n",
        "  df = df.reset_index()\n",
        "  df = df.drop(['index'],axis=1)\n",
        "  return df"
      ],
      "execution_count": 22,
      "outputs": []
    },
    {
      "cell_type": "code",
      "metadata": {
        "id": "THoVTGig0krM",
        "outputId": "39953d37-3773-4f51-ab49-cf3f510a37c3",
        "colab": {
          "base_uri": "https://localhost:8080/",
          "height": 345
        },
        "tags": []
      },
      "source": [
        "%%time\n",
        "account_stmnt = getAccountStatement(product=df_transactions.iloc[0]['product'])\n",
        "print(account_stmnt)\n"
      ],
      "execution_count": 23,
      "outputs": [
        {
          "output_type": "stream",
          "name": "stdout",
          "text": "Getting account statement for product 8690083\nFound 40 transactions from 2010-06-06 00:00:00 to 2020-11-23 00:00:00\n         id nature accounting_date        amount  product           mvt\n0   9635751     Cr      2010-06-06  7.173894e+08  8690083  7.173894e+08\n1   3851574     Cr      2010-09-14  8.079146e+08  8690083  8.079146e+08\n2   8299042     Cr      2010-09-26  4.875459e+08  8690083  4.875459e+08\n3    306372     Cr      2010-12-31  6.745974e+08  8690083  6.745974e+08\n4   8671870     Dr      2011-08-15  5.852826e+07  8690083 -5.852826e+07\n5   3560091     Cr      2011-09-24  2.881299e+08  8690083  2.881299e+08\n6   2938703     Cr      2011-10-18  4.590003e+08  8690083  4.590003e+08\n7   9913947     Cr      2012-01-18  1.964570e+08  8690083  1.964570e+08\n8   7885814     Cr      2012-06-23  1.780475e+08  8690083  1.780475e+08\n9   2850390     Cr      2012-07-12  8.153563e+08  8690083  8.153563e+08\n10  9015888     Cr      2012-11-06  6.447659e+08  8690083  6.447659e+08\n11  4976437     Cr      2012-12-20  5.794695e+08  8690083  5.794695e+08\n12  3663421     Cr      2013-04-26  8.271324e+08  8690083  8.271324e+08\n13   449715     Cr      2013-06-08  2.271224e+08  8690083  2.271224e+08\n14  6887900     Cr      2013-07-12  2.387091e+07  8690083  2.387091e+07\n15  3666393     Cr      2013-08-21  4.924204e+08  8690083  4.924204e+08\n16  5659838     Cr      2013-11-24  7.805674e+07  8690083  7.805674e+07\n17   508091     Cr      2014-06-13  5.005581e+08  8690083  5.005581e+08\n18  6647439     Cr      2014-07-14  9.046445e+08  8690083  9.046445e+08\n19  7007680     Cr      2015-02-05  7.896158e+08  8690083  7.896158e+08\n20  9952597     Cr      2015-08-13  8.405368e+08  8690083  8.405368e+08\n21  3602486     Cr      2015-11-28  3.899920e+08  8690083  3.899920e+08\n22  2220802     Cr      2016-01-08  7.594073e+08  8690083  7.594073e+08\n23  4726313     Cr      2016-01-15  9.894341e+08  8690083  9.894341e+08\n24  3821925     Cr      2016-04-13  6.143494e+08  8690083  6.143494e+08\n25  9563912     Cr      2016-10-30  9.481535e+08  8690083  9.481535e+08\n26  4903753     Cr      2016-11-09  2.823082e+08  8690083  2.823082e+08\n27  5999667     Cr      2017-01-05  1.098614e+07  8690083  1.098614e+07\n28  7998932     Cr      2017-05-26  5.697159e+08  8690083  5.697159e+08\n29  8954842     Cr      2017-08-31  4.220065e+08  8690083  4.220065e+08\n30   766500     Cr      2017-11-22  2.746034e+06  8690083  2.746034e+06\n31  5988162     Cr      2018-01-08  1.675520e+08  8690083  1.675520e+08\n32  1789240     Dr      2018-01-24  7.267136e+08  8690083 -7.267136e+08\n33  4109250     Cr      2018-08-31  4.119439e+07  8690083  4.119439e+07\n34   643063     Cr      2019-11-20  9.095769e+08  8690083  9.095769e+08\n35  7729740     Cr      2020-02-04  4.860832e+08  8690083  4.860832e+08\n36  5777728     Cr      2020-03-07  5.418450e+08  8690083  5.418450e+08\n37  8476515     Cr      2020-04-03  6.767297e+08  8690083  6.767297e+08\n38  9243610     Cr      2020-09-22  1.842445e+07  8690083  1.842445e+07\n39  9197921     Cr      2020-11-23  7.891492e+08  8690083  7.891492e+08\nWall time: 34 ms\n"
        }
      ]
    },
    {
      "cell_type": "markdown",
      "metadata": {
        "id": "EvfNt4VI8Vfh"
      },
      "source": [
        "#### Mostrar un gráfico con el movimiento de su producto"
      ]
    },
    {
      "cell_type": "code",
      "metadata": {
        "id": "9gURU9iE01pt"
      },
      "source": [
        "import matplotlib.pyplot as plt"
      ],
      "execution_count": 24,
      "outputs": []
    },
    {
      "cell_type": "code",
      "metadata": {
        "id": "-c4X5fTX6f9p",
        "outputId": "f54df991-468a-414a-bbcd-d65d2db25de1",
        "colab": {
          "base_uri": "https://localhost:8080/",
          "height": 126
        }
      },
      "source": [
        "# generar el campo valor\n",
        "account_stmnt['mvt'] = 0.00\n",
        "account_stmnt.loc[account_stmnt['nature']==\"Dr\",'mvt'] = account_stmnt['amount']\n",
        "account_stmnt.loc[account_stmnt['nature']==\"Cr\",'mvt'] = account_stmnt['amount']*-1\n",
        "account_stmnt.sum()"
      ],
      "execution_count": 25,
      "outputs": [
        {
          "output_type": "execute_result",
          "data": {
            "text/plain": "id         9635751385157482990423063728671870356009129387...\nnature     CrCrCrCrDrCrCrCrCrCrCrCrCrCrCrCrCrCrCrCrCrCrCr...\namount                                           1.99375e+10\nproduct    8690083869008386900838690083869008386900838690...\nmvt                                              -1.8367e+10\ndtype: object"
          },
          "metadata": {},
          "execution_count": 25
        }
      ]
    },
    {
      "cell_type": "code",
      "metadata": {
        "id": "BxEtUBGa7p5U",
        "outputId": "0ef3419f-1b52-4872-c261-013e93c49062",
        "colab": {
          "base_uri": "https://localhost:8080/",
          "height": 276
        }
      },
      "source": [
        "plt.plot(account_stmnt.amount)\n",
        "plt.show()"
      ],
      "execution_count": 26,
      "outputs": [
        {
          "output_type": "display_data",
          "data": {
            "text/plain": "<Figure size 432x288 with 1 Axes>",
            "image/svg+xml": "<?xml version=\"1.0\" encoding=\"utf-8\" standalone=\"no\"?>\r\n<!DOCTYPE svg PUBLIC \"-//W3C//DTD SVG 1.1//EN\"\r\n  \"http://www.w3.org/Graphics/SVG/1.1/DTD/svg11.dtd\">\r\n<!-- Created with matplotlib (https://matplotlib.org/) -->\r\n<svg height=\"259.116562pt\" version=\"1.1\" viewBox=\"0 0 372.103125 259.116562\" width=\"372.103125pt\" xmlns=\"http://www.w3.org/2000/svg\" xmlns:xlink=\"http://www.w3.org/1999/xlink\">\r\n <defs>\r\n  <style type=\"text/css\">\r\n*{stroke-linecap:butt;stroke-linejoin:round;}\r\n  </style>\r\n </defs>\r\n <g id=\"figure_1\">\r\n  <g id=\"patch_1\">\r\n   <path d=\"M 0 259.116562 \r\nL 372.103125 259.116562 \r\nL 372.103125 0 \r\nL 0 0 \r\nz\r\n\" style=\"fill:none;\"/>\r\n  </g>\r\n  <g id=\"axes_1\">\r\n   <g id=\"patch_2\">\r\n    <path d=\"M 30.103125 235.238437 \r\nL 364.903125 235.238437 \r\nL 364.903125 17.798437 \r\nL 30.103125 17.798437 \r\nz\r\n\" style=\"fill:#ffffff;\"/>\r\n   </g>\r\n   <g id=\"matplotlib.axis_1\">\r\n    <g id=\"xtick_1\">\r\n     <g id=\"line2d_1\">\r\n      <defs>\r\n       <path d=\"M 0 0 \r\nL 0 3.5 \r\n\" id=\"m3acbcfb073\" style=\"stroke:#000000;stroke-width:0.8;\"/>\r\n      </defs>\r\n      <g>\r\n       <use style=\"stroke:#000000;stroke-width:0.8;\" x=\"45.321307\" xlink:href=\"#m3acbcfb073\" y=\"235.238437\"/>\r\n      </g>\r\n     </g>\r\n     <g id=\"text_1\">\r\n      <!-- 0 -->\r\n      <defs>\r\n       <path d=\"M 31.78125 66.40625 \r\nQ 24.171875 66.40625 20.328125 58.90625 \r\nQ 16.5 51.421875 16.5 36.375 \r\nQ 16.5 21.390625 20.328125 13.890625 \r\nQ 24.171875 6.390625 31.78125 6.390625 \r\nQ 39.453125 6.390625 43.28125 13.890625 \r\nQ 47.125 21.390625 47.125 36.375 \r\nQ 47.125 51.421875 43.28125 58.90625 \r\nQ 39.453125 66.40625 31.78125 66.40625 \r\nz\r\nM 31.78125 74.21875 \r\nQ 44.046875 74.21875 50.515625 64.515625 \r\nQ 56.984375 54.828125 56.984375 36.375 \r\nQ 56.984375 17.96875 50.515625 8.265625 \r\nQ 44.046875 -1.421875 31.78125 -1.421875 \r\nQ 19.53125 -1.421875 13.0625 8.265625 \r\nQ 6.59375 17.96875 6.59375 36.375 \r\nQ 6.59375 54.828125 13.0625 64.515625 \r\nQ 19.53125 74.21875 31.78125 74.21875 \r\nz\r\n\" id=\"DejaVuSans-48\"/>\r\n      </defs>\r\n      <g transform=\"translate(42.140057 249.836875)scale(0.1 -0.1)\">\r\n       <use xlink:href=\"#DejaVuSans-48\"/>\r\n      </g>\r\n     </g>\r\n    </g>\r\n    <g id=\"xtick_2\">\r\n     <g id=\"line2d_2\">\r\n      <g>\r\n       <use style=\"stroke:#000000;stroke-width:0.8;\" x=\"84.342286\" xlink:href=\"#m3acbcfb073\" y=\"235.238437\"/>\r\n      </g>\r\n     </g>\r\n     <g id=\"text_2\">\r\n      <!-- 5 -->\r\n      <defs>\r\n       <path d=\"M 10.796875 72.90625 \r\nL 49.515625 72.90625 \r\nL 49.515625 64.59375 \r\nL 19.828125 64.59375 \r\nL 19.828125 46.734375 \r\nQ 21.96875 47.46875 24.109375 47.828125 \r\nQ 26.265625 48.1875 28.421875 48.1875 \r\nQ 40.625 48.1875 47.75 41.5 \r\nQ 54.890625 34.8125 54.890625 23.390625 \r\nQ 54.890625 11.625 47.5625 5.09375 \r\nQ 40.234375 -1.421875 26.90625 -1.421875 \r\nQ 22.3125 -1.421875 17.546875 -0.640625 \r\nQ 12.796875 0.140625 7.71875 1.703125 \r\nL 7.71875 11.625 \r\nQ 12.109375 9.234375 16.796875 8.0625 \r\nQ 21.484375 6.890625 26.703125 6.890625 \r\nQ 35.15625 6.890625 40.078125 11.328125 \r\nQ 45.015625 15.765625 45.015625 23.390625 \r\nQ 45.015625 31 40.078125 35.4375 \r\nQ 35.15625 39.890625 26.703125 39.890625 \r\nQ 22.75 39.890625 18.8125 39.015625 \r\nQ 14.890625 38.140625 10.796875 36.28125 \r\nz\r\n\" id=\"DejaVuSans-53\"/>\r\n      </defs>\r\n      <g transform=\"translate(81.161036 249.836875)scale(0.1 -0.1)\">\r\n       <use xlink:href=\"#DejaVuSans-53\"/>\r\n      </g>\r\n     </g>\r\n    </g>\r\n    <g id=\"xtick_3\">\r\n     <g id=\"line2d_3\">\r\n      <g>\r\n       <use style=\"stroke:#000000;stroke-width:0.8;\" x=\"123.363265\" xlink:href=\"#m3acbcfb073\" y=\"235.238437\"/>\r\n      </g>\r\n     </g>\r\n     <g id=\"text_3\">\r\n      <!-- 10 -->\r\n      <defs>\r\n       <path d=\"M 12.40625 8.296875 \r\nL 28.515625 8.296875 \r\nL 28.515625 63.921875 \r\nL 10.984375 60.40625 \r\nL 10.984375 69.390625 \r\nL 28.421875 72.90625 \r\nL 38.28125 72.90625 \r\nL 38.28125 8.296875 \r\nL 54.390625 8.296875 \r\nL 54.390625 0 \r\nL 12.40625 0 \r\nz\r\n\" id=\"DejaVuSans-49\"/>\r\n      </defs>\r\n      <g transform=\"translate(117.000765 249.836875)scale(0.1 -0.1)\">\r\n       <use xlink:href=\"#DejaVuSans-49\"/>\r\n       <use x=\"63.623047\" xlink:href=\"#DejaVuSans-48\"/>\r\n      </g>\r\n     </g>\r\n    </g>\r\n    <g id=\"xtick_4\">\r\n     <g id=\"line2d_4\">\r\n      <g>\r\n       <use style=\"stroke:#000000;stroke-width:0.8;\" x=\"162.384244\" xlink:href=\"#m3acbcfb073\" y=\"235.238437\"/>\r\n      </g>\r\n     </g>\r\n     <g id=\"text_4\">\r\n      <!-- 15 -->\r\n      <g transform=\"translate(156.021744 249.836875)scale(0.1 -0.1)\">\r\n       <use xlink:href=\"#DejaVuSans-49\"/>\r\n       <use x=\"63.623047\" xlink:href=\"#DejaVuSans-53\"/>\r\n      </g>\r\n     </g>\r\n    </g>\r\n    <g id=\"xtick_5\">\r\n     <g id=\"line2d_5\">\r\n      <g>\r\n       <use style=\"stroke:#000000;stroke-width:0.8;\" x=\"201.405223\" xlink:href=\"#m3acbcfb073\" y=\"235.238437\"/>\r\n      </g>\r\n     </g>\r\n     <g id=\"text_5\">\r\n      <!-- 20 -->\r\n      <defs>\r\n       <path d=\"M 19.1875 8.296875 \r\nL 53.609375 8.296875 \r\nL 53.609375 0 \r\nL 7.328125 0 \r\nL 7.328125 8.296875 \r\nQ 12.9375 14.109375 22.625 23.890625 \r\nQ 32.328125 33.6875 34.8125 36.53125 \r\nQ 39.546875 41.84375 41.421875 45.53125 \r\nQ 43.3125 49.21875 43.3125 52.78125 \r\nQ 43.3125 58.59375 39.234375 62.25 \r\nQ 35.15625 65.921875 28.609375 65.921875 \r\nQ 23.96875 65.921875 18.8125 64.3125 \r\nQ 13.671875 62.703125 7.8125 59.421875 \r\nL 7.8125 69.390625 \r\nQ 13.765625 71.78125 18.9375 73 \r\nQ 24.125 74.21875 28.421875 74.21875 \r\nQ 39.75 74.21875 46.484375 68.546875 \r\nQ 53.21875 62.890625 53.21875 53.421875 \r\nQ 53.21875 48.921875 51.53125 44.890625 \r\nQ 49.859375 40.875 45.40625 35.40625 \r\nQ 44.1875 33.984375 37.640625 27.21875 \r\nQ 31.109375 20.453125 19.1875 8.296875 \r\nz\r\n\" id=\"DejaVuSans-50\"/>\r\n      </defs>\r\n      <g transform=\"translate(195.042723 249.836875)scale(0.1 -0.1)\">\r\n       <use xlink:href=\"#DejaVuSans-50\"/>\r\n       <use x=\"63.623047\" xlink:href=\"#DejaVuSans-48\"/>\r\n      </g>\r\n     </g>\r\n    </g>\r\n    <g id=\"xtick_6\">\r\n     <g id=\"line2d_6\">\r\n      <g>\r\n       <use style=\"stroke:#000000;stroke-width:0.8;\" x=\"240.426202\" xlink:href=\"#m3acbcfb073\" y=\"235.238437\"/>\r\n      </g>\r\n     </g>\r\n     <g id=\"text_6\">\r\n      <!-- 25 -->\r\n      <g transform=\"translate(234.063702 249.836875)scale(0.1 -0.1)\">\r\n       <use xlink:href=\"#DejaVuSans-50\"/>\r\n       <use x=\"63.623047\" xlink:href=\"#DejaVuSans-53\"/>\r\n      </g>\r\n     </g>\r\n    </g>\r\n    <g id=\"xtick_7\">\r\n     <g id=\"line2d_7\">\r\n      <g>\r\n       <use style=\"stroke:#000000;stroke-width:0.8;\" x=\"279.447181\" xlink:href=\"#m3acbcfb073\" y=\"235.238437\"/>\r\n      </g>\r\n     </g>\r\n     <g id=\"text_7\">\r\n      <!-- 30 -->\r\n      <defs>\r\n       <path d=\"M 40.578125 39.3125 \r\nQ 47.65625 37.796875 51.625 33 \r\nQ 55.609375 28.21875 55.609375 21.1875 \r\nQ 55.609375 10.40625 48.1875 4.484375 \r\nQ 40.765625 -1.421875 27.09375 -1.421875 \r\nQ 22.515625 -1.421875 17.65625 -0.515625 \r\nQ 12.796875 0.390625 7.625 2.203125 \r\nL 7.625 11.71875 \r\nQ 11.71875 9.328125 16.59375 8.109375 \r\nQ 21.484375 6.890625 26.8125 6.890625 \r\nQ 36.078125 6.890625 40.9375 10.546875 \r\nQ 45.796875 14.203125 45.796875 21.1875 \r\nQ 45.796875 27.640625 41.28125 31.265625 \r\nQ 36.765625 34.90625 28.71875 34.90625 \r\nL 20.21875 34.90625 \r\nL 20.21875 43.015625 \r\nL 29.109375 43.015625 \r\nQ 36.375 43.015625 40.234375 45.921875 \r\nQ 44.09375 48.828125 44.09375 54.296875 \r\nQ 44.09375 59.90625 40.109375 62.90625 \r\nQ 36.140625 65.921875 28.71875 65.921875 \r\nQ 24.65625 65.921875 20.015625 65.03125 \r\nQ 15.375 64.15625 9.8125 62.3125 \r\nL 9.8125 71.09375 \r\nQ 15.4375 72.65625 20.34375 73.4375 \r\nQ 25.25 74.21875 29.59375 74.21875 \r\nQ 40.828125 74.21875 47.359375 69.109375 \r\nQ 53.90625 64.015625 53.90625 55.328125 \r\nQ 53.90625 49.265625 50.4375 45.09375 \r\nQ 46.96875 40.921875 40.578125 39.3125 \r\nz\r\n\" id=\"DejaVuSans-51\"/>\r\n      </defs>\r\n      <g transform=\"translate(273.084681 249.836875)scale(0.1 -0.1)\">\r\n       <use xlink:href=\"#DejaVuSans-51\"/>\r\n       <use x=\"63.623047\" xlink:href=\"#DejaVuSans-48\"/>\r\n      </g>\r\n     </g>\r\n    </g>\r\n    <g id=\"xtick_8\">\r\n     <g id=\"line2d_8\">\r\n      <g>\r\n       <use style=\"stroke:#000000;stroke-width:0.8;\" x=\"318.46816\" xlink:href=\"#m3acbcfb073\" y=\"235.238437\"/>\r\n      </g>\r\n     </g>\r\n     <g id=\"text_8\">\r\n      <!-- 35 -->\r\n      <g transform=\"translate(312.10566 249.836875)scale(0.1 -0.1)\">\r\n       <use xlink:href=\"#DejaVuSans-51\"/>\r\n       <use x=\"63.623047\" xlink:href=\"#DejaVuSans-53\"/>\r\n      </g>\r\n     </g>\r\n    </g>\r\n    <g id=\"xtick_9\">\r\n     <g id=\"line2d_9\">\r\n      <g>\r\n       <use style=\"stroke:#000000;stroke-width:0.8;\" x=\"357.489139\" xlink:href=\"#m3acbcfb073\" y=\"235.238437\"/>\r\n      </g>\r\n     </g>\r\n     <g id=\"text_9\">\r\n      <!-- 40 -->\r\n      <defs>\r\n       <path d=\"M 37.796875 64.3125 \r\nL 12.890625 25.390625 \r\nL 37.796875 25.390625 \r\nz\r\nM 35.203125 72.90625 \r\nL 47.609375 72.90625 \r\nL 47.609375 25.390625 \r\nL 58.015625 25.390625 \r\nL 58.015625 17.1875 \r\nL 47.609375 17.1875 \r\nL 47.609375 0 \r\nL 37.796875 0 \r\nL 37.796875 17.1875 \r\nL 4.890625 17.1875 \r\nL 4.890625 26.703125 \r\nz\r\n\" id=\"DejaVuSans-52\"/>\r\n      </defs>\r\n      <g transform=\"translate(351.126639 249.836875)scale(0.1 -0.1)\">\r\n       <use xlink:href=\"#DejaVuSans-52\"/>\r\n       <use x=\"63.623047\" xlink:href=\"#DejaVuSans-48\"/>\r\n      </g>\r\n     </g>\r\n    </g>\r\n   </g>\r\n   <g id=\"matplotlib.axis_2\">\r\n    <g id=\"ytick_1\">\r\n     <g id=\"line2d_10\">\r\n      <defs>\r\n       <path d=\"M 0 0 \r\nL -3.5 0 \r\n\" id=\"m57c3a162ff\" style=\"stroke:#000000;stroke-width:0.8;\"/>\r\n      </defs>\r\n      <g>\r\n       <use style=\"stroke:#000000;stroke-width:0.8;\" x=\"30.103125\" xlink:href=\"#m57c3a162ff\" y=\"225.90494\"/>\r\n      </g>\r\n     </g>\r\n     <g id=\"text_10\">\r\n      <!-- 0.0 -->\r\n      <defs>\r\n       <path d=\"M 10.6875 12.40625 \r\nL 21 12.40625 \r\nL 21 0 \r\nL 10.6875 0 \r\nz\r\n\" id=\"DejaVuSans-46\"/>\r\n      </defs>\r\n      <g transform=\"translate(7.2 229.704159)scale(0.1 -0.1)\">\r\n       <use xlink:href=\"#DejaVuSans-48\"/>\r\n       <use x=\"63.623047\" xlink:href=\"#DejaVuSans-46\"/>\r\n       <use x=\"95.410156\" xlink:href=\"#DejaVuSans-48\"/>\r\n      </g>\r\n     </g>\r\n    </g>\r\n    <g id=\"ytick_2\">\r\n     <g id=\"line2d_11\">\r\n      <g>\r\n       <use style=\"stroke:#000000;stroke-width:0.8;\" x=\"30.103125\" xlink:href=\"#m57c3a162ff\" y=\"185.837013\"/>\r\n      </g>\r\n     </g>\r\n     <g id=\"text_11\">\r\n      <!-- 0.2 -->\r\n      <g transform=\"translate(7.2 189.636232)scale(0.1 -0.1)\">\r\n       <use xlink:href=\"#DejaVuSans-48\"/>\r\n       <use x=\"63.623047\" xlink:href=\"#DejaVuSans-46\"/>\r\n       <use x=\"95.410156\" xlink:href=\"#DejaVuSans-50\"/>\r\n      </g>\r\n     </g>\r\n    </g>\r\n    <g id=\"ytick_3\">\r\n     <g id=\"line2d_12\">\r\n      <g>\r\n       <use style=\"stroke:#000000;stroke-width:0.8;\" x=\"30.103125\" xlink:href=\"#m57c3a162ff\" y=\"145.769086\"/>\r\n      </g>\r\n     </g>\r\n     <g id=\"text_12\">\r\n      <!-- 0.4 -->\r\n      <g transform=\"translate(7.2 149.568304)scale(0.1 -0.1)\">\r\n       <use xlink:href=\"#DejaVuSans-48\"/>\r\n       <use x=\"63.623047\" xlink:href=\"#DejaVuSans-46\"/>\r\n       <use x=\"95.410156\" xlink:href=\"#DejaVuSans-52\"/>\r\n      </g>\r\n     </g>\r\n    </g>\r\n    <g id=\"ytick_4\">\r\n     <g id=\"line2d_13\">\r\n      <g>\r\n       <use style=\"stroke:#000000;stroke-width:0.8;\" x=\"30.103125\" xlink:href=\"#m57c3a162ff\" y=\"105.701158\"/>\r\n      </g>\r\n     </g>\r\n     <g id=\"text_13\">\r\n      <!-- 0.6 -->\r\n      <defs>\r\n       <path d=\"M 33.015625 40.375 \r\nQ 26.375 40.375 22.484375 35.828125 \r\nQ 18.609375 31.296875 18.609375 23.390625 \r\nQ 18.609375 15.53125 22.484375 10.953125 \r\nQ 26.375 6.390625 33.015625 6.390625 \r\nQ 39.65625 6.390625 43.53125 10.953125 \r\nQ 47.40625 15.53125 47.40625 23.390625 \r\nQ 47.40625 31.296875 43.53125 35.828125 \r\nQ 39.65625 40.375 33.015625 40.375 \r\nz\r\nM 52.59375 71.296875 \r\nL 52.59375 62.3125 \r\nQ 48.875 64.0625 45.09375 64.984375 \r\nQ 41.3125 65.921875 37.59375 65.921875 \r\nQ 27.828125 65.921875 22.671875 59.328125 \r\nQ 17.53125 52.734375 16.796875 39.40625 \r\nQ 19.671875 43.65625 24.015625 45.921875 \r\nQ 28.375 48.1875 33.59375 48.1875 \r\nQ 44.578125 48.1875 50.953125 41.515625 \r\nQ 57.328125 34.859375 57.328125 23.390625 \r\nQ 57.328125 12.15625 50.6875 5.359375 \r\nQ 44.046875 -1.421875 33.015625 -1.421875 \r\nQ 20.359375 -1.421875 13.671875 8.265625 \r\nQ 6.984375 17.96875 6.984375 36.375 \r\nQ 6.984375 53.65625 15.1875 63.9375 \r\nQ 23.390625 74.21875 37.203125 74.21875 \r\nQ 40.921875 74.21875 44.703125 73.484375 \r\nQ 48.484375 72.75 52.59375 71.296875 \r\nz\r\n\" id=\"DejaVuSans-54\"/>\r\n      </defs>\r\n      <g transform=\"translate(7.2 109.500377)scale(0.1 -0.1)\">\r\n       <use xlink:href=\"#DejaVuSans-48\"/>\r\n       <use x=\"63.623047\" xlink:href=\"#DejaVuSans-46\"/>\r\n       <use x=\"95.410156\" xlink:href=\"#DejaVuSans-54\"/>\r\n      </g>\r\n     </g>\r\n    </g>\r\n    <g id=\"ytick_5\">\r\n     <g id=\"line2d_14\">\r\n      <g>\r\n       <use style=\"stroke:#000000;stroke-width:0.8;\" x=\"30.103125\" xlink:href=\"#m57c3a162ff\" y=\"65.633231\"/>\r\n      </g>\r\n     </g>\r\n     <g id=\"text_14\">\r\n      <!-- 0.8 -->\r\n      <defs>\r\n       <path d=\"M 31.78125 34.625 \r\nQ 24.75 34.625 20.71875 30.859375 \r\nQ 16.703125 27.09375 16.703125 20.515625 \r\nQ 16.703125 13.921875 20.71875 10.15625 \r\nQ 24.75 6.390625 31.78125 6.390625 \r\nQ 38.8125 6.390625 42.859375 10.171875 \r\nQ 46.921875 13.96875 46.921875 20.515625 \r\nQ 46.921875 27.09375 42.890625 30.859375 \r\nQ 38.875 34.625 31.78125 34.625 \r\nz\r\nM 21.921875 38.8125 \r\nQ 15.578125 40.375 12.03125 44.71875 \r\nQ 8.5 49.078125 8.5 55.328125 \r\nQ 8.5 64.0625 14.71875 69.140625 \r\nQ 20.953125 74.21875 31.78125 74.21875 \r\nQ 42.671875 74.21875 48.875 69.140625 \r\nQ 55.078125 64.0625 55.078125 55.328125 \r\nQ 55.078125 49.078125 51.53125 44.71875 \r\nQ 48 40.375 41.703125 38.8125 \r\nQ 48.828125 37.15625 52.796875 32.3125 \r\nQ 56.78125 27.484375 56.78125 20.515625 \r\nQ 56.78125 9.90625 50.3125 4.234375 \r\nQ 43.84375 -1.421875 31.78125 -1.421875 \r\nQ 19.734375 -1.421875 13.25 4.234375 \r\nQ 6.78125 9.90625 6.78125 20.515625 \r\nQ 6.78125 27.484375 10.78125 32.3125 \r\nQ 14.796875 37.15625 21.921875 38.8125 \r\nz\r\nM 18.3125 54.390625 \r\nQ 18.3125 48.734375 21.84375 45.5625 \r\nQ 25.390625 42.390625 31.78125 42.390625 \r\nQ 38.140625 42.390625 41.71875 45.5625 \r\nQ 45.3125 48.734375 45.3125 54.390625 \r\nQ 45.3125 60.0625 41.71875 63.234375 \r\nQ 38.140625 66.40625 31.78125 66.40625 \r\nQ 25.390625 66.40625 21.84375 63.234375 \r\nQ 18.3125 60.0625 18.3125 54.390625 \r\nz\r\n\" id=\"DejaVuSans-56\"/>\r\n      </defs>\r\n      <g transform=\"translate(7.2 69.43245)scale(0.1 -0.1)\">\r\n       <use xlink:href=\"#DejaVuSans-48\"/>\r\n       <use x=\"63.623047\" xlink:href=\"#DejaVuSans-46\"/>\r\n       <use x=\"95.410156\" xlink:href=\"#DejaVuSans-56\"/>\r\n      </g>\r\n     </g>\r\n    </g>\r\n    <g id=\"ytick_6\">\r\n     <g id=\"line2d_15\">\r\n      <g>\r\n       <use style=\"stroke:#000000;stroke-width:0.8;\" x=\"30.103125\" xlink:href=\"#m57c3a162ff\" y=\"25.565303\"/>\r\n      </g>\r\n     </g>\r\n     <g id=\"text_15\">\r\n      <!-- 1.0 -->\r\n      <g transform=\"translate(7.2 29.364522)scale(0.1 -0.1)\">\r\n       <use xlink:href=\"#DejaVuSans-49\"/>\r\n       <use x=\"63.623047\" xlink:href=\"#DejaVuSans-46\"/>\r\n       <use x=\"95.410156\" xlink:href=\"#DejaVuSans-48\"/>\r\n      </g>\r\n     </g>\r\n    </g>\r\n    <g id=\"text_16\">\r\n     <!-- 1e9 -->\r\n     <defs>\r\n      <path d=\"M 56.203125 29.59375 \r\nL 56.203125 25.203125 \r\nL 14.890625 25.203125 \r\nQ 15.484375 15.921875 20.484375 11.0625 \r\nQ 25.484375 6.203125 34.421875 6.203125 \r\nQ 39.59375 6.203125 44.453125 7.46875 \r\nQ 49.3125 8.734375 54.109375 11.28125 \r\nL 54.109375 2.78125 \r\nQ 49.265625 0.734375 44.1875 -0.34375 \r\nQ 39.109375 -1.421875 33.890625 -1.421875 \r\nQ 20.796875 -1.421875 13.15625 6.1875 \r\nQ 5.515625 13.8125 5.515625 26.8125 \r\nQ 5.515625 40.234375 12.765625 48.109375 \r\nQ 20.015625 56 32.328125 56 \r\nQ 43.359375 56 49.78125 48.890625 \r\nQ 56.203125 41.796875 56.203125 29.59375 \r\nz\r\nM 47.21875 32.234375 \r\nQ 47.125 39.59375 43.09375 43.984375 \r\nQ 39.0625 48.390625 32.421875 48.390625 \r\nQ 24.90625 48.390625 20.390625 44.140625 \r\nQ 15.875 39.890625 15.1875 32.171875 \r\nz\r\n\" id=\"DejaVuSans-101\"/>\r\n      <path d=\"M 10.984375 1.515625 \r\nL 10.984375 10.5 \r\nQ 14.703125 8.734375 18.5 7.8125 \r\nQ 22.3125 6.890625 25.984375 6.890625 \r\nQ 35.75 6.890625 40.890625 13.453125 \r\nQ 46.046875 20.015625 46.78125 33.40625 \r\nQ 43.953125 29.203125 39.59375 26.953125 \r\nQ 35.25 24.703125 29.984375 24.703125 \r\nQ 19.046875 24.703125 12.671875 31.3125 \r\nQ 6.296875 37.9375 6.296875 49.421875 \r\nQ 6.296875 60.640625 12.9375 67.421875 \r\nQ 19.578125 74.21875 30.609375 74.21875 \r\nQ 43.265625 74.21875 49.921875 64.515625 \r\nQ 56.59375 54.828125 56.59375 36.375 \r\nQ 56.59375 19.140625 48.40625 8.859375 \r\nQ 40.234375 -1.421875 26.421875 -1.421875 \r\nQ 22.703125 -1.421875 18.890625 -0.6875 \r\nQ 15.09375 0.046875 10.984375 1.515625 \r\nz\r\nM 30.609375 32.421875 \r\nQ 37.25 32.421875 41.125 36.953125 \r\nQ 45.015625 41.5 45.015625 49.421875 \r\nQ 45.015625 57.28125 41.125 61.84375 \r\nQ 37.25 66.40625 30.609375 66.40625 \r\nQ 23.96875 66.40625 20.09375 61.84375 \r\nQ 16.21875 57.28125 16.21875 49.421875 \r\nQ 16.21875 41.5 20.09375 36.953125 \r\nQ 23.96875 32.421875 30.609375 32.421875 \r\nz\r\n\" id=\"DejaVuSans-57\"/>\r\n     </defs>\r\n     <g transform=\"translate(30.103125 14.798437)scale(0.1 -0.1)\">\r\n      <use xlink:href=\"#DejaVuSans-49\"/>\r\n      <use x=\"63.623047\" xlink:href=\"#DejaVuSans-101\"/>\r\n      <use x=\"125.146484\" xlink:href=\"#DejaVuSans-57\"/>\r\n     </g>\r\n    </g>\r\n   </g>\r\n   <g id=\"line2d_16\">\r\n    <path clip-path=\"url(#pbad6d7e157)\" d=\"M 45.321307 82.183409 \r\nL 53.125503 64.047631 \r\nL 60.929698 128.230165 \r\nL 68.733894 90.756351 \r\nL 76.53809 214.179411 \r\nL 84.342286 168.181101 \r\nL 92.146482 133.948978 \r\nL 99.950677 186.546807 \r\nL 107.754873 190.234965 \r\nL 115.559069 62.556749 \r\nL 123.363265 96.732781 \r\nL 131.167461 109.814237 \r\nL 138.971656 60.197528 \r\nL 146.775852 180.403326 \r\nL 154.580048 221.122651 \r\nL 162.384244 127.253616 \r\nL 170.18844 210.267082 \r\nL 177.992635 125.623304 \r\nL 185.796831 44.668795 \r\nL 193.601027 67.713593 \r\nL 201.405223 57.512094 \r\nL 209.209419 147.774083 \r\nL 217.013615 73.765554 \r\nL 224.81781 27.682074 \r\nL 232.622006 102.826412 \r\nL 240.426202 35.952206 \r\nL 248.230398 169.347421 \r\nL 256.034594 223.703981 \r\nL 263.838789 111.768265 \r\nL 271.642985 141.360312 \r\nL 279.447181 225.354801 \r\nL 287.251377 192.337626 \r\nL 295.055573 80.315404 \r\nL 302.859768 217.652072 \r\nL 310.663964 43.680641 \r\nL 318.46816 128.523213 \r\nL 326.272356 117.351917 \r\nL 334.076552 90.329149 \r\nL 341.880747 222.213793 \r\nL 349.684943 67.807066 \r\n\" style=\"fill:none;stroke:#1f77b4;stroke-linecap:square;stroke-width:1.5;\"/>\r\n   </g>\r\n   <g id=\"patch_3\">\r\n    <path d=\"M 30.103125 235.238437 \r\nL 30.103125 17.798437 \r\n\" style=\"fill:none;stroke:#000000;stroke-linecap:square;stroke-linejoin:miter;stroke-width:0.8;\"/>\r\n   </g>\r\n   <g id=\"patch_4\">\r\n    <path d=\"M 364.903125 235.238437 \r\nL 364.903125 17.798437 \r\n\" style=\"fill:none;stroke:#000000;stroke-linecap:square;stroke-linejoin:miter;stroke-width:0.8;\"/>\r\n   </g>\r\n   <g id=\"patch_5\">\r\n    <path d=\"M 30.103125 235.238437 \r\nL 364.903125 235.238437 \r\n\" style=\"fill:none;stroke:#000000;stroke-linecap:square;stroke-linejoin:miter;stroke-width:0.8;\"/>\r\n   </g>\r\n   <g id=\"patch_6\">\r\n    <path d=\"M 30.103125 17.798437 \r\nL 364.903125 17.798437 \r\n\" style=\"fill:none;stroke:#000000;stroke-linecap:square;stroke-linejoin:miter;stroke-width:0.8;\"/>\r\n   </g>\r\n  </g>\r\n </g>\r\n <defs>\r\n  <clipPath id=\"pbad6d7e157\">\r\n   <rect height=\"217.44\" width=\"334.8\" x=\"30.103125\" y=\"17.798437\"/>\r\n  </clipPath>\r\n </defs>\r\n</svg>\r\n",
            "image/png": "[encoded data removed]"
          },
          "metadata": {
            "needs_background": "light"
          }
        }
      ]
    },
    {
      "cell_type": "code",
      "metadata": {
        "id": "1KDHC8Zl76g3"
      },
      "source": [
        ""
      ],
      "execution_count": null,
      "outputs": []
    },
    {
      "cell_type": "markdown",
      "metadata": {
        "id": "JAUj8ESCFuib"
      },
      "source": [
        "### Ejecutar Transferencia"
      ]
    },
    {
      "cell_type": "code",
      "metadata": {
        "id": "4UUFbhsvNrjs",
        "outputId": "250328f9-5a30-4211-8f5d-18957ad9740a",
        "colab": {
          "base_uri": "https://localhost:8080/",
          "height": 54
        },
        "tags": []
      },
      "source": [
        "Transfer.Execute(to=df_transactions.iloc[0]['product'], From=df_transactions.iloc[-1]['product'], amount= 4)\n",
        "\n"
      ],
      "execution_count": 27,
      "outputs": [
        {
          "output_type": "stream",
          "name": "stdout",
          "text": "Executing Bank Transfer\nERROR\n"
        }
      ]
    },
    {
      "cell_type": "code",
      "metadata": {
        "id": "xK1q-CnRCF7t",
        "outputId": "36fb6cd8-7663-4148-ba72-16913099f984",
        "colab": {
          "base_uri": "https://localhost:8080/",
          "height": 444
        },
        "tags": []
      },
      "source": [
        "account_stmnt = getAccountStatement(product=df_transactions.iloc[0]['product'])\n",
        "account_stmnt"
      ],
      "execution_count": 28,
      "outputs": [
        {
          "output_type": "stream",
          "name": "stdout",
          "text": "Getting account statement for product 8690083\nFound 40 transactions from 2010-06-06 00:00:00 to 2020-11-23 00:00:00\n"
        },
        {
          "output_type": "execute_result",
          "data": {
            "text/plain": "         id nature accounting_date        amount  product           mvt\n0   9635751     Cr      2010-06-06  7.173894e+08  8690083  7.173894e+08\n1   3851574     Cr      2010-09-14  8.079146e+08  8690083  8.079146e+08\n2   8299042     Cr      2010-09-26  4.875459e+08  8690083  4.875459e+08\n3    306372     Cr      2010-12-31  6.745974e+08  8690083  6.745974e+08\n4   8671870     Dr      2011-08-15  5.852826e+07  8690083 -5.852826e+07\n5   3560091     Cr      2011-09-24  2.881299e+08  8690083  2.881299e+08\n6   2938703     Cr      2011-10-18  4.590003e+08  8690083  4.590003e+08\n7   9913947     Cr      2012-01-18  1.964570e+08  8690083  1.964570e+08\n8   7885814     Cr      2012-06-23  1.780475e+08  8690083  1.780475e+08\n9   2850390     Cr      2012-07-12  8.153563e+08  8690083  8.153563e+08\n10  9015888     Cr      2012-11-06  6.447659e+08  8690083  6.447659e+08\n11  4976437     Cr      2012-12-20  5.794695e+08  8690083  5.794695e+08\n12  3663421     Cr      2013-04-26  8.271324e+08  8690083  8.271324e+08\n13   449715     Cr      2013-06-08  2.271224e+08  8690083  2.271224e+08\n14  6887900     Cr      2013-07-12  2.387091e+07  8690083  2.387091e+07\n15  3666393     Cr      2013-08-21  4.924204e+08  8690083  4.924204e+08\n16  5659838     Cr      2013-11-24  7.805674e+07  8690083  7.805674e+07\n17   508091     Cr      2014-06-13  5.005581e+08  8690083  5.005581e+08\n18  6647439     Cr      2014-07-14  9.046445e+08  8690083  9.046445e+08\n19  7007680     Cr      2015-02-05  7.896158e+08  8690083  7.896158e+08\n20  9952597     Cr      2015-08-13  8.405368e+08  8690083  8.405368e+08\n21  3602486     Cr      2015-11-28  3.899920e+08  8690083  3.899920e+08\n22  2220802     Cr      2016-01-08  7.594073e+08  8690083  7.594073e+08\n23  4726313     Cr      2016-01-15  9.894341e+08  8690083  9.894341e+08\n24  3821925     Cr      2016-04-13  6.143494e+08  8690083  6.143494e+08\n25  9563912     Cr      2016-10-30  9.481535e+08  8690083  9.481535e+08\n26  4903753     Cr      2016-11-09  2.823082e+08  8690083  2.823082e+08\n27  5999667     Cr      2017-01-05  1.098614e+07  8690083  1.098614e+07\n28  7998932     Cr      2017-05-26  5.697159e+08  8690083  5.697159e+08\n29  8954842     Cr      2017-08-31  4.220065e+08  8690083  4.220065e+08\n30   766500     Cr      2017-11-22  2.746034e+06  8690083  2.746034e+06\n31  5988162     Cr      2018-01-08  1.675520e+08  8690083  1.675520e+08\n32  1789240     Dr      2018-01-24  7.267136e+08  8690083 -7.267136e+08\n33  4109250     Cr      2018-08-31  4.119439e+07  8690083  4.119439e+07\n34   643063     Cr      2019-11-20  9.095769e+08  8690083  9.095769e+08\n35  7729740     Cr      2020-02-04  4.860832e+08  8690083  4.860832e+08\n36  5777728     Cr      2020-03-07  5.418450e+08  8690083  5.418450e+08\n37  8476515     Cr      2020-04-03  6.767297e+08  8690083  6.767297e+08\n38  9243610     Cr      2020-09-22  1.842445e+07  8690083  1.842445e+07\n39  9197921     Cr      2020-11-23  7.891492e+08  8690083  7.891492e+08",
            "text/html": "<div>\n<style scoped>\n    .dataframe tbody tr th:only-of-type {\n        vertical-align: middle;\n    }\n\n    .dataframe tbody tr th {\n        vertical-align: top;\n    }\n\n    .dataframe thead th {\n        text-align: right;\n    }\n</style>\n<table border=\"1\" class=\"dataframe\">\n  <thead>\n    <tr style=\"text-align: right;\">\n      <th></th>\n      <th>id</th>\n      <th>nature</th>\n      <th>accounting_date</th>\n      <th>amount</th>\n      <th>product</th>\n      <th>mvt</th>\n    </tr>\n  </thead>\n  <tbody>\n    <tr>\n      <th>0</th>\n      <td>9635751</td>\n      <td>Cr</td>\n      <td>2010-06-06</td>\n      <td>7.173894e+08</td>\n      <td>8690083</td>\n      <td>7.173894e+08</td>\n    </tr>\n    <tr>\n      <th>1</th>\n      <td>3851574</td>\n      <td>Cr</td>\n      <td>2010-09-14</td>\n      <td>8.079146e+08</td>\n      <td>8690083</td>\n      <td>8.079146e+08</td>\n    </tr>\n    <tr>\n      <th>2</th>\n      <td>8299042</td>\n      <td>Cr</td>\n      <td>2010-09-26</td>\n      <td>4.875459e+08</td>\n      <td>8690083</td>\n      <td>4.875459e+08</td>\n    </tr>\n    <tr>\n      <th>3</th>\n      <td>306372</td>\n      <td>Cr</td>\n      <td>2010-12-31</td>\n      <td>6.745974e+08</td>\n      <td>8690083</td>\n      <td>6.745974e+08</td>\n    </tr>\n    <tr>\n      <th>4</th>\n      <td>8671870</td>\n      <td>Dr</td>\n      <td>2011-08-15</td>\n      <td>5.852826e+07</td>\n      <td>8690083</td>\n      <td>-5.852826e+07</td>\n    </tr>\n    <tr>\n      <th>5</th>\n      <td>3560091</td>\n      <td>Cr</td>\n      <td>2011-09-24</td>\n      <td>2.881299e+08</td>\n      <td>8690083</td>\n      <td>2.881299e+08</td>\n    </tr>\n    <tr>\n      <th>6</th>\n      <td>2938703</td>\n      <td>Cr</td>\n      <td>2011-10-18</td>\n      <td>4.590003e+08</td>\n      <td>8690083</td>\n      <td>4.590003e+08</td>\n    </tr>\n    <tr>\n      <th>7</th>\n      <td>9913947</td>\n      <td>Cr</td>\n      <td>2012-01-18</td>\n      <td>1.964570e+08</td>\n      <td>8690083</td>\n      <td>1.964570e+08</td>\n    </tr>\n    <tr>\n      <th>8</th>\n      <td>7885814</td>\n      <td>Cr</td>\n      <td>2012-06-23</td>\n      <td>1.780475e+08</td>\n      <td>8690083</td>\n      <td>1.780475e+08</td>\n    </tr>\n    <tr>\n      <th>9</th>\n      <td>2850390</td>\n      <td>Cr</td>\n      <td>2012-07-12</td>\n      <td>8.153563e+08</td>\n      <td>8690083</td>\n      <td>8.153563e+08</td>\n    </tr>\n    <tr>\n      <th>10</th>\n      <td>9015888</td>\n      <td>Cr</td>\n      <td>2012-11-06</td>\n      <td>6.447659e+08</td>\n      <td>8690083</td>\n      <td>6.447659e+08</td>\n    </tr>\n    <tr>\n      <th>11</th>\n      <td>4976437</td>\n      <td>Cr</td>\n      <td>2012-12-20</td>\n      <td>5.794695e+08</td>\n      <td>8690083</td>\n      <td>5.794695e+08</td>\n    </tr>\n    <tr>\n      <th>12</th>\n      <td>3663421</td>\n      <td>Cr</td>\n      <td>2013-04-26</td>\n      <td>8.271324e+08</td>\n      <td>8690083</td>\n      <td>8.271324e+08</td>\n    </tr>\n    <tr>\n      <th>13</th>\n      <td>449715</td>\n      <td>Cr</td>\n      <td>2013-06-08</td>\n      <td>2.271224e+08</td>\n      <td>8690083</td>\n      <td>2.271224e+08</td>\n    </tr>\n    <tr>\n      <th>14</th>\n      <td>6887900</td>\n      <td>Cr</td>\n      <td>2013-07-12</td>\n      <td>2.387091e+07</td>\n      <td>8690083</td>\n      <td>2.387091e+07</td>\n    </tr>\n    <tr>\n      <th>15</th>\n      <td>3666393</td>\n      <td>Cr</td>\n      <td>2013-08-21</td>\n      <td>4.924204e+08</td>\n      <td>8690083</td>\n      <td>4.924204e+08</td>\n    </tr>\n    <tr>\n      <th>16</th>\n      <td>5659838</td>\n      <td>Cr</td>\n      <td>2013-11-24</td>\n      <td>7.805674e+07</td>\n      <td>8690083</td>\n      <td>7.805674e+07</td>\n    </tr>\n    <tr>\n      <th>17</th>\n      <td>508091</td>\n      <td>Cr</td>\n      <td>2014-06-13</td>\n      <td>5.005581e+08</td>\n      <td>8690083</td>\n      <td>5.005581e+08</td>\n    </tr>\n    <tr>\n      <th>18</th>\n      <td>6647439</td>\n      <td>Cr</td>\n      <td>2014-07-14</td>\n      <td>9.046445e+08</td>\n      <td>8690083</td>\n      <td>9.046445e+08</td>\n    </tr>\n    <tr>\n      <th>19</th>\n      <td>7007680</td>\n      <td>Cr</td>\n      <td>2015-02-05</td>\n      <td>7.896158e+08</td>\n      <td>8690083</td>\n      <td>7.896158e+08</td>\n    </tr>\n    <tr>\n      <th>20</th>\n      <td>9952597</td>\n      <td>Cr</td>\n      <td>2015-08-13</td>\n      <td>8.405368e+08</td>\n      <td>8690083</td>\n      <td>8.405368e+08</td>\n    </tr>\n    <tr>\n      <th>21</th>\n      <td>3602486</td>\n      <td>Cr</td>\n      <td>2015-11-28</td>\n      <td>3.899920e+08</td>\n      <td>8690083</td>\n      <td>3.899920e+08</td>\n    </tr>\n    <tr>\n      <th>22</th>\n      <td>2220802</td>\n      <td>Cr</td>\n      <td>2016-01-08</td>\n      <td>7.594073e+08</td>\n      <td>8690083</td>\n      <td>7.594073e+08</td>\n    </tr>\n    <tr>\n      <th>23</th>\n      <td>4726313</td>\n      <td>Cr</td>\n      <td>2016-01-15</td>\n      <td>9.894341e+08</td>\n      <td>8690083</td>\n      <td>9.894341e+08</td>\n    </tr>\n    <tr>\n      <th>24</th>\n      <td>3821925</td>\n      <td>Cr</td>\n      <td>2016-04-13</td>\n      <td>6.143494e+08</td>\n      <td>8690083</td>\n      <td>6.143494e+08</td>\n    </tr>\n    <tr>\n      <th>25</th>\n      <td>9563912</td>\n      <td>Cr</td>\n      <td>2016-10-30</td>\n      <td>9.481535e+08</td>\n      <td>8690083</td>\n      <td>9.481535e+08</td>\n    </tr>\n    <tr>\n      <th>26</th>\n      <td>4903753</td>\n      <td>Cr</td>\n      <td>2016-11-09</td>\n      <td>2.823082e+08</td>\n      <td>8690083</td>\n      <td>2.823082e+08</td>\n    </tr>\n    <tr>\n      <th>27</th>\n      <td>5999667</td>\n      <td>Cr</td>\n      <td>2017-01-05</td>\n      <td>1.098614e+07</td>\n      <td>8690083</td>\n      <td>1.098614e+07</td>\n    </tr>\n    <tr>\n      <th>28</th>\n      <td>7998932</td>\n      <td>Cr</td>\n      <td>2017-05-26</td>\n      <td>5.697159e+08</td>\n      <td>8690083</td>\n      <td>5.697159e+08</td>\n    </tr>\n    <tr>\n      <th>29</th>\n      <td>8954842</td>\n      <td>Cr</td>\n      <td>2017-08-31</td>\n      <td>4.220065e+08</td>\n      <td>8690083</td>\n      <td>4.220065e+08</td>\n    </tr>\n    <tr>\n      <th>30</th>\n      <td>766500</td>\n      <td>Cr</td>\n      <td>2017-11-22</td>\n      <td>2.746034e+06</td>\n      <td>8690083</td>\n      <td>2.746034e+06</td>\n    </tr>\n    <tr>\n      <th>31</th>\n      <td>5988162</td>\n      <td>Cr</td>\n      <td>2018-01-08</td>\n      <td>1.675520e+08</td>\n      <td>8690083</td>\n      <td>1.675520e+08</td>\n    </tr>\n    <tr>\n      <th>32</th>\n      <td>1789240</td>\n      <td>Dr</td>\n      <td>2018-01-24</td>\n      <td>7.267136e+08</td>\n      <td>8690083</td>\n      <td>-7.267136e+08</td>\n    </tr>\n    <tr>\n      <th>33</th>\n      <td>4109250</td>\n      <td>Cr</td>\n      <td>2018-08-31</td>\n      <td>4.119439e+07</td>\n      <td>8690083</td>\n      <td>4.119439e+07</td>\n    </tr>\n    <tr>\n      <th>34</th>\n      <td>643063</td>\n      <td>Cr</td>\n      <td>2019-11-20</td>\n      <td>9.095769e+08</td>\n      <td>8690083</td>\n      <td>9.095769e+08</td>\n    </tr>\n    <tr>\n      <th>35</th>\n      <td>7729740</td>\n      <td>Cr</td>\n      <td>2020-02-04</td>\n      <td>4.860832e+08</td>\n      <td>8690083</td>\n      <td>4.860832e+08</td>\n    </tr>\n    <tr>\n      <th>36</th>\n      <td>5777728</td>\n      <td>Cr</td>\n      <td>2020-03-07</td>\n      <td>5.418450e+08</td>\n      <td>8690083</td>\n      <td>5.418450e+08</td>\n    </tr>\n    <tr>\n      <th>37</th>\n      <td>8476515</td>\n      <td>Cr</td>\n      <td>2020-04-03</td>\n      <td>6.767297e+08</td>\n      <td>8690083</td>\n      <td>6.767297e+08</td>\n    </tr>\n    <tr>\n      <th>38</th>\n      <td>9243610</td>\n      <td>Cr</td>\n      <td>2020-09-22</td>\n      <td>1.842445e+07</td>\n      <td>8690083</td>\n      <td>1.842445e+07</td>\n    </tr>\n    <tr>\n      <th>39</th>\n      <td>9197921</td>\n      <td>Cr</td>\n      <td>2020-11-23</td>\n      <td>7.891492e+08</td>\n      <td>8690083</td>\n      <td>7.891492e+08</td>\n    </tr>\n  </tbody>\n</table>\n</div>"
          },
          "metadata": {},
          "execution_count": 28
        }
      ]
    },
    {
      "cell_type": "markdown",
      "metadata": {},
      "source": [
        "### Generar tablas"
      ]
    },
    {
      "cell_type": "code",
      "execution_count": 29,
      "metadata": {},
      "outputs": [],
      "source": [
        "df_deposits.to_csv(\"db/deposits.csv\")\n",
        "df_loans.to_csv(\"db/loans.csv\")\n",
        "df_transactions.to_csv(\"db/transactions.csv\")\n",
        "df_clients.to_csv(\"db/clients.csv\")"
      ]
    },
    {
      "cell_type": "markdown",
      "metadata": {},
      "source": [
        "## Pruebas"
      ]
    },
    {
      "cell_type": "code",
      "execution_count": 30,
      "metadata": {
        "tags": []
      },
      "outputs": [
        {
          "output_type": "stream",
          "name": "stdout",
          "text": "Unnamed: 0       id  interest_rate  balance       owner  type  length  \\\n0            0  3192208             11      0.0   5-628-340  Loan      33   \n1            1  8287873             11      0.0    7-196-92  Loan       9   \n2            2  5119058             14      0.0    7-196-92  Loan     112   \n3            3  5467760             11      0.0  10-185-216  Loan      92   \n4            4  5565815              8      0.0   2-316-204  Loan      29   \n5            5  5410701             12      0.0    5-801-32  Loan     118   \n6            6  8193254              7      0.0   1-559-449  Loan      58   \n7            7  2630065             16      0.0   7-220-749  Loan      21   \n8            8  7399784             15      0.0   6-822-364  Loan      43   \n9            9  1436132              5      0.0   6-326-196  Loan     108   \n10          10  3150701              4      0.0   6-655-617  Loan      70   \n11          11  1630633             11      0.0   5-161-162  Loan     106   \n12          12  8284422              6      0.0   3-225-556  Loan      29   \n13          13  1856994              3      0.0   3-225-556  Loan      41   \n14          14  1134908             13      0.0   8-657-617  Loan     109   \n15          15  3007823             15      0.0   5-461-382  Loan      97   \n16          16  5171297             15      0.0   9-128-516  Loan      14   \n17          17  9386765              8      0.0   7-743-887  Loan      35   \n18          18  1647645             16      0.0   5-732-906  Loan      22   \n\n    base  \n0    360  \n1    365  \n2    360  \n3    360  \n4    360  \n5    360  \n6    360  \n7    365  \n8    360  \n9    365  \n10   360  \n11   365  \n12   360  \n13   360  \n14   365  \n15   365  \n16   360  \n17   365  \n18   360  \n"
        },
        {
          "output_type": "execute_result",
          "data": {
            "text/plain": "[]"
          },
          "metadata": {},
          "execution_count": 30
        }
      ],
      "source": [
        "deposits = pd.read_csv(\"db/deposits.csv\")\n",
        "loans = pd.read_csv(\"db/loans.csv\")\n",
        "print(loans)\n",
        "dep2 = deposits[deposits.owner == '6-832-434']\n",
        "loans2 = loans[loans.owner == '6-832-434']\n",
        "\n",
        "client_products = []\n",
        "for i in range(len(dep2)):\n",
        "    #print(dep2.iloc[i].type)\n",
        "    if eval(dep2.iloc[i].type) == SavingAccount:\n",
        "        client_products.append(SavingAccount(\n",
        "            id = str(dep2.iloc[i].id),\n",
        "            interest_rate = dep2.iloc[i].interest_rate,\n",
        "            balance = float(dep2.iloc[i].balance),\n",
        "            owner = dep2.iloc[i].owner\n",
        "        ))\n",
        "    if eval(dep2.iloc[i].type) == FixedTermDeposit:\n",
        "        client_products.append(FixedTermDeposit(\n",
        "            id = str(dep2.iloc[i].id),\n",
        "            interest_rate = dep2.iloc[i].interest_rate,\n",
        "            balance = float(dep2.iloc[i].balance),\n",
        "            owner = dep2.iloc[i].owner\n",
        "        ))\n",
        "for i in range(len(loans2)):\n",
        "\n",
        "    client_products.append(Loan(\n",
        "            id = str(loans2.iloc[i].id),\n",
        "            interest_rate = loans2.iloc[i].interest_rate,\n",
        "            balance = float(loans2.iloc[i].balance),\n",
        "            owner = loans2.iloc[i].owner,\n",
        "            length = loans2.iloc[i].length,\n",
        "            base = loans2.iloc[i].base\n",
        "        ))\n",
        "client_products"
      ]
    },
    {
      "cell_type": "code",
      "execution_count": 31,
      "metadata": {
        "tags": []
      },
      "outputs": [
        {
          "output_type": "execute_result",
          "data": {
            "text/plain": "[]"
          },
          "metadata": {},
          "execution_count": 31
        }
      ],
      "source": [
        "p = Client.getClientProducts(client='4-523-333')\n",
        "p"
      ]
    },
    {
      "cell_type": "code",
      "metadata": {
        "id": "tyEnZBhPC_M2",
        "outputId": "5ffd2331-0b3d-4e80-db32-271c804d7ff8",
        "colab": {
          "base_uri": "https://localhost:8080/",
          "height": 308
        },
        "tags": []
      },
      "source": [
        "import pandas as pd\n",
        "from models import Product\n",
        "pd.options.display.float_format = '${:,.2f}'.format\n",
        "print(os.getcwd())\n",
        "deposits = pd.read_csv(\"db/deposits.csv\")"
      ],
      "execution_count": 32,
      "outputs": [
        {
          "output_type": "stream",
          "name": "stdout",
          "text": "f:\\Python Projects\\Parcial 2 ADA\\flask-app\\app\n"
        }
      ]
    },
    {
      "cell_type": "code",
      "metadata": {
        "id": "dSZiJj94DAx8"
      },
      "source": [
        "Product.getProductBalance(id=3598345)"
      ],
      "execution_count": 33,
      "outputs": [
        {
          "output_type": "error",
          "ename": "IndexError",
          "evalue": "single positional indexer is out-of-bounds",
          "traceback": [
            "\u001b[1;31m---------------------------------------------------------------------------\u001b[0m",
            "\u001b[1;31mIndexError\u001b[0m                                Traceback (most recent call last)",
            "\u001b[1;32m<ipython-input-33-8feb30012223>\u001b[0m in \u001b[0;36m<module>\u001b[1;34m\u001b[0m\n\u001b[1;32m----> 1\u001b[1;33m \u001b[0mProduct\u001b[0m\u001b[1;33m.\u001b[0m\u001b[0mgetProductBalance\u001b[0m\u001b[1;33m(\u001b[0m\u001b[0mid\u001b[0m\u001b[1;33m=\u001b[0m\u001b[1;36m3598345\u001b[0m\u001b[1;33m)\u001b[0m\u001b[1;33m\u001b[0m\u001b[0m\n\u001b[0m",
            "\u001b[1;32mf:\\Python Projects\\Parcial 2 ADA\\flask-app\\app\\models.py\u001b[0m in \u001b[0;36mgetProductBalance\u001b[1;34m(self, **kwargs)\u001b[0m\n\u001b[0;32m     57\u001b[0m     \u001b[0mid\u001b[0m \u001b[1;33m=\u001b[0m \u001b[0mkwargs\u001b[0m\u001b[1;33m[\u001b[0m\u001b[1;34m'id'\u001b[0m\u001b[1;33m]\u001b[0m\u001b[1;33m\u001b[0m\u001b[0m\n\u001b[0;32m     58\u001b[0m \u001b[1;33m\u001b[0m\u001b[0m\n\u001b[1;32m---> 59\u001b[1;33m     \u001b[1;32mreturn\u001b[0m \u001b[0mdf_deposits\u001b[0m\u001b[1;33m[\u001b[0m\u001b[0mdf_deposits\u001b[0m\u001b[1;33m.\u001b[0m\u001b[0mid\u001b[0m \u001b[1;33m==\u001b[0m \u001b[0mid\u001b[0m\u001b[1;33m]\u001b[0m\u001b[1;33m.\u001b[0m\u001b[0miloc\u001b[0m\u001b[1;33m[\u001b[0m\u001b[1;36m0\u001b[0m\u001b[1;33m]\u001b[0m\u001b[1;33m[\u001b[0m\u001b[1;34m'balance'\u001b[0m\u001b[1;33m]\u001b[0m\u001b[1;33m\u001b[0m\u001b[0m\n\u001b[0m\u001b[0;32m     60\u001b[0m \u001b[1;33m\u001b[0m\u001b[0m\n\u001b[0;32m     61\u001b[0m \u001b[1;33m\u001b[0m\u001b[0m\n",
            "\u001b[1;32m~\\AppData\\Local\\Programs\\Python\\Python36\\lib\\site-packages\\pandas\\core\\indexing.py\u001b[0m in \u001b[0;36m__getitem__\u001b[1;34m(self, key)\u001b[0m\n\u001b[0;32m   1766\u001b[0m \u001b[1;33m\u001b[0m\u001b[0m\n\u001b[0;32m   1767\u001b[0m             \u001b[0mmaybe_callable\u001b[0m \u001b[1;33m=\u001b[0m \u001b[0mcom\u001b[0m\u001b[1;33m.\u001b[0m\u001b[0mapply_if_callable\u001b[0m\u001b[1;33m(\u001b[0m\u001b[0mkey\u001b[0m\u001b[1;33m,\u001b[0m \u001b[0mself\u001b[0m\u001b[1;33m.\u001b[0m\u001b[0mobj\u001b[0m\u001b[1;33m)\u001b[0m\u001b[1;33m\u001b[0m\u001b[0m\n\u001b[1;32m-> 1768\u001b[1;33m             \u001b[1;32mreturn\u001b[0m \u001b[0mself\u001b[0m\u001b[1;33m.\u001b[0m\u001b[0m_getitem_axis\u001b[0m\u001b[1;33m(\u001b[0m\u001b[0mmaybe_callable\u001b[0m\u001b[1;33m,\u001b[0m \u001b[0maxis\u001b[0m\u001b[1;33m=\u001b[0m\u001b[0maxis\u001b[0m\u001b[1;33m)\u001b[0m\u001b[1;33m\u001b[0m\u001b[0m\n\u001b[0m\u001b[0;32m   1769\u001b[0m \u001b[1;33m\u001b[0m\u001b[0m\n\u001b[0;32m   1770\u001b[0m     \u001b[1;32mdef\u001b[0m \u001b[0m_is_scalar_access\u001b[0m\u001b[1;33m(\u001b[0m\u001b[0mself\u001b[0m\u001b[1;33m,\u001b[0m \u001b[0mkey\u001b[0m\u001b[1;33m:\u001b[0m \u001b[0mTuple\u001b[0m\u001b[1;33m)\u001b[0m\u001b[1;33m:\u001b[0m\u001b[1;33m\u001b[0m\u001b[0m\n",
            "\u001b[1;32m~\\AppData\\Local\\Programs\\Python\\Python36\\lib\\site-packages\\pandas\\core\\indexing.py\u001b[0m in \u001b[0;36m_getitem_axis\u001b[1;34m(self, key, axis)\u001b[0m\n\u001b[0;32m   2136\u001b[0m \u001b[1;33m\u001b[0m\u001b[0m\n\u001b[0;32m   2137\u001b[0m             \u001b[1;31m# validate the location\u001b[0m\u001b[1;33m\u001b[0m\u001b[1;33m\u001b[0m\u001b[0m\n\u001b[1;32m-> 2138\u001b[1;33m             \u001b[0mself\u001b[0m\u001b[1;33m.\u001b[0m\u001b[0m_validate_integer\u001b[0m\u001b[1;33m(\u001b[0m\u001b[0mkey\u001b[0m\u001b[1;33m,\u001b[0m \u001b[0maxis\u001b[0m\u001b[1;33m)\u001b[0m\u001b[1;33m\u001b[0m\u001b[0m\n\u001b[0m\u001b[0;32m   2139\u001b[0m \u001b[1;33m\u001b[0m\u001b[0m\n\u001b[0;32m   2140\u001b[0m             \u001b[1;32mreturn\u001b[0m \u001b[0mself\u001b[0m\u001b[1;33m.\u001b[0m\u001b[0m_get_loc\u001b[0m\u001b[1;33m(\u001b[0m\u001b[0mkey\u001b[0m\u001b[1;33m,\u001b[0m \u001b[0maxis\u001b[0m\u001b[1;33m=\u001b[0m\u001b[0maxis\u001b[0m\u001b[1;33m)\u001b[0m\u001b[1;33m\u001b[0m\u001b[0m\n",
            "\u001b[1;32m~\\AppData\\Local\\Programs\\Python\\Python36\\lib\\site-packages\\pandas\\core\\indexing.py\u001b[0m in \u001b[0;36m_validate_integer\u001b[1;34m(self, key, axis)\u001b[0m\n\u001b[0;32m   2061\u001b[0m         \u001b[0mlen_axis\u001b[0m \u001b[1;33m=\u001b[0m \u001b[0mlen\u001b[0m\u001b[1;33m(\u001b[0m\u001b[0mself\u001b[0m\u001b[1;33m.\u001b[0m\u001b[0mobj\u001b[0m\u001b[1;33m.\u001b[0m\u001b[0m_get_axis\u001b[0m\u001b[1;33m(\u001b[0m\u001b[0maxis\u001b[0m\u001b[1;33m)\u001b[0m\u001b[1;33m)\u001b[0m\u001b[1;33m\u001b[0m\u001b[0m\n\u001b[0;32m   2062\u001b[0m         \u001b[1;32mif\u001b[0m \u001b[0mkey\u001b[0m \u001b[1;33m>=\u001b[0m \u001b[0mlen_axis\u001b[0m \u001b[1;32mor\u001b[0m \u001b[0mkey\u001b[0m \u001b[1;33m<\u001b[0m \u001b[1;33m-\u001b[0m\u001b[0mlen_axis\u001b[0m\u001b[1;33m:\u001b[0m\u001b[1;33m\u001b[0m\u001b[0m\n\u001b[1;32m-> 2063\u001b[1;33m             \u001b[1;32mraise\u001b[0m \u001b[0mIndexError\u001b[0m\u001b[1;33m(\u001b[0m\u001b[1;34m\"single positional indexer is out-of-bounds\"\u001b[0m\u001b[1;33m)\u001b[0m\u001b[1;33m\u001b[0m\u001b[0m\n\u001b[0m\u001b[0;32m   2064\u001b[0m \u001b[1;33m\u001b[0m\u001b[0m\n\u001b[0;32m   2065\u001b[0m     \u001b[1;32mdef\u001b[0m \u001b[0m_getitem_tuple\u001b[0m\u001b[1;33m(\u001b[0m\u001b[0mself\u001b[0m\u001b[1;33m,\u001b[0m \u001b[0mtup\u001b[0m\u001b[1;33m:\u001b[0m \u001b[0mTuple\u001b[0m\u001b[1;33m)\u001b[0m\u001b[1;33m:\u001b[0m\u001b[1;33m\u001b[0m\u001b[0m\n",
            "\u001b[1;31mIndexError\u001b[0m: single positional indexer is out-of-bounds"
          ]
        }
      ]
    },
    {
      "cell_type": "code",
      "execution_count": null,
      "metadata": {},
      "outputs": [],
      "source": []
    }
  ]
}