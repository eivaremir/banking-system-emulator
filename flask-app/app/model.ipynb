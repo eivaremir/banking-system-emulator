{
  "nbformat": 4,
  "nbformat_minor": 0,
  "metadata": {
    "colab": {
      "name": "Generator",
      "provenance": [],
      "collapsed_sections": [],
      "toc_visible": true
    },
    "kernelspec": {
      "name": "python_defaultSpec_1601440336775",
      "display_name": "Python 3.6.4 64-bit",
      "metadata": {
        "interpreter": {
          "hash": "68278c61d3e1aa8b0a68d6e1aec80b4b779add6e88511bd22117aeef98c6ed21"
        }
      }
    }
  },
  "cells": [
    {
      "cell_type": "code",
      "metadata": {
        "id": "E7SoPgArqXHy",
        "tags": []
      },
      "source": [
        "import random\n",
        "import string\n",
        "import abc\n",
        "from datetime import datetime\n",
        "from models import *\n",
        "from functions import *\n"
      ],
      "execution_count": 1,
      "outputs": [
        {
          "output_type": "stream",
          "name": "stdout",
          "text": "f:\\Python Projects\\Parcial 2 ADA\\flask-app\\app\n"
        }
      ]
    },
    {
      "cell_type": "code",
      "execution_count": 2,
      "metadata": {
        "tags": []
      },
      "outputs": [],
      "source": [
        "test = Loan(\n",
        "    length = 12,\n",
        "    From = \"DD/MM/YY\",\n",
        "    base = 360,\n",
        "    id = \"1\",\n",
        "    interest_rate = .3,\n",
        "    balance = 23123123,\n",
        "    owner= \"2-123-123\"\n",
        "\n",
        ")\n",
        "Loan.create_new_loan(test)\n"
      ]
    },
    {
      "cell_type": "code",
      "metadata": {
        "id": "c9Qh31Erqz1O",
        "outputId": "3a4ec0f2-f5a8-4d2f-c280-5d3e561f0e39",
        "colab": {
          "base_uri": "https://localhost:8080/",
          "height": 35
        }
      },
      "source": [
        "rand_str = lambda l : rand_str(l-1)+random.choice(string.ascii_lowercase) if l > 1 else random.choice(string.ascii_lowercase)\n",
        "rand_str(10)"
      ],
      "execution_count": 6,
      "outputs": [
        {
          "output_type": "execute_result",
          "data": {
            "text/plain": "'arbyoazolj'"
          },
          "metadata": {},
          "execution_count": 6
        }
      ]
    },
    {
      "cell_type": "code",
      "metadata": {
        "id": "xAVLv6gQp9gV"
      },
      "source": [
        "import pandas as pd"
      ],
      "execution_count": 7,
      "outputs": []
    },
    {
      "source": [
        "PRODUCTS = (SavingAccount,FixedTermDeposit,Loan,CreditCard)"
      ],
      "cell_type": "code",
      "metadata": {},
      "execution_count": 9,
      "outputs": [
        {
          "output_type": "error",
          "ename": "NameError",
          "evalue": "name 'SavingAccount' is not defined",
          "traceback": [
            "\u001b[1;31m---------------------------------------------------------------------------\u001b[0m",
            "\u001b[1;31mNameError\u001b[0m                                 Traceback (most recent call last)",
            "\u001b[1;32m<ipython-input-9-708d3f98be4c>\u001b[0m in \u001b[0;36m<module>\u001b[1;34m\u001b[0m\n\u001b[1;32m----> 1\u001b[1;33m \u001b[0mPRODUCTS\u001b[0m \u001b[1;33m=\u001b[0m \u001b[1;33m(\u001b[0m\u001b[0mSavingAccount\u001b[0m\u001b[1;33m,\u001b[0m\u001b[0mFixedTermDeposit\u001b[0m\u001b[1;33m,\u001b[0m\u001b[0mLoan\u001b[0m\u001b[1;33m,\u001b[0m\u001b[0mCreditCard\u001b[0m\u001b[1;33m)\u001b[0m\u001b[1;33m\u001b[0m\u001b[1;33m\u001b[0m\u001b[0m\n\u001b[0m",
            "\u001b[1;31mNameError\u001b[0m: name 'SavingAccount' is not defined"
          ]
        }
      ]
    },
    {
      "source": [
        "### FUNCIONES"
      ],
      "cell_type": "markdown",
      "metadata": {}
    },
    {
      "cell_type": "code",
      "metadata": {
        "id": "3ybVgLbH3joG"
      },
      "source": [
        "prueba = lambda s: s if (len(df_transactions[df_transactions['id']==s])) == 0 else prueba(random.choice(range(100000,999999)))"
      ],
      "execution_count": null,
      "outputs": []
    },
    {
      "cell_type": "code",
      "metadata": {
        "id": "JrSzoYYOyuv9"
      },
      "source": [
        "\n",
        "def generate_product_ids():\n",
        "  id = ''\n",
        "  while (id in ids or id == ''):\n",
        "    id = str(random.choice(range(1000000,9999999)))\n",
        "  product_ids.append(id)\n",
        "  return id   \n"
      ],
      "execution_count": null,
      "outputs": []
    },
    {
      "cell_type": "code",
      "metadata": {
        "id": "m6PQA-KqAgGy"
      },
      "source": [
        "\n",
        "def generate_credit_card_number():\n",
        "  id = ''\n",
        "  while (id in ids or id == ''):\n",
        "    id = str(random.choice(range(1000000000000000,9999999999999999)))\n",
        "  product_ids.append(id)\n",
        "  return id   \n"
      ],
      "execution_count": null,
      "outputs": []
    },
    {
      "cell_type": "code",
      "metadata": {
        "id": "ZpZtyODFmN8Q"
      },
      "source": [
        "\n",
        "def generate_transaction_id():\n",
        "  id = ''\n",
        "  while (id in ids or id == ''):\n",
        "    id = str(random.choice(range(100000,9999999)))\n",
        "  transaction_ids.append(id)\n",
        "  return id   \n"
      ],
      "execution_count": null,
      "outputs": []
    },
    {
      "cell_type": "code",
      "metadata": {
        "id": "G4a4dUnRsCuT"
      },
      "source": [
        "\n",
        "def generate_client_id():\n",
        "  id = ''\n",
        "  while (id in ids or id == ''):\n",
        "    id = str(random.choice(range(1,11)))+\"-\"+ str(random.choice(range(100,999)))+\"-\"+ str(random.choice(range(1,999)))\n",
        "  ids.append(id)\n",
        "  return id   \n"
      ],
      "execution_count": null,
      "outputs": []
    },
    {
      "cell_type": "code",
      "metadata": {
        "id": "pG3mOxQOyVrG"
      },
      "source": [
        "def generate_saving_accounts(n):\n",
        "  accs = []\n",
        "  for i in range(n):\n",
        "    accs.append(SavingAccount(\n",
        "        id = generate_product_ids()\n",
        "    ))\n",
        "  return accs"
      ],
      "execution_count": null,
      "outputs": []
    },
    {
      "cell_type": "code",
      "metadata": {
        "id": "oESk2bbyq2Ku"
      },
      "source": [
        "def generate_clients(n):\n",
        "  clients = []\n",
        "  for i in range(n):\n",
        "    clients.append(Client(\n",
        "        id = generate_client_id(),\n",
        "        name = rand_str(10) +\" \"+rand_str(15),\n",
        "        products = []\n",
        "    ))\n",
        "  return clients\n"
      ],
      "execution_count": null,
      "outputs": []
    },
    {
      "cell_type": "code",
      "metadata": {
        "id": "cAFJt99cn7S_"
      },
      "source": [
        "def generate_balance():\n",
        "  n = random.choice(range(0,500000))\n",
        "  cash= (\"${:5.2f}\".format(n))\n",
        "  return cash"
      ],
      "execution_count": null,
      "outputs": []
    },
    {
      "cell_type": "markdown",
      "metadata": {
        "id": "9vKXu4_M6VYS"
      },
      "source": [
        "## Generar Entidades"
      ]
    },
    {
      "cell_type": "code",
      "metadata": {
        "id": "whLN_1a8ulBU",
        "outputId": "96696bcd-10d6-4d43-9fe6-881a287e7ab0",
        "colab": {
          "base_uri": "https://localhost:8080/",
          "height": 108
        },
        "tags": []
      },
      "source": [
        "%%time\n",
        "ids = []\n",
        "product_ids = []\n",
        "\n",
        "# POR CADA PRODUCTO GENERADO...\n",
        "for cliente in clientes:\n",
        "  # SELECCIONO UNA CANTIDAD DE PRODUCTOS ALEATORIAMENTE\n",
        "  cantidad_productos = random.choice(range(1,5))\n",
        "  \n",
        "  # POR LA CANTIDAD DE PRODUCTOS SELECCIONADOS...\n",
        "  for p in range(0,cantidad_productos):    \n",
        "\n",
        "    # SELECCIONO ALEATORIAMENTE UN TIPO DE PRODUCTO\n",
        "    tipo_producto = PRODUCTS[random.choice(range(0,len(PRODUCTS)))]\n",
        "\n",
        "    # INSTANCIO EL PRODUCTO\n",
        "    if tipo_producto is Loan:\n",
        "      producto = tipo_producto(\n",
        "          id=generate_product_ids(),\n",
        "          interest_rate=random.choice(range(3,17)),\n",
        "          owner = cliente.id,\n",
        "          base= random.choice([365,360]),\n",
        "          length = random.choice(range(1,120)),\n",
        "          From = datetime(random.choice(range(2018,2020+1)),month ,day))\n",
        "    elif tipo_producto is CreditCard:\n",
        "      producto = tipo_producto(\n",
        "          id=generate_credit_card_number(),\n",
        "          interest_rate=random.choice(range(1,3)),\n",
        "          owner = cliente.id\n",
        "          )\n",
        "    else:\n",
        "      producto = tipo_producto(\n",
        "          id=generate_product_ids(),\n",
        "          interest_rate=random.choice(range(1,3)),\n",
        "          owner = cliente.id\n",
        "          )\n",
        " \n",
        "    # RELACIONO EL PRODUCTO CON EL CLIENTE ACTUAL\n",
        "    cliente.products.append(producto)\n",
        "    products.append(producto)\n",
        "print(type (tipo_producto.balance))\n",
        "\n",
        "print(\"Productos generados:\",len(products))\n",
        "print(\"Clientes generados:\",len(clientes))"
      ],
      "execution_count": 10,
      "outputs": [
        {
          "output_type": "error",
          "ename": "NameError",
          "evalue": "name 'generate_clients' is not defined",
          "traceback": [
            "\u001b[1;31m---------------------------------------------------------------------------\u001b[0m",
            "\u001b[1;31mNameError\u001b[0m                                 Traceback (most recent call last)",
            "\u001b[1;32m<timed exec>\u001b[0m in \u001b[0;36m<module>\u001b[1;34m\u001b[0m\n",
            "\u001b[1;31mNameError\u001b[0m: name 'generate_clients' is not defined"
          ]
        }
      ]
    },
    {
      "cell_type": "code",
      "execution_count": null,
      "metadata": {},
      "outputs": [],
      "source": [
        "products[0].owner"
      ]
    },
    {
      "cell_type": "markdown",
      "metadata": {
        "id": "hvKA2DbvRDzz"
      },
      "source": [
        "## Generar transacciones"
      ]
    },
    {
      "cell_type": "code",
      "metadata": {
        "id": "GmbA2deUuwWd",
        "outputId": "a3500a76-8e90-4492-da91-b3092d057177",
        "colab": {
          "base_uri": "https://localhost:8080/",
          "height": 90
        },
        "tags": []
      },
      "source": [
        "%%time\n",
        "MIN_TRX = 10\n",
        "MAX_TRX = 100\n",
        "transactions = []\n",
        "transaction_ids = []\n",
        "cliente = 0\n",
        "clientes = generate_clients(1000)\n",
        "\n",
        "for cliente in clientes:\n",
        "  for producto in cliente.products:\n",
        "    \n",
        "    if type(producto) is SavingAccount or type(producto) is FixedTermDeposit :\n",
        "      # SELECCIONAR UN NUMERO ALEATORIO DE TRANSACCIONES PARA CADA PRODUCTO\n",
        "      n_Trx = random.choice(range(MIN_TRX,MAX_TRX))\n",
        "\n",
        "      for trx in range(n_Trx):\n",
        "        month = random.choice(range(1,13))\n",
        "        # SI EL MES ES FEBRERO... ENTRE 1 Y 28\n",
        "        if month == 2: day = random.choice(range(1,29))\n",
        "        # SI EL MES ES PAR EN EL SEGUNDO SEMESTRE O ES IMPAR EN EL PRIMER SEMESTRE... ENTRE 1 Y 31\n",
        "        elif (month % 2 == 0 and month >= 8) or (month % 2 != 0 and month < 8): day = random.choice(range(1,32))\n",
        "        # DE CUALQUIER OTRA FORMA... ENTRE 1 Y 30\n",
        "        else: day = random.choice(range(1,30))\n",
        "        amt = float(str(random.choice(range(1,999999999)))+\".\"+str(random.choice(range(1,99))))\n",
        "        nature = \"Dr\" if random.choice(range(10))==0 else \"Cr\"\n",
        "        mvt = amt*-1 if nature == 'Dr' else amt\n",
        "        transactions.append(Transaction(\n",
        "            id = generate_transaction_id(),\n",
        "            product = producto.id,\n",
        "            nature = nature,\n",
        "            date = datetime(random.choice(range(2010,2020+1)),month ,day),\n",
        "            amt = amt,\n",
        "            mvt = mvt\n",
        "        ))\n",
        "\n",
        "print(\"Transacciones generadas:\",len(transactions))\n",
        "print(\"Media de transacción por cliente:\",len(transactions)/len(products))"
      ],
      "execution_count": null,
      "outputs": []
    },
    {
      "cell_type": "markdown",
      "metadata": {
        "id": "eNUo3sgGtz7D"
      },
      "source": [
        "## Generar tablas"
      ]
    },
    {
      "cell_type": "code",
      "metadata": {
        "id": "3zNQqeK1vovC"
      },
      "source": [
        "df_loans =[]\n",
        "df_deposits = []\n",
        "for p in products:\n",
        "  if type(p) is Loan:\n",
        "    df_loans.append(p)\n",
        "  if type(p) is FixedTermDeposit or type(p) is SavingAccount:\n",
        "    df_deposits.append(p)\n",
        "\n"
      ],
      "execution_count": 3,
      "outputs": [
        {
          "output_type": "error",
          "ename": "NameError",
          "evalue": "name 'products' is not defined",
          "traceback": [
            "\u001b[1;31m---------------------------------------------------------------------------\u001b[0m",
            "\u001b[1;31mNameError\u001b[0m                                 Traceback (most recent call last)",
            "\u001b[1;32m<ipython-input-3-ca6f3e160f57>\u001b[0m in \u001b[0;36m<module>\u001b[1;34m\u001b[0m\n\u001b[0;32m      1\u001b[0m \u001b[0mdf_loans\u001b[0m \u001b[1;33m=\u001b[0m\u001b[1;33m[\u001b[0m\u001b[1;33m]\u001b[0m\u001b[1;33m\u001b[0m\u001b[1;33m\u001b[0m\u001b[0m\n\u001b[0;32m      2\u001b[0m \u001b[0mdf_deposits\u001b[0m \u001b[1;33m=\u001b[0m \u001b[1;33m[\u001b[0m\u001b[1;33m]\u001b[0m\u001b[1;33m\u001b[0m\u001b[1;33m\u001b[0m\u001b[0m\n\u001b[1;32m----> 3\u001b[1;33m \u001b[1;32mfor\u001b[0m \u001b[0mp\u001b[0m \u001b[1;32min\u001b[0m \u001b[0mproducts\u001b[0m\u001b[1;33m:\u001b[0m\u001b[1;33m\u001b[0m\u001b[1;33m\u001b[0m\u001b[0m\n\u001b[0m\u001b[0;32m      4\u001b[0m   \u001b[1;32mif\u001b[0m \u001b[0mtype\u001b[0m\u001b[1;33m(\u001b[0m\u001b[0mp\u001b[0m\u001b[1;33m)\u001b[0m \u001b[1;32mis\u001b[0m \u001b[0mLoan\u001b[0m\u001b[1;33m:\u001b[0m\u001b[1;33m\u001b[0m\u001b[1;33m\u001b[0m\u001b[0m\n\u001b[0;32m      5\u001b[0m     \u001b[0mdf_loans\u001b[0m\u001b[1;33m.\u001b[0m\u001b[0mappend\u001b[0m\u001b[1;33m(\u001b[0m\u001b[0mp\u001b[0m\u001b[1;33m)\u001b[0m\u001b[1;33m\u001b[0m\u001b[1;33m\u001b[0m\u001b[0m\n",
            "\u001b[1;31mNameError\u001b[0m: name 'products' is not defined"
          ]
        }
      ]
    },
    {
      "cell_type": "code",
      "execution_count": null,
      "metadata": {},
      "outputs": [],
      "source": [
        "df_clients = pd.DataFrame.from_records([l.to_dict() for l in clientes])\n",
        "df_clients.head(3)"
      ]
    },
    {
      "cell_type": "code",
      "metadata": {
        "id": "Fx51ZtvcyIKP",
        "outputId": "3b94c538-6481-445c-cda9-c7306950c3f7",
        "colab": {
          "base_uri": "https://localhost:8080/",
          "height": 108
        }
      },
      "source": [
        "df_loans = pd.DataFrame.from_records([l.to_dict() for l in df_loans])\n",
        "df_loans.head(3)"
      ],
      "execution_count": null,
      "outputs": []
    },
    {
      "cell_type": "code",
      "metadata": {
        "id": "ok9-zGQDzGwL",
        "outputId": "0288c59e-a62a-469f-8755-541577972f2f",
        "colab": {
          "base_uri": "https://localhost:8080/",
          "height": 138
        }
      },
      "source": [
        "df_deposits = pd.DataFrame.from_records([d.to_dict() for d in df_deposits])\n",
        "df_deposits.head(3)"
      ],
      "execution_count": null,
      "outputs": []
    },
    {
      "cell_type": "code",
      "metadata": {
        "id": "whW8zJyWpISf",
        "outputId": "4ee3f123-9721-402c-ee88-f676eac40d45",
        "colab": {
          "base_uri": "https://localhost:8080/",
          "height": 407
        }
      },
      "source": [
        "df_transactions = pd.DataFrame.from_records([t.to_dict() for t in transactions])\n",
        "df_transactions"
      ],
      "execution_count": null,
      "outputs": []
    },
    {
      "cell_type": "code",
      "metadata": {
        "id": "KiGRB6r6vJP0",
        "outputId": "4589b545-8f35-4023-bc75-ea45a2907d73",
        "colab": {
          "base_uri": "https://localhost:8080/",
          "height": 438
        }
      },
      "source": [
        "#df_transactions[df_transactions['product']=='1022920']\n",
        "summarize = df_transactions.groupby(['product'])['mvt']\n",
        "summarize = summarize.sum()\n",
        "summarize = summarize.reset_index()\n",
        "#print(summarize['1022920'==summarize['product']])\n",
        "for i in range(len(summarize)):\n",
        "  product_id = summarize['product'].iloc[i]\n",
        "  \n",
        "  df_deposits.loc[df_deposits['id']==product_id,'balance'] = summarize['mvt']\n",
        "\n",
        "df_deposits[df_deposits['id'].isin(summarize['product'])]\n",
        "#print(df_deposits[summarize['product']==df_deposits['id']])"
      ],
      "execution_count": null,
      "outputs": []
    },
    {
      "cell_type": "markdown",
      "metadata": {
        "id": "aBL5Z_3MzXcA"
      },
      "source": [
        "## Requerimientos"
      ]
    },
    {
      "cell_type": "markdown",
      "metadata": {
        "id": "hXa6FY2fiBes"
      },
      "source": [
        "\n",
        "***vas a definir la funcion de ejecutar transferencia***\n",
        "\n",
        "\n",
        "\n",
        "***tienes que buscar la informacion de las cuentas afectadas en la tabla de productos***\n",
        "\n",
        "\n",
        "***vas a ver si la cuenta a acreditar tiene saldo***\n",
        "\n",
        "\n",
        "vas a generar la transaccion en la tabla de transacciones\n",
        "\n",
        "\n",
        "vas a modificar el balance de las cuentas afectadas en la tabla de productos\n",
        "\n"
      ]
    },
    {
      "cell_type": "markdown",
      "metadata": {
        "id": "SAxFDHYXzc05"
      },
      "source": [
        "### Generar estado de cuenta"
      ]
    },
    {
      "cell_type": "code",
      "metadata": {
        "id": "9PQb0ZiuzLPj"
      },
      "source": [
        "def getAccountStatement(**kwargs):\n",
        "  \n",
        "  try: kwargs['product']\n",
        "  except: print(\"A product id is required\")\n",
        "\n",
        "  \n",
        "  print(\"Getting account statement for product\",kwargs['product'])\n",
        "  df = df_transactions[df_transactions['product'] == kwargs['product']]\n",
        "  \n",
        "  try: start = kwargs['start'] \n",
        "  except: start = df['accounting_date'].min()\n",
        "  try: end = kwargs['end']\n",
        "  except: end = df['accounting_date'].max()\n",
        "  \n",
        "  df = df[(df.accounting_date >= start) & (df.accounting_date <= end) ]\n",
        "\n",
        "  print(\"Found\",len(df),\"transactions from\",start,\"to\",end)\n",
        "  df = df.sort_values(by=['accounting_date'])\n",
        "  df = df.reset_index()\n",
        "  df = df.drop(['index'],axis=1)\n",
        "  return df"
      ],
      "execution_count": null,
      "outputs": []
    },
    {
      "cell_type": "code",
      "metadata": {
        "id": "THoVTGig0krM",
        "outputId": "39953d37-3773-4f51-ab49-cf3f510a37c3",
        "colab": {
          "base_uri": "https://localhost:8080/",
          "height": 345
        },
        "tags": []
      },
      "source": [
        "%%time\n",
        "account_stmnt = getAccountStatement(product=df_transactions.iloc[0]['product'])\n",
        "print(account_stmnt)\n"
      ],
      "execution_count": null,
      "outputs": []
    },
    {
      "cell_type": "markdown",
      "metadata": {
        "id": "EvfNt4VI8Vfh"
      },
      "source": [
        "#### Mostrar un gráfico con el movimiento de su producto"
      ]
    },
    {
      "cell_type": "code",
      "metadata": {
        "id": "9gURU9iE01pt"
      },
      "source": [
        "import matplotlib.pyplot as plt"
      ],
      "execution_count": null,
      "outputs": []
    },
    {
      "cell_type": "code",
      "metadata": {
        "id": "-c4X5fTX6f9p",
        "outputId": "f54df991-468a-414a-bbcd-d65d2db25de1",
        "colab": {
          "base_uri": "https://localhost:8080/",
          "height": 126
        }
      },
      "source": [
        "# generar el campo valor\n",
        "account_stmnt['mvt'] = 0.00\n",
        "account_stmnt.loc[account_stmnt['nature']==\"Dr\",'mvt'] = account_stmnt['amount']\n",
        "account_stmnt.loc[account_stmnt['nature']==\"Cr\",'mvt'] = account_stmnt['amount']*-1\n",
        "account_stmnt.sum()"
      ],
      "execution_count": null,
      "outputs": []
    },
    {
      "cell_type": "code",
      "metadata": {
        "id": "BxEtUBGa7p5U",
        "outputId": "0ef3419f-1b52-4872-c261-013e93c49062",
        "colab": {
          "base_uri": "https://localhost:8080/",
          "height": 276
        }
      },
      "source": [
        "plt.plot(account_stmnt.amount)\n",
        "plt.show()"
      ],
      "execution_count": null,
      "outputs": []
    },
    {
      "cell_type": "code",
      "metadata": {
        "id": "1KDHC8Zl76g3"
      },
      "source": [
        ""
      ],
      "execution_count": null,
      "outputs": []
    },
    {
      "cell_type": "markdown",
      "metadata": {
        "id": "JAUj8ESCFuib"
      },
      "source": [
        "### Ejecutar Transferencia"
      ]
    },
    {
      "cell_type": "code",
      "metadata": {
        "id": "4UUFbhsvNrjs",
        "outputId": "250328f9-5a30-4211-8f5d-18957ad9740a",
        "colab": {
          "base_uri": "https://localhost:8080/",
          "height": 54
        },
        "tags": []
      },
      "source": [
        "Transfer.Execute(to=df_transactions.iloc[0]['product'], From=df_transactions.iloc[-1]['product'], amount= 4)\n",
        "\n"
      ],
      "execution_count": null,
      "outputs": []
    },
    {
      "cell_type": "code",
      "metadata": {
        "id": "xK1q-CnRCF7t",
        "outputId": "36fb6cd8-7663-4148-ba72-16913099f984",
        "colab": {
          "base_uri": "https://localhost:8080/",
          "height": 444
        },
        "tags": []
      },
      "source": [
        "account_stmnt = getAccountStatement(product=df_transactions.iloc[0]['product'])\n",
        "account_stmnt"
      ],
      "execution_count": null,
      "outputs": []
    },
    {
      "cell_type": "markdown",
      "metadata": {},
      "source": [
        "### Generar tablas"
      ]
    },
    {
      "cell_type": "code",
      "execution_count": 2,
      "metadata": {},
      "outputs": [
        {
          "output_type": "error",
          "ename": "NameError",
          "evalue": "name 'df_deposits' is not defined",
          "traceback": [
            "\u001b[1;31m---------------------------------------------------------------------------\u001b[0m",
            "\u001b[1;31mNameError\u001b[0m                                 Traceback (most recent call last)",
            "\u001b[1;32m<ipython-input-2-0b8f6e33afad>\u001b[0m in \u001b[0;36m<module>\u001b[1;34m\u001b[0m\n\u001b[1;32m----> 1\u001b[1;33m \u001b[0mdf_deposits\u001b[0m\u001b[1;33m.\u001b[0m\u001b[0mto_csv\u001b[0m\u001b[1;33m(\u001b[0m\u001b[1;34m\"db/deposits.csv\"\u001b[0m\u001b[1;33m)\u001b[0m\u001b[1;33m\u001b[0m\u001b[1;33m\u001b[0m\u001b[0m\n\u001b[0m\u001b[0;32m      2\u001b[0m \u001b[0mdf_loans\u001b[0m\u001b[1;33m.\u001b[0m\u001b[0mto_csv\u001b[0m\u001b[1;33m(\u001b[0m\u001b[1;34m\"db/loans.csv\"\u001b[0m\u001b[1;33m)\u001b[0m\u001b[1;33m\u001b[0m\u001b[1;33m\u001b[0m\u001b[0m\n\u001b[0;32m      3\u001b[0m \u001b[0mdf_transactions\u001b[0m\u001b[1;33m.\u001b[0m\u001b[0mto_csv\u001b[0m\u001b[1;33m(\u001b[0m\u001b[1;34m\"db/transactions.csv\"\u001b[0m\u001b[1;33m)\u001b[0m\u001b[1;33m\u001b[0m\u001b[1;33m\u001b[0m\u001b[0m\n\u001b[0;32m      4\u001b[0m \u001b[0mdf_clients\u001b[0m\u001b[1;33m.\u001b[0m\u001b[0mto_csv\u001b[0m\u001b[1;33m(\u001b[0m\u001b[1;34m\"db/clients.csv\"\u001b[0m\u001b[1;33m)\u001b[0m\u001b[1;33m\u001b[0m\u001b[1;33m\u001b[0m\u001b[0m\n",
            "\u001b[1;31mNameError\u001b[0m: name 'df_deposits' is not defined"
          ]
        }
      ],
      "source": [
        "df_deposits.to_csv(\"db/deposits.csv\")\n",
        "df_loans.to_csv(\"db/loans.csv\")\n",
        "df_transactions.to_csv(\"db/transactions.csv\")\n",
        "df_clients.to_csv(\"db/clients.csv\")"
      ]
    },
    {
      "cell_type": "markdown",
      "metadata": {},
      "source": [
        "## Pruebas"
      ]
    },
    {
      "cell_type": "code",
      "execution_count": null,
      "metadata": {
        "tags": []
      },
      "outputs": [],
      "source": [
        "deposits = pd.read_csv(\"db/deposits.csv\")\n",
        "loans = pd.read_csv(\"db/loans.csv\")\n",
        "print(loans)\n",
        "dep2 = deposits[deposits.owner == '6-832-434']\n",
        "loans2 = loans[loans.owner == '6-832-434']\n",
        "\n",
        "client_products = []\n",
        "for i in range(len(dep2)):\n",
        "    #print(dep2.iloc[i].type)\n",
        "    if eval(dep2.iloc[i].type) == SavingAccount:\n",
        "        client_products.append(SavingAccount(\n",
        "            id = str(dep2.iloc[i].id),\n",
        "            interest_rate = dep2.iloc[i].interest_rate,\n",
        "            balance = float(dep2.iloc[i].balance),\n",
        "            owner = dep2.iloc[i].owner\n",
        "        ))\n",
        "    if eval(dep2.iloc[i].type) == FixedTermDeposit:\n",
        "        client_products.append(FixedTermDeposit(\n",
        "            id = str(dep2.iloc[i].id),\n",
        "            interest_rate = dep2.iloc[i].interest_rate,\n",
        "            balance = float(dep2.iloc[i].balance),\n",
        "            owner = dep2.iloc[i].owner\n",
        "        ))\n",
        "for i in range(len(loans2)):\n",
        "\n",
        "    client_products.append(Loan(\n",
        "            id = str(loans2.iloc[i].id),\n",
        "            interest_rate = loans2.iloc[i].interest_rate,\n",
        "            balance = float(loans2.iloc[i].balance),\n",
        "            owner = loans2.iloc[i].owner,\n",
        "            length = loans2.iloc[i].length,\n",
        "            base = loans2.iloc[i].base\n",
        "        ))\n",
        "client_products"
      ]
    },
    {
      "cell_type": "code",
      "execution_count": null,
      "metadata": {
        "tags": []
      },
      "outputs": [],
      "source": [
        "p = Client.getClientProducts(client='4-523-333')\n",
        "p"
      ]
    },
    {
      "cell_type": "code",
      "metadata": {
        "id": "tyEnZBhPC_M2",
        "outputId": "5ffd2331-0b3d-4e80-db32-271c804d7ff8",
        "colab": {
          "base_uri": "https://localhost:8080/",
          "height": 308
        },
        "tags": []
      },
      "source": [
        "import pandas as pd\n",
        "from models import Product\n",
        "pd.options.display.float_format = '${:,.2f}'.format\n",
        "print(os.getcwd())\n",
        "deposits = pd.read_csv(\"db/deposits.csv\")"
      ],
      "execution_count": null,
      "outputs": []
    },
    {
      "cell_type": "code",
      "metadata": {
        "id": "dSZiJj94DAx8"
      },
      "source": [
        "Client.getClientProducts(client='8-481-903')"
      ],
      "execution_count": null,
      "outputs": []
    },
    {
      "cell_type": "code",
      "execution_count": null,
      "metadata": {},
      "outputs": [],
      "source": [
        "Product.getProductBalance(id=7721659)"
      ]
    },
    {
      "cell_type": "code",
      "execution_count": null,
      "metadata": {},
      "outputs": [],
      "source": [
        "'{:.2f}'.format(14669322166.459997)"
      ]
    },
    {
      "cell_type": "code",
      "execution_count": null,
      "metadata": {},
      "outputs": [],
      "source": [
        "l = Loan(length = 12,base=365,balance=500,id='12123',interest_rate=3,owner=\"\")\n",
        "l.generate_amortization_table()"
      ]
    },
    {
      "cell_type": "code",
      "execution_count": null,
      "metadata": {},
      "outputs": [],
      "source": [
        "l.to_dict()"
      ]
    },
    {
      "cell_type": "code",
      "execution_count": null,
      "metadata": {},
      "outputs": [],
      "source": []
    }
  ]
}