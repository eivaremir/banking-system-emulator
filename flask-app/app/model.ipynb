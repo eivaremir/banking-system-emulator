{
  "nbformat": 4,
  "nbformat_minor": 0,
  "metadata": {
    "colab": {
      "name": "Generator",
      "provenance": [],
      "collapsed_sections": [],
      "toc_visible": true
    },
    "kernelspec": {
      "name": "python_defaultSpec_1601321598731",
      "display_name": "Python 3.6.4 64-bit",
      "metadata": {
        "interpreter": {
          "hash": "68278c61d3e1aa8b0a68d6e1aec80b4b779add6e88511bd22117aeef98c6ed21"
        }
      }
    }
  },
  "cells": [
    {
      "cell_type": "code",
      "metadata": {
        "id": "E7SoPgArqXHy",
        "tags": []
      },
      "source": [
        "import random\n",
        "import string\n",
        "import abc\n",
        "from datetime import datetime\n",
        "from models import *\n",
        "from functions import *\n"
      ],
      "execution_count": 1,
      "outputs": [
        {
          "output_type": "stream",
          "name": "stdout",
          "text": "f:\\Python Projects\\Parcial 2 ADA\\flask-app\\app\n"
        }
      ]
    },
    {
      "cell_type": "code",
      "metadata": {
        "id": "c9Qh31Erqz1O",
        "outputId": "3a4ec0f2-f5a8-4d2f-c280-5d3e561f0e39",
        "colab": {
          "base_uri": "https://localhost:8080/",
          "height": 35
        }
      },
      "source": [
        "rand_str = lambda l : rand_str(l-1)+random.choice(string.ascii_lowercase) if l > 1 else random.choice(string.ascii_lowercase)\n",
        "rand_str(10)"
      ],
      "execution_count": 2,
      "outputs": [
        {
          "output_type": "execute_result",
          "data": {
            "text/plain": "'ucrwrqojha'"
          },
          "metadata": {},
          "execution_count": 2
        }
      ]
    },
    {
      "cell_type": "code",
      "metadata": {
        "id": "xAVLv6gQp9gV"
      },
      "source": [
        "import pandas as pd"
      ],
      "execution_count": 3,
      "outputs": []
    },
    {
      "source": [
        "PRODUCTS = (SavingAccount,FixedTermDeposit,Loan,CreditCard)"
      ],
      "cell_type": "code",
      "metadata": {},
      "execution_count": 4,
      "outputs": []
    },
    {
      "source": [
        "### FUNCIONES"
      ],
      "cell_type": "markdown",
      "metadata": {}
    },
    {
      "cell_type": "code",
      "metadata": {
        "id": "3ybVgLbH3joG"
      },
      "source": [
        "prueba = lambda s: s if (len(df_transactions[df_transactions['id']==s])) == 0 else prueba(random.choice(range(100000,999999)))"
      ],
      "execution_count": 5,
      "outputs": []
    },
    {
      "cell_type": "code",
      "metadata": {
        "id": "JrSzoYYOyuv9"
      },
      "source": [
        "\n",
        "def generate_product_ids():\n",
        "  id = ''\n",
        "  while (id in ids or id == ''):\n",
        "    id = str(random.choice(range(1000000,9999999)))\n",
        "  product_ids.append(id)\n",
        "  return id   \n"
      ],
      "execution_count": 6,
      "outputs": []
    },
    {
      "cell_type": "code",
      "metadata": {
        "id": "m6PQA-KqAgGy"
      },
      "source": [
        "\n",
        "def generate_credit_card_number():\n",
        "  id = ''\n",
        "  while (id in ids or id == ''):\n",
        "    id = str(random.choice(range(1000000000000000,9999999999999999)))\n",
        "  product_ids.append(id)\n",
        "  return id   \n"
      ],
      "execution_count": 7,
      "outputs": []
    },
    {
      "cell_type": "code",
      "metadata": {
        "id": "ZpZtyODFmN8Q"
      },
      "source": [
        "\n",
        "def generate_transaction_id():\n",
        "  id = ''\n",
        "  while (id in ids or id == ''):\n",
        "    id = str(random.choice(range(100000,9999999)))\n",
        "  transaction_ids.append(id)\n",
        "  return id   \n"
      ],
      "execution_count": 8,
      "outputs": []
    },
    {
      "cell_type": "code",
      "metadata": {
        "id": "G4a4dUnRsCuT"
      },
      "source": [
        "\n",
        "def generate_client_id():\n",
        "  id = ''\n",
        "  while (id in ids or id == ''):\n",
        "    id = str(random.choice(range(1,11)))+\"-\"+ str(random.choice(range(100,999)))+\"-\"+ str(random.choice(range(1,999)))\n",
        "  ids.append(id)\n",
        "  return id   \n"
      ],
      "execution_count": 9,
      "outputs": []
    },
    {
      "cell_type": "code",
      "metadata": {
        "id": "pG3mOxQOyVrG"
      },
      "source": [
        "def generate_saving_accounts(n):\n",
        "  accs = []\n",
        "  for i in range(n):\n",
        "    accs.append(SavingAccount(\n",
        "        id = generate_product_ids()\n",
        "    ))\n",
        "  return accs"
      ],
      "execution_count": 10,
      "outputs": []
    },
    {
      "cell_type": "code",
      "metadata": {
        "id": "oESk2bbyq2Ku"
      },
      "source": [
        "def generate_clients(n):\n",
        "  clients = []\n",
        "  for i in range(n):\n",
        "    clients.append(Client(\n",
        "        id = generate_client_id(),\n",
        "        name = rand_str(10) +\" \"+rand_str(15),\n",
        "        products = []\n",
        "    ))\n",
        "  return clients\n"
      ],
      "execution_count": 11,
      "outputs": []
    },
    {
      "cell_type": "code",
      "metadata": {
        "id": "cAFJt99cn7S_"
      },
      "source": [
        "def generate_balance():\n",
        "  n = random.choice(range(0,500000))\n",
        "  cash= (\"${:5.2f}\".format(n))\n",
        "  return cash"
      ],
      "execution_count": 12,
      "outputs": []
    },
    {
      "cell_type": "markdown",
      "metadata": {
        "id": "9vKXu4_M6VYS"
      },
      "source": [
        "## Generar Entidades"
      ]
    },
    {
      "cell_type": "code",
      "metadata": {
        "id": "whLN_1a8ulBU",
        "outputId": "96696bcd-10d6-4d43-9fe6-881a287e7ab0",
        "colab": {
          "base_uri": "https://localhost:8080/",
          "height": 108
        },
        "tags": []
      },
      "source": [
        "%%time\n",
        "ids = []\n",
        "product_ids = []\n",
        "clientes = generate_clients(1000)\n",
        "products = []\n",
        "# POR CADA PRODUCTO GENERADO...\n",
        "for cliente in clientes:\n",
        "  # SELECCIONO UNA CANTIDAD DE PRODUCTOS ALEATORIAMENTE\n",
        "  cantidad_productos = random.choice(range(1,5))\n",
        "  \n",
        "  # POR LA CANTIDAD DE PRODUCTOS SELECCIONADOS...\n",
        "  for p in range(0,cantidad_productos):    \n",
        "\n",
        "    # SELECCIONO ALEATORIAMENTE UN TIPO DE PRODUCTO\n",
        "    tipo_producto = PRODUCTS[random.choice(range(0,len(PRODUCTS)))]\n",
        "\n",
        "    # INSTANCIO EL PRODUCTO\n",
        "    if tipo_producto is Loan:\n",
        "      producto = tipo_producto(\n",
        "          id=generate_product_ids(),\n",
        "          interest_rate=random.choice(range(3,17)),\n",
        "          owner = cliente.id,\n",
        "          base= random.choice([365,360]),\n",
        "          length = random.choice(range(1,120)))\n",
        "    elif tipo_producto is CreditCard:\n",
        "      producto = tipo_producto(\n",
        "          id=generate_credit_card_number(),\n",
        "          interest_rate=random.choice(range(1,3)),\n",
        "          owner = cliente.id\n",
        "          )\n",
        "    else:\n",
        "      producto = tipo_producto(\n",
        "          id=generate_product_ids(),\n",
        "          interest_rate=random.choice(range(1,3)),\n",
        "          owner = cliente.id\n",
        "          )\n",
        " \n",
        "    # RELACIONO EL PRODUCTO CON EL CLIENTE ACTUAL\n",
        "    cliente.products.append(producto)\n",
        "    products.append(producto)\n",
        "print(type (tipo_producto.balance))\n",
        "\n",
        "print(\"Productos generados:\",len(products))\n",
        "print(\"Clientes generados:\",len(clientes))"
      ],
      "execution_count": 13,
      "outputs": [
        {
          "output_type": "stream",
          "name": "stdout",
          "text": "<class 'property'>\nProductos generados: 2443\nClientes generados: 1000\nWall time: 499 ms\n"
        }
      ]
    },
    {
      "cell_type": "code",
      "execution_count": 14,
      "metadata": {},
      "outputs": [
        {
          "output_type": "execute_result",
          "data": {
            "text/plain": "'9-770-967'"
          },
          "metadata": {},
          "execution_count": 14
        }
      ],
      "source": [
        "products[0].owner"
      ]
    },
    {
      "cell_type": "markdown",
      "metadata": {
        "id": "hvKA2DbvRDzz"
      },
      "source": [
        "## Generar transacciones"
      ]
    },
    {
      "cell_type": "code",
      "metadata": {
        "id": "GmbA2deUuwWd",
        "outputId": "a3500a76-8e90-4492-da91-b3092d057177",
        "colab": {
          "base_uri": "https://localhost:8080/",
          "height": 90
        },
        "tags": []
      },
      "source": [
        "%%time\n",
        "MIN_TRX = 10\n",
        "MAX_TRX = 100\n",
        "transactions = []\n",
        "transaction_ids = []\n",
        "\n",
        "for cliente in clientes:\n",
        "  for producto in cliente.products:\n",
        "    \n",
        "    if type(producto) is SavingAccount or type(producto) is FixedTermDeposit :\n",
        "      # SELECCIONAR UN NUMERO ALEATORIO DE TRANSACCIONES PARA CADA PRODUCTO\n",
        "      n_Trx = random.choice(range(MIN_TRX,MAX_TRX))\n",
        "\n",
        "      for trx in range(n_Trx):\n",
        "        month = random.choice(range(1,13))\n",
        "        # SI EL MES ES FEBRERO... ENTRE 1 Y 28\n",
        "        if month == 2: day = random.choice(range(1,29))\n",
        "        # SI EL MES ES PAR EN EL SEGUNDO SEMESTRE O ES IMPAR EN EL PRIMER SEMESTRE... ENTRE 1 Y 31\n",
        "        elif (month % 2 == 0 and month >= 8) or (month % 2 != 0 and month < 8): day = random.choice(range(1,32))\n",
        "        # DE CUALQUIER OTRA FORMA... ENTRE 1 Y 30\n",
        "        else: day = random.choice(range(1,30))\n",
        "        amt = float(str(random.choice(range(1,999999999)))+\".\"+str(random.choice(range(1,99))))\n",
        "        nature = \"Dr\" if random.choice(range(10))==0 else \"Cr\"\n",
        "        mvt = amt*-1 if nature == 'Dr' else amt\n",
        "        transactions.append(Transaction(\n",
        "            id = generate_transaction_id(),\n",
        "            product = producto.id,\n",
        "            nature = nature,\n",
        "            date = datetime(random.choice(range(2010,2020+1)),month ,day),\n",
        "            amt = amt,\n",
        "            mvt = mvt\n",
        "        ))\n",
        "\n",
        "print(\"Transacciones generadas:\",len(transactions))\n",
        "print(\"Media de transacción por cliente:\",len(transactions)/len(products))"
      ],
      "execution_count": 15,
      "outputs": [
        {
          "output_type": "stream",
          "name": "stdout",
          "text": "Transacciones generadas: 66455\nMedia de transacción por cliente: 27.202210397052802\nWall time: 3.65 s\n"
        }
      ]
    },
    {
      "cell_type": "markdown",
      "metadata": {
        "id": "eNUo3sgGtz7D"
      },
      "source": [
        "## Generar tablas"
      ]
    },
    {
      "cell_type": "code",
      "metadata": {
        "id": "3zNQqeK1vovC"
      },
      "source": [
        "df_loans =[]\n",
        "df_deposits = []\n",
        "for p in products:\n",
        "  if type(p) is Loan:\n",
        "    df_loans.append(p)\n",
        "  if type(p) is FixedTermDeposit or type(p) is SavingAccount:\n",
        "    df_deposits.append(p)\n"
      ],
      "execution_count": 16,
      "outputs": []
    },
    {
      "cell_type": "code",
      "execution_count": 17,
      "metadata": {},
      "outputs": [
        {
          "output_type": "execute_result",
          "data": {
            "text/plain": "           id                 client_name\n0   9-770-967  gmqwflnbuh qyvzleobcglzjnl\n1   2-691-896  lwgeztuvkl apmeglvjtdukebi\n2  10-121-673  qehqnczfkk twqhgefiamscftk",
            "text/html": "<div>\n<style scoped>\n    .dataframe tbody tr th:only-of-type {\n        vertical-align: middle;\n    }\n\n    .dataframe tbody tr th {\n        vertical-align: top;\n    }\n\n    .dataframe thead th {\n        text-align: right;\n    }\n</style>\n<table border=\"1\" class=\"dataframe\">\n  <thead>\n    <tr style=\"text-align: right;\">\n      <th></th>\n      <th>id</th>\n      <th>client_name</th>\n    </tr>\n  </thead>\n  <tbody>\n    <tr>\n      <th>0</th>\n      <td>9-770-967</td>\n      <td>gmqwflnbuh qyvzleobcglzjnl</td>\n    </tr>\n    <tr>\n      <th>1</th>\n      <td>2-691-896</td>\n      <td>lwgeztuvkl apmeglvjtdukebi</td>\n    </tr>\n    <tr>\n      <th>2</th>\n      <td>10-121-673</td>\n      <td>qehqnczfkk twqhgefiamscftk</td>\n    </tr>\n  </tbody>\n</table>\n</div>"
          },
          "metadata": {},
          "execution_count": 17
        }
      ],
      "source": [
        "df_clients = pd.DataFrame.from_records([l.to_dict() for l in clientes])\n",
        "df_clients.head(3)"
      ]
    },
    {
      "cell_type": "code",
      "metadata": {
        "id": "Fx51ZtvcyIKP",
        "outputId": "3b94c538-6481-445c-cda9-c7306950c3f7",
        "colab": {
          "base_uri": "https://localhost:8080/",
          "height": 108
        }
      },
      "source": [
        "df_loans = pd.DataFrame.from_records([l.to_dict() for l in df_loans])\n",
        "df_loans.head(3)"
      ],
      "execution_count": 18,
      "outputs": [
        {
          "output_type": "execute_result",
          "data": {
            "text/plain": "        id  interest_rate  balance      owner  type  length  base\n0  5791972              6      0.0  9-770-967  Loan     117   365\n1  5782327             12      0.0  2-691-896  Loan      49   360\n2  9570781              8      0.0  2-691-896  Loan      73   365",
            "text/html": "<div>\n<style scoped>\n    .dataframe tbody tr th:only-of-type {\n        vertical-align: middle;\n    }\n\n    .dataframe tbody tr th {\n        vertical-align: top;\n    }\n\n    .dataframe thead th {\n        text-align: right;\n    }\n</style>\n<table border=\"1\" class=\"dataframe\">\n  <thead>\n    <tr style=\"text-align: right;\">\n      <th></th>\n      <th>id</th>\n      <th>interest_rate</th>\n      <th>balance</th>\n      <th>owner</th>\n      <th>type</th>\n      <th>length</th>\n      <th>base</th>\n    </tr>\n  </thead>\n  <tbody>\n    <tr>\n      <th>0</th>\n      <td>5791972</td>\n      <td>6</td>\n      <td>0.0</td>\n      <td>9-770-967</td>\n      <td>Loan</td>\n      <td>117</td>\n      <td>365</td>\n    </tr>\n    <tr>\n      <th>1</th>\n      <td>5782327</td>\n      <td>12</td>\n      <td>0.0</td>\n      <td>2-691-896</td>\n      <td>Loan</td>\n      <td>49</td>\n      <td>360</td>\n    </tr>\n    <tr>\n      <th>2</th>\n      <td>9570781</td>\n      <td>8</td>\n      <td>0.0</td>\n      <td>2-691-896</td>\n      <td>Loan</td>\n      <td>73</td>\n      <td>365</td>\n    </tr>\n  </tbody>\n</table>\n</div>"
          },
          "metadata": {},
          "execution_count": 18
        }
      ]
    },
    {
      "cell_type": "code",
      "metadata": {
        "id": "ok9-zGQDzGwL",
        "outputId": "0288c59e-a62a-469f-8755-541577972f2f",
        "colab": {
          "base_uri": "https://localhost:8080/",
          "height": 138
        }
      },
      "source": [
        "df_deposits = pd.DataFrame.from_records([d.to_dict() for d in df_deposits])\n",
        "df_deposits.head(3)"
      ],
      "execution_count": 19,
      "outputs": [
        {
          "output_type": "execute_result",
          "data": {
            "text/plain": "        id  interest_rate  balance       owner              type\n0  2499259              2      0.0   2-691-896  FixedTermDeposit\n1  5043420              2      0.0   2-691-896  FixedTermDeposit\n2  7389477              1      0.0  10-121-673  FixedTermDeposit",
            "text/html": "<div>\n<style scoped>\n    .dataframe tbody tr th:only-of-type {\n        vertical-align: middle;\n    }\n\n    .dataframe tbody tr th {\n        vertical-align: top;\n    }\n\n    .dataframe thead th {\n        text-align: right;\n    }\n</style>\n<table border=\"1\" class=\"dataframe\">\n  <thead>\n    <tr style=\"text-align: right;\">\n      <th></th>\n      <th>id</th>\n      <th>interest_rate</th>\n      <th>balance</th>\n      <th>owner</th>\n      <th>type</th>\n    </tr>\n  </thead>\n  <tbody>\n    <tr>\n      <th>0</th>\n      <td>2499259</td>\n      <td>2</td>\n      <td>0.0</td>\n      <td>2-691-896</td>\n      <td>FixedTermDeposit</td>\n    </tr>\n    <tr>\n      <th>1</th>\n      <td>5043420</td>\n      <td>2</td>\n      <td>0.0</td>\n      <td>2-691-896</td>\n      <td>FixedTermDeposit</td>\n    </tr>\n    <tr>\n      <th>2</th>\n      <td>7389477</td>\n      <td>1</td>\n      <td>0.0</td>\n      <td>10-121-673</td>\n      <td>FixedTermDeposit</td>\n    </tr>\n  </tbody>\n</table>\n</div>"
          },
          "metadata": {},
          "execution_count": 19
        }
      ]
    },
    {
      "cell_type": "code",
      "metadata": {
        "id": "whW8zJyWpISf",
        "outputId": "4ee3f123-9721-402c-ee88-f676eac40d45",
        "colab": {
          "base_uri": "https://localhost:8080/",
          "height": 407
        }
      },
      "source": [
        "df_transactions = pd.DataFrame.from_records([t.to_dict() for t in transactions])\n",
        "df_transactions"
      ],
      "execution_count": 20,
      "outputs": [
        {
          "output_type": "execute_result",
          "data": {
            "text/plain": "            id nature accounting_date        amount  product           mvt\n0      5493388     Dr      2018-07-20  6.040505e+08  2499259 -6.040505e+08\n1      3892802     Cr      2016-09-22  2.609471e+08  2499259  2.609471e+08\n2       663233     Cr      2015-09-03  7.758831e+07  2499259  7.758831e+07\n3       150813     Cr      2017-08-21  2.488960e+08  2499259  2.488960e+08\n4      6604468     Cr      2019-07-02  5.618234e+08  2499259  5.618234e+08\n...        ...    ...             ...           ...      ...           ...\n66450  2972223     Cr      2020-08-03  3.886573e+07  3448732  3.886573e+07\n66451  2783587     Cr      2016-12-09  9.079295e+07  3448732  9.079295e+07\n66452  9184884     Cr      2016-10-14  4.198347e+08  3448732  4.198347e+08\n66453  7147643     Cr      2017-08-13  7.681963e+08  3448732  7.681963e+08\n66454  4169305     Cr      2020-10-06  8.628396e+08  3448732  8.628396e+08\n\n[66455 rows x 6 columns]",
            "text/html": "<div>\n<style scoped>\n    .dataframe tbody tr th:only-of-type {\n        vertical-align: middle;\n    }\n\n    .dataframe tbody tr th {\n        vertical-align: top;\n    }\n\n    .dataframe thead th {\n        text-align: right;\n    }\n</style>\n<table border=\"1\" class=\"dataframe\">\n  <thead>\n    <tr style=\"text-align: right;\">\n      <th></th>\n      <th>id</th>\n      <th>nature</th>\n      <th>accounting_date</th>\n      <th>amount</th>\n      <th>product</th>\n      <th>mvt</th>\n    </tr>\n  </thead>\n  <tbody>\n    <tr>\n      <th>0</th>\n      <td>5493388</td>\n      <td>Dr</td>\n      <td>2018-07-20</td>\n      <td>6.040505e+08</td>\n      <td>2499259</td>\n      <td>-6.040505e+08</td>\n    </tr>\n    <tr>\n      <th>1</th>\n      <td>3892802</td>\n      <td>Cr</td>\n      <td>2016-09-22</td>\n      <td>2.609471e+08</td>\n      <td>2499259</td>\n      <td>2.609471e+08</td>\n    </tr>\n    <tr>\n      <th>2</th>\n      <td>663233</td>\n      <td>Cr</td>\n      <td>2015-09-03</td>\n      <td>7.758831e+07</td>\n      <td>2499259</td>\n      <td>7.758831e+07</td>\n    </tr>\n    <tr>\n      <th>3</th>\n      <td>150813</td>\n      <td>Cr</td>\n      <td>2017-08-21</td>\n      <td>2.488960e+08</td>\n      <td>2499259</td>\n      <td>2.488960e+08</td>\n    </tr>\n    <tr>\n      <th>4</th>\n      <td>6604468</td>\n      <td>Cr</td>\n      <td>2019-07-02</td>\n      <td>5.618234e+08</td>\n      <td>2499259</td>\n      <td>5.618234e+08</td>\n    </tr>\n    <tr>\n      <th>...</th>\n      <td>...</td>\n      <td>...</td>\n      <td>...</td>\n      <td>...</td>\n      <td>...</td>\n      <td>...</td>\n    </tr>\n    <tr>\n      <th>66450</th>\n      <td>2972223</td>\n      <td>Cr</td>\n      <td>2020-08-03</td>\n      <td>3.886573e+07</td>\n      <td>3448732</td>\n      <td>3.886573e+07</td>\n    </tr>\n    <tr>\n      <th>66451</th>\n      <td>2783587</td>\n      <td>Cr</td>\n      <td>2016-12-09</td>\n      <td>9.079295e+07</td>\n      <td>3448732</td>\n      <td>9.079295e+07</td>\n    </tr>\n    <tr>\n      <th>66452</th>\n      <td>9184884</td>\n      <td>Cr</td>\n      <td>2016-10-14</td>\n      <td>4.198347e+08</td>\n      <td>3448732</td>\n      <td>4.198347e+08</td>\n    </tr>\n    <tr>\n      <th>66453</th>\n      <td>7147643</td>\n      <td>Cr</td>\n      <td>2017-08-13</td>\n      <td>7.681963e+08</td>\n      <td>3448732</td>\n      <td>7.681963e+08</td>\n    </tr>\n    <tr>\n      <th>66454</th>\n      <td>4169305</td>\n      <td>Cr</td>\n      <td>2020-10-06</td>\n      <td>8.628396e+08</td>\n      <td>3448732</td>\n      <td>8.628396e+08</td>\n    </tr>\n  </tbody>\n</table>\n<p>66455 rows × 6 columns</p>\n</div>"
          },
          "metadata": {},
          "execution_count": 20
        }
      ]
    },
    {
      "cell_type": "code",
      "metadata": {
        "id": "KiGRB6r6vJP0",
        "outputId": "4589b545-8f35-4023-bc75-ea45a2907d73",
        "colab": {
          "base_uri": "https://localhost:8080/",
          "height": 438
        }
      },
      "source": [
        "#df_transactions[df_transactions['product']=='1022920']\n",
        "summarize = df_transactions.groupby(['product'])['mvt']\n",
        "summarize = summarize.sum()\n",
        "summarize = summarize.reset_index()\n",
        "#print(summarize['1022920'==summarize['product']])\n",
        "for i in range(len(summarize)):\n",
        "  product_id = summarize['product'].iloc[i]\n",
        "  \n",
        "  df_deposits.loc[df_deposits['id']==product_id,'balance'] = summarize['mvt']\n",
        "\n",
        "df_deposits[df_deposits['id'].isin(summarize['product'])]\n",
        "#print(df_deposits[summarize['product']==df_deposits['id']])"
      ],
      "execution_count": 21,
      "outputs": [
        {
          "output_type": "execute_result",
          "data": {
            "text/plain": "           id  interest_rate       balance       owner              type\n0     2499259              2  2.989434e+10   2-691-896  FixedTermDeposit\n1     5043420              2  1.106646e+10   2-691-896  FixedTermDeposit\n2     7389477              1  3.227657e+10  10-121-673  FixedTermDeposit\n3     4044167              1  3.315725e+10   7-922-948     SavingAccount\n4     4294739              1  3.973626e+10   7-922-948     SavingAccount\n...       ...            ...           ...         ...               ...\n1220  6100265              1  2.751744e+10   7-360-741     SavingAccount\n1221  1229745              2  1.751267e+10   7-360-741     SavingAccount\n1222  9500504              1  2.386510e+10   7-360-741     SavingAccount\n1223  5963739              2  1.484423e+10   8-812-704     SavingAccount\n1224  3448732              2  2.750840e+10   9-801-125  FixedTermDeposit\n\n[1225 rows x 5 columns]",
            "text/html": "<div>\n<style scoped>\n    .dataframe tbody tr th:only-of-type {\n        vertical-align: middle;\n    }\n\n    .dataframe tbody tr th {\n        vertical-align: top;\n    }\n\n    .dataframe thead th {\n        text-align: right;\n    }\n</style>\n<table border=\"1\" class=\"dataframe\">\n  <thead>\n    <tr style=\"text-align: right;\">\n      <th></th>\n      <th>id</th>\n      <th>interest_rate</th>\n      <th>balance</th>\n      <th>owner</th>\n      <th>type</th>\n    </tr>\n  </thead>\n  <tbody>\n    <tr>\n      <th>0</th>\n      <td>2499259</td>\n      <td>2</td>\n      <td>2.989434e+10</td>\n      <td>2-691-896</td>\n      <td>FixedTermDeposit</td>\n    </tr>\n    <tr>\n      <th>1</th>\n      <td>5043420</td>\n      <td>2</td>\n      <td>1.106646e+10</td>\n      <td>2-691-896</td>\n      <td>FixedTermDeposit</td>\n    </tr>\n    <tr>\n      <th>2</th>\n      <td>7389477</td>\n      <td>1</td>\n      <td>3.227657e+10</td>\n      <td>10-121-673</td>\n      <td>FixedTermDeposit</td>\n    </tr>\n    <tr>\n      <th>3</th>\n      <td>4044167</td>\n      <td>1</td>\n      <td>3.315725e+10</td>\n      <td>7-922-948</td>\n      <td>SavingAccount</td>\n    </tr>\n    <tr>\n      <th>4</th>\n      <td>4294739</td>\n      <td>1</td>\n      <td>3.973626e+10</td>\n      <td>7-922-948</td>\n      <td>SavingAccount</td>\n    </tr>\n    <tr>\n      <th>...</th>\n      <td>...</td>\n      <td>...</td>\n      <td>...</td>\n      <td>...</td>\n      <td>...</td>\n    </tr>\n    <tr>\n      <th>1220</th>\n      <td>6100265</td>\n      <td>1</td>\n      <td>2.751744e+10</td>\n      <td>7-360-741</td>\n      <td>SavingAccount</td>\n    </tr>\n    <tr>\n      <th>1221</th>\n      <td>1229745</td>\n      <td>2</td>\n      <td>1.751267e+10</td>\n      <td>7-360-741</td>\n      <td>SavingAccount</td>\n    </tr>\n    <tr>\n      <th>1222</th>\n      <td>9500504</td>\n      <td>1</td>\n      <td>2.386510e+10</td>\n      <td>7-360-741</td>\n      <td>SavingAccount</td>\n    </tr>\n    <tr>\n      <th>1223</th>\n      <td>5963739</td>\n      <td>2</td>\n      <td>1.484423e+10</td>\n      <td>8-812-704</td>\n      <td>SavingAccount</td>\n    </tr>\n    <tr>\n      <th>1224</th>\n      <td>3448732</td>\n      <td>2</td>\n      <td>2.750840e+10</td>\n      <td>9-801-125</td>\n      <td>FixedTermDeposit</td>\n    </tr>\n  </tbody>\n</table>\n<p>1225 rows × 5 columns</p>\n</div>"
          },
          "metadata": {},
          "execution_count": 21
        }
      ]
    },
    {
      "cell_type": "markdown",
      "metadata": {
        "id": "aBL5Z_3MzXcA"
      },
      "source": [
        "## Requerimientos"
      ]
    },
    {
      "cell_type": "markdown",
      "metadata": {
        "id": "hXa6FY2fiBes"
      },
      "source": [
        "\n",
        "***vas a definir la funcion de ejecutar transferencia***\n",
        "\n",
        "\n",
        "\n",
        "***tienes que buscar la informacion de las cuentas afectadas en la tabla de productos***\n",
        "\n",
        "\n",
        "***vas a ver si la cuenta a acreditar tiene saldo***\n",
        "\n",
        "\n",
        "vas a generar la transaccion en la tabla de transacciones\n",
        "\n",
        "\n",
        "vas a modificar el balance de las cuentas afectadas en la tabla de productos\n",
        "\n"
      ]
    },
    {
      "cell_type": "markdown",
      "metadata": {
        "id": "SAxFDHYXzc05"
      },
      "source": [
        "### Generar estado de cuenta"
      ]
    },
    {
      "cell_type": "code",
      "metadata": {
        "id": "9PQb0ZiuzLPj"
      },
      "source": [
        "def getAccountStatement(**kwargs):\n",
        "  \n",
        "  try: kwargs['product']\n",
        "  except: print(\"A product id is required\")\n",
        "\n",
        "  \n",
        "  print(\"Getting account statement for product\",kwargs['product'])\n",
        "  df = df_transactions[df_transactions['product'] == kwargs['product']]\n",
        "  \n",
        "  try: start = kwargs['start'] \n",
        "  except: start = df['accounting_date'].min()\n",
        "  try: end = kwargs['end']\n",
        "  except: end = df['accounting_date'].max()\n",
        "  \n",
        "  df = df[(df.accounting_date >= start) & (df.accounting_date <= end) ]\n",
        "\n",
        "  print(\"Found\",len(df),\"transactions from\",start,\"to\",end)\n",
        "  df = df.sort_values(by=['accounting_date'])\n",
        "  df = df.reset_index()\n",
        "  df = df.drop(['index'],axis=1)\n",
        "  return df"
      ],
      "execution_count": 22,
      "outputs": []
    },
    {
      "cell_type": "code",
      "metadata": {
        "id": "THoVTGig0krM",
        "outputId": "39953d37-3773-4f51-ab49-cf3f510a37c3",
        "colab": {
          "base_uri": "https://localhost:8080/",
          "height": 345
        },
        "tags": []
      },
      "source": [
        "%%time\n",
        "account_stmnt = getAccountStatement(product=df_transactions.iloc[0]['product'])\n",
        "print(account_stmnt)\n"
      ],
      "execution_count": 23,
      "outputs": [
        {
          "output_type": "stream",
          "name": "stdout",
          "text": "Getting account statement for product 2499259\nFound 63 transactions from 2010-03-22 00:00:00 to 2020-10-10 00:00:00\n         id nature accounting_date        amount  product           mvt\n0   9912598     Cr      2010-03-22  8.117350e+08  2499259  8.117350e+08\n1   2896218     Cr      2010-09-16  2.890298e+08  2499259  2.890298e+08\n2    716856     Cr      2010-12-27  3.932733e+08  2499259  3.932733e+08\n3   7920488     Cr      2011-01-13  6.258693e+08  2499259  6.258693e+08\n4   5168882     Cr      2011-03-21  7.682792e+06  2499259  7.682792e+06\n..      ...    ...             ...           ...      ...           ...\n58  1127997     Cr      2020-02-19  2.467552e+08  2499259  2.467552e+08\n59  3056499     Cr      2020-03-09  5.497470e+08  2499259  5.497470e+08\n60   679343     Cr      2020-03-19  5.680082e+08  2499259  5.680082e+08\n61  8398009     Cr      2020-06-28  5.367449e+08  2499259  5.367449e+08\n62  8345020     Cr      2020-10-10  1.128763e+08  2499259  1.128763e+08\n\n[63 rows x 6 columns]\nWall time: 36 ms\n"
        }
      ]
    },
    {
      "cell_type": "markdown",
      "metadata": {
        "id": "EvfNt4VI8Vfh"
      },
      "source": [
        "#### Mostrar un gráfico con el movimiento de su producto"
      ]
    },
    {
      "cell_type": "code",
      "metadata": {
        "id": "9gURU9iE01pt"
      },
      "source": [
        "import matplotlib.pyplot as plt"
      ],
      "execution_count": 24,
      "outputs": []
    },
    {
      "cell_type": "code",
      "metadata": {
        "id": "-c4X5fTX6f9p",
        "outputId": "f54df991-468a-414a-bbcd-d65d2db25de1",
        "colab": {
          "base_uri": "https://localhost:8080/",
          "height": 126
        }
      },
      "source": [
        "# generar el campo valor\n",
        "account_stmnt['mvt'] = 0.00\n",
        "account_stmnt.loc[account_stmnt['nature']==\"Dr\",'mvt'] = account_stmnt['amount']\n",
        "account_stmnt.loc[account_stmnt['nature']==\"Cr\",'mvt'] = account_stmnt['amount']*-1\n",
        "account_stmnt.sum()"
      ],
      "execution_count": 25,
      "outputs": [
        {
          "output_type": "execute_result",
          "data": {
            "text/plain": "id         9912598289621871685679204885168882431656286649...\nnature     CrCrCrCrCrCrCrCrCrCrCrCrCrCrCrCrCrCrCrCrCrCrCr...\namount                                            2.8253e+10\nproduct    2499259249925924992592499259249925924992592499...\nmvt                                              -2.4438e+10\ndtype: object"
          },
          "metadata": {},
          "execution_count": 25
        }
      ]
    },
    {
      "cell_type": "code",
      "metadata": {
        "id": "BxEtUBGa7p5U",
        "outputId": "0ef3419f-1b52-4872-c261-013e93c49062",
        "colab": {
          "base_uri": "https://localhost:8080/",
          "height": 276
        }
      },
      "source": [
        "plt.plot(account_stmnt.amount)\n",
        "plt.show()"
      ],
      "execution_count": 26,
      "outputs": [
        {
          "output_type": "display_data",
          "data": {
            "text/plain": "<Figure size 432x288 with 1 Axes>",
            "image/svg+xml": "<?xml version=\"1.0\" encoding=\"utf-8\" standalone=\"no\"?>\r\n<!DOCTYPE svg PUBLIC \"-//W3C//DTD SVG 1.1//EN\"\r\n  \"http://www.w3.org/Graphics/SVG/1.1/DTD/svg11.dtd\">\r\n<!-- Created with matplotlib (https://matplotlib.org/) -->\r\n<svg height=\"259.116562pt\" version=\"1.1\" viewBox=\"0 0 372.103125 259.116562\" width=\"372.103125pt\" xmlns=\"http://www.w3.org/2000/svg\" xmlns:xlink=\"http://www.w3.org/1999/xlink\">\r\n <defs>\r\n  <style type=\"text/css\">\r\n*{stroke-linecap:butt;stroke-linejoin:round;}\r\n  </style>\r\n </defs>\r\n <g id=\"figure_1\">\r\n  <g id=\"patch_1\">\r\n   <path d=\"M 0 259.116562 \r\nL 372.103125 259.116562 \r\nL 372.103125 0 \r\nL 0 0 \r\nz\r\n\" style=\"fill:none;\"/>\r\n  </g>\r\n  <g id=\"axes_1\">\r\n   <g id=\"patch_2\">\r\n    <path d=\"M 30.103125 235.238437 \r\nL 364.903125 235.238437 \r\nL 364.903125 17.798437 \r\nL 30.103125 17.798437 \r\nz\r\n\" style=\"fill:#ffffff;\"/>\r\n   </g>\r\n   <g id=\"matplotlib.axis_1\">\r\n    <g id=\"xtick_1\">\r\n     <g id=\"line2d_1\">\r\n      <defs>\r\n       <path d=\"M 0 0 \r\nL 0 3.5 \r\n\" id=\"m569be29e0e\" style=\"stroke:#000000;stroke-width:0.8;\"/>\r\n      </defs>\r\n      <g>\r\n       <use style=\"stroke:#000000;stroke-width:0.8;\" x=\"45.321307\" xlink:href=\"#m569be29e0e\" y=\"235.238437\"/>\r\n      </g>\r\n     </g>\r\n     <g id=\"text_1\">\r\n      <!-- 0 -->\r\n      <defs>\r\n       <path d=\"M 31.78125 66.40625 \r\nQ 24.171875 66.40625 20.328125 58.90625 \r\nQ 16.5 51.421875 16.5 36.375 \r\nQ 16.5 21.390625 20.328125 13.890625 \r\nQ 24.171875 6.390625 31.78125 6.390625 \r\nQ 39.453125 6.390625 43.28125 13.890625 \r\nQ 47.125 21.390625 47.125 36.375 \r\nQ 47.125 51.421875 43.28125 58.90625 \r\nQ 39.453125 66.40625 31.78125 66.40625 \r\nz\r\nM 31.78125 74.21875 \r\nQ 44.046875 74.21875 50.515625 64.515625 \r\nQ 56.984375 54.828125 56.984375 36.375 \r\nQ 56.984375 17.96875 50.515625 8.265625 \r\nQ 44.046875 -1.421875 31.78125 -1.421875 \r\nQ 19.53125 -1.421875 13.0625 8.265625 \r\nQ 6.59375 17.96875 6.59375 36.375 \r\nQ 6.59375 54.828125 13.0625 64.515625 \r\nQ 19.53125 74.21875 31.78125 74.21875 \r\nz\r\n\" id=\"DejaVuSans-48\"/>\r\n      </defs>\r\n      <g transform=\"translate(42.140057 249.836875)scale(0.1 -0.1)\">\r\n       <use xlink:href=\"#DejaVuSans-48\"/>\r\n      </g>\r\n     </g>\r\n    </g>\r\n    <g id=\"xtick_2\">\r\n     <g id=\"line2d_2\">\r\n      <g>\r\n       <use style=\"stroke:#000000;stroke-width:0.8;\" x=\"94.412216\" xlink:href=\"#m569be29e0e\" y=\"235.238437\"/>\r\n      </g>\r\n     </g>\r\n     <g id=\"text_2\">\r\n      <!-- 10 -->\r\n      <defs>\r\n       <path d=\"M 12.40625 8.296875 \r\nL 28.515625 8.296875 \r\nL 28.515625 63.921875 \r\nL 10.984375 60.40625 \r\nL 10.984375 69.390625 \r\nL 28.421875 72.90625 \r\nL 38.28125 72.90625 \r\nL 38.28125 8.296875 \r\nL 54.390625 8.296875 \r\nL 54.390625 0 \r\nL 12.40625 0 \r\nz\r\n\" id=\"DejaVuSans-49\"/>\r\n      </defs>\r\n      <g transform=\"translate(88.049716 249.836875)scale(0.1 -0.1)\">\r\n       <use xlink:href=\"#DejaVuSans-49\"/>\r\n       <use x=\"63.623047\" xlink:href=\"#DejaVuSans-48\"/>\r\n      </g>\r\n     </g>\r\n    </g>\r\n    <g id=\"xtick_3\">\r\n     <g id=\"line2d_3\">\r\n      <g>\r\n       <use style=\"stroke:#000000;stroke-width:0.8;\" x=\"143.503125\" xlink:href=\"#m569be29e0e\" y=\"235.238437\"/>\r\n      </g>\r\n     </g>\r\n     <g id=\"text_3\">\r\n      <!-- 20 -->\r\n      <defs>\r\n       <path d=\"M 19.1875 8.296875 \r\nL 53.609375 8.296875 \r\nL 53.609375 0 \r\nL 7.328125 0 \r\nL 7.328125 8.296875 \r\nQ 12.9375 14.109375 22.625 23.890625 \r\nQ 32.328125 33.6875 34.8125 36.53125 \r\nQ 39.546875 41.84375 41.421875 45.53125 \r\nQ 43.3125 49.21875 43.3125 52.78125 \r\nQ 43.3125 58.59375 39.234375 62.25 \r\nQ 35.15625 65.921875 28.609375 65.921875 \r\nQ 23.96875 65.921875 18.8125 64.3125 \r\nQ 13.671875 62.703125 7.8125 59.421875 \r\nL 7.8125 69.390625 \r\nQ 13.765625 71.78125 18.9375 73 \r\nQ 24.125 74.21875 28.421875 74.21875 \r\nQ 39.75 74.21875 46.484375 68.546875 \r\nQ 53.21875 62.890625 53.21875 53.421875 \r\nQ 53.21875 48.921875 51.53125 44.890625 \r\nQ 49.859375 40.875 45.40625 35.40625 \r\nQ 44.1875 33.984375 37.640625 27.21875 \r\nQ 31.109375 20.453125 19.1875 8.296875 \r\nz\r\n\" id=\"DejaVuSans-50\"/>\r\n      </defs>\r\n      <g transform=\"translate(137.140625 249.836875)scale(0.1 -0.1)\">\r\n       <use xlink:href=\"#DejaVuSans-50\"/>\r\n       <use x=\"63.623047\" xlink:href=\"#DejaVuSans-48\"/>\r\n      </g>\r\n     </g>\r\n    </g>\r\n    <g id=\"xtick_4\">\r\n     <g id=\"line2d_4\">\r\n      <g>\r\n       <use style=\"stroke:#000000;stroke-width:0.8;\" x=\"192.594034\" xlink:href=\"#m569be29e0e\" y=\"235.238437\"/>\r\n      </g>\r\n     </g>\r\n     <g id=\"text_4\">\r\n      <!-- 30 -->\r\n      <defs>\r\n       <path d=\"M 40.578125 39.3125 \r\nQ 47.65625 37.796875 51.625 33 \r\nQ 55.609375 28.21875 55.609375 21.1875 \r\nQ 55.609375 10.40625 48.1875 4.484375 \r\nQ 40.765625 -1.421875 27.09375 -1.421875 \r\nQ 22.515625 -1.421875 17.65625 -0.515625 \r\nQ 12.796875 0.390625 7.625 2.203125 \r\nL 7.625 11.71875 \r\nQ 11.71875 9.328125 16.59375 8.109375 \r\nQ 21.484375 6.890625 26.8125 6.890625 \r\nQ 36.078125 6.890625 40.9375 10.546875 \r\nQ 45.796875 14.203125 45.796875 21.1875 \r\nQ 45.796875 27.640625 41.28125 31.265625 \r\nQ 36.765625 34.90625 28.71875 34.90625 \r\nL 20.21875 34.90625 \r\nL 20.21875 43.015625 \r\nL 29.109375 43.015625 \r\nQ 36.375 43.015625 40.234375 45.921875 \r\nQ 44.09375 48.828125 44.09375 54.296875 \r\nQ 44.09375 59.90625 40.109375 62.90625 \r\nQ 36.140625 65.921875 28.71875 65.921875 \r\nQ 24.65625 65.921875 20.015625 65.03125 \r\nQ 15.375 64.15625 9.8125 62.3125 \r\nL 9.8125 71.09375 \r\nQ 15.4375 72.65625 20.34375 73.4375 \r\nQ 25.25 74.21875 29.59375 74.21875 \r\nQ 40.828125 74.21875 47.359375 69.109375 \r\nQ 53.90625 64.015625 53.90625 55.328125 \r\nQ 53.90625 49.265625 50.4375 45.09375 \r\nQ 46.96875 40.921875 40.578125 39.3125 \r\nz\r\n\" id=\"DejaVuSans-51\"/>\r\n      </defs>\r\n      <g transform=\"translate(186.231534 249.836875)scale(0.1 -0.1)\">\r\n       <use xlink:href=\"#DejaVuSans-51\"/>\r\n       <use x=\"63.623047\" xlink:href=\"#DejaVuSans-48\"/>\r\n      </g>\r\n     </g>\r\n    </g>\r\n    <g id=\"xtick_5\">\r\n     <g id=\"line2d_5\">\r\n      <g>\r\n       <use style=\"stroke:#000000;stroke-width:0.8;\" x=\"241.684943\" xlink:href=\"#m569be29e0e\" y=\"235.238437\"/>\r\n      </g>\r\n     </g>\r\n     <g id=\"text_5\">\r\n      <!-- 40 -->\r\n      <defs>\r\n       <path d=\"M 37.796875 64.3125 \r\nL 12.890625 25.390625 \r\nL 37.796875 25.390625 \r\nz\r\nM 35.203125 72.90625 \r\nL 47.609375 72.90625 \r\nL 47.609375 25.390625 \r\nL 58.015625 25.390625 \r\nL 58.015625 17.1875 \r\nL 47.609375 17.1875 \r\nL 47.609375 0 \r\nL 37.796875 0 \r\nL 37.796875 17.1875 \r\nL 4.890625 17.1875 \r\nL 4.890625 26.703125 \r\nz\r\n\" id=\"DejaVuSans-52\"/>\r\n      </defs>\r\n      <g transform=\"translate(235.322443 249.836875)scale(0.1 -0.1)\">\r\n       <use xlink:href=\"#DejaVuSans-52\"/>\r\n       <use x=\"63.623047\" xlink:href=\"#DejaVuSans-48\"/>\r\n      </g>\r\n     </g>\r\n    </g>\r\n    <g id=\"xtick_6\">\r\n     <g id=\"line2d_6\">\r\n      <g>\r\n       <use style=\"stroke:#000000;stroke-width:0.8;\" x=\"290.775852\" xlink:href=\"#m569be29e0e\" y=\"235.238437\"/>\r\n      </g>\r\n     </g>\r\n     <g id=\"text_6\">\r\n      <!-- 50 -->\r\n      <defs>\r\n       <path d=\"M 10.796875 72.90625 \r\nL 49.515625 72.90625 \r\nL 49.515625 64.59375 \r\nL 19.828125 64.59375 \r\nL 19.828125 46.734375 \r\nQ 21.96875 47.46875 24.109375 47.828125 \r\nQ 26.265625 48.1875 28.421875 48.1875 \r\nQ 40.625 48.1875 47.75 41.5 \r\nQ 54.890625 34.8125 54.890625 23.390625 \r\nQ 54.890625 11.625 47.5625 5.09375 \r\nQ 40.234375 -1.421875 26.90625 -1.421875 \r\nQ 22.3125 -1.421875 17.546875 -0.640625 \r\nQ 12.796875 0.140625 7.71875 1.703125 \r\nL 7.71875 11.625 \r\nQ 12.109375 9.234375 16.796875 8.0625 \r\nQ 21.484375 6.890625 26.703125 6.890625 \r\nQ 35.15625 6.890625 40.078125 11.328125 \r\nQ 45.015625 15.765625 45.015625 23.390625 \r\nQ 45.015625 31 40.078125 35.4375 \r\nQ 35.15625 39.890625 26.703125 39.890625 \r\nQ 22.75 39.890625 18.8125 39.015625 \r\nQ 14.890625 38.140625 10.796875 36.28125 \r\nz\r\n\" id=\"DejaVuSans-53\"/>\r\n      </defs>\r\n      <g transform=\"translate(284.413352 249.836875)scale(0.1 -0.1)\">\r\n       <use xlink:href=\"#DejaVuSans-53\"/>\r\n       <use x=\"63.623047\" xlink:href=\"#DejaVuSans-48\"/>\r\n      </g>\r\n     </g>\r\n    </g>\r\n    <g id=\"xtick_7\">\r\n     <g id=\"line2d_7\">\r\n      <g>\r\n       <use style=\"stroke:#000000;stroke-width:0.8;\" x=\"339.866761\" xlink:href=\"#m569be29e0e\" y=\"235.238437\"/>\r\n      </g>\r\n     </g>\r\n     <g id=\"text_7\">\r\n      <!-- 60 -->\r\n      <defs>\r\n       <path d=\"M 33.015625 40.375 \r\nQ 26.375 40.375 22.484375 35.828125 \r\nQ 18.609375 31.296875 18.609375 23.390625 \r\nQ 18.609375 15.53125 22.484375 10.953125 \r\nQ 26.375 6.390625 33.015625 6.390625 \r\nQ 39.65625 6.390625 43.53125 10.953125 \r\nQ 47.40625 15.53125 47.40625 23.390625 \r\nQ 47.40625 31.296875 43.53125 35.828125 \r\nQ 39.65625 40.375 33.015625 40.375 \r\nz\r\nM 52.59375 71.296875 \r\nL 52.59375 62.3125 \r\nQ 48.875 64.0625 45.09375 64.984375 \r\nQ 41.3125 65.921875 37.59375 65.921875 \r\nQ 27.828125 65.921875 22.671875 59.328125 \r\nQ 17.53125 52.734375 16.796875 39.40625 \r\nQ 19.671875 43.65625 24.015625 45.921875 \r\nQ 28.375 48.1875 33.59375 48.1875 \r\nQ 44.578125 48.1875 50.953125 41.515625 \r\nQ 57.328125 34.859375 57.328125 23.390625 \r\nQ 57.328125 12.15625 50.6875 5.359375 \r\nQ 44.046875 -1.421875 33.015625 -1.421875 \r\nQ 20.359375 -1.421875 13.671875 8.265625 \r\nQ 6.984375 17.96875 6.984375 36.375 \r\nQ 6.984375 53.65625 15.1875 63.9375 \r\nQ 23.390625 74.21875 37.203125 74.21875 \r\nQ 40.921875 74.21875 44.703125 73.484375 \r\nQ 48.484375 72.75 52.59375 71.296875 \r\nz\r\n\" id=\"DejaVuSans-54\"/>\r\n      </defs>\r\n      <g transform=\"translate(333.504261 249.836875)scale(0.1 -0.1)\">\r\n       <use xlink:href=\"#DejaVuSans-54\"/>\r\n       <use x=\"63.623047\" xlink:href=\"#DejaVuSans-48\"/>\r\n      </g>\r\n     </g>\r\n    </g>\r\n   </g>\r\n   <g id=\"matplotlib.axis_2\">\r\n    <g id=\"ytick_1\">\r\n     <g id=\"line2d_8\">\r\n      <defs>\r\n       <path d=\"M 0 0 \r\nL -3.5 0 \r\n\" id=\"m59290409a1\" style=\"stroke:#000000;stroke-width:0.8;\"/>\r\n      </defs>\r\n      <g>\r\n       <use style=\"stroke:#000000;stroke-width:0.8;\" x=\"30.103125\" xlink:href=\"#m59290409a1\" y=\"226.942243\"/>\r\n      </g>\r\n     </g>\r\n     <g id=\"text_8\">\r\n      <!-- 0.0 -->\r\n      <defs>\r\n       <path d=\"M 10.6875 12.40625 \r\nL 21 12.40625 \r\nL 21 0 \r\nL 10.6875 0 \r\nz\r\n\" id=\"DejaVuSans-46\"/>\r\n      </defs>\r\n      <g transform=\"translate(7.2 230.741462)scale(0.1 -0.1)\">\r\n       <use xlink:href=\"#DejaVuSans-48\"/>\r\n       <use x=\"63.623047\" xlink:href=\"#DejaVuSans-46\"/>\r\n       <use x=\"95.410156\" xlink:href=\"#DejaVuSans-48\"/>\r\n      </g>\r\n     </g>\r\n    </g>\r\n    <g id=\"ytick_2\">\r\n     <g id=\"line2d_9\">\r\n      <g>\r\n       <use style=\"stroke:#000000;stroke-width:0.8;\" x=\"30.103125\" xlink:href=\"#m59290409a1\" y=\"185.617632\"/>\r\n      </g>\r\n     </g>\r\n     <g id=\"text_9\">\r\n      <!-- 0.2 -->\r\n      <g transform=\"translate(7.2 189.416851)scale(0.1 -0.1)\">\r\n       <use xlink:href=\"#DejaVuSans-48\"/>\r\n       <use x=\"63.623047\" xlink:href=\"#DejaVuSans-46\"/>\r\n       <use x=\"95.410156\" xlink:href=\"#DejaVuSans-50\"/>\r\n      </g>\r\n     </g>\r\n    </g>\r\n    <g id=\"ytick_3\">\r\n     <g id=\"line2d_10\">\r\n      <g>\r\n       <use style=\"stroke:#000000;stroke-width:0.8;\" x=\"30.103125\" xlink:href=\"#m59290409a1\" y=\"144.293021\"/>\r\n      </g>\r\n     </g>\r\n     <g id=\"text_10\">\r\n      <!-- 0.4 -->\r\n      <g transform=\"translate(7.2 148.09224)scale(0.1 -0.1)\">\r\n       <use xlink:href=\"#DejaVuSans-48\"/>\r\n       <use x=\"63.623047\" xlink:href=\"#DejaVuSans-46\"/>\r\n       <use x=\"95.410156\" xlink:href=\"#DejaVuSans-52\"/>\r\n      </g>\r\n     </g>\r\n    </g>\r\n    <g id=\"ytick_4\">\r\n     <g id=\"line2d_11\">\r\n      <g>\r\n       <use style=\"stroke:#000000;stroke-width:0.8;\" x=\"30.103125\" xlink:href=\"#m59290409a1\" y=\"102.96841\"/>\r\n      </g>\r\n     </g>\r\n     <g id=\"text_11\">\r\n      <!-- 0.6 -->\r\n      <g transform=\"translate(7.2 106.767629)scale(0.1 -0.1)\">\r\n       <use xlink:href=\"#DejaVuSans-48\"/>\r\n       <use x=\"63.623047\" xlink:href=\"#DejaVuSans-46\"/>\r\n       <use x=\"95.410156\" xlink:href=\"#DejaVuSans-54\"/>\r\n      </g>\r\n     </g>\r\n    </g>\r\n    <g id=\"ytick_5\">\r\n     <g id=\"line2d_12\">\r\n      <g>\r\n       <use style=\"stroke:#000000;stroke-width:0.8;\" x=\"30.103125\" xlink:href=\"#m59290409a1\" y=\"61.6438\"/>\r\n      </g>\r\n     </g>\r\n     <g id=\"text_12\">\r\n      <!-- 0.8 -->\r\n      <defs>\r\n       <path d=\"M 31.78125 34.625 \r\nQ 24.75 34.625 20.71875 30.859375 \r\nQ 16.703125 27.09375 16.703125 20.515625 \r\nQ 16.703125 13.921875 20.71875 10.15625 \r\nQ 24.75 6.390625 31.78125 6.390625 \r\nQ 38.8125 6.390625 42.859375 10.171875 \r\nQ 46.921875 13.96875 46.921875 20.515625 \r\nQ 46.921875 27.09375 42.890625 30.859375 \r\nQ 38.875 34.625 31.78125 34.625 \r\nz\r\nM 21.921875 38.8125 \r\nQ 15.578125 40.375 12.03125 44.71875 \r\nQ 8.5 49.078125 8.5 55.328125 \r\nQ 8.5 64.0625 14.71875 69.140625 \r\nQ 20.953125 74.21875 31.78125 74.21875 \r\nQ 42.671875 74.21875 48.875 69.140625 \r\nQ 55.078125 64.0625 55.078125 55.328125 \r\nQ 55.078125 49.078125 51.53125 44.71875 \r\nQ 48 40.375 41.703125 38.8125 \r\nQ 48.828125 37.15625 52.796875 32.3125 \r\nQ 56.78125 27.484375 56.78125 20.515625 \r\nQ 56.78125 9.90625 50.3125 4.234375 \r\nQ 43.84375 -1.421875 31.78125 -1.421875 \r\nQ 19.734375 -1.421875 13.25 4.234375 \r\nQ 6.78125 9.90625 6.78125 20.515625 \r\nQ 6.78125 27.484375 10.78125 32.3125 \r\nQ 14.796875 37.15625 21.921875 38.8125 \r\nz\r\nM 18.3125 54.390625 \r\nQ 18.3125 48.734375 21.84375 45.5625 \r\nQ 25.390625 42.390625 31.78125 42.390625 \r\nQ 38.140625 42.390625 41.71875 45.5625 \r\nQ 45.3125 48.734375 45.3125 54.390625 \r\nQ 45.3125 60.0625 41.71875 63.234375 \r\nQ 38.140625 66.40625 31.78125 66.40625 \r\nQ 25.390625 66.40625 21.84375 63.234375 \r\nQ 18.3125 60.0625 18.3125 54.390625 \r\nz\r\n\" id=\"DejaVuSans-56\"/>\r\n      </defs>\r\n      <g transform=\"translate(7.2 65.443018)scale(0.1 -0.1)\">\r\n       <use xlink:href=\"#DejaVuSans-48\"/>\r\n       <use x=\"63.623047\" xlink:href=\"#DejaVuSans-46\"/>\r\n       <use x=\"95.410156\" xlink:href=\"#DejaVuSans-56\"/>\r\n      </g>\r\n     </g>\r\n    </g>\r\n    <g id=\"ytick_6\">\r\n     <g id=\"line2d_13\">\r\n      <g>\r\n       <use style=\"stroke:#000000;stroke-width:0.8;\" x=\"30.103125\" xlink:href=\"#m59290409a1\" y=\"20.319189\"/>\r\n      </g>\r\n     </g>\r\n     <g id=\"text_13\">\r\n      <!-- 1.0 -->\r\n      <g transform=\"translate(7.2 24.118407)scale(0.1 -0.1)\">\r\n       <use xlink:href=\"#DejaVuSans-49\"/>\r\n       <use x=\"63.623047\" xlink:href=\"#DejaVuSans-46\"/>\r\n       <use x=\"95.410156\" xlink:href=\"#DejaVuSans-48\"/>\r\n      </g>\r\n     </g>\r\n    </g>\r\n    <g id=\"text_14\">\r\n     <!-- 1e9 -->\r\n     <defs>\r\n      <path d=\"M 56.203125 29.59375 \r\nL 56.203125 25.203125 \r\nL 14.890625 25.203125 \r\nQ 15.484375 15.921875 20.484375 11.0625 \r\nQ 25.484375 6.203125 34.421875 6.203125 \r\nQ 39.59375 6.203125 44.453125 7.46875 \r\nQ 49.3125 8.734375 54.109375 11.28125 \r\nL 54.109375 2.78125 \r\nQ 49.265625 0.734375 44.1875 -0.34375 \r\nQ 39.109375 -1.421875 33.890625 -1.421875 \r\nQ 20.796875 -1.421875 13.15625 6.1875 \r\nQ 5.515625 13.8125 5.515625 26.8125 \r\nQ 5.515625 40.234375 12.765625 48.109375 \r\nQ 20.015625 56 32.328125 56 \r\nQ 43.359375 56 49.78125 48.890625 \r\nQ 56.203125 41.796875 56.203125 29.59375 \r\nz\r\nM 47.21875 32.234375 \r\nQ 47.125 39.59375 43.09375 43.984375 \r\nQ 39.0625 48.390625 32.421875 48.390625 \r\nQ 24.90625 48.390625 20.390625 44.140625 \r\nQ 15.875 39.890625 15.1875 32.171875 \r\nz\r\n\" id=\"DejaVuSans-101\"/>\r\n      <path d=\"M 10.984375 1.515625 \r\nL 10.984375 10.5 \r\nQ 14.703125 8.734375 18.5 7.8125 \r\nQ 22.3125 6.890625 25.984375 6.890625 \r\nQ 35.75 6.890625 40.890625 13.453125 \r\nQ 46.046875 20.015625 46.78125 33.40625 \r\nQ 43.953125 29.203125 39.59375 26.953125 \r\nQ 35.25 24.703125 29.984375 24.703125 \r\nQ 19.046875 24.703125 12.671875 31.3125 \r\nQ 6.296875 37.9375 6.296875 49.421875 \r\nQ 6.296875 60.640625 12.9375 67.421875 \r\nQ 19.578125 74.21875 30.609375 74.21875 \r\nQ 43.265625 74.21875 49.921875 64.515625 \r\nQ 56.59375 54.828125 56.59375 36.375 \r\nQ 56.59375 19.140625 48.40625 8.859375 \r\nQ 40.234375 -1.421875 26.421875 -1.421875 \r\nQ 22.703125 -1.421875 18.890625 -0.6875 \r\nQ 15.09375 0.046875 10.984375 1.515625 \r\nz\r\nM 30.609375 32.421875 \r\nQ 37.25 32.421875 41.125 36.953125 \r\nQ 45.015625 41.5 45.015625 49.421875 \r\nQ 45.015625 57.28125 41.125 61.84375 \r\nQ 37.25 66.40625 30.609375 66.40625 \r\nQ 23.96875 66.40625 20.09375 61.84375 \r\nQ 16.21875 57.28125 16.21875 49.421875 \r\nQ 16.21875 41.5 20.09375 36.953125 \r\nQ 23.96875 32.421875 30.609375 32.421875 \r\nz\r\n\" id=\"DejaVuSans-57\"/>\r\n     </defs>\r\n     <g transform=\"translate(30.103125 14.798437)scale(0.1 -0.1)\">\r\n      <use xlink:href=\"#DejaVuSans-49\"/>\r\n      <use x=\"63.623047\" xlink:href=\"#DejaVuSans-101\"/>\r\n      <use x=\"125.146484\" xlink:href=\"#DejaVuSans-57\"/>\r\n     </g>\r\n    </g>\r\n   </g>\r\n   <g id=\"line2d_14\">\r\n    <path clip-path=\"url(#p8448067238)\" d=\"M 45.321307 59.219086 \r\nL 50.230398 167.222014 \r\nL 55.139489 145.682903 \r\nL 60.04858 97.623227 \r\nL 64.95767 225.354801 \r\nL 69.866761 162.181284 \r\nL 74.775852 129.843963 \r\nL 79.684943 153.590212 \r\nL 84.594034 93.106602 \r\nL 89.503125 194.881748 \r\nL 94.412216 195.200571 \r\nL 99.321307 203.933499 \r\nL 104.230398 138.547825 \r\nL 109.139489 118.247496 \r\nL 114.04858 46.538434 \r\nL 118.95767 222.163418 \r\nL 123.866761 83.794923 \r\nL 128.775852 37.726547 \r\nL 133.684943 173.046421 \r\nL 138.594034 81.098099 \r\nL 143.503125 137.439317 \r\nL 148.412216 54.571085 \r\nL 153.321307 89.207072 \r\nL 158.230398 174.671309 \r\nL 163.139489 134.800138 \r\nL 168.04858 159.634865 \r\nL 172.95767 41.893376 \r\nL 177.866761 154.567503 \r\nL 182.775852 192.77114 \r\nL 187.684943 74.393041 \r\nL 192.594034 210.91071 \r\nL 197.503125 101.402076 \r\nL 202.412216 110.247821 \r\nL 207.321307 143.996154 \r\nL 212.230398 173.024549 \r\nL 217.139489 37.566938 \r\nL 222.04858 214.300478 \r\nL 226.95767 180.79837 \r\nL 231.866761 94.538855 \r\nL 236.775852 139.051323 \r\nL 241.684943 175.514597 \r\nL 246.594034 180.777529 \r\nL 251.503125 27.682074 \r\nL 256.412216 102.131473 \r\nL 261.321307 54.242958 \r\nL 266.230398 205.843208 \r\nL 271.139489 197.1909 \r\nL 276.04858 195.374044 \r\nL 280.95767 125.839098 \r\nL 285.866761 142.57116 \r\nL 290.775852 148.209904 \r\nL 295.684943 81.559501 \r\nL 300.594034 34.094648 \r\nL 305.503125 124.429893 \r\nL 310.412216 110.856571 \r\nL 315.321307 209.309068 \r\nL 320.230398 119.380195 \r\nL 325.139489 157.302162 \r\nL 330.04858 175.956923 \r\nL 334.95767 113.351843 \r\nL 339.866761 109.578658 \r\nL 344.775852 116.038375 \r\nL 349.684943 203.619389 \r\n\" style=\"fill:none;stroke:#1f77b4;stroke-linecap:square;stroke-width:1.5;\"/>\r\n   </g>\r\n   <g id=\"patch_3\">\r\n    <path d=\"M 30.103125 235.238437 \r\nL 30.103125 17.798437 \r\n\" style=\"fill:none;stroke:#000000;stroke-linecap:square;stroke-linejoin:miter;stroke-width:0.8;\"/>\r\n   </g>\r\n   <g id=\"patch_4\">\r\n    <path d=\"M 364.903125 235.238437 \r\nL 364.903125 17.798437 \r\n\" style=\"fill:none;stroke:#000000;stroke-linecap:square;stroke-linejoin:miter;stroke-width:0.8;\"/>\r\n   </g>\r\n   <g id=\"patch_5\">\r\n    <path d=\"M 30.103125 235.238437 \r\nL 364.903125 235.238437 \r\n\" style=\"fill:none;stroke:#000000;stroke-linecap:square;stroke-linejoin:miter;stroke-width:0.8;\"/>\r\n   </g>\r\n   <g id=\"patch_6\">\r\n    <path d=\"M 30.103125 17.798437 \r\nL 364.903125 17.798437 \r\n\" style=\"fill:none;stroke:#000000;stroke-linecap:square;stroke-linejoin:miter;stroke-width:0.8;\"/>\r\n   </g>\r\n  </g>\r\n </g>\r\n <defs>\r\n  <clipPath id=\"p8448067238\">\r\n   <rect height=\"217.44\" width=\"334.8\" x=\"30.103125\" y=\"17.798437\"/>\r\n  </clipPath>\r\n </defs>\r\n</svg>\r\n",
            "image/png": "[encoded data removed]"
          },
          "metadata": {
            "needs_background": "light"
          }
        }
      ]
    },
    {
      "cell_type": "code",
      "metadata": {
        "id": "1KDHC8Zl76g3"
      },
      "source": [
        ""
      ],
      "execution_count": null,
      "outputs": []
    },
    {
      "cell_type": "markdown",
      "metadata": {
        "id": "JAUj8ESCFuib"
      },
      "source": [
        "### Ejecutar Transferencia"
      ]
    },
    {
      "cell_type": "code",
      "metadata": {
        "id": "4UUFbhsvNrjs",
        "outputId": "250328f9-5a30-4211-8f5d-18957ad9740a",
        "colab": {
          "base_uri": "https://localhost:8080/",
          "height": 54
        },
        "tags": []
      },
      "source": [
        "Transfer.Execute(to=df_transactions.iloc[0]['product'], From=df_transactions.iloc[-1]['product'], amount= 4)\n",
        "\n"
      ],
      "execution_count": 27,
      "outputs": [
        {
          "output_type": "stream",
          "name": "stdout",
          "text": "Executing Bank Transfer\nERROR\n"
        }
      ]
    },
    {
      "cell_type": "code",
      "metadata": {
        "id": "xK1q-CnRCF7t",
        "outputId": "36fb6cd8-7663-4148-ba72-16913099f984",
        "colab": {
          "base_uri": "https://localhost:8080/",
          "height": 444
        },
        "tags": []
      },
      "source": [
        "account_stmnt = getAccountStatement(product=df_transactions.iloc[0]['product'])\n",
        "account_stmnt"
      ],
      "execution_count": 28,
      "outputs": [
        {
          "output_type": "stream",
          "name": "stdout",
          "text": "Getting account statement for product 2499259\nFound 63 transactions from 2010-03-22 00:00:00 to 2020-10-10 00:00:00\n"
        },
        {
          "output_type": "execute_result",
          "data": {
            "text/plain": "         id nature accounting_date        amount  product           mvt\n0   9912598     Cr      2010-03-22  8.117350e+08  2499259  8.117350e+08\n1   2896218     Cr      2010-09-16  2.890298e+08  2499259  2.890298e+08\n2    716856     Cr      2010-12-27  3.932733e+08  2499259  3.932733e+08\n3   7920488     Cr      2011-01-13  6.258693e+08  2499259  6.258693e+08\n4   5168882     Cr      2011-03-21  7.682792e+06  2499259  7.682792e+06\n..      ...    ...             ...           ...      ...           ...\n58  1127997     Cr      2020-02-19  2.467552e+08  2499259  2.467552e+08\n59  3056499     Cr      2020-03-09  5.497470e+08  2499259  5.497470e+08\n60   679343     Cr      2020-03-19  5.680082e+08  2499259  5.680082e+08\n61  8398009     Cr      2020-06-28  5.367449e+08  2499259  5.367449e+08\n62  8345020     Cr      2020-10-10  1.128763e+08  2499259  1.128763e+08\n\n[63 rows x 6 columns]",
            "text/html": "<div>\n<style scoped>\n    .dataframe tbody tr th:only-of-type {\n        vertical-align: middle;\n    }\n\n    .dataframe tbody tr th {\n        vertical-align: top;\n    }\n\n    .dataframe thead th {\n        text-align: right;\n    }\n</style>\n<table border=\"1\" class=\"dataframe\">\n  <thead>\n    <tr style=\"text-align: right;\">\n      <th></th>\n      <th>id</th>\n      <th>nature</th>\n      <th>accounting_date</th>\n      <th>amount</th>\n      <th>product</th>\n      <th>mvt</th>\n    </tr>\n  </thead>\n  <tbody>\n    <tr>\n      <th>0</th>\n      <td>9912598</td>\n      <td>Cr</td>\n      <td>2010-03-22</td>\n      <td>8.117350e+08</td>\n      <td>2499259</td>\n      <td>8.117350e+08</td>\n    </tr>\n    <tr>\n      <th>1</th>\n      <td>2896218</td>\n      <td>Cr</td>\n      <td>2010-09-16</td>\n      <td>2.890298e+08</td>\n      <td>2499259</td>\n      <td>2.890298e+08</td>\n    </tr>\n    <tr>\n      <th>2</th>\n      <td>716856</td>\n      <td>Cr</td>\n      <td>2010-12-27</td>\n      <td>3.932733e+08</td>\n      <td>2499259</td>\n      <td>3.932733e+08</td>\n    </tr>\n    <tr>\n      <th>3</th>\n      <td>7920488</td>\n      <td>Cr</td>\n      <td>2011-01-13</td>\n      <td>6.258693e+08</td>\n      <td>2499259</td>\n      <td>6.258693e+08</td>\n    </tr>\n    <tr>\n      <th>4</th>\n      <td>5168882</td>\n      <td>Cr</td>\n      <td>2011-03-21</td>\n      <td>7.682792e+06</td>\n      <td>2499259</td>\n      <td>7.682792e+06</td>\n    </tr>\n    <tr>\n      <th>...</th>\n      <td>...</td>\n      <td>...</td>\n      <td>...</td>\n      <td>...</td>\n      <td>...</td>\n      <td>...</td>\n    </tr>\n    <tr>\n      <th>58</th>\n      <td>1127997</td>\n      <td>Cr</td>\n      <td>2020-02-19</td>\n      <td>2.467552e+08</td>\n      <td>2499259</td>\n      <td>2.467552e+08</td>\n    </tr>\n    <tr>\n      <th>59</th>\n      <td>3056499</td>\n      <td>Cr</td>\n      <td>2020-03-09</td>\n      <td>5.497470e+08</td>\n      <td>2499259</td>\n      <td>5.497470e+08</td>\n    </tr>\n    <tr>\n      <th>60</th>\n      <td>679343</td>\n      <td>Cr</td>\n      <td>2020-03-19</td>\n      <td>5.680082e+08</td>\n      <td>2499259</td>\n      <td>5.680082e+08</td>\n    </tr>\n    <tr>\n      <th>61</th>\n      <td>8398009</td>\n      <td>Cr</td>\n      <td>2020-06-28</td>\n      <td>5.367449e+08</td>\n      <td>2499259</td>\n      <td>5.367449e+08</td>\n    </tr>\n    <tr>\n      <th>62</th>\n      <td>8345020</td>\n      <td>Cr</td>\n      <td>2020-10-10</td>\n      <td>1.128763e+08</td>\n      <td>2499259</td>\n      <td>1.128763e+08</td>\n    </tr>\n  </tbody>\n</table>\n<p>63 rows × 6 columns</p>\n</div>"
          },
          "metadata": {},
          "execution_count": 28
        }
      ]
    },
    {
      "cell_type": "markdown",
      "metadata": {},
      "source": [
        "### Generar tablas"
      ]
    },
    {
      "cell_type": "code",
      "execution_count": 29,
      "metadata": {},
      "outputs": [],
      "source": [
        "df_deposits.to_csv(\"db/deposits.csv\")\n",
        "df_loans.to_csv(\"db/loans.csv\")\n",
        "df_transactions.to_csv(\"db/transactions.csv\")\n",
        "df_clients.to_csv(\"db/clients.csv\")"
      ]
    },
    {
      "cell_type": "markdown",
      "metadata": {},
      "source": [
        "## Pruebas"
      ]
    },
    {
      "cell_type": "code",
      "execution_count": 30,
      "metadata": {
        "tags": []
      },
      "outputs": [
        {
          "output_type": "stream",
          "name": "stdout",
          "text": "Unnamed: 0       id  interest_rate  balance       owner  type  length  \\\n0             0  5791972              6      0.0   9-770-967  Loan     117   \n1             1  5782327             12      0.0   2-691-896  Loan      49   \n2             2  9570781              8      0.0   2-691-896  Loan      73   \n3             3  1780541             10      0.0  10-121-673  Loan      59   \n4             4  7858930              4      0.0   5-932-249  Loan      85   \n..          ...      ...            ...      ...         ...   ...     ...   \n594         594  2077348             12      0.0    1-123-72  Loan     111   \n595         595  7511832             14      0.0   3-594-103  Loan      29   \n596         596  3909590              5      0.0   3-594-103  Loan     100   \n597         597  2840774              7      0.0   3-594-103  Loan      90   \n598         598  7321738             10      0.0   8-812-704  Loan      14   \n\n     base  \n0     365  \n1     360  \n2     365  \n3     365  \n4     360  \n..    ...  \n594   365  \n595   365  \n596   365  \n597   365  \n598   365  \n\n[599 rows x 8 columns]\n"
        },
        {
          "output_type": "execute_result",
          "data": {
            "text/plain": "[]"
          },
          "metadata": {},
          "execution_count": 30
        }
      ],
      "source": [
        "deposits = pd.read_csv(\"db/deposits.csv\")\n",
        "loans = pd.read_csv(\"db/loans.csv\")\n",
        "print(loans)\n",
        "dep2 = deposits[deposits.owner == '6-832-434']\n",
        "loans2 = loans[loans.owner == '6-832-434']\n",
        "\n",
        "client_products = []\n",
        "for i in range(len(dep2)):\n",
        "    #print(dep2.iloc[i].type)\n",
        "    if eval(dep2.iloc[i].type) == SavingAccount:\n",
        "        client_products.append(SavingAccount(\n",
        "            id = str(dep2.iloc[i].id),\n",
        "            interest_rate = dep2.iloc[i].interest_rate,\n",
        "            balance = float(dep2.iloc[i].balance),\n",
        "            owner = dep2.iloc[i].owner\n",
        "        ))\n",
        "    if eval(dep2.iloc[i].type) == FixedTermDeposit:\n",
        "        client_products.append(FixedTermDeposit(\n",
        "            id = str(dep2.iloc[i].id),\n",
        "            interest_rate = dep2.iloc[i].interest_rate,\n",
        "            balance = float(dep2.iloc[i].balance),\n",
        "            owner = dep2.iloc[i].owner\n",
        "        ))\n",
        "for i in range(len(loans2)):\n",
        "\n",
        "    client_products.append(Loan(\n",
        "            id = str(loans2.iloc[i].id),\n",
        "            interest_rate = loans2.iloc[i].interest_rate,\n",
        "            balance = float(loans2.iloc[i].balance),\n",
        "            owner = loans2.iloc[i].owner,\n",
        "            length = loans2.iloc[i].length,\n",
        "            base = loans2.iloc[i].base\n",
        "        ))\n",
        "client_products"
      ]
    },
    {
      "cell_type": "code",
      "execution_count": 31,
      "metadata": {
        "tags": []
      },
      "outputs": [
        {
          "output_type": "execute_result",
          "data": {
            "text/plain": "[]"
          },
          "metadata": {},
          "execution_count": 31
        }
      ],
      "source": [
        "p = Client.getClientProducts(client='4-523-333')\n",
        "p"
      ]
    },
    {
      "cell_type": "code",
      "metadata": {
        "id": "tyEnZBhPC_M2",
        "outputId": "5ffd2331-0b3d-4e80-db32-271c804d7ff8",
        "colab": {
          "base_uri": "https://localhost:8080/",
          "height": 308
        },
        "tags": []
      },
      "source": [
        "import pandas as pd\n",
        "from models import Product\n",
        "pd.options.display.float_format = '${:,.2f}'.format\n",
        "print(os.getcwd())\n",
        "deposits = pd.read_csv(\"db/deposits.csv\")"
      ],
      "execution_count": 32,
      "outputs": [
        {
          "output_type": "stream",
          "name": "stdout",
          "text": "f:\\Python Projects\\Parcial 2 ADA\\flask-app\\app\n"
        }
      ]
    },
    {
      "cell_type": "code",
      "metadata": {
        "id": "dSZiJj94DAx8"
      },
      "source": [
        "Client.getClientProducts(client='8-481-903')"
      ],
      "execution_count": 33,
      "outputs": [
        {
          "output_type": "execute_result",
          "data": {
            "text/plain": "[]"
          },
          "metadata": {},
          "execution_count": 33
        }
      ]
    },
    {
      "cell_type": "code",
      "execution_count": 34,
      "metadata": {},
      "outputs": [
        {
          "output_type": "error",
          "ename": "IndexError",
          "evalue": "single positional indexer is out-of-bounds",
          "traceback": [
            "\u001b[1;31m---------------------------------------------------------------------------\u001b[0m",
            "\u001b[1;31mIndexError\u001b[0m                                Traceback (most recent call last)",
            "\u001b[1;32m<ipython-input-34-77ce484240de>\u001b[0m in \u001b[0;36m<module>\u001b[1;34m\u001b[0m\n\u001b[1;32m----> 1\u001b[1;33m \u001b[0mProduct\u001b[0m\u001b[1;33m.\u001b[0m\u001b[0mgetProductBalance\u001b[0m\u001b[1;33m(\u001b[0m\u001b[0mid\u001b[0m\u001b[1;33m=\u001b[0m\u001b[1;36m7721659\u001b[0m\u001b[1;33m)\u001b[0m\u001b[1;33m\u001b[0m\u001b[0m\n\u001b[0m",
            "\u001b[1;32mf:\\Python Projects\\Parcial 2 ADA\\flask-app\\app\\models.py\u001b[0m in \u001b[0;36mgetProductBalance\u001b[1;34m(self, **kwargs)\u001b[0m\n\u001b[0;32m     58\u001b[0m     \u001b[0mid\u001b[0m \u001b[1;33m=\u001b[0m \u001b[0mkwargs\u001b[0m\u001b[1;33m[\u001b[0m\u001b[1;34m'id'\u001b[0m\u001b[1;33m]\u001b[0m\u001b[1;33m\u001b[0m\u001b[0m\n\u001b[0;32m     59\u001b[0m \u001b[1;33m\u001b[0m\u001b[0m\n\u001b[1;32m---> 60\u001b[1;33m     \u001b[1;32mreturn\u001b[0m \u001b[0mdf_deposits\u001b[0m\u001b[1;33m[\u001b[0m\u001b[0mdf_deposits\u001b[0m\u001b[1;33m.\u001b[0m\u001b[0mid\u001b[0m \u001b[1;33m==\u001b[0m \u001b[0mid\u001b[0m\u001b[1;33m]\u001b[0m\u001b[1;33m.\u001b[0m\u001b[0miloc\u001b[0m\u001b[1;33m[\u001b[0m\u001b[1;36m0\u001b[0m\u001b[1;33m]\u001b[0m\u001b[1;33m[\u001b[0m\u001b[1;34m'balance'\u001b[0m\u001b[1;33m]\u001b[0m\u001b[1;33m\u001b[0m\u001b[0m\n\u001b[0m\u001b[0;32m     61\u001b[0m \u001b[1;33m\u001b[0m\u001b[0m\n\u001b[0;32m     62\u001b[0m \u001b[1;33m\u001b[0m\u001b[0m\n",
            "\u001b[1;32m~\\AppData\\Local\\Programs\\Python\\Python36\\lib\\site-packages\\pandas\\core\\indexing.py\u001b[0m in \u001b[0;36m__getitem__\u001b[1;34m(self, key)\u001b[0m\n\u001b[0;32m   1766\u001b[0m \u001b[1;33m\u001b[0m\u001b[0m\n\u001b[0;32m   1767\u001b[0m             \u001b[0mmaybe_callable\u001b[0m \u001b[1;33m=\u001b[0m \u001b[0mcom\u001b[0m\u001b[1;33m.\u001b[0m\u001b[0mapply_if_callable\u001b[0m\u001b[1;33m(\u001b[0m\u001b[0mkey\u001b[0m\u001b[1;33m,\u001b[0m \u001b[0mself\u001b[0m\u001b[1;33m.\u001b[0m\u001b[0mobj\u001b[0m\u001b[1;33m)\u001b[0m\u001b[1;33m\u001b[0m\u001b[0m\n\u001b[1;32m-> 1768\u001b[1;33m             \u001b[1;32mreturn\u001b[0m \u001b[0mself\u001b[0m\u001b[1;33m.\u001b[0m\u001b[0m_getitem_axis\u001b[0m\u001b[1;33m(\u001b[0m\u001b[0mmaybe_callable\u001b[0m\u001b[1;33m,\u001b[0m \u001b[0maxis\u001b[0m\u001b[1;33m=\u001b[0m\u001b[0maxis\u001b[0m\u001b[1;33m)\u001b[0m\u001b[1;33m\u001b[0m\u001b[0m\n\u001b[0m\u001b[0;32m   1769\u001b[0m \u001b[1;33m\u001b[0m\u001b[0m\n\u001b[0;32m   1770\u001b[0m     \u001b[1;32mdef\u001b[0m \u001b[0m_is_scalar_access\u001b[0m\u001b[1;33m(\u001b[0m\u001b[0mself\u001b[0m\u001b[1;33m,\u001b[0m \u001b[0mkey\u001b[0m\u001b[1;33m:\u001b[0m \u001b[0mTuple\u001b[0m\u001b[1;33m)\u001b[0m\u001b[1;33m:\u001b[0m\u001b[1;33m\u001b[0m\u001b[0m\n",
            "\u001b[1;32m~\\AppData\\Local\\Programs\\Python\\Python36\\lib\\site-packages\\pandas\\core\\indexing.py\u001b[0m in \u001b[0;36m_getitem_axis\u001b[1;34m(self, key, axis)\u001b[0m\n\u001b[0;32m   2136\u001b[0m \u001b[1;33m\u001b[0m\u001b[0m\n\u001b[0;32m   2137\u001b[0m             \u001b[1;31m# validate the location\u001b[0m\u001b[1;33m\u001b[0m\u001b[1;33m\u001b[0m\u001b[0m\n\u001b[1;32m-> 2138\u001b[1;33m             \u001b[0mself\u001b[0m\u001b[1;33m.\u001b[0m\u001b[0m_validate_integer\u001b[0m\u001b[1;33m(\u001b[0m\u001b[0mkey\u001b[0m\u001b[1;33m,\u001b[0m \u001b[0maxis\u001b[0m\u001b[1;33m)\u001b[0m\u001b[1;33m\u001b[0m\u001b[0m\n\u001b[0m\u001b[0;32m   2139\u001b[0m \u001b[1;33m\u001b[0m\u001b[0m\n\u001b[0;32m   2140\u001b[0m             \u001b[1;32mreturn\u001b[0m \u001b[0mself\u001b[0m\u001b[1;33m.\u001b[0m\u001b[0m_get_loc\u001b[0m\u001b[1;33m(\u001b[0m\u001b[0mkey\u001b[0m\u001b[1;33m,\u001b[0m \u001b[0maxis\u001b[0m\u001b[1;33m=\u001b[0m\u001b[0maxis\u001b[0m\u001b[1;33m)\u001b[0m\u001b[1;33m\u001b[0m\u001b[0m\n",
            "\u001b[1;32m~\\AppData\\Local\\Programs\\Python\\Python36\\lib\\site-packages\\pandas\\core\\indexing.py\u001b[0m in \u001b[0;36m_validate_integer\u001b[1;34m(self, key, axis)\u001b[0m\n\u001b[0;32m   2061\u001b[0m         \u001b[0mlen_axis\u001b[0m \u001b[1;33m=\u001b[0m \u001b[0mlen\u001b[0m\u001b[1;33m(\u001b[0m\u001b[0mself\u001b[0m\u001b[1;33m.\u001b[0m\u001b[0mobj\u001b[0m\u001b[1;33m.\u001b[0m\u001b[0m_get_axis\u001b[0m\u001b[1;33m(\u001b[0m\u001b[0maxis\u001b[0m\u001b[1;33m)\u001b[0m\u001b[1;33m)\u001b[0m\u001b[1;33m\u001b[0m\u001b[0m\n\u001b[0;32m   2062\u001b[0m         \u001b[1;32mif\u001b[0m \u001b[0mkey\u001b[0m \u001b[1;33m>=\u001b[0m \u001b[0mlen_axis\u001b[0m \u001b[1;32mor\u001b[0m \u001b[0mkey\u001b[0m \u001b[1;33m<\u001b[0m \u001b[1;33m-\u001b[0m\u001b[0mlen_axis\u001b[0m\u001b[1;33m:\u001b[0m\u001b[1;33m\u001b[0m\u001b[0m\n\u001b[1;32m-> 2063\u001b[1;33m             \u001b[1;32mraise\u001b[0m \u001b[0mIndexError\u001b[0m\u001b[1;33m(\u001b[0m\u001b[1;34m\"single positional indexer is out-of-bounds\"\u001b[0m\u001b[1;33m)\u001b[0m\u001b[1;33m\u001b[0m\u001b[0m\n\u001b[0m\u001b[0;32m   2064\u001b[0m \u001b[1;33m\u001b[0m\u001b[0m\n\u001b[0;32m   2065\u001b[0m     \u001b[1;32mdef\u001b[0m \u001b[0m_getitem_tuple\u001b[0m\u001b[1;33m(\u001b[0m\u001b[0mself\u001b[0m\u001b[1;33m,\u001b[0m \u001b[0mtup\u001b[0m\u001b[1;33m:\u001b[0m \u001b[0mTuple\u001b[0m\u001b[1;33m)\u001b[0m\u001b[1;33m:\u001b[0m\u001b[1;33m\u001b[0m\u001b[0m\n",
            "\u001b[1;31mIndexError\u001b[0m: single positional indexer is out-of-bounds"
          ]
        }
      ],
      "source": [
        "Product.getProductBalance(id=7721659)"
      ]
    },
    {
      "cell_type": "code",
      "execution_count": 35,
      "metadata": {},
      "outputs": [
        {
          "output_type": "execute_result",
          "data": {
            "text/plain": "'14669322166.46'"
          },
          "metadata": {},
          "execution_count": 35
        }
      ],
      "source": [
        "'{:.2f}'.format(14669322166.459997)"
      ]
    },
    {
      "cell_type": "code",
      "execution_count": null,
      "metadata": {},
      "outputs": [],
      "source": []
    }
  ]
}